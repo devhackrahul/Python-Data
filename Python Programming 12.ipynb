{
  "nbformat": 4,
  "nbformat_minor": 0,
  "metadata": {
    "kernelspec": {
      "display_name": "Python 3",
      "language": "python",
      "name": "python3"
    },
    "language_info": {
      "codemirror_mode": {
        "name": "ipython",
        "version": 3
      },
      "file_extension": ".py",
      "mimetype": "text/x-python",
      "name": "python",
      "nbconvert_exporter": "python",
      "pygments_lexer": "ipython3",
      "version": "3.6.4"
    },
    "colab": {
      "name": "EDA-1.ipynb",
      "provenance": []
    }
  },
  "cells": [
    {
      "cell_type": "code",
      "metadata": {
        "id": "dYqjXriaPD5l",
        "colab_type": "code",
        "colab": {}
      },
      "source": [
        "import numpy as np\n",
        "import pandas as pd\n",
        "import matplotlib.pyplot as plt\n",
        "%matplotlib inline\n",
        "import seaborn as sns"
      ],
      "execution_count": 0,
      "outputs": []
    },
    {
      "cell_type": "code",
      "metadata": {
        "id": "cipUKpi1PD5s",
        "colab_type": "code",
        "colab": {}
      },
      "source": [
        "df = pd.read_csv('/Users/pradmishra/Documents/insurance.csv')"
      ],
      "execution_count": 0,
      "outputs": []
    },
    {
      "cell_type": "code",
      "metadata": {
        "id": "-dAlvI_8PD5z",
        "colab_type": "code",
        "colab": {},
        "outputId": "f231d4d3-202f-4c33-9a30-493a83593135"
      },
      "source": [
        "df.head()"
      ],
      "execution_count": 0,
      "outputs": [
        {
          "output_type": "execute_result",
          "data": {
            "text/html": [
              "<div>\n",
              "<style scoped>\n",
              "    .dataframe tbody tr th:only-of-type {\n",
              "        vertical-align: middle;\n",
              "    }\n",
              "\n",
              "    .dataframe tbody tr th {\n",
              "        vertical-align: top;\n",
              "    }\n",
              "\n",
              "    .dataframe thead th {\n",
              "        text-align: right;\n",
              "    }\n",
              "</style>\n",
              "<table border=\"1\" class=\"dataframe\">\n",
              "  <thead>\n",
              "    <tr style=\"text-align: right;\">\n",
              "      <th></th>\n",
              "      <th>age</th>\n",
              "      <th>sex</th>\n",
              "      <th>bmi</th>\n",
              "      <th>children</th>\n",
              "      <th>smoker</th>\n",
              "      <th>region</th>\n",
              "      <th>charges</th>\n",
              "    </tr>\n",
              "  </thead>\n",
              "  <tbody>\n",
              "    <tr>\n",
              "      <th>0</th>\n",
              "      <td>19</td>\n",
              "      <td>female</td>\n",
              "      <td>27.900</td>\n",
              "      <td>0</td>\n",
              "      <td>yes</td>\n",
              "      <td>southwest</td>\n",
              "      <td>16884.92400</td>\n",
              "    </tr>\n",
              "    <tr>\n",
              "      <th>1</th>\n",
              "      <td>18</td>\n",
              "      <td>male</td>\n",
              "      <td>33.770</td>\n",
              "      <td>1</td>\n",
              "      <td>no</td>\n",
              "      <td>southeast</td>\n",
              "      <td>1725.55230</td>\n",
              "    </tr>\n",
              "    <tr>\n",
              "      <th>2</th>\n",
              "      <td>28</td>\n",
              "      <td>male</td>\n",
              "      <td>33.000</td>\n",
              "      <td>3</td>\n",
              "      <td>no</td>\n",
              "      <td>southeast</td>\n",
              "      <td>4449.46200</td>\n",
              "    </tr>\n",
              "    <tr>\n",
              "      <th>3</th>\n",
              "      <td>33</td>\n",
              "      <td>male</td>\n",
              "      <td>22.705</td>\n",
              "      <td>0</td>\n",
              "      <td>no</td>\n",
              "      <td>northwest</td>\n",
              "      <td>21984.47061</td>\n",
              "    </tr>\n",
              "    <tr>\n",
              "      <th>4</th>\n",
              "      <td>32</td>\n",
              "      <td>male</td>\n",
              "      <td>28.880</td>\n",
              "      <td>0</td>\n",
              "      <td>no</td>\n",
              "      <td>northwest</td>\n",
              "      <td>3866.85520</td>\n",
              "    </tr>\n",
              "  </tbody>\n",
              "</table>\n",
              "</div>"
            ],
            "text/plain": [
              "   age     sex     bmi  children smoker     region      charges\n",
              "0   19  female  27.900         0    yes  southwest  16884.92400\n",
              "1   18    male  33.770         1     no  southeast   1725.55230\n",
              "2   28    male  33.000         3     no  southeast   4449.46200\n",
              "3   33    male  22.705         0     no  northwest  21984.47061\n",
              "4   32    male  28.880         0     no  northwest   3866.85520"
            ]
          },
          "metadata": {
            "tags": []
          },
          "execution_count": 4
        }
      ]
    },
    {
      "cell_type": "code",
      "metadata": {
        "id": "D17cPZh5PD56",
        "colab_type": "code",
        "colab": {},
        "outputId": "361c7efb-9b4e-4076-fd4f-77d1e968128d"
      },
      "source": [
        "df.shape"
      ],
      "execution_count": 0,
      "outputs": [
        {
          "output_type": "execute_result",
          "data": {
            "text/plain": [
              "(1338, 7)"
            ]
          },
          "metadata": {
            "tags": []
          },
          "execution_count": 5
        }
      ]
    },
    {
      "cell_type": "code",
      "metadata": {
        "id": "_Hi_15tUPD6C",
        "colab_type": "code",
        "colab": {}
      },
      "source": [
        "#Q1- does this dataset cover all the regions equally, or is it biased towards one region?\n",
        "\n",
        "#Q2- how the age distribution been in US, healthcare, given that the distribution of charges?\n",
        "\n",
        "#Q3- Are there any relatiosnhip/pattern in sex and age of patients?\n",
        "\n",
        "#Q4- Are there any gender bias in different regions?\n",
        "\n",
        "#Q5- what is the distribution of smoker/non-smoker in different regions?\n",
        "\n",
        "#Q6- how the BMI index has been for the entire country?\n",
        "\n",
        "#Q7- are there any association between distribution of BMI and gender?\n",
        "\n",
        "#Q8- Are the insurance charges fair to all?\n",
        "\n",
        "#Q9- How the association between charges and BMI change across smoker vs. non-smoker?\n",
        "\n",
        "#Q10- How the association between charges and BMI change across male vs.female?\n",
        "\n",
        "#complex:\n",
        "#Q11- Do the people who are overweight, smoking and having more than 2 children pay more charges than others?\n"
      ],
      "execution_count": 0,
      "outputs": []
    },
    {
      "cell_type": "code",
      "metadata": {
        "id": "46_KOIsYPD6I",
        "colab_type": "code",
        "colab": {},
        "outputId": "647305e1-9a75-43cf-d23f-e0b3c00f1d08"
      },
      "source": [
        "df.columns"
      ],
      "execution_count": 0,
      "outputs": [
        {
          "output_type": "execute_result",
          "data": {
            "text/plain": [
              "Index(['age', 'sex', 'bmi', 'children', 'smoker', 'region', 'charges'], dtype='object')"
            ]
          },
          "metadata": {
            "tags": []
          },
          "execution_count": 8
        }
      ]
    },
    {
      "cell_type": "code",
      "metadata": {
        "id": "ClqNs2OgPD6O",
        "colab_type": "code",
        "colab": {},
        "outputId": "91ff7ffa-b4fa-40dc-ba99-e38072758e46"
      },
      "source": [
        "sns.countplot(x='region',data=df)"
      ],
      "execution_count": 0,
      "outputs": [
        {
          "output_type": "stream",
          "text": [
            "/Applications/anaconda3/lib/python3.6/site-packages/seaborn/categorical.py:1460: FutureWarning: remove_na is deprecated and is a private function. Do not use.\n",
            "  stat_data = remove_na(group_data)\n"
          ],
          "name": "stderr"
        },
        {
          "output_type": "execute_result",
          "data": {
            "text/plain": [
              "<matplotlib.axes._subplots.AxesSubplot at 0x118a2e550>"
            ]
          },
          "metadata": {
            "tags": []
          },
          "execution_count": 9
        },
        {
          "output_type": "display_data",
          "data": {
            "image/png": "[encoded data removed]",
            "text/plain": [
              "<matplotlib.figure.Figure at 0x118a2e940>"
            ]
          },
          "metadata": {
            "tags": []
          }
        }
      ]
    },
    {
      "cell_type": "code",
      "metadata": {
        "id": "wT07G2hgPD6U",
        "colab_type": "code",
        "colab": {},
        "outputId": "8e8b069a-2e00-4590-81a1-e63905f955aa"
      },
      "source": [
        "df.region.value_counts()/df.shape[0] # distribution of regions"
      ],
      "execution_count": 0,
      "outputs": [
        {
          "output_type": "execute_result",
          "data": {
            "text/plain": [
              "southeast    0.272048\n",
              "southwest    0.242900\n",
              "northwest    0.242900\n",
              "northeast    0.242152\n",
              "Name: region, dtype: float64"
            ]
          },
          "metadata": {
            "tags": []
          },
          "execution_count": 11
        }
      ]
    },
    {
      "cell_type": "code",
      "metadata": {
        "id": "TZHKM5hBPD6Z",
        "colab_type": "code",
        "colab": {},
        "outputId": "e295b759-15b2-42b4-9b2d-9053636da019"
      },
      "source": [
        "plt.figure(figsize=(10,8))\n",
        "sns.distplot(df['age'])"
      ],
      "execution_count": 0,
      "outputs": [
        {
          "output_type": "stream",
          "text": [
            "/Applications/anaconda3/lib/python3.6/site-packages/scipy/stats/stats.py:1706: FutureWarning: Using a non-tuple sequence for multidimensional indexing is deprecated; use `arr[tuple(seq)]` instead of `arr[seq]`. In the future this will be interpreted as an array index, `arr[np.array(seq)]`, which will result either in an error or a different result.\n",
            "  return np.add.reduce(sorted[indexer] * weights, axis=axis) / sumval\n"
          ],
          "name": "stderr"
        },
        {
          "output_type": "execute_result",
          "data": {
            "text/plain": [
              "<matplotlib.axes._subplots.AxesSubplot at 0x119933668>"
            ]
          },
          "metadata": {
            "tags": []
          },
          "execution_count": 15
        },
        {
          "output_type": "display_data",
          "data": {
            "image/png": "[encoded data removed]",
            "text/plain": [
              "<matplotlib.figure.Figure at 0x1199339e8>"
            ]
          },
          "metadata": {
            "tags": []
          }
        }
      ]
    },
    {
      "cell_type": "code",
      "metadata": {
        "id": "lF646bZ7PD6f",
        "colab_type": "code",
        "colab": {},
        "outputId": "7e1a65dd-9b3b-4aee-b3d6-3ca5686e944f"
      },
      "source": [
        "df.columns"
      ],
      "execution_count": 0,
      "outputs": [
        {
          "output_type": "execute_result",
          "data": {
            "text/plain": [
              "Index(['age', 'sex', 'bmi', 'children', 'smoker', 'region', 'charges'], dtype='object')"
            ]
          },
          "metadata": {
            "tags": []
          },
          "execution_count": 16
        }
      ]
    },
    {
      "cell_type": "code",
      "metadata": {
        "id": "p8S07TW0PD6k",
        "colab_type": "code",
        "colab": {},
        "outputId": "012c7166-8f71-4e32-c334-7bc7c1d86aaa"
      },
      "source": [
        "(64-18)/5"
      ],
      "execution_count": 0,
      "outputs": [
        {
          "output_type": "execute_result",
          "data": {
            "text/plain": [
              "9.2"
            ]
          },
          "metadata": {
            "tags": []
          },
          "execution_count": 20
        }
      ]
    },
    {
      "cell_type": "code",
      "metadata": {
        "id": "TBa8MKskPD6n",
        "colab_type": "code",
        "colab": {},
        "outputId": "e89a6353-8ac8-4c28-cd1f-eb58aeb3f234"
      },
      "source": [
        "18+9.2"
      ],
      "execution_count": 0,
      "outputs": [
        {
          "output_type": "execute_result",
          "data": {
            "text/plain": [
              "27.2"
            ]
          },
          "metadata": {
            "tags": []
          },
          "execution_count": 21
        }
      ]
    },
    {
      "cell_type": "code",
      "metadata": {
        "id": "HdtWWeZCPD6r",
        "colab_type": "code",
        "colab": {},
        "outputId": "daac7282-d3ea-4f05-833e-647f01a9c15d"
      },
      "source": [
        "27.2+9.2"
      ],
      "execution_count": 0,
      "outputs": [
        {
          "output_type": "execute_result",
          "data": {
            "text/plain": [
              "36.4"
            ]
          },
          "metadata": {
            "tags": []
          },
          "execution_count": 22
        }
      ]
    },
    {
      "cell_type": "code",
      "metadata": {
        "id": "jpgpv_TuPD6v",
        "colab_type": "code",
        "colab": {},
        "outputId": "3e205334-c998-4587-852c-40889af34111"
      },
      "source": [
        "36.4+9.2"
      ],
      "execution_count": 0,
      "outputs": [
        {
          "output_type": "execute_result",
          "data": {
            "text/plain": [
              "45.599999999999994"
            ]
          },
          "metadata": {
            "tags": []
          },
          "execution_count": 23
        }
      ]
    },
    {
      "cell_type": "code",
      "metadata": {
        "id": "2LmKsg6FPD6y",
        "colab_type": "code",
        "colab": {},
        "outputId": "b190a6e0-b4e4-46e3-8663-fa71dd13f15c"
      },
      "source": [
        "45.59+9.2"
      ],
      "execution_count": 0,
      "outputs": [
        {
          "output_type": "execute_result",
          "data": {
            "text/plain": [
              "54.790000000000006"
            ]
          },
          "metadata": {
            "tags": []
          },
          "execution_count": 24
        }
      ]
    },
    {
      "cell_type": "code",
      "metadata": {
        "id": "_T6vpTAsPD63",
        "colab_type": "code",
        "colab": {}
      },
      "source": [
        "cut_points = [17,20,35,50,65]\n",
        "label_names = ['adolescent','young_adults','adults','Seniors']"
      ],
      "execution_count": 0,
      "outputs": []
    },
    {
      "cell_type": "code",
      "metadata": {
        "id": "yrbmY91NPD68",
        "colab_type": "code",
        "colab": {}
      },
      "source": [
        "df['age_cat'] = pd.cut(df['age'],cut_points,labels=label_names)"
      ],
      "execution_count": 0,
      "outputs": []
    },
    {
      "cell_type": "code",
      "metadata": {
        "id": "rr176FTPPD6_",
        "colab_type": "code",
        "colab": {},
        "outputId": "14f6080d-18e8-4dde-ce76-1fe6d27d0342"
      },
      "source": [
        "df.head()"
      ],
      "execution_count": 0,
      "outputs": [
        {
          "output_type": "execute_result",
          "data": {
            "text/html": [
              "<div>\n",
              "<style scoped>\n",
              "    .dataframe tbody tr th:only-of-type {\n",
              "        vertical-align: middle;\n",
              "    }\n",
              "\n",
              "    .dataframe tbody tr th {\n",
              "        vertical-align: top;\n",
              "    }\n",
              "\n",
              "    .dataframe thead th {\n",
              "        text-align: right;\n",
              "    }\n",
              "</style>\n",
              "<table border=\"1\" class=\"dataframe\">\n",
              "  <thead>\n",
              "    <tr style=\"text-align: right;\">\n",
              "      <th></th>\n",
              "      <th>age</th>\n",
              "      <th>sex</th>\n",
              "      <th>bmi</th>\n",
              "      <th>children</th>\n",
              "      <th>smoker</th>\n",
              "      <th>region</th>\n",
              "      <th>charges</th>\n",
              "      <th>age_cat</th>\n",
              "    </tr>\n",
              "  </thead>\n",
              "  <tbody>\n",
              "    <tr>\n",
              "      <th>0</th>\n",
              "      <td>19</td>\n",
              "      <td>female</td>\n",
              "      <td>27.900</td>\n",
              "      <td>0</td>\n",
              "      <td>yes</td>\n",
              "      <td>southwest</td>\n",
              "      <td>16884.92400</td>\n",
              "      <td>adolescent</td>\n",
              "    </tr>\n",
              "    <tr>\n",
              "      <th>1</th>\n",
              "      <td>18</td>\n",
              "      <td>male</td>\n",
              "      <td>33.770</td>\n",
              "      <td>1</td>\n",
              "      <td>no</td>\n",
              "      <td>southeast</td>\n",
              "      <td>1725.55230</td>\n",
              "      <td>adolescent</td>\n",
              "    </tr>\n",
              "    <tr>\n",
              "      <th>2</th>\n",
              "      <td>28</td>\n",
              "      <td>male</td>\n",
              "      <td>33.000</td>\n",
              "      <td>3</td>\n",
              "      <td>no</td>\n",
              "      <td>southeast</td>\n",
              "      <td>4449.46200</td>\n",
              "      <td>young_adults</td>\n",
              "    </tr>\n",
              "    <tr>\n",
              "      <th>3</th>\n",
              "      <td>33</td>\n",
              "      <td>male</td>\n",
              "      <td>22.705</td>\n",
              "      <td>0</td>\n",
              "      <td>no</td>\n",
              "      <td>northwest</td>\n",
              "      <td>21984.47061</td>\n",
              "      <td>young_adults</td>\n",
              "    </tr>\n",
              "    <tr>\n",
              "      <th>4</th>\n",
              "      <td>32</td>\n",
              "      <td>male</td>\n",
              "      <td>28.880</td>\n",
              "      <td>0</td>\n",
              "      <td>no</td>\n",
              "      <td>northwest</td>\n",
              "      <td>3866.85520</td>\n",
              "      <td>young_adults</td>\n",
              "    </tr>\n",
              "  </tbody>\n",
              "</table>\n",
              "</div>"
            ],
            "text/plain": [
              "   age     sex     bmi  children smoker     region      charges       age_cat\n",
              "0   19  female  27.900         0    yes  southwest  16884.92400    adolescent\n",
              "1   18    male  33.770         1     no  southeast   1725.55230    adolescent\n",
              "2   28    male  33.000         3     no  southeast   4449.46200  young_adults\n",
              "3   33    male  22.705         0     no  northwest  21984.47061  young_adults\n",
              "4   32    male  28.880         0     no  northwest   3866.85520  young_adults"
            ]
          },
          "metadata": {
            "tags": []
          },
          "execution_count": 36
        }
      ]
    },
    {
      "cell_type": "code",
      "metadata": {
        "id": "JslJnq8QPD7D",
        "colab_type": "code",
        "colab": {},
        "outputId": "5c18c6c3-25cb-4f0b-e249-09d1c188883d"
      },
      "source": [
        "set(df.age_cat)"
      ],
      "execution_count": 0,
      "outputs": [
        {
          "output_type": "execute_result",
          "data": {
            "text/plain": [
              "{'Seniors', 'adolescent', 'adults', 'young_adults'}"
            ]
          },
          "metadata": {
            "tags": []
          },
          "execution_count": 37
        }
      ]
    },
    {
      "cell_type": "code",
      "metadata": {
        "id": "Dd0de_GgPD7G",
        "colab_type": "code",
        "colab": {},
        "outputId": "ace6b5d6-95d8-49ef-80c5-6d64f6fe96a9"
      },
      "source": [
        "df.age_cat.value_counts()/df.shape[0]"
      ],
      "execution_count": 0,
      "outputs": [
        {
          "output_type": "execute_result",
          "data": {
            "text/plain": [
              "adults          0.304933\n",
              "young_adults    0.304933\n",
              "Seniors         0.266069\n",
              "adolescent      0.124066\n",
              "Name: age_cat, dtype: float64"
            ]
          },
          "metadata": {
            "tags": []
          },
          "execution_count": 39
        }
      ]
    },
    {
      "cell_type": "code",
      "metadata": {
        "id": "6HG_cDfKPD7J",
        "colab_type": "code",
        "colab": {},
        "outputId": "d38fbc7c-a816-459a-8dc8-0659c50160a0"
      },
      "source": [
        "sns.countplot(x='age_cat',data=df)"
      ],
      "execution_count": 0,
      "outputs": [
        {
          "output_type": "stream",
          "text": [
            "/Applications/anaconda3/lib/python3.6/site-packages/seaborn/categorical.py:1460: FutureWarning: remove_na is deprecated and is a private function. Do not use.\n",
            "  stat_data = remove_na(group_data)\n"
          ],
          "name": "stderr"
        },
        {
          "output_type": "execute_result",
          "data": {
            "text/plain": [
              "<matplotlib.axes._subplots.AxesSubplot at 0x11a16a048>"
            ]
          },
          "metadata": {
            "tags": []
          },
          "execution_count": 40
        },
        {
          "output_type": "display_data",
          "data": {
            "image/png": "[encoded data removed]",
            "text/plain": [
              "<matplotlib.figure.Figure at 0x11a14db38>"
            ]
          },
          "metadata": {
            "tags": []
          }
        }
      ]
    },
    {
      "cell_type": "code",
      "metadata": {
        "id": "rvbZrdL9PD7O",
        "colab_type": "code",
        "colab": {}
      },
      "source": [
        "# Hypothesis:\n",
        "\n",
        "# Null : G1 = G2 = G3 = G4\n",
        "# Alt : at least one Group is different from others\n",
        "\n",
        "# Alt1 : G1 != G2 = G3 = G4\n",
        "# Alt2 : G1 = G2 != G3 = G4\n",
        "# Alt3 : G1 = G2 = G3 != G4\n",
        "# so on so forth"
      ],
      "execution_count": 0,
      "outputs": []
    },
    {
      "cell_type": "code",
      "metadata": {
        "id": "JIaTKS3DPD7S",
        "colab_type": "code",
        "colab": {}
      },
      "source": [
        "from statsmodels.stats.multicomp import pairwise_tukeyhsd"
      ],
      "execution_count": 0,
      "outputs": []
    },
    {
      "cell_type": "code",
      "metadata": {
        "id": "53nxoNZnPD7U",
        "colab_type": "code",
        "colab": {}
      },
      "source": [
        "results = pairwise_tukeyhsd(df.charges,df.age_cat)"
      ],
      "execution_count": 0,
      "outputs": []
    },
    {
      "cell_type": "code",
      "metadata": {
        "id": "_4iIqfIsPD7g",
        "colab_type": "code",
        "colab": {},
        "outputId": "19c6d2f7-9532-42c7-8f5b-4db439b2f2b7"
      },
      "source": [
        "results.summary()"
      ],
      "execution_count": 0,
      "outputs": [
        {
          "output_type": "execute_result",
          "data": {
            "text/html": [
              "<table class=\"simpletable\">\n",
              "<caption>Multiple Comparison of Means - Tukey HSD,FWER=0.05</caption>\n",
              "<tr>\n",
              "    <th>group1</th>      <th>group2</th>     <th>meandiff</th>     <th>lower</th>       <th>upper</th>   <th>reject</th>\n",
              "</tr>\n",
              "<tr>\n",
              "    <td>Seniors</td>   <td>adolescent</td>  <td>-9371.5048</td> <td>-12181.3203</td> <td>-6561.6893</td>  <td>True</td> \n",
              "</tr>\n",
              "<tr>\n",
              "    <td>Seniors</td>     <td>adults</td>    <td>-4054.9897</td> <td>-6223.2588</td>  <td>-1886.7205</td>  <td>True</td> \n",
              "</tr>\n",
              "<tr>\n",
              "    <td>Seniors</td>  <td>young_adults</td> <td>-7921.0351</td> <td>-10089.3043</td>  <td>-5752.766</td>  <td>True</td> \n",
              "</tr>\n",
              "<tr>\n",
              "  <td>adolescent</td>    <td>adults</td>     <td>5316.5152</td>  <td>2564.2301</td>   <td>8068.8002</td>  <td>True</td> \n",
              "</tr>\n",
              "<tr>\n",
              "  <td>adolescent</td> <td>young_adults</td>  <td>1450.4697</td> <td>-1301.8154</td>   <td>4202.7548</td>  <td>False</td>\n",
              "</tr>\n",
              "<tr>\n",
              "    <td>adults</td>   <td>young_adults</td> <td>-3866.0455</td> <td>-5959.2252</td>  <td>-1772.8658</td>  <td>True</td> \n",
              "</tr>\n",
              "</table>"
            ],
            "text/plain": [
              "<class 'statsmodels.iolib.table.SimpleTable'>"
            ]
          },
          "metadata": {
            "tags": []
          },
          "execution_count": 45
        }
      ]
    },
    {
      "cell_type": "code",
      "metadata": {
        "id": "oT4i2Ns2PD7m",
        "colab_type": "code",
        "colab": {},
        "outputId": "628fce74-845b-4bbd-a6b0-94645e24e230"
      },
      "source": [
        "results.plot_simultaneous()"
      ],
      "execution_count": 0,
      "outputs": [
        {
          "output_type": "execute_result",
          "data": {
            "image/png": "[encoded data removed]",
            "text/plain": [
              "<matplotlib.figure.Figure at 0x1a23080cc0>"
            ]
          },
          "metadata": {
            "tags": []
          },
          "execution_count": 46
        },
        {
          "output_type": "display_data",
          "data": {
            "image/png": "[encoded data removed]",
            "text/plain": [
              "<matplotlib.figure.Figure at 0x1a23080cc0>"
            ]
          },
          "metadata": {
            "tags": []
          }
        }
      ]
    },
    {
      "cell_type": "code",
      "metadata": {
        "id": "Bp0PzPhlPD7q",
        "colab_type": "code",
        "colab": {},
        "outputId": "847ccb6a-40cd-409f-8999-a197f5801803"
      },
      "source": [
        "results.confint"
      ],
      "execution_count": 0,
      "outputs": [
        {
          "output_type": "execute_result",
          "data": {
            "text/plain": [
              "array([[-12181.32032148,  -6561.68929925],\n",
              "       [ -6223.25883516,  -1886.72048377],\n",
              "       [-10089.30430796,  -5752.76595657],\n",
              "       [  2564.23005878,   8068.80024301],\n",
              "       [ -1301.81541402,   4202.75477022],\n",
              "       [ -5959.22516887,  -1772.86577672]])"
            ]
          },
          "metadata": {
            "tags": []
          },
          "execution_count": 48
        }
      ]
    },
    {
      "cell_type": "code",
      "metadata": {
        "id": "bj_PznLFPD7t",
        "colab_type": "code",
        "colab": {},
        "outputId": "5745ca40-9ad0-4168-a4fc-2cc01fc9100b"
      },
      "source": [
        "results.meandiffs"
      ],
      "execution_count": 0,
      "outputs": [
        {
          "output_type": "execute_result",
          "data": {
            "text/plain": [
              "array([-9371.50481037, -4054.98965947, -7921.03513226,  5316.5151509 ,\n",
              "        1450.4696781 , -3866.04547279])"
            ]
          },
          "metadata": {
            "tags": []
          },
          "execution_count": 49
        }
      ]
    },
    {
      "cell_type": "code",
      "metadata": {
        "id": "8eYyiTNNPD7w",
        "colab_type": "code",
        "colab": {},
        "outputId": "b409e34f-8cf6-495a-cfa8-5dc3723d17f7"
      },
      "source": [
        "results.groups"
      ],
      "execution_count": 0,
      "outputs": [
        {
          "output_type": "execute_result",
          "data": {
            "text/plain": [
              "array(['adolescent', 'adolescent', 'young_adults', ..., 'adolescent',\n",
              "       'young_adults', 'Seniors'], dtype=object)"
            ]
          },
          "metadata": {
            "tags": []
          },
          "execution_count": 50
        }
      ]
    },
    {
      "cell_type": "code",
      "metadata": {
        "id": "CkByhbTmPD70",
        "colab_type": "code",
        "colab": {},
        "outputId": "9ed0ea46-20dc-432d-91cc-88ce8788ceed"
      },
      "source": [
        "df.pivot_table(values='charges',columns=['age_cat'],aggfunc=np.mean)"
      ],
      "execution_count": 0,
      "outputs": [
        {
          "output_type": "execute_result",
          "data": {
            "text/html": [
              "<div>\n",
              "<style scoped>\n",
              "    .dataframe tbody tr th:only-of-type {\n",
              "        vertical-align: middle;\n",
              "    }\n",
              "\n",
              "    .dataframe tbody tr th {\n",
              "        vertical-align: top;\n",
              "    }\n",
              "\n",
              "    .dataframe thead th {\n",
              "        text-align: right;\n",
              "    }\n",
              "</style>\n",
              "<table border=\"1\" class=\"dataframe\">\n",
              "  <thead>\n",
              "    <tr style=\"text-align: right;\">\n",
              "      <th>age_cat</th>\n",
              "      <th>adolescent</th>\n",
              "      <th>young_adults</th>\n",
              "      <th>adults</th>\n",
              "      <th>Seniors</th>\n",
              "    </tr>\n",
              "  </thead>\n",
              "  <tbody>\n",
              "    <tr>\n",
              "      <th>charges</th>\n",
              "      <td>8713.482413</td>\n",
              "      <td>10163.952091</td>\n",
              "      <td>14029.997563</td>\n",
              "      <td>18084.987223</td>\n",
              "    </tr>\n",
              "  </tbody>\n",
              "</table>\n",
              "</div>"
            ],
            "text/plain": [
              "age_cat   adolescent  young_adults        adults       Seniors\n",
              "charges  8713.482413  10163.952091  14029.997563  18084.987223"
            ]
          },
          "metadata": {
            "tags": []
          },
          "execution_count": 52
        }
      ]
    },
    {
      "cell_type": "code",
      "metadata": {
        "id": "IrxsMjf3PD74",
        "colab_type": "code",
        "colab": {},
        "outputId": "e3e33fd5-876d-40b6-dc23-f5c14a6bd1b6"
      },
      "source": [
        "sns.countplot(x='age_cat',data=df,hue='smoker')"
      ],
      "execution_count": 0,
      "outputs": [
        {
          "output_type": "stream",
          "text": [
            "/Applications/anaconda3/lib/python3.6/site-packages/seaborn/categorical.py:1508: FutureWarning: remove_na is deprecated and is a private function. Do not use.\n",
            "  stat_data = remove_na(group_data[hue_mask])\n"
          ],
          "name": "stderr"
        },
        {
          "output_type": "execute_result",
          "data": {
            "text/plain": [
              "<matplotlib.axes._subplots.AxesSubplot at 0x118e058d0>"
            ]
          },
          "metadata": {
            "tags": []
          },
          "execution_count": 53
        },
        {
          "output_type": "display_data",
          "data": {
            "image/png": "[encoded data removed]",
            "text/plain": [
              "<matplotlib.figure.Figure at 0x118fd32b0>"
            ]
          },
          "metadata": {
            "tags": []
          }
        }
      ]
    },
    {
      "cell_type": "code",
      "metadata": {
        "id": "zhLD6EeCPD78",
        "colab_type": "code",
        "colab": {},
        "outputId": "a5870a42-6b56-43b3-9d1b-bff2bce96341"
      },
      "source": [
        "df.pivot_table(values='charges',index=['smoker'],columns=['age_cat'],aggfunc=np.mean)"
      ],
      "execution_count": 0,
      "outputs": [
        {
          "output_type": "execute_result",
          "data": {
            "text/html": [
              "<div>\n",
              "<style scoped>\n",
              "    .dataframe tbody tr th:only-of-type {\n",
              "        vertical-align: middle;\n",
              "    }\n",
              "\n",
              "    .dataframe tbody tr th {\n",
              "        vertical-align: top;\n",
              "    }\n",
              "\n",
              "    .dataframe thead th {\n",
              "        text-align: right;\n",
              "    }\n",
              "</style>\n",
              "<table border=\"1\" class=\"dataframe\">\n",
              "  <thead>\n",
              "    <tr style=\"text-align: right;\">\n",
              "      <th>age_cat</th>\n",
              "      <th>adolescent</th>\n",
              "      <th>young_adults</th>\n",
              "      <th>adults</th>\n",
              "      <th>Seniors</th>\n",
              "    </tr>\n",
              "    <tr>\n",
              "      <th>smoker</th>\n",
              "      <th></th>\n",
              "      <th></th>\n",
              "      <th></th>\n",
              "      <th></th>\n",
              "    </tr>\n",
              "  </thead>\n",
              "  <tbody>\n",
              "    <tr>\n",
              "      <th>no</th>\n",
              "      <td>3413.875214</td>\n",
              "      <td>5399.73804</td>\n",
              "      <td>8860.261886</td>\n",
              "      <td>13540.277993</td>\n",
              "    </tr>\n",
              "    <tr>\n",
              "      <th>yes</th>\n",
              "      <td>25971.177649</td>\n",
              "      <td>29104.60795</td>\n",
              "      <td>32559.724319</td>\n",
              "      <td>38820.223082</td>\n",
              "    </tr>\n",
              "  </tbody>\n",
              "</table>\n",
              "</div>"
            ],
            "text/plain": [
              "age_cat    adolescent  young_adults        adults       Seniors\n",
              "smoker                                                         \n",
              "no        3413.875214    5399.73804   8860.261886  13540.277993\n",
              "yes      25971.177649   29104.60795  32559.724319  38820.223082"
            ]
          },
          "metadata": {
            "tags": []
          },
          "execution_count": 57
        }
      ]
    },
    {
      "cell_type": "code",
      "metadata": {
        "id": "bgH_1LTiPD7_",
        "colab_type": "code",
        "colab": {},
        "outputId": "ffabe968-347d-4b0e-b951-f20758c70c87"
      },
      "source": [
        "df.pivot_table(values='charges',index=['smoker','sex'],columns=['age_cat'],aggfunc=np.mean)"
      ],
      "execution_count": 0,
      "outputs": [
        {
          "output_type": "execute_result",
          "data": {
            "text/html": [
              "<div>\n",
              "<style scoped>\n",
              "    .dataframe tbody tr th:only-of-type {\n",
              "        vertical-align: middle;\n",
              "    }\n",
              "\n",
              "    .dataframe tbody tr th {\n",
              "        vertical-align: top;\n",
              "    }\n",
              "\n",
              "    .dataframe thead th {\n",
              "        text-align: right;\n",
              "    }\n",
              "</style>\n",
              "<table border=\"1\" class=\"dataframe\">\n",
              "  <thead>\n",
              "    <tr style=\"text-align: right;\">\n",
              "      <th></th>\n",
              "      <th>age_cat</th>\n",
              "      <th>adolescent</th>\n",
              "      <th>young_adults</th>\n",
              "      <th>adults</th>\n",
              "      <th>Seniors</th>\n",
              "    </tr>\n",
              "    <tr>\n",
              "      <th>smoker</th>\n",
              "      <th>sex</th>\n",
              "      <th></th>\n",
              "      <th></th>\n",
              "      <th></th>\n",
              "      <th></th>\n",
              "    </tr>\n",
              "  </thead>\n",
              "  <tbody>\n",
              "    <tr>\n",
              "      <th rowspan=\"2\" valign=\"top\">no</th>\n",
              "      <th>female</th>\n",
              "      <td>3583.173373</td>\n",
              "      <td>5670.058618</td>\n",
              "      <td>9026.088827</td>\n",
              "      <td>13911.508909</td>\n",
              "    </tr>\n",
              "    <tr>\n",
              "      <th>male</th>\n",
              "      <td>3247.222338</td>\n",
              "      <td>5122.701423</td>\n",
              "      <td>8682.590163</td>\n",
              "      <td>13126.005813</td>\n",
              "    </tr>\n",
              "    <tr>\n",
              "      <th rowspan=\"2\" valign=\"top\">yes</th>\n",
              "      <th>female</th>\n",
              "      <td>24094.753987</td>\n",
              "      <td>28620.943214</td>\n",
              "      <td>30391.010300</td>\n",
              "      <td>37745.342093</td>\n",
              "    </tr>\n",
              "    <tr>\n",
              "      <th>male</th>\n",
              "      <td>27421.141389</td>\n",
              "      <td>29430.341343</td>\n",
              "      <td>34175.628882</td>\n",
              "      <td>39604.595696</td>\n",
              "    </tr>\n",
              "  </tbody>\n",
              "</table>\n",
              "</div>"
            ],
            "text/plain": [
              "age_cat          adolescent  young_adults        adults       Seniors\n",
              "smoker sex                                                           \n",
              "no     female   3583.173373   5670.058618   9026.088827  13911.508909\n",
              "       male     3247.222338   5122.701423   8682.590163  13126.005813\n",
              "yes    female  24094.753987  28620.943214  30391.010300  37745.342093\n",
              "       male    27421.141389  29430.341343  34175.628882  39604.595696"
            ]
          },
          "metadata": {
            "tags": []
          },
          "execution_count": 59
        }
      ]
    },
    {
      "cell_type": "code",
      "metadata": {
        "id": "bh9uFB6GPD8D",
        "colab_type": "code",
        "colab": {}
      },
      "source": [
        "# i am an adult, i want to reduce my average charges by 20% what should i do?\n",
        "\n",
        "# answer:\n",
        "# should i quit smoking?"
      ],
      "execution_count": 0,
      "outputs": []
    },
    {
      "cell_type": "code",
      "metadata": {
        "id": "RybKmd6CPD8G",
        "colab_type": "code",
        "colab": {}
      },
      "source": [
        ""
      ],
      "execution_count": 0,
      "outputs": []
    }
  ]
}