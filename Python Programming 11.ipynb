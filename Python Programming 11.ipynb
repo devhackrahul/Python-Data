{
  "nbformat": 4,
  "nbformat_minor": 0,
  "metadata": {
    "kernelspec": {
      "display_name": "Python 3",
      "language": "python",
      "name": "python3"
    },
    "language_info": {
      "codemirror_mode": {
        "name": "ipython",
        "version": 3
      },
      "file_extension": ".py",
      "mimetype": "text/x-python",
      "name": "python",
      "nbconvert_exporter": "python",
      "pygments_lexer": "ipython3",
      "version": "3.6.4"
    },
    "colab": {
      "name": "Hypothesis Tests.ipynb",
      "provenance": []
    }
  },
  "cells": [
    {
      "cell_type": "code",
      "metadata": {
        "id": "HWAgGYzXPAJC",
        "colab_type": "code",
        "colab": {}
      },
      "source": [
        "import pandas as pd\n",
        "import numpy as np\n",
        "import matplotlib.pyplot as plt\n",
        "%matplotlib inline"
      ],
      "execution_count": 0,
      "outputs": []
    },
    {
      "cell_type": "code",
      "metadata": {
        "id": "E9qHK8V8PAJH",
        "colab_type": "code",
        "colab": {}
      },
      "source": [
        "df = pd.read_csv('https://raw.githubusercontent.com/tidyverse/ggplot2/master/data-raw/diamonds.csv')"
      ],
      "execution_count": 0,
      "outputs": []
    },
    {
      "cell_type": "code",
      "metadata": {
        "id": "KYt8AwEAPAJL",
        "colab_type": "code",
        "colab": {},
        "outputId": "0d9cb164-dad0-4595-f419-a505518f0067"
      },
      "source": [
        "df.info()"
      ],
      "execution_count": 0,
      "outputs": [
        {
          "output_type": "stream",
          "text": [
            "<class 'pandas.core.frame.DataFrame'>\n",
            "RangeIndex: 53940 entries, 0 to 53939\n",
            "Data columns (total 10 columns):\n",
            "carat      53940 non-null float64\n",
            "cut        53940 non-null object\n",
            "color      53940 non-null object\n",
            "clarity    53940 non-null object\n",
            "depth      53940 non-null float64\n",
            "table      53940 non-null float64\n",
            "price      53940 non-null int64\n",
            "x          53940 non-null float64\n",
            "y          53940 non-null float64\n",
            "z          53940 non-null float64\n",
            "dtypes: float64(6), int64(1), object(3)\n",
            "memory usage: 4.1+ MB\n"
          ],
          "name": "stdout"
        }
      ]
    },
    {
      "cell_type": "markdown",
      "metadata": {
        "id": "bG_nwWsuPAJP",
        "colab_type": "text"
      },
      "source": [
        "# Binomial Distribution"
      ]
    },
    {
      "cell_type": "code",
      "metadata": {
        "id": "mSAGx8XMPAJR",
        "colab_type": "code",
        "colab": {}
      },
      "source": [
        "# EVENT\n",
        "# OUTCOME\n",
        "\n",
        "# Number of times that event is conducted\n",
        "\n",
        "# you can estimate the probability of happening of that event"
      ],
      "execution_count": 0,
      "outputs": []
    },
    {
      "cell_type": "code",
      "metadata": {
        "id": "edVstlEDPAJU",
        "colab_type": "code",
        "colab": {}
      },
      "source": [
        "import scipy.stats as stats"
      ],
      "execution_count": 0,
      "outputs": []
    },
    {
      "cell_type": "code",
      "metadata": {
        "id": "pB04qzr0PAJX",
        "colab_type": "code",
        "colab": {}
      },
      "source": [
        "bin_exp = stats.binom.rvs(n=10, # number of times tossing a coin\n",
        "               p=0.5, # prob of getting a head\n",
        "               size=100) # total experiemnts"
      ],
      "execution_count": 0,
      "outputs": []
    },
    {
      "cell_type": "code",
      "metadata": {
        "id": "OppKKtYXPAJc",
        "colab_type": "code",
        "colab": {},
        "outputId": "e1bb6c19-d16a-4ec8-cf5b-a4ab4179172d"
      },
      "source": [
        "pd.crosstab(index='counts',columns=bin_exp)"
      ],
      "execution_count": 0,
      "outputs": [
        {
          "output_type": "execute_result",
          "data": {
            "text/html": [
              "<div>\n",
              "<style>\n",
              "    .dataframe thead tr:only-child th {\n",
              "        text-align: right;\n",
              "    }\n",
              "\n",
              "    .dataframe thead th {\n",
              "        text-align: left;\n",
              "    }\n",
              "\n",
              "    .dataframe tbody tr th {\n",
              "        vertical-align: top;\n",
              "    }\n",
              "</style>\n",
              "<table border=\"1\" class=\"dataframe\">\n",
              "  <thead>\n",
              "    <tr style=\"text-align: right;\">\n",
              "      <th>col_0</th>\n",
              "      <th>1</th>\n",
              "      <th>2</th>\n",
              "      <th>3</th>\n",
              "      <th>4</th>\n",
              "      <th>5</th>\n",
              "      <th>6</th>\n",
              "      <th>7</th>\n",
              "      <th>8</th>\n",
              "    </tr>\n",
              "    <tr>\n",
              "      <th>row_0</th>\n",
              "      <th></th>\n",
              "      <th></th>\n",
              "      <th></th>\n",
              "      <th></th>\n",
              "      <th></th>\n",
              "      <th></th>\n",
              "      <th></th>\n",
              "      <th></th>\n",
              "    </tr>\n",
              "  </thead>\n",
              "  <tbody>\n",
              "    <tr>\n",
              "      <th>counts</th>\n",
              "      <td>1</td>\n",
              "      <td>4</td>\n",
              "      <td>14</td>\n",
              "      <td>23</td>\n",
              "      <td>29</td>\n",
              "      <td>16</td>\n",
              "      <td>9</td>\n",
              "      <td>4</td>\n",
              "    </tr>\n",
              "  </tbody>\n",
              "</table>\n",
              "</div>"
            ],
            "text/plain": [
              "col_0   1  2   3   4   5   6  7  8\n",
              "row_0                             \n",
              "counts  1  4  14  23  29  16  9  4"
            ]
          },
          "metadata": {
            "tags": []
          },
          "execution_count": 8
        }
      ]
    },
    {
      "cell_type": "code",
      "metadata": {
        "id": "tTOegNz7PAJf",
        "colab_type": "code",
        "colab": {},
        "outputId": "571888f9-4b64-454b-b0b5-92ddf9b992a7"
      },
      "source": [
        "pd.DataFrame(bin_exp).hist()"
      ],
      "execution_count": 0,
      "outputs": [
        {
          "output_type": "execute_result",
          "data": {
            "text/plain": [
              "array([[<matplotlib.axes._subplots.AxesSubplot object at 0x19159a9898>]], dtype=object)"
            ]
          },
          "metadata": {
            "tags": []
          },
          "execution_count": 9
        },
        {
          "output_type": "display_data",
          "data": {
            "image/png": "[encoded data removed]",
            "text/plain": [
              "<matplotlib.figure.Figure at 0x19159a9b38>"
            ]
          },
          "metadata": {
            "tags": []
          }
        }
      ]
    },
    {
      "cell_type": "code",
      "metadata": {
        "id": "lYUG81V3PAJj",
        "colab_type": "code",
        "colab": {},
        "outputId": "e05c79ae-fc44-42db-cb6a-83c96429e8ab"
      },
      "source": [
        "stats.binom.cdf(k=5,\n",
        "               n=10,\n",
        "               p=0.5)"
      ],
      "execution_count": 0,
      "outputs": [
        {
          "output_type": "execute_result",
          "data": {
            "text/plain": [
              "0.62304687499999989"
            ]
          },
          "metadata": {
            "tags": []
          },
          "execution_count": 10
        }
      ]
    },
    {
      "cell_type": "code",
      "metadata": {
        "id": "-P2QWZXDPAJo",
        "colab_type": "code",
        "colab": {}
      },
      "source": [
        "# binomial outcome then use pmf"
      ],
      "execution_count": 0,
      "outputs": []
    },
    {
      "cell_type": "code",
      "metadata": {
        "id": "G2UyFjNBPAJs",
        "colab_type": "code",
        "colab": {},
        "outputId": "ceaebb2c-61bb-4ea4-fd6f-e20b4a555e0e"
      },
      "source": [
        "stats.binom.pmf(k=5,\n",
        "               n=10,\n",
        "               p=0.5)"
      ],
      "execution_count": 0,
      "outputs": [
        {
          "output_type": "execute_result",
          "data": {
            "text/plain": [
              "0.24609375000000025"
            ]
          },
          "metadata": {
            "tags": []
          },
          "execution_count": 12
        }
      ]
    },
    {
      "cell_type": "markdown",
      "metadata": {
        "id": "doBRvPZcPAJw",
        "colab_type": "text"
      },
      "source": [
        "# The Geometric and Exponential Distribution"
      ]
    },
    {
      "cell_type": "code",
      "metadata": {
        "id": "1fWhDoCrPAJx",
        "colab_type": "code",
        "colab": {},
        "outputId": "e5bea3a6-e0b2-4c7a-a9bd-bd4d933bca09"
      },
      "source": [
        "stats.geom.rvs(size=100,\n",
        "              p=0.5)"
      ],
      "execution_count": 0,
      "outputs": [
        {
          "output_type": "execute_result",
          "data": {
            "text/plain": [
              "array([1, 1, 1, 2, 1, 2, 1, 3, 1, 1, 1, 2, 2, 3, 2, 2, 3, 1, 1, 4, 2, 3, 2,\n",
              "       1, 1, 1, 3, 5, 1, 2, 4, 2, 1, 3, 2, 2, 1, 1, 1, 3, 1, 1, 1, 4, 6, 1,\n",
              "       1, 1, 1, 3, 1, 1, 4, 3, 1, 4, 6, 1, 2, 2, 1, 2, 2, 2, 1, 1, 1, 2, 3,\n",
              "       2, 3, 1, 1, 2, 2, 2, 2, 1, 9, 1, 5, 1, 1, 2, 1, 5, 1, 4, 1, 3, 1, 1,\n",
              "       4, 1, 1, 3, 2, 2, 2, 1])"
            ]
          },
          "metadata": {
            "tags": []
          },
          "execution_count": 13
        }
      ]
    },
    {
      "cell_type": "markdown",
      "metadata": {
        "id": "hrSO3s8pPAJ0",
        "colab_type": "text"
      },
      "source": [
        "# The Poisson Distribution"
      ]
    },
    {
      "cell_type": "code",
      "metadata": {
        "id": "R--x_7PiPAJ1",
        "colab_type": "code",
        "colab": {}
      },
      "source": [
        "# count data"
      ],
      "execution_count": 0,
      "outputs": []
    },
    {
      "cell_type": "code",
      "metadata": {
        "id": "xkPxftmRPAJ4",
        "colab_type": "code",
        "colab": {},
        "outputId": "42f3ff3b-0040-4fb3-9f7d-ab2008b1b26a"
      },
      "source": [
        "stats.poisson.rvs(size=100,\n",
        "                 mu=12)"
      ],
      "execution_count": 0,
      "outputs": [
        {
          "output_type": "execute_result",
          "data": {
            "text/plain": [
              "array([14, 10, 12, 12, 15, 17, 11, 12, 15, 15, 18, 16, 11,  8,  7, 10, 11,\n",
              "       13, 13,  9,  8,  9, 14,  9, 13,  6, 15,  8,  8, 12, 13, 11, 12, 14,\n",
              "        7, 19, 13,  9,  8, 10, 11, 17, 10, 13, 11,  7, 12, 15, 13,  9,  7,\n",
              "        5, 12,  8, 10, 10,  6,  8,  6, 13, 15, 14, 17, 10, 13, 15, 13, 16,\n",
              "       15, 17, 15, 18, 17,  6, 14, 16, 14,  6, 17, 13, 10,  9,  8,  9, 12,\n",
              "       18,  9,  7, 12, 12, 13,  9, 10, 13, 14,  9,  7, 12, 14,  5])"
            ]
          },
          "metadata": {
            "tags": []
          },
          "execution_count": 15
        }
      ]
    },
    {
      "cell_type": "markdown",
      "metadata": {
        "id": "rjZubrtiPAJ8",
        "colab_type": "text"
      },
      "source": [
        "# Statistical Inference and Estimation"
      ]
    },
    {
      "cell_type": "code",
      "metadata": {
        "id": "blxO6aTqPAJ9",
        "colab_type": "code",
        "colab": {},
        "outputId": "3587b110-d3ee-4df0-ed1f-238e4e821d26"
      },
      "source": [
        "df.price.plot(kind='density')"
      ],
      "execution_count": 0,
      "outputs": [
        {
          "output_type": "execute_result",
          "data": {
            "text/plain": [
              "<matplotlib.axes._subplots.AxesSubplot at 0x1a15ba24e0>"
            ]
          },
          "metadata": {
            "tags": []
          },
          "execution_count": 16
        },
        {
          "output_type": "display_data",
          "data": {
            "image/png": "[encoded data removed]",
            "text/plain": [
              "<matplotlib.figure.Figure at 0x1a15b58780>"
            ]
          },
          "metadata": {
            "tags": []
          }
        }
      ]
    },
    {
      "cell_type": "code",
      "metadata": {
        "id": "kS0vgYFFPAKA",
        "colab_type": "code",
        "colab": {},
        "outputId": "bfa1e653-4e5a-4e49-c988-20443e29c723"
      },
      "source": [
        "point_estimates = [] \n",
        "\n",
        "for x in range(200):\n",
        "    sample = np.random.choice(a=df.price,size=500)\n",
        "    point_estimates.append(sample.mean())\n",
        "    \n",
        "pd.DataFrame(point_estimates).plot(kind='density')"
      ],
      "execution_count": 0,
      "outputs": [
        {
          "output_type": "execute_result",
          "data": {
            "text/plain": [
              "<matplotlib.axes._subplots.AxesSubplot at 0x1a198b9518>"
            ]
          },
          "metadata": {
            "tags": []
          },
          "execution_count": 17
        },
        {
          "output_type": "display_data",
          "data": {
            "image/png": "[encoded data removed]",
            "text/plain": [
              "<matplotlib.figure.Figure at 0x1a18e91128>"
            ]
          },
          "metadata": {
            "tags": []
          }
        }
      ]
    },
    {
      "cell_type": "code",
      "metadata": {
        "id": "MtdDnFtzPAKD",
        "colab_type": "code",
        "colab": {},
        "outputId": "bee0ef16-bfde-45dc-8ef5-2876f30c364b"
      },
      "source": [
        "np.mean(point_estimates) #sample mean"
      ],
      "execution_count": 0,
      "outputs": [
        {
          "output_type": "execute_result",
          "data": {
            "text/plain": [
              "3930.4598499999997"
            ]
          },
          "metadata": {
            "tags": []
          },
          "execution_count": 18
        }
      ]
    },
    {
      "cell_type": "code",
      "metadata": {
        "id": "mFhh5azZPAKG",
        "colab_type": "code",
        "colab": {},
        "outputId": "354ca2ac-0b01-42e2-aa73-692d8b2af2a1"
      },
      "source": [
        "np.mean(df.price) #population mean"
      ],
      "execution_count": 0,
      "outputs": [
        {
          "output_type": "execute_result",
          "data": {
            "text/plain": [
              "3932.799721913237"
            ]
          },
          "metadata": {
            "tags": []
          },
          "execution_count": 19
        }
      ]
    },
    {
      "cell_type": "code",
      "metadata": {
        "id": "RJiKDGO3PAKJ",
        "colab_type": "code",
        "colab": {},
        "outputId": "37edff5a-4e3b-41dc-ec77-32549c816bd7"
      },
      "source": [
        "np.mean(df.price) - np.mean(point_estimates) "
      ],
      "execution_count": 0,
      "outputs": [
        {
          "output_type": "execute_result",
          "data": {
            "text/plain": [
              "2.3398719132374026"
            ]
          },
          "metadata": {
            "tags": []
          },
          "execution_count": 20
        }
      ]
    },
    {
      "cell_type": "code",
      "metadata": {
        "id": "1-UfFy-nPAKM",
        "colab_type": "code",
        "colab": {},
        "outputId": "54e415c0-d111-4617-ffde-00e8d8ae2ca5"
      },
      "source": [
        "point_estimates = [] \n",
        "\n",
        "for x in range(200):\n",
        "    sample = np.random.choice(a=df.price,size=750)\n",
        "    point_estimates.append(sample.mean())\n",
        "    \n",
        "pd.DataFrame(point_estimates).plot(kind='density')"
      ],
      "execution_count": 0,
      "outputs": [
        {
          "output_type": "execute_result",
          "data": {
            "text/plain": [
              "<matplotlib.axes._subplots.AxesSubplot at 0x1a198a0d30>"
            ]
          },
          "metadata": {
            "tags": []
          },
          "execution_count": 21
        },
        {
          "output_type": "display_data",
          "data": {
            "image/png": "[encoded data removed]",
            "text/plain": [
              "<matplotlib.figure.Figure at 0x1141b95c0>"
            ]
          },
          "metadata": {
            "tags": []
          }
        }
      ]
    },
    {
      "cell_type": "code",
      "metadata": {
        "id": "we_l4zM8PAKP",
        "colab_type": "code",
        "colab": {},
        "outputId": "33ac717b-b5a7-4e55-b253-81b181d5539f"
      },
      "source": [
        "np.mean(point_estimates)"
      ],
      "execution_count": 0,
      "outputs": [
        {
          "output_type": "execute_result",
          "data": {
            "text/plain": [
              "3944.06342"
            ]
          },
          "metadata": {
            "tags": []
          },
          "execution_count": 22
        }
      ]
    },
    {
      "cell_type": "code",
      "metadata": {
        "id": "eCJwEXIOPAKS",
        "colab_type": "code",
        "colab": {},
        "outputId": "6ea756b5-ad0d-44b3-ba19-3f43c865532d"
      },
      "source": [
        "np.mean(df.price)"
      ],
      "execution_count": 0,
      "outputs": [
        {
          "output_type": "execute_result",
          "data": {
            "text/plain": [
              "3932.799721913237"
            ]
          },
          "metadata": {
            "tags": []
          },
          "execution_count": 23
        }
      ]
    },
    {
      "cell_type": "code",
      "metadata": {
        "id": "tnTBYdphPAKU",
        "colab_type": "code",
        "colab": {}
      },
      "source": [
        "# What is average pay for all the H1B holders?"
      ],
      "execution_count": 0,
      "outputs": []
    },
    {
      "cell_type": "code",
      "metadata": {
        "id": "_1LLPlqgPAKX",
        "colab_type": "code",
        "colab": {}
      },
      "source": [
        "# n=? 200,000 # pop mean\n",
        "# sampled=?\n",
        "\n",
        "# 100, mean=? sample 1 mean\n",
        "# 200, mean=? sample 2 mean\n",
        "\n",
        "# 500, mean=? sample 3 mean"
      ],
      "execution_count": 0,
      "outputs": []
    },
    {
      "cell_type": "markdown",
      "metadata": {
        "id": "c-cMFllMPAKb",
        "colab_type": "text"
      },
      "source": [
        "# Interval estimate, it gives a range"
      ]
    },
    {
      "cell_type": "code",
      "metadata": {
        "id": "w0BYg7nqPAKc",
        "colab_type": "code",
        "colab": {},
        "outputId": "f26c3457-4a1b-45f4-9acf-11a5edb492a7"
      },
      "source": [
        "sample_size = 1000\n",
        "sample = np.random.choice(a=df.price,size=sample_size)\n",
        "sample_mean = sample.mean()\n",
        "\n",
        "z_critical = stats.norm.ppf(q=0.975)\n",
        "\n",
        "print('Z critical value')\n",
        "print(z_critical)\n",
        "\n",
        "pop_std = df.price.std()\n",
        "\n",
        "margin_of_error = z_critical * (pop_std/np.sqrt(sample_size))\n",
        "\n",
        "confidence_interval = (sample_mean - margin_of_error,\n",
        "                      sample_mean + margin_of_error)\n",
        "\n",
        "print('Confidence Interval')\n",
        "print(confidence_interval)"
      ],
      "execution_count": 0,
      "outputs": [
        {
          "output_type": "stream",
          "text": [
            "Z critical value\n",
            "1.95996398454\n",
            "Confidence Interval\n",
            "(3668.6255068618511, 4163.1524931381491)\n"
          ],
          "name": "stdout"
        }
      ]
    },
    {
      "cell_type": "code",
      "metadata": {
        "id": "VpyhW-0fPAKf",
        "colab_type": "code",
        "colab": {}
      },
      "source": [
        "sample_size = 1000\n",
        "\n",
        "intervals = []\n",
        "sample_means = []\n",
        "\n",
        "for sample in range(25):\n",
        "    sample = np.random.choice(a=df.price,size=sample_size)\n",
        "    sample_mean = sample.mean()\n",
        "    sample_means.append(sample_mean)\n",
        "\n",
        "    z_critical = stats.norm.ppf(q=0.975)\n",
        "\n",
        "    pop_std = df.price.std()\n",
        "    \n",
        "    stats.norm.ppf(q=0.025)\n",
        "\n",
        "    margin_of_error = z_critical * (pop_std/np.sqrt(sample_size))\n",
        "\n",
        "    confidence_interval = (sample_mean - margin_of_error,\n",
        "                          sample_mean + margin_of_error)\n",
        "    intervals.append(confidence_interval)"
      ],
      "execution_count": 0,
      "outputs": []
    },
    {
      "cell_type": "code",
      "metadata": {
        "id": "SLXOZEV9PAKi",
        "colab_type": "code",
        "colab": {},
        "outputId": "41453d46-a1ce-416f-d5b1-f7b53c6bc758"
      },
      "source": [
        "plt.figure(figsize=(15,9))\n",
        "\n",
        "plt.errorbar(x=np.arange(0.1,25,1),\n",
        "            y=sample_means,\n",
        "            yerr=[(top-bot)/2 for top, bot in intervals],\n",
        "            fmt='o')\n",
        "\n",
        "plt.hlines(xmin=0,xmax=25,\n",
        "          y = np.mean(df.price),color='red')"
      ],
      "execution_count": 0,
      "outputs": [
        {
          "output_type": "execute_result",
          "data": {
            "text/plain": [
              "<matplotlib.collections.LineCollection at 0x1a18ed60b8>"
            ]
          },
          "metadata": {
            "tags": []
          },
          "execution_count": 28
        },
        {
          "output_type": "display_data",
          "data": {
            "image/png": "[encoded data removed]",
            "text/plain": [
              "<matplotlib.figure.Figure at 0x1a192cf5f8>"
            ]
          },
          "metadata": {
            "tags": []
          }
        }
      ]
    },
    {
      "cell_type": "code",
      "metadata": {
        "id": "wzoPfnx8PAKl",
        "colab_type": "code",
        "colab": {}
      },
      "source": [
        "sample_size = 500\n",
        "\n",
        "intervals = []\n",
        "sample_means = []\n",
        "\n",
        "for sample in range(25):\n",
        "    sample = np.random.choice(a=df.price,size=sample_size)\n",
        "    sample_mean = sample.mean()\n",
        "    sample_means.append(sample_mean)\n",
        "\n",
        "    z_critical = stats.norm.ppf(q=0.975)\n",
        "\n",
        "    pop_std = df.price.std()\n",
        "    \n",
        "    stats.norm.ppf(q=0.025)\n",
        "\n",
        "    margin_of_error = z_critical * (pop_std/np.sqrt(sample_size))\n",
        "\n",
        "    confidence_interval = (sample_mean - margin_of_error,\n",
        "                          sample_mean + margin_of_error)\n",
        "    intervals.append(confidence_interval)"
      ],
      "execution_count": 0,
      "outputs": []
    },
    {
      "cell_type": "code",
      "metadata": {
        "id": "7Iilwaj3PAKn",
        "colab_type": "code",
        "colab": {},
        "outputId": "4501135e-816d-4f66-dfcc-8aeedee6e039"
      },
      "source": [
        "plt.figure(figsize=(15,9))\n",
        "\n",
        "plt.errorbar(x=np.arange(0.1,25,1),\n",
        "            y=sample_means,\n",
        "            yerr=[(top-bot)/2 for top, bot in intervals],\n",
        "            fmt='o')\n",
        "\n",
        "plt.hlines(xmin=0,xmax=25,\n",
        "          y = np.mean(df.price),color='red')"
      ],
      "execution_count": 0,
      "outputs": [
        {
          "output_type": "execute_result",
          "data": {
            "text/plain": [
              "<matplotlib.collections.LineCollection at 0x1a19291c18>"
            ]
          },
          "metadata": {
            "tags": []
          },
          "execution_count": 30
        },
        {
          "output_type": "display_data",
          "data": {
            "image/png": "[encoded data removed]",
            "text/plain": [
              "<matplotlib.figure.Figure at 0x1a19298898>"
            ]
          },
          "metadata": {
            "tags": []
          }
        }
      ]
    },
    {
      "cell_type": "code",
      "metadata": {
        "id": "y8Y89TMdPAKr",
        "colab_type": "code",
        "colab": {}
      },
      "source": [
        "# you want to predict whether the true population mean falls in the confidence interval that you have defined"
      ],
      "execution_count": 0,
      "outputs": []
    },
    {
      "cell_type": "code",
      "metadata": {
        "id": "bQ2snb40PAKt",
        "colab_type": "code",
        "colab": {}
      },
      "source": [
        "# statistical hypothesis test is required in order to achive this"
      ],
      "execution_count": 0,
      "outputs": []
    },
    {
      "cell_type": "code",
      "metadata": {
        "id": "6YClsvboPAKw",
        "colab_type": "code",
        "colab": {}
      },
      "source": [
        "# T-test for single sample test of mean without information about population standard deviation"
      ],
      "execution_count": 0,
      "outputs": []
    },
    {
      "cell_type": "code",
      "metadata": {
        "id": "DxCf8XViPAK0",
        "colab_type": "code",
        "colab": {},
        "outputId": "2b05eb75-a622-40d9-c837-2ec94be89f20"
      },
      "source": [
        "sample_size = 25\n",
        "sample = np.random.choice(a=df.price,size=sample_size)\n",
        "sample_mean = sample.mean()\n",
        "\n",
        "t_critical = stats.t.ppf(q=0.975,df=sample_size-1)\n",
        "\n",
        "print('t critical value')\n",
        "print(t_critical)\n",
        "\n",
        "sample_std = sample.std()\n",
        "\n",
        "sigma = sample_std/np.sqrt(sample_size)\n",
        "\n",
        "margin_of_error = t_critical * sigma\n",
        "\n",
        "confidence_interval = (sample_mean - margin_of_error,\n",
        "                      sample_mean + margin_of_error)\n",
        "\n",
        "print('Confidence Interval')\n",
        "print(confidence_interval)"
      ],
      "execution_count": 0,
      "outputs": [
        {
          "output_type": "stream",
          "text": [
            "t critical value\n",
            "2.06389856163\n",
            "Confidence Interval\n",
            "(2363.1616808635927, 5719.7183191364074)\n"
          ],
          "name": "stdout"
        }
      ]
    },
    {
      "cell_type": "markdown",
      "metadata": {
        "id": "Tly0Kqg6PAK3",
        "colab_type": "text"
      },
      "source": [
        "# Hypothesis Test Process"
      ]
    },
    {
      "cell_type": "code",
      "metadata": {
        "id": "An3E_pxbPAK4",
        "colab_type": "code",
        "colab": {}
      },
      "source": [
        "# Decide the Null Hypothesis\n",
        "# Alternate Hypothesis\n",
        "# identify the statistics\n",
        "# decide the signficance level\n",
        "# make conclusions"
      ],
      "execution_count": 0,
      "outputs": []
    },
    {
      "cell_type": "code",
      "metadata": {
        "id": "dI_ImwhvPAK8",
        "colab_type": "code",
        "colab": {}
      },
      "source": [
        "# One sample test of mean, t-test for single sample"
      ],
      "execution_count": 0,
      "outputs": []
    },
    {
      "cell_type": "code",
      "metadata": {
        "id": "oVZWoYz4PALI",
        "colab_type": "code",
        "colab": {},
        "outputId": "993c3b6d-e660-485b-e79d-6c043b1b5a5d"
      },
      "source": [
        "df.head()"
      ],
      "execution_count": 0,
      "outputs": [
        {
          "output_type": "execute_result",
          "data": {
            "text/html": [
              "<div>\n",
              "<style>\n",
              "    .dataframe thead tr:only-child th {\n",
              "        text-align: right;\n",
              "    }\n",
              "\n",
              "    .dataframe thead th {\n",
              "        text-align: left;\n",
              "    }\n",
              "\n",
              "    .dataframe tbody tr th {\n",
              "        vertical-align: top;\n",
              "    }\n",
              "</style>\n",
              "<table border=\"1\" class=\"dataframe\">\n",
              "  <thead>\n",
              "    <tr style=\"text-align: right;\">\n",
              "      <th></th>\n",
              "      <th>carat</th>\n",
              "      <th>cut</th>\n",
              "      <th>color</th>\n",
              "      <th>clarity</th>\n",
              "      <th>depth</th>\n",
              "      <th>table</th>\n",
              "      <th>price</th>\n",
              "      <th>x</th>\n",
              "      <th>y</th>\n",
              "      <th>z</th>\n",
              "    </tr>\n",
              "  </thead>\n",
              "  <tbody>\n",
              "    <tr>\n",
              "      <th>0</th>\n",
              "      <td>0.23</td>\n",
              "      <td>Ideal</td>\n",
              "      <td>E</td>\n",
              "      <td>SI2</td>\n",
              "      <td>61.5</td>\n",
              "      <td>55.0</td>\n",
              "      <td>326</td>\n",
              "      <td>3.95</td>\n",
              "      <td>3.98</td>\n",
              "      <td>2.43</td>\n",
              "    </tr>\n",
              "    <tr>\n",
              "      <th>1</th>\n",
              "      <td>0.21</td>\n",
              "      <td>Premium</td>\n",
              "      <td>E</td>\n",
              "      <td>SI1</td>\n",
              "      <td>59.8</td>\n",
              "      <td>61.0</td>\n",
              "      <td>326</td>\n",
              "      <td>3.89</td>\n",
              "      <td>3.84</td>\n",
              "      <td>2.31</td>\n",
              "    </tr>\n",
              "    <tr>\n",
              "      <th>2</th>\n",
              "      <td>0.23</td>\n",
              "      <td>Good</td>\n",
              "      <td>E</td>\n",
              "      <td>VS1</td>\n",
              "      <td>56.9</td>\n",
              "      <td>65.0</td>\n",
              "      <td>327</td>\n",
              "      <td>4.05</td>\n",
              "      <td>4.07</td>\n",
              "      <td>2.31</td>\n",
              "    </tr>\n",
              "    <tr>\n",
              "      <th>3</th>\n",
              "      <td>0.29</td>\n",
              "      <td>Premium</td>\n",
              "      <td>I</td>\n",
              "      <td>VS2</td>\n",
              "      <td>62.4</td>\n",
              "      <td>58.0</td>\n",
              "      <td>334</td>\n",
              "      <td>4.20</td>\n",
              "      <td>4.23</td>\n",
              "      <td>2.63</td>\n",
              "    </tr>\n",
              "    <tr>\n",
              "      <th>4</th>\n",
              "      <td>0.31</td>\n",
              "      <td>Good</td>\n",
              "      <td>J</td>\n",
              "      <td>SI2</td>\n",
              "      <td>63.3</td>\n",
              "      <td>58.0</td>\n",
              "      <td>335</td>\n",
              "      <td>4.34</td>\n",
              "      <td>4.35</td>\n",
              "      <td>2.75</td>\n",
              "    </tr>\n",
              "  </tbody>\n",
              "</table>\n",
              "</div>"
            ],
            "text/plain": [
              "   carat      cut color clarity  depth  table  price     x     y     z\n",
              "0   0.23    Ideal     E     SI2   61.5   55.0    326  3.95  3.98  2.43\n",
              "1   0.21  Premium     E     SI1   59.8   61.0    326  3.89  3.84  2.31\n",
              "2   0.23     Good     E     VS1   56.9   65.0    327  4.05  4.07  2.31\n",
              "3   0.29  Premium     I     VS2   62.4   58.0    334  4.20  4.23  2.63\n",
              "4   0.31     Good     J     SI2   63.3   58.0    335  4.34  4.35  2.75"
            ]
          },
          "metadata": {
            "tags": []
          },
          "execution_count": 37
        }
      ]
    },
    {
      "cell_type": "code",
      "metadata": {
        "id": "CZQI0V12PALL",
        "colab_type": "code",
        "colab": {}
      },
      "source": [
        "# average price of 'ideal' cut is 3200, true /false, you have to use a statistical test"
      ],
      "execution_count": 0,
      "outputs": []
    },
    {
      "cell_type": "code",
      "metadata": {
        "id": "TdtXtGmnPALO",
        "colab_type": "code",
        "colab": {}
      },
      "source": [
        "# Null: the true mean price of ideal cut diamonds = 3200\n",
        "# Alt: the true mean is different from 3200"
      ],
      "execution_count": 0,
      "outputs": []
    },
    {
      "cell_type": "code",
      "metadata": {
        "id": "yeknLnzhPALQ",
        "colab_type": "code",
        "colab": {}
      },
      "source": [
        "# 5% level of significance, (alpha value)"
      ],
      "execution_count": 0,
      "outputs": []
    },
    {
      "cell_type": "code",
      "metadata": {
        "id": "vIA4IijYPALV",
        "colab_type": "code",
        "colab": {},
        "outputId": "c7bc48d5-eef8-4498-fb60-6f4d0dd28315"
      },
      "source": [
        "df[df.cut=='Ideal']['price'].mean()"
      ],
      "execution_count": 0,
      "outputs": [
        {
          "output_type": "execute_result",
          "data": {
            "text/plain": [
              "3457.541970210199"
            ]
          },
          "metadata": {
            "tags": []
          },
          "execution_count": 41
        }
      ]
    },
    {
      "cell_type": "code",
      "metadata": {
        "id": "PsZ_bhGhPALa",
        "colab_type": "code",
        "colab": {},
        "outputId": "51cc2ca0-2a9d-4999-f8ac-09ecc0f69f91"
      },
      "source": [
        "print(stats.ttest_1samp(a=df[df.cut=='Ideal']['price'],\n",
        "                 popmean=3200))\n",
        "np.round(stats.ttest_1samp(a=df[df.cut=='Ideal']['price'],\n",
        "                 popmean=3200),3)"
      ],
      "execution_count": 0,
      "outputs": [
        {
          "output_type": "stream",
          "text": [
            "Ttest_1sampResult(statistic=9.9274803708338339, pvalue=3.5453377059132918e-23)\n"
          ],
          "name": "stdout"
        },
        {
          "output_type": "execute_result",
          "data": {
            "text/plain": [
              "array([ 9.927,  0.   ])"
            ]
          },
          "metadata": {
            "tags": []
          },
          "execution_count": 42
        }
      ]
    },
    {
      "cell_type": "code",
      "metadata": {
        "id": "uQCRTV67PALd",
        "colab_type": "code",
        "colab": {}
      },
      "source": [
        "#by looking at the p-value: since the p-value is less than alpha value, reject the null hypothesis "
      ],
      "execution_count": 0,
      "outputs": []
    },
    {
      "cell_type": "code",
      "metadata": {
        "id": "OemFS2L_PALf",
        "colab_type": "code",
        "colab": {},
        "outputId": "c111663f-8146-4dec-eb5f-53db508f91e4"
      },
      "source": [
        "# true mean of ideal cut diamonds != 3200, \n",
        "df[df.cut=='Ideal']['price'].mean()"
      ],
      "execution_count": 0,
      "outputs": [
        {
          "output_type": "execute_result",
          "data": {
            "text/plain": [
              "3457.541970210199"
            ]
          },
          "metadata": {
            "tags": []
          },
          "execution_count": 44
        }
      ]
    },
    {
      "cell_type": "code",
      "metadata": {
        "id": "ZVxLxpj9PALi",
        "colab_type": "code",
        "colab": {},
        "outputId": "8c3b0687-3fc4-47a3-a993-1e8fd39fba5c"
      },
      "source": [
        "df[df.cut=='Ideal']['price'].shape[0]"
      ],
      "execution_count": 0,
      "outputs": [
        {
          "output_type": "execute_result",
          "data": {
            "text/plain": [
              "21551"
            ]
          },
          "metadata": {
            "tags": []
          },
          "execution_count": 45
        }
      ]
    },
    {
      "cell_type": "code",
      "metadata": {
        "id": "M1kUHAG6PALl",
        "colab_type": "code",
        "colab": {},
        "outputId": "1ce2afe2-536b-482e-e2b9-2618563652fe"
      },
      "source": [
        "stats.t.interval(alpha=0.95,\n",
        "                df=df[df.cut=='Ideal']['price'].shape[0]-1,\n",
        "                loc=df[df.cut=='Ideal']['price'].mean(),\n",
        "                scale=df[df.cut=='Ideal']['price'].std())"
      ],
      "execution_count": 0,
      "outputs": [
        {
          "output_type": "execute_result",
          "data": {
            "text/plain": [
              "(-4007.2064265689733, 10922.290366989371)"
            ]
          },
          "metadata": {
            "tags": []
          },
          "execution_count": 46
        }
      ]
    },
    {
      "cell_type": "code",
      "metadata": {
        "id": "P-00a2YGPALp",
        "colab_type": "code",
        "colab": {}
      },
      "source": [
        "# Two sample test of mean"
      ],
      "execution_count": 0,
      "outputs": []
    },
    {
      "cell_type": "code",
      "metadata": {
        "id": "LA9ss2rEPALq",
        "colab_type": "code",
        "colab": {}
      },
      "source": [
        "# Task:\n",
        "# Make an inference whether the average price of diamonds for premium quality is significantly different \n",
        "# from good quality?"
      ],
      "execution_count": 0,
      "outputs": []
    },
    {
      "cell_type": "code",
      "metadata": {
        "id": "Ioa4cXvNPALt",
        "colab_type": "code",
        "colab": {}
      },
      "source": [
        "# Hint: two samples t-test"
      ],
      "execution_count": 0,
      "outputs": []
    },
    {
      "cell_type": "code",
      "metadata": {
        "id": "2iDtSwnNPALw",
        "colab_type": "code",
        "colab": {}
      },
      "source": [
        "# dependent samples t-test\n",
        "# independent samples t-test"
      ],
      "execution_count": 0,
      "outputs": []
    },
    {
      "cell_type": "code",
      "metadata": {
        "id": "VNL_hT4MPALy",
        "colab_type": "code",
        "colab": {},
        "outputId": "8895760d-f374-4970-ee6c-d51f6d8c9c68"
      },
      "source": [
        "stats.ttest_ind(a=df[df.cut=='Premium']['price'],\n",
        "                b=df[df.cut=='Good']['price'],\n",
        "               equal_var=False)"
      ],
      "execution_count": 0,
      "outputs": [
        {
          "output_type": "execute_result",
          "data": {
            "text/plain": [
              "Ttest_indResult(statistic=10.192914587265602, pvalue=2.7951686873072847e-24)"
            ]
          },
          "metadata": {
            "tags": []
          },
          "execution_count": 51
        }
      ]
    },
    {
      "cell_type": "code",
      "metadata": {
        "id": "YLimIM2ZPAL1",
        "colab_type": "code",
        "colab": {}
      },
      "source": [
        "# Null: average price of premium = good\n",
        "# alt: average price of premium != good"
      ],
      "execution_count": 0,
      "outputs": []
    },
    {
      "cell_type": "code",
      "metadata": {
        "id": "aZfQNWrOPAL4",
        "colab_type": "code",
        "colab": {}
      },
      "source": [
        "# conclusion: since the p-value is less than 0.05, reject the null hypothesis"
      ],
      "execution_count": 0,
      "outputs": []
    },
    {
      "cell_type": "code",
      "metadata": {
        "id": "A776FqApPAL5",
        "colab_type": "code",
        "colab": {},
        "outputId": "5612d810-9268-48a2-bc3f-25ef100f275a"
      },
      "source": [
        "np.round(stats.ttest_ind(a=df[df.cut=='Premium']['price'],\n",
        "                b=df[df.cut=='Good']['price'],\n",
        "               equal_var=False),2)"
      ],
      "execution_count": 0,
      "outputs": [
        {
          "output_type": "execute_result",
          "data": {
            "text/plain": [
              "array([ 10.19,   0.  ])"
            ]
          },
          "metadata": {
            "tags": []
          },
          "execution_count": 54
        }
      ]
    },
    {
      "cell_type": "code",
      "metadata": {
        "id": "33GJOal4PAL7",
        "colab_type": "code",
        "colab": {}
      },
      "source": [
        "# you wanted to join a weight reduction/gymming program\n",
        "# how effective is the program?, if there is a significant change in weight of people who joined this program\n",
        "# compare the before and after weights"
      ],
      "execution_count": 0,
      "outputs": []
    },
    {
      "cell_type": "code",
      "metadata": {
        "id": "It09KOkbPAL9",
        "colab_type": "code",
        "colab": {}
      },
      "source": [
        "weight_before = [23,34,43,23,35,45,54,56,76,43]\n",
        "weight_after = [21,32,42,25,37,42,55,55,67,43]"
      ],
      "execution_count": 0,
      "outputs": []
    },
    {
      "cell_type": "code",
      "metadata": {
        "id": "HAuyDKqgPAL_",
        "colab_type": "code",
        "colab": {},
        "outputId": "eef8c1ab-0277-4e45-d5a9-f98fefe2b813"
      },
      "source": [
        "stats.ttest_rel(weight_before,weight_after)"
      ],
      "execution_count": 0,
      "outputs": [
        {
          "output_type": "execute_result",
          "data": {
            "text/plain": [
              "Ttest_relResult(statistic=1.2850936923219269, pvalue=0.23084409645634368)"
            ]
          },
          "metadata": {
            "tags": []
          },
          "execution_count": 57
        }
      ]
    },
    {
      "cell_type": "code",
      "metadata": {
        "id": "DG2VVJ_9PAMA",
        "colab_type": "code",
        "colab": {}
      },
      "source": [
        "# conclusion: since the p-value is greater than 0.05, at 95% confidence level you will fail to reject the null \n",
        "# hypothesis, accepting the null hypothesis, that the avwrage wight is same before and after the program\n",
        "# the weight reduction program is not at all effective"
      ],
      "execution_count": 0,
      "outputs": []
    },
    {
      "cell_type": "code",
      "metadata": {
        "id": "1nZV2EtCPAMC",
        "colab_type": "code",
        "colab": {}
      },
      "source": [
        "# Task:\n",
        "# Whether the average diamond prices are different for before clean up and after clean up"
      ],
      "execution_count": 0,
      "outputs": []
    },
    {
      "cell_type": "code",
      "metadata": {
        "id": "kLIzXwytPAMF",
        "colab_type": "code",
        "colab": {},
        "outputId": "c9935183-ecf9-4ba7-9a78-7dee55e9de7b"
      },
      "source": [
        "set(df.color)"
      ],
      "execution_count": 0,
      "outputs": [
        {
          "output_type": "execute_result",
          "data": {
            "text/plain": [
              "{'D', 'E', 'F', 'G', 'H', 'I', 'J'}"
            ]
          },
          "metadata": {
            "tags": []
          },
          "execution_count": 60
        }
      ]
    },
    {
      "cell_type": "code",
      "metadata": {
        "id": "IpAgGEWNPAMH",
        "colab_type": "code",
        "colab": {}
      },
      "source": [
        "# how to make a conclusion about the relationship between two categorical columns?"
      ],
      "execution_count": 0,
      "outputs": []
    },
    {
      "cell_type": "code",
      "metadata": {
        "id": "Vl-nNLwgPAML",
        "colab_type": "code",
        "colab": {},
        "outputId": "bc1bf252-4d37-4934-9791-f7a139db74a4"
      },
      "source": [
        "df.head()"
      ],
      "execution_count": 0,
      "outputs": [
        {
          "output_type": "execute_result",
          "data": {
            "text/html": [
              "<div>\n",
              "<style>\n",
              "    .dataframe thead tr:only-child th {\n",
              "        text-align: right;\n",
              "    }\n",
              "\n",
              "    .dataframe thead th {\n",
              "        text-align: left;\n",
              "    }\n",
              "\n",
              "    .dataframe tbody tr th {\n",
              "        vertical-align: top;\n",
              "    }\n",
              "</style>\n",
              "<table border=\"1\" class=\"dataframe\">\n",
              "  <thead>\n",
              "    <tr style=\"text-align: right;\">\n",
              "      <th></th>\n",
              "      <th>carat</th>\n",
              "      <th>cut</th>\n",
              "      <th>color</th>\n",
              "      <th>clarity</th>\n",
              "      <th>depth</th>\n",
              "      <th>table</th>\n",
              "      <th>price</th>\n",
              "      <th>x</th>\n",
              "      <th>y</th>\n",
              "      <th>z</th>\n",
              "    </tr>\n",
              "  </thead>\n",
              "  <tbody>\n",
              "    <tr>\n",
              "      <th>0</th>\n",
              "      <td>0.23</td>\n",
              "      <td>Ideal</td>\n",
              "      <td>E</td>\n",
              "      <td>SI2</td>\n",
              "      <td>61.5</td>\n",
              "      <td>55.0</td>\n",
              "      <td>326</td>\n",
              "      <td>3.95</td>\n",
              "      <td>3.98</td>\n",
              "      <td>2.43</td>\n",
              "    </tr>\n",
              "    <tr>\n",
              "      <th>1</th>\n",
              "      <td>0.21</td>\n",
              "      <td>Premium</td>\n",
              "      <td>E</td>\n",
              "      <td>SI1</td>\n",
              "      <td>59.8</td>\n",
              "      <td>61.0</td>\n",
              "      <td>326</td>\n",
              "      <td>3.89</td>\n",
              "      <td>3.84</td>\n",
              "      <td>2.31</td>\n",
              "    </tr>\n",
              "    <tr>\n",
              "      <th>2</th>\n",
              "      <td>0.23</td>\n",
              "      <td>Good</td>\n",
              "      <td>E</td>\n",
              "      <td>VS1</td>\n",
              "      <td>56.9</td>\n",
              "      <td>65.0</td>\n",
              "      <td>327</td>\n",
              "      <td>4.05</td>\n",
              "      <td>4.07</td>\n",
              "      <td>2.31</td>\n",
              "    </tr>\n",
              "    <tr>\n",
              "      <th>3</th>\n",
              "      <td>0.29</td>\n",
              "      <td>Premium</td>\n",
              "      <td>I</td>\n",
              "      <td>VS2</td>\n",
              "      <td>62.4</td>\n",
              "      <td>58.0</td>\n",
              "      <td>334</td>\n",
              "      <td>4.20</td>\n",
              "      <td>4.23</td>\n",
              "      <td>2.63</td>\n",
              "    </tr>\n",
              "    <tr>\n",
              "      <th>4</th>\n",
              "      <td>0.31</td>\n",
              "      <td>Good</td>\n",
              "      <td>J</td>\n",
              "      <td>SI2</td>\n",
              "      <td>63.3</td>\n",
              "      <td>58.0</td>\n",
              "      <td>335</td>\n",
              "      <td>4.34</td>\n",
              "      <td>4.35</td>\n",
              "      <td>2.75</td>\n",
              "    </tr>\n",
              "  </tbody>\n",
              "</table>\n",
              "</div>"
            ],
            "text/plain": [
              "   carat      cut color clarity  depth  table  price     x     y     z\n",
              "0   0.23    Ideal     E     SI2   61.5   55.0    326  3.95  3.98  2.43\n",
              "1   0.21  Premium     E     SI1   59.8   61.0    326  3.89  3.84  2.31\n",
              "2   0.23     Good     E     VS1   56.9   65.0    327  4.05  4.07  2.31\n",
              "3   0.29  Premium     I     VS2   62.4   58.0    334  4.20  4.23  2.63\n",
              "4   0.31     Good     J     SI2   63.3   58.0    335  4.34  4.35  2.75"
            ]
          },
          "metadata": {
            "tags": []
          },
          "execution_count": 62
        }
      ]
    },
    {
      "cell_type": "code",
      "metadata": {
        "id": "p0WSBiioPAMN",
        "colab_type": "code",
        "colab": {}
      },
      "source": [
        "# Is there any association between diamond cut and diamond clarity?\n",
        "\n",
        "# Is there any relationship between diamond color and cut?"
      ],
      "execution_count": 0,
      "outputs": []
    },
    {
      "cell_type": "code",
      "metadata": {
        "id": "CqeYTomAPAMR",
        "colab_type": "code",
        "colab": {}
      },
      "source": [
        "# chi-square test of independence, it tests two categorical columns"
      ],
      "execution_count": 0,
      "outputs": []
    },
    {
      "cell_type": "code",
      "metadata": {
        "id": "z34xJR9SPAMT",
        "colab_type": "code",
        "colab": {},
        "outputId": "efc56aef-0b4c-4b63-fe81-d9f228f8ed12"
      },
      "source": [
        "# Is there any association between diamond cut and diamond clarity?\n",
        "pd.crosstab(df.cut,df.clarity)"
      ],
      "execution_count": 0,
      "outputs": [
        {
          "output_type": "execute_result",
          "data": {
            "text/html": [
              "<div>\n",
              "<style>\n",
              "    .dataframe thead tr:only-child th {\n",
              "        text-align: right;\n",
              "    }\n",
              "\n",
              "    .dataframe thead th {\n",
              "        text-align: left;\n",
              "    }\n",
              "\n",
              "    .dataframe tbody tr th {\n",
              "        vertical-align: top;\n",
              "    }\n",
              "</style>\n",
              "<table border=\"1\" class=\"dataframe\">\n",
              "  <thead>\n",
              "    <tr style=\"text-align: right;\">\n",
              "      <th>clarity</th>\n",
              "      <th>I1</th>\n",
              "      <th>IF</th>\n",
              "      <th>SI1</th>\n",
              "      <th>SI2</th>\n",
              "      <th>VS1</th>\n",
              "      <th>VS2</th>\n",
              "      <th>VVS1</th>\n",
              "      <th>VVS2</th>\n",
              "    </tr>\n",
              "    <tr>\n",
              "      <th>cut</th>\n",
              "      <th></th>\n",
              "      <th></th>\n",
              "      <th></th>\n",
              "      <th></th>\n",
              "      <th></th>\n",
              "      <th></th>\n",
              "      <th></th>\n",
              "      <th></th>\n",
              "    </tr>\n",
              "  </thead>\n",
              "  <tbody>\n",
              "    <tr>\n",
              "      <th>Fair</th>\n",
              "      <td>210</td>\n",
              "      <td>9</td>\n",
              "      <td>408</td>\n",
              "      <td>466</td>\n",
              "      <td>170</td>\n",
              "      <td>261</td>\n",
              "      <td>17</td>\n",
              "      <td>69</td>\n",
              "    </tr>\n",
              "    <tr>\n",
              "      <th>Good</th>\n",
              "      <td>96</td>\n",
              "      <td>71</td>\n",
              "      <td>1560</td>\n",
              "      <td>1081</td>\n",
              "      <td>648</td>\n",
              "      <td>978</td>\n",
              "      <td>186</td>\n",
              "      <td>286</td>\n",
              "    </tr>\n",
              "    <tr>\n",
              "      <th>Ideal</th>\n",
              "      <td>146</td>\n",
              "      <td>1212</td>\n",
              "      <td>4282</td>\n",
              "      <td>2598</td>\n",
              "      <td>3589</td>\n",
              "      <td>5071</td>\n",
              "      <td>2047</td>\n",
              "      <td>2606</td>\n",
              "    </tr>\n",
              "    <tr>\n",
              "      <th>Premium</th>\n",
              "      <td>205</td>\n",
              "      <td>230</td>\n",
              "      <td>3575</td>\n",
              "      <td>2949</td>\n",
              "      <td>1989</td>\n",
              "      <td>3357</td>\n",
              "      <td>616</td>\n",
              "      <td>870</td>\n",
              "    </tr>\n",
              "    <tr>\n",
              "      <th>Very Good</th>\n",
              "      <td>84</td>\n",
              "      <td>268</td>\n",
              "      <td>3240</td>\n",
              "      <td>2100</td>\n",
              "      <td>1775</td>\n",
              "      <td>2591</td>\n",
              "      <td>789</td>\n",
              "      <td>1235</td>\n",
              "    </tr>\n",
              "  </tbody>\n",
              "</table>\n",
              "</div>"
            ],
            "text/plain": [
              "clarity     I1    IF   SI1   SI2   VS1   VS2  VVS1  VVS2\n",
              "cut                                                     \n",
              "Fair       210     9   408   466   170   261    17    69\n",
              "Good        96    71  1560  1081   648   978   186   286\n",
              "Ideal      146  1212  4282  2598  3589  5071  2047  2606\n",
              "Premium    205   230  3575  2949  1989  3357   616   870\n",
              "Very Good   84   268  3240  2100  1775  2591   789  1235"
            ]
          },
          "metadata": {
            "tags": []
          },
          "execution_count": 65
        }
      ]
    },
    {
      "cell_type": "code",
      "metadata": {
        "id": "h4S2bLnqPAMU",
        "colab_type": "code",
        "colab": {},
        "outputId": "56c2a2f4-c98d-4c74-cceb-776cb1964bdf"
      },
      "source": [
        "cut_table = df.cut.value_counts()\n",
        "cut_table"
      ],
      "execution_count": 0,
      "outputs": [
        {
          "output_type": "execute_result",
          "data": {
            "text/plain": [
              "Ideal        21551\n",
              "Premium      13791\n",
              "Very Good    12082\n",
              "Good          4906\n",
              "Fair          1610\n",
              "Name: cut, dtype: int64"
            ]
          },
          "metadata": {
            "tags": []
          },
          "execution_count": 66
        }
      ]
    },
    {
      "cell_type": "code",
      "metadata": {
        "id": "XXpDieHrPAMW",
        "colab_type": "code",
        "colab": {},
        "outputId": "8a0c23c0-21f3-4ddd-c5b9-75a9a6b5c0d4"
      },
      "source": [
        "clarity_table = df.clarity.value_counts()\n",
        "clarity_table"
      ],
      "execution_count": 0,
      "outputs": [
        {
          "output_type": "execute_result",
          "data": {
            "text/plain": [
              "SI1     13065\n",
              "VS2     12258\n",
              "SI2      9194\n",
              "VS1      8171\n",
              "VVS2     5066\n",
              "VVS1     3655\n",
              "IF       1790\n",
              "I1        741\n",
              "Name: clarity, dtype: int64"
            ]
          },
          "metadata": {
            "tags": []
          },
          "execution_count": 67
        }
      ]
    },
    {
      "cell_type": "code",
      "metadata": {
        "id": "QzhFmu9gPAMa",
        "colab_type": "code",
        "colab": {},
        "outputId": "3daf15af-9220-457e-a8f2-5215739f8c4f"
      },
      "source": [
        "ct = pd.crosstab(df.cut,df.clarity,margins=False)\n",
        "ct"
      ],
      "execution_count": 0,
      "outputs": [
        {
          "output_type": "execute_result",
          "data": {
            "text/html": [
              "<div>\n",
              "<style>\n",
              "    .dataframe thead tr:only-child th {\n",
              "        text-align: right;\n",
              "    }\n",
              "\n",
              "    .dataframe thead th {\n",
              "        text-align: left;\n",
              "    }\n",
              "\n",
              "    .dataframe tbody tr th {\n",
              "        vertical-align: top;\n",
              "    }\n",
              "</style>\n",
              "<table border=\"1\" class=\"dataframe\">\n",
              "  <thead>\n",
              "    <tr style=\"text-align: right;\">\n",
              "      <th>clarity</th>\n",
              "      <th>I1</th>\n",
              "      <th>IF</th>\n",
              "      <th>SI1</th>\n",
              "      <th>SI2</th>\n",
              "      <th>VS1</th>\n",
              "      <th>VS2</th>\n",
              "      <th>VVS1</th>\n",
              "      <th>VVS2</th>\n",
              "    </tr>\n",
              "    <tr>\n",
              "      <th>cut</th>\n",
              "      <th></th>\n",
              "      <th></th>\n",
              "      <th></th>\n",
              "      <th></th>\n",
              "      <th></th>\n",
              "      <th></th>\n",
              "      <th></th>\n",
              "      <th></th>\n",
              "    </tr>\n",
              "  </thead>\n",
              "  <tbody>\n",
              "    <tr>\n",
              "      <th>Fair</th>\n",
              "      <td>210</td>\n",
              "      <td>9</td>\n",
              "      <td>408</td>\n",
              "      <td>466</td>\n",
              "      <td>170</td>\n",
              "      <td>261</td>\n",
              "      <td>17</td>\n",
              "      <td>69</td>\n",
              "    </tr>\n",
              "    <tr>\n",
              "      <th>Good</th>\n",
              "      <td>96</td>\n",
              "      <td>71</td>\n",
              "      <td>1560</td>\n",
              "      <td>1081</td>\n",
              "      <td>648</td>\n",
              "      <td>978</td>\n",
              "      <td>186</td>\n",
              "      <td>286</td>\n",
              "    </tr>\n",
              "    <tr>\n",
              "      <th>Ideal</th>\n",
              "      <td>146</td>\n",
              "      <td>1212</td>\n",
              "      <td>4282</td>\n",
              "      <td>2598</td>\n",
              "      <td>3589</td>\n",
              "      <td>5071</td>\n",
              "      <td>2047</td>\n",
              "      <td>2606</td>\n",
              "    </tr>\n",
              "    <tr>\n",
              "      <th>Premium</th>\n",
              "      <td>205</td>\n",
              "      <td>230</td>\n",
              "      <td>3575</td>\n",
              "      <td>2949</td>\n",
              "      <td>1989</td>\n",
              "      <td>3357</td>\n",
              "      <td>616</td>\n",
              "      <td>870</td>\n",
              "    </tr>\n",
              "    <tr>\n",
              "      <th>Very Good</th>\n",
              "      <td>84</td>\n",
              "      <td>268</td>\n",
              "      <td>3240</td>\n",
              "      <td>2100</td>\n",
              "      <td>1775</td>\n",
              "      <td>2591</td>\n",
              "      <td>789</td>\n",
              "      <td>1235</td>\n",
              "    </tr>\n",
              "  </tbody>\n",
              "</table>\n",
              "</div>"
            ],
            "text/plain": [
              "clarity     I1    IF   SI1   SI2   VS1   VS2  VVS1  VVS2\n",
              "cut                                                     \n",
              "Fair       210     9   408   466   170   261    17    69\n",
              "Good        96    71  1560  1081   648   978   186   286\n",
              "Ideal      146  1212  4282  2598  3589  5071  2047  2606\n",
              "Premium    205   230  3575  2949  1989  3357   616   870\n",
              "Very Good   84   268  3240  2100  1775  2591   789  1235"
            ]
          },
          "metadata": {
            "tags": []
          },
          "execution_count": 68
        }
      ]
    },
    {
      "cell_type": "code",
      "metadata": {
        "id": "K-B1dWqEPAMb",
        "colab_type": "code",
        "colab": {},
        "outputId": "88e54264-4504-4c5a-864e-68169e2af6bf"
      },
      "source": [
        "stats.chi2_contingency(ct)"
      ],
      "execution_count": 0,
      "outputs": [
        {
          "output_type": "execute_result",
          "data": {
            "text/plain": [
              "(4391.3980672003636,\n",
              " 0.0,\n",
              " 28,\n",
              " array([[   22.11735261,    53.42788283,   389.96384872,   274.4223211 ,\n",
              "           243.88783834,   365.87652948,   109.09436411,   151.20986281],\n",
              "        [   67.39610679,   162.80571005,  1188.29977753,   836.22106044,\n",
              "           743.17623285,  1114.90077864,   332.43288839,   460.76744531],\n",
              "        [  296.05656285,   715.17037449,  5219.94466073,  3673.33878383,\n",
              "          3264.61292176,  4897.51868743,  1460.30598813,  2024.05202076],\n",
              "        [  189.45367075,   457.65461624,  3340.36735261,  2350.65728587,\n",
              "          2089.1038376 ,  3134.03926585,   934.48470523,  1295.23926585],\n",
              "        [  165.97630701,   400.94141639,  2926.4243604 ,  2059.36054876,\n",
              "          1830.21916945,  2745.6647386 ,   818.68205413,  1134.73140527]]))"
            ]
          },
          "metadata": {
            "tags": []
          },
          "execution_count": 69
        }
      ]
    },
    {
      "cell_type": "markdown",
      "metadata": {
        "id": "RJeFmtfUPAMd",
        "colab_type": "text"
      },
      "source": [
        "# Analysis of variance (ANOVA)"
      ]
    },
    {
      "cell_type": "code",
      "metadata": {
        "id": "5w3vxAYpPAMe",
        "colab_type": "code",
        "colab": {}
      },
      "source": [
        "# if we want to compare the means of more than 2 groups, independent, "
      ],
      "execution_count": 0,
      "outputs": []
    },
    {
      "cell_type": "code",
      "metadata": {
        "id": "qJP14f-5PAMf",
        "colab_type": "code",
        "colab": {}
      },
      "source": [
        "# which specific cut category is sold with highest average price"
      ],
      "execution_count": 0,
      "outputs": []
    },
    {
      "cell_type": "code",
      "metadata": {
        "id": "n0T4UJjhPAMg",
        "colab_type": "code",
        "colab": {},
        "outputId": "56de2269-63f5-45bb-d852-e04502f2b27e"
      },
      "source": [
        "stats.f_oneway(df[df.cut=='Premium']['price'],\n",
        "               df[df.cut=='Fair']['price'],\n",
        "              df[df.cut=='Good']['price'],\n",
        "              df[df.cut=='Ideal']['price'],\n",
        "              df[df.cut=='Very Good']['price'])"
      ],
      "execution_count": 0,
      "outputs": [
        {
          "output_type": "execute_result",
          "data": {
            "text/plain": [
              "F_onewayResult(statistic=175.68871735080606, pvalue=8.4283073075945195e-150)"
            ]
          },
          "metadata": {
            "tags": []
          },
          "execution_count": 72
        }
      ]
    },
    {
      "cell_type": "code",
      "metadata": {
        "id": "ME9U5MWWPAMi",
        "colab_type": "code",
        "colab": {},
        "outputId": "f7cf48a1-127a-49b4-8d58-adc59dfe77a0"
      },
      "source": [
        "np.round(stats.f_oneway(df[df.cut=='Premium']['price'],\n",
        "               df[df.cut=='Fair']['price'],\n",
        "              df[df.cut=='Good']['price'],\n",
        "              df[df.cut=='Ideal']['price'],\n",
        "              df[df.cut=='Very Good']['price']),2)"
      ],
      "execution_count": 0,
      "outputs": [
        {
          "output_type": "execute_result",
          "data": {
            "text/plain": [
              "array([ 175.69,    0.  ])"
            ]
          },
          "metadata": {
            "tags": []
          },
          "execution_count": 73
        }
      ]
    },
    {
      "cell_type": "code",
      "metadata": {
        "id": "rlS4oWdRPAMj",
        "colab_type": "code",
        "colab": {}
      },
      "source": [
        "# Null: average of all categories are same\n",
        "# Alt: average of all the groups by cut is different"
      ],
      "execution_count": 0,
      "outputs": []
    },
    {
      "cell_type": "code",
      "metadata": {
        "id": "Ni6zg0QGPAMm",
        "colab_type": "code",
        "colab": {}
      },
      "source": [
        "#conclusion: since the p-value is less than 0.05, you will reject the null hypothessis"
      ],
      "execution_count": 0,
      "outputs": []
    },
    {
      "cell_type": "code",
      "metadata": {
        "id": "ixh1H8jlPAMn",
        "colab_type": "code",
        "colab": {}
      },
      "source": [
        "# Tukey's HSD - Honest Significance Difference Testing"
      ],
      "execution_count": 0,
      "outputs": []
    },
    {
      "cell_type": "code",
      "metadata": {
        "id": "Nw00NB0yPAMp",
        "colab_type": "code",
        "colab": {}
      },
      "source": [
        "results = stats.f_oneway(df[df.cut=='Premium']['price'],\n",
        "               df[df.cut=='Fair']['price'],\n",
        "              df[df.cut=='Good']['price'],\n",
        "              df[df.cut=='Ideal']['price'],\n",
        "              df[df.cut=='Very Good']['price'])"
      ],
      "execution_count": 0,
      "outputs": []
    },
    {
      "cell_type": "code",
      "metadata": {
        "id": "-NKQsZw9PAMr",
        "colab_type": "code",
        "colab": {}
      },
      "source": [
        "from statsmodels.stats.multicomp import pairwise_tukeyhsd"
      ],
      "execution_count": 0,
      "outputs": []
    },
    {
      "cell_type": "code",
      "metadata": {
        "id": "AI6FSSiZPAMs",
        "colab_type": "code",
        "colab": {}
      },
      "source": [
        "output = pairwise_tukeyhsd(df.price,df.cut)"
      ],
      "execution_count": 0,
      "outputs": []
    },
    {
      "cell_type": "code",
      "metadata": {
        "id": "kJz_yxMOPAMv",
        "colab_type": "code",
        "colab": {},
        "outputId": "9c8ed62c-05c7-40ba-d3bd-277ce7a31f39"
      },
      "source": [
        "output.meandiffs"
      ],
      "execution_count": 0,
      "outputs": [
        {
          "output_type": "execute_result",
          "data": {
            "text/plain": [
              "array([ -429.89331228,  -901.21579376,   225.49994032,  -376.99787323,\n",
              "        -471.32248148,   655.39325261,    52.89543905,  1126.71573409,\n",
              "         524.21792054,  -602.49781355])"
            ]
          },
          "metadata": {
            "tags": []
          },
          "execution_count": 82
        }
      ]
    },
    {
      "cell_type": "code",
      "metadata": {
        "id": "Q8jEw-uuPAMx",
        "colab_type": "code",
        "colab": {},
        "outputId": "3ef659af-0b5e-4505-e1d0-b6e86213946b"
      },
      "source": [
        "output.plot_simultaneous()[0]"
      ],
      "execution_count": 0,
      "outputs": [
        {
          "output_type": "error",
          "ename": "TypeError",
          "evalue": "'Figure' object does not support indexing",
          "traceback": [
            "\u001b[0;31m---------------------------------------------------------------------------\u001b[0m",
            "\u001b[0;31mTypeError\u001b[0m                                 Traceback (most recent call last)",
            "\u001b[0;32m<ipython-input-85-fa2e3b816fc8>\u001b[0m in \u001b[0;36m<module>\u001b[0;34m()\u001b[0m\n\u001b[0;32m----> 1\u001b[0;31m \u001b[0moutput\u001b[0m\u001b[0;34m.\u001b[0m\u001b[0mplot_simultaneous\u001b[0m\u001b[0;34m(\u001b[0m\u001b[0;34m)\u001b[0m\u001b[0;34m[\u001b[0m\u001b[0;36m0\u001b[0m\u001b[0;34m]\u001b[0m\u001b[0;34m\u001b[0m\u001b[0m\n\u001b[0m",
            "\u001b[0;31mTypeError\u001b[0m: 'Figure' object does not support indexing"
          ]
        },
        {
          "output_type": "display_data",
          "data": {
            "image/png": "[encoded data removed]",
            "text/plain": [
              "<matplotlib.figure.Figure at 0x1a1a8f5978>"
            ]
          },
          "metadata": {
            "tags": []
          }
        }
      ]
    },
    {
      "cell_type": "code",
      "metadata": {
        "id": "aEkaQRG1PAMz",
        "colab_type": "code",
        "colab": {},
        "outputId": "3cbd2adc-6911-4308-9e68-b7b26a0c8581"
      },
      "source": [
        "output.summary()"
      ],
      "execution_count": 0,
      "outputs": [
        {
          "output_type": "execute_result",
          "data": {
            "text/html": [
              "<table class=\"simpletable\">\n",
              "<caption>Multiple Comparison of Means - Tukey HSD,FWER=0.05</caption>\n",
              "<tr>\n",
              "  <th>group1</th>   <th>group2</th>   <th>meandiff</th>     <th>lower</th>     <th>upper</th>   <th>reject</th>\n",
              "</tr>\n",
              "<tr>\n",
              "   <td>Fair</td>     <td>Good</td>    <td>-429.8933</td>  <td>-740.4567</td> <td>-119.3299</td>  <td>True</td> \n",
              "</tr>\n",
              "<tr>\n",
              "   <td>Fair</td>     <td>Ideal</td>   <td>-901.2158</td> <td>-1180.5785</td> <td>-621.8531</td>  <td>True</td> \n",
              "</tr>\n",
              "<tr>\n",
              "   <td>Fair</td>    <td>Premium</td>  <td>225.4999</td>   <td>-59.2739</td>  <td>510.2738</td>   <td>False</td>\n",
              "</tr>\n",
              "<tr>\n",
              "   <td>Fair</td>   <td>Very Good</td> <td>-376.9979</td>  <td>-663.8694</td> <td>-90.1263</td>   <td>True</td> \n",
              "</tr>\n",
              "<tr>\n",
              "   <td>Good</td>     <td>Ideal</td>   <td>-471.3225</td>  <td>-642.367</td>  <td>-300.2779</td>  <td>True</td> \n",
              "</tr>\n",
              "<tr>\n",
              "   <td>Good</td>    <td>Premium</td>  <td>655.3933</td>   <td>475.6466</td>  <td>835.1399</td>   <td>True</td> \n",
              "</tr>\n",
              "<tr>\n",
              "   <td>Good</td>   <td>Very Good</td>  <td>52.8954</td>   <td>-130.1565</td> <td>235.9474</td>   <td>False</td>\n",
              "</tr>\n",
              "<tr>\n",
              "   <td>Ideal</td>   <td>Premium</td>  <td>1126.7157</td>  <td>1008.8058</td> <td>1244.6257</td>  <td>True</td> \n",
              "</tr>\n",
              "<tr>\n",
              "   <td>Ideal</td>  <td>Very Good</td> <td>524.2179</td>   <td>401.3281</td>  <td>647.1078</td>   <td>True</td> \n",
              "</tr>\n",
              "<tr>\n",
              "  <td>Premium</td> <td>Very Good</td> <td>-602.4978</td>  <td>-737.2366</td> <td>-467.7591</td>  <td>True</td> \n",
              "</tr>\n",
              "</table>"
            ],
            "text/plain": [
              "<class 'statsmodels.iolib.table.SimpleTable'>"
            ]
          },
          "metadata": {
            "tags": []
          },
          "execution_count": 84
        }
      ]
    },
    {
      "cell_type": "code",
      "metadata": {
        "id": "PrbD5b4JPAM1",
        "colab_type": "code",
        "colab": {}
      },
      "source": [
        ""
      ],
      "execution_count": 0,
      "outputs": []
    }
  ]
}