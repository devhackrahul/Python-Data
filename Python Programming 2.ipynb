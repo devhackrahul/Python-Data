{
  "nbformat": 4,
  "nbformat_minor": 0,
  "metadata": {
    "kernelspec": {
      "display_name": "Python 3",
      "language": "python",
      "name": "python3"
    },
    "language_info": {
      "codemirror_mode": {
        "name": "ipython",
        "version": 3
      },
      "file_extension": ".py",
      "mimetype": "text/x-python",
      "name": "python",
      "nbconvert_exporter": "python",
      "pygments_lexer": "ipython3",
      "version": "3.6.4"
    },
    "colab": {
      "name": "Python Trainings 21st August 2018.ipynb",
      "provenance": []
    }
  },
  "cells": [
    {
      "cell_type": "code",
      "metadata": {
        "id": "CbtdwyM9Oalu",
        "colab_type": "code",
        "colab": {},
        "outputId": "4b4af0bc-2943-4e57-bb49-b25c533d1efb"
      },
      "source": [
        "!pip install numpy"
      ],
      "execution_count": 0,
      "outputs": [
        {
          "output_type": "stream",
          "text": [
            "Requirement already satisfied: numpy in /Applications/anaconda3/lib/python3.6/site-packages\n",
            "\u001b[33mYou are using pip version 9.0.1, however version 18.0 is available.\n",
            "You should consider upgrading via the 'pip install --upgrade pip' command.\u001b[0m\n"
          ],
          "name": "stdout"
        }
      ]
    },
    {
      "cell_type": "code",
      "metadata": {
        "id": "ileDAX0ZOal2",
        "colab_type": "code",
        "colab": {}
      },
      "source": [
        "import numpy as np"
      ],
      "execution_count": 0,
      "outputs": []
    },
    {
      "cell_type": "code",
      "metadata": {
        "id": "FPLP_DS8Oal6",
        "colab_type": "code",
        "colab": {}
      },
      "source": [
        "data1 = list(range(1,100))"
      ],
      "execution_count": 0,
      "outputs": []
    },
    {
      "cell_type": "code",
      "metadata": {
        "id": "Bh4xi4JoOal-",
        "colab_type": "code",
        "colab": {},
        "outputId": "27c9d89f-9dce-412b-e8a9-f31953dd55f6"
      },
      "source": [
        "type(data1)"
      ],
      "execution_count": 0,
      "outputs": [
        {
          "output_type": "execute_result",
          "data": {
            "text/plain": [
              "list"
            ]
          },
          "metadata": {
            "tags": []
          },
          "execution_count": 10
        }
      ]
    },
    {
      "cell_type": "code",
      "metadata": {
        "id": "jIu6AUqsOamC",
        "colab_type": "code",
        "colab": {}
      },
      "source": [
        "arr1 = np.array(data1)"
      ],
      "execution_count": 0,
      "outputs": []
    },
    {
      "cell_type": "code",
      "metadata": {
        "id": "A0iZcmtNOamG",
        "colab_type": "code",
        "colab": {},
        "outputId": "fb403251-bcf4-4fd8-971a-1f84ae908905"
      },
      "source": [
        "type(arr1)"
      ],
      "execution_count": 0,
      "outputs": [
        {
          "output_type": "execute_result",
          "data": {
            "text/plain": [
              "numpy.ndarray"
            ]
          },
          "metadata": {
            "tags": []
          },
          "execution_count": 12
        }
      ]
    },
    {
      "cell_type": "code",
      "metadata": {
        "id": "LfqsAZkMOamN",
        "colab_type": "code",
        "colab": {},
        "outputId": "4ee6fa31-6677-4ec1-bd61-b76aac07f052"
      },
      "source": [
        "arr1"
      ],
      "execution_count": 0,
      "outputs": [
        {
          "output_type": "execute_result",
          "data": {
            "text/plain": [
              "array([ 1,  2,  3,  4,  5,  6,  7,  8,  9, 10, 11, 12, 13, 14, 15, 16, 17,\n",
              "       18, 19, 20, 21, 22, 23, 24, 25, 26, 27, 28, 29, 30, 31, 32, 33, 34,\n",
              "       35, 36, 37, 38, 39, 40, 41, 42, 43, 44, 45, 46, 47, 48, 49, 50, 51,\n",
              "       52, 53, 54, 55, 56, 57, 58, 59, 60, 61, 62, 63, 64, 65, 66, 67, 68,\n",
              "       69, 70, 71, 72, 73, 74, 75, 76, 77, 78, 79, 80, 81, 82, 83, 84, 85,\n",
              "       86, 87, 88, 89, 90, 91, 92, 93, 94, 95, 96, 97, 98, 99])"
            ]
          },
          "metadata": {
            "tags": []
          },
          "execution_count": 13
        }
      ]
    },
    {
      "cell_type": "code",
      "metadata": {
        "id": "SKwiB_W1OamS",
        "colab_type": "code",
        "colab": {},
        "outputId": "a6d2e5d6-9eb8-454e-85e4-5b31d5efe677"
      },
      "source": [
        "arr1.tolist()"
      ],
      "execution_count": 0,
      "outputs": [
        {
          "output_type": "execute_result",
          "data": {
            "text/plain": [
              "[1,\n",
              " 2,\n",
              " 3,\n",
              " 4,\n",
              " 5,\n",
              " 6,\n",
              " 7,\n",
              " 8,\n",
              " 9,\n",
              " 10,\n",
              " 11,\n",
              " 12,\n",
              " 13,\n",
              " 14,\n",
              " 15,\n",
              " 16,\n",
              " 17,\n",
              " 18,\n",
              " 19,\n",
              " 20,\n",
              " 21,\n",
              " 22,\n",
              " 23,\n",
              " 24,\n",
              " 25,\n",
              " 26,\n",
              " 27,\n",
              " 28,\n",
              " 29,\n",
              " 30,\n",
              " 31,\n",
              " 32,\n",
              " 33,\n",
              " 34,\n",
              " 35,\n",
              " 36,\n",
              " 37,\n",
              " 38,\n",
              " 39,\n",
              " 40,\n",
              " 41,\n",
              " 42,\n",
              " 43,\n",
              " 44,\n",
              " 45,\n",
              " 46,\n",
              " 47,\n",
              " 48,\n",
              " 49,\n",
              " 50,\n",
              " 51,\n",
              " 52,\n",
              " 53,\n",
              " 54,\n",
              " 55,\n",
              " 56,\n",
              " 57,\n",
              " 58,\n",
              " 59,\n",
              " 60,\n",
              " 61,\n",
              " 62,\n",
              " 63,\n",
              " 64,\n",
              " 65,\n",
              " 66,\n",
              " 67,\n",
              " 68,\n",
              " 69,\n",
              " 70,\n",
              " 71,\n",
              " 72,\n",
              " 73,\n",
              " 74,\n",
              " 75,\n",
              " 76,\n",
              " 77,\n",
              " 78,\n",
              " 79,\n",
              " 80,\n",
              " 81,\n",
              " 82,\n",
              " 83,\n",
              " 84,\n",
              " 85,\n",
              " 86,\n",
              " 87,\n",
              " 88,\n",
              " 89,\n",
              " 90,\n",
              " 91,\n",
              " 92,\n",
              " 93,\n",
              " 94,\n",
              " 95,\n",
              " 96,\n",
              " 97,\n",
              " 98,\n",
              " 99]"
            ]
          },
          "metadata": {
            "tags": []
          },
          "execution_count": 16
        }
      ]
    },
    {
      "cell_type": "code",
      "metadata": {
        "id": "4smKgY1cOamW",
        "colab_type": "code",
        "colab": {}
      },
      "source": [
        "# properties of the array"
      ],
      "execution_count": 0,
      "outputs": []
    },
    {
      "cell_type": "code",
      "metadata": {
        "id": "f7DirC37OamZ",
        "colab_type": "code",
        "colab": {},
        "outputId": "4fa9f80e-74af-4351-c14e-9f9add085df2"
      },
      "source": [
        "arr1.dtype"
      ],
      "execution_count": 0,
      "outputs": [
        {
          "output_type": "execute_result",
          "data": {
            "text/plain": [
              "dtype('int64')"
            ]
          },
          "metadata": {
            "tags": []
          },
          "execution_count": 18
        }
      ]
    },
    {
      "cell_type": "code",
      "metadata": {
        "id": "PyxGUHbLOamd",
        "colab_type": "code",
        "colab": {},
        "outputId": "31177648-4264-49dc-fce4-e890f4cd2a17"
      },
      "source": [
        "arr1.ndim"
      ],
      "execution_count": 0,
      "outputs": [
        {
          "output_type": "execute_result",
          "data": {
            "text/plain": [
              "1"
            ]
          },
          "metadata": {
            "tags": []
          },
          "execution_count": 19
        }
      ]
    },
    {
      "cell_type": "code",
      "metadata": {
        "id": "9xApdFg6Oamh",
        "colab_type": "code",
        "colab": {},
        "outputId": "16c70f19-fc39-4df4-dd81-3dd6258f3b65"
      },
      "source": [
        "arr1.shape"
      ],
      "execution_count": 0,
      "outputs": [
        {
          "output_type": "execute_result",
          "data": {
            "text/plain": [
              "(99,)"
            ]
          },
          "metadata": {
            "tags": []
          },
          "execution_count": 20
        }
      ]
    },
    {
      "cell_type": "code",
      "metadata": {
        "id": "MYPYKZDAOamk",
        "colab_type": "code",
        "colab": {},
        "outputId": "3ab99311-9372-4bee-ce1e-d9f8c7282712"
      },
      "source": [
        "arr1.size"
      ],
      "execution_count": 0,
      "outputs": [
        {
          "output_type": "execute_result",
          "data": {
            "text/plain": [
              "99"
            ]
          },
          "metadata": {
            "tags": []
          },
          "execution_count": 21
        }
      ]
    },
    {
      "cell_type": "code",
      "metadata": {
        "id": "GWEc8UTYOamo",
        "colab_type": "code",
        "colab": {},
        "outputId": "1d95bd1d-359a-4e89-b9e9-c8aacce74e52"
      },
      "source": [
        "len(arr1)"
      ],
      "execution_count": 0,
      "outputs": [
        {
          "output_type": "execute_result",
          "data": {
            "text/plain": [
              "99"
            ]
          },
          "metadata": {
            "tags": []
          },
          "execution_count": 22
        }
      ]
    },
    {
      "cell_type": "code",
      "metadata": {
        "id": "eoN7oJntOamr",
        "colab_type": "code",
        "colab": {}
      },
      "source": [
        "# special arrays"
      ],
      "execution_count": 0,
      "outputs": []
    },
    {
      "cell_type": "code",
      "metadata": {
        "id": "lS6DvAhUOamv",
        "colab_type": "code",
        "colab": {},
        "outputId": "dbad201c-bfc9-48c4-86f6-987ecee9e595"
      },
      "source": [
        "np.zeros(2)"
      ],
      "execution_count": 0,
      "outputs": [
        {
          "output_type": "execute_result",
          "data": {
            "text/plain": [
              "array([ 0.,  0.])"
            ]
          },
          "metadata": {
            "tags": []
          },
          "execution_count": 25
        }
      ]
    },
    {
      "cell_type": "code",
      "metadata": {
        "id": "gMpbJD9DOam0",
        "colab_type": "code",
        "colab": {},
        "outputId": "a32161ec-2ef9-40ae-ac4d-20acba48403f"
      },
      "source": [
        "np.zeros((3,6))"
      ],
      "execution_count": 0,
      "outputs": [
        {
          "output_type": "execute_result",
          "data": {
            "text/plain": [
              "array([[ 0.,  0.,  0.,  0.,  0.,  0.],\n",
              "       [ 0.,  0.,  0.,  0.,  0.,  0.],\n",
              "       [ 0.,  0.,  0.,  0.,  0.,  0.]])"
            ]
          },
          "metadata": {
            "tags": []
          },
          "execution_count": 26
        }
      ]
    },
    {
      "cell_type": "code",
      "metadata": {
        "id": "rCgucwhQOam3",
        "colab_type": "code",
        "colab": {},
        "outputId": "e103c3ec-1b27-4fc2-a6ea-0120632c990f"
      },
      "source": [
        "np.ones(2)"
      ],
      "execution_count": 0,
      "outputs": [
        {
          "output_type": "execute_result",
          "data": {
            "text/plain": [
              "array([ 1.,  1.])"
            ]
          },
          "metadata": {
            "tags": []
          },
          "execution_count": 27
        }
      ]
    },
    {
      "cell_type": "code",
      "metadata": {
        "id": "8_1KEcy9Oam7",
        "colab_type": "code",
        "colab": {},
        "outputId": "89933e89-912f-4bb8-a11c-d9a9f2e39704"
      },
      "source": [
        "np.ones((3,6))"
      ],
      "execution_count": 0,
      "outputs": [
        {
          "output_type": "execute_result",
          "data": {
            "text/plain": [
              "array([[ 1.,  1.,  1.,  1.,  1.,  1.],\n",
              "       [ 1.,  1.,  1.,  1.,  1.,  1.],\n",
              "       [ 1.,  1.,  1.,  1.,  1.,  1.]])"
            ]
          },
          "metadata": {
            "tags": []
          },
          "execution_count": 28
        }
      ]
    },
    {
      "cell_type": "code",
      "metadata": {
        "id": "Rct8E9XDOam-",
        "colab_type": "code",
        "colab": {},
        "outputId": "0637b4fb-b254-46ba-9e34-1dd8da467c7a"
      },
      "source": [
        "np.eye(5)"
      ],
      "execution_count": 0,
      "outputs": [
        {
          "output_type": "execute_result",
          "data": {
            "text/plain": [
              "array([[ 1.,  0.,  0.,  0.,  0.],\n",
              "       [ 0.,  1.,  0.,  0.,  0.],\n",
              "       [ 0.,  0.,  1.,  0.,  0.],\n",
              "       [ 0.,  0.,  0.,  1.,  0.],\n",
              "       [ 0.,  0.,  0.,  0.,  1.]])"
            ]
          },
          "metadata": {
            "tags": []
          },
          "execution_count": 30
        }
      ]
    },
    {
      "cell_type": "code",
      "metadata": {
        "id": "4oZT0r61OanC",
        "colab_type": "code",
        "colab": {}
      },
      "source": [
        "A = np.array([[12,23,34],[21,34,54],[45,65,67]])"
      ],
      "execution_count": 0,
      "outputs": []
    },
    {
      "cell_type": "code",
      "metadata": {
        "id": "lS52Em3MOanF",
        "colab_type": "code",
        "colab": {},
        "outputId": "ef715025-f795-4938-ff9b-a98171bc2220"
      },
      "source": [
        "A"
      ],
      "execution_count": 0,
      "outputs": [
        {
          "output_type": "execute_result",
          "data": {
            "text/plain": [
              "array([[12, 23, 34],\n",
              "       [21, 34, 54],\n",
              "       [45, 65, 67]])"
            ]
          },
          "metadata": {
            "tags": []
          },
          "execution_count": 33
        }
      ]
    },
    {
      "cell_type": "code",
      "metadata": {
        "id": "IAXeanj-OanJ",
        "colab_type": "code",
        "colab": {}
      },
      "source": [
        "B = np.array([12,32,np.zeros(1)])"
      ],
      "execution_count": 0,
      "outputs": []
    },
    {
      "cell_type": "code",
      "metadata": {
        "id": "jyLUf80-OanO",
        "colab_type": "code",
        "colab": {},
        "outputId": "59090cd4-1045-4488-80bd-6d7fa016bef0"
      },
      "source": [
        "B"
      ],
      "execution_count": 0,
      "outputs": [
        {
          "output_type": "execute_result",
          "data": {
            "text/plain": [
              "array([ 12.,  32.,   0.])"
            ]
          },
          "metadata": {
            "tags": []
          },
          "execution_count": 43
        }
      ]
    },
    {
      "cell_type": "code",
      "metadata": {
        "id": "DaFQKH2SOanS",
        "colab_type": "code",
        "colab": {},
        "outputId": "48f5f183-667c-4b99-af1e-928049cb3792"
      },
      "source": [
        "np.dot(A,B)"
      ],
      "execution_count": 0,
      "outputs": [
        {
          "output_type": "execute_result",
          "data": {
            "text/plain": [
              "array([  880.,  1340.,  2620.])"
            ]
          },
          "metadata": {
            "tags": []
          },
          "execution_count": 44
        }
      ]
    },
    {
      "cell_type": "code",
      "metadata": {
        "id": "9xdRvTjDOanW",
        "colab_type": "code",
        "colab": {},
        "outputId": "b2a93e4f-0f6c-42d5-ea09-9e76d4dd7cf3"
      },
      "source": [
        "(12*12)+(23*32)"
      ],
      "execution_count": 0,
      "outputs": [
        {
          "output_type": "execute_result",
          "data": {
            "text/plain": [
              "880"
            ]
          },
          "metadata": {
            "tags": []
          },
          "execution_count": 46
        }
      ]
    },
    {
      "cell_type": "code",
      "metadata": {
        "id": "PB0xZ_UzOana",
        "colab_type": "code",
        "colab": {},
        "outputId": "99c5edea-c068-4fa0-c4a9-423d9559e4ed"
      },
      "source": [
        "np.linspace(0.11,0.99,20)"
      ],
      "execution_count": 0,
      "outputs": [
        {
          "output_type": "execute_result",
          "data": {
            "text/plain": [
              "array([ 0.11      ,  0.15631579,  0.20263158,  0.24894737,  0.29526316,\n",
              "        0.34157895,  0.38789474,  0.43421053,  0.48052632,  0.52684211,\n",
              "        0.57315789,  0.61947368,  0.66578947,  0.71210526,  0.75842105,\n",
              "        0.80473684,  0.85105263,  0.89736842,  0.94368421,  0.99      ])"
            ]
          },
          "metadata": {
            "tags": []
          },
          "execution_count": 58
        }
      ]
    },
    {
      "cell_type": "code",
      "metadata": {
        "id": "KEBHtwe_Oand",
        "colab_type": "code",
        "colab": {},
        "outputId": "940b04d9-b12e-4c98-9b56-ba02bff478ec"
      },
      "source": [
        "np.linspace(0,1,20)"
      ],
      "execution_count": 0,
      "outputs": [
        {
          "output_type": "execute_result",
          "data": {
            "text/plain": [
              "array([ 0.        ,  0.05263158,  0.10526316,  0.15789474,  0.21052632,\n",
              "        0.26315789,  0.31578947,  0.36842105,  0.42105263,  0.47368421,\n",
              "        0.52631579,  0.57894737,  0.63157895,  0.68421053,  0.73684211,\n",
              "        0.78947368,  0.84210526,  0.89473684,  0.94736842,  1.        ])"
            ]
          },
          "metadata": {
            "tags": []
          },
          "execution_count": 59
        }
      ]
    },
    {
      "cell_type": "code",
      "metadata": {
        "id": "CQ22fgdIOann",
        "colab_type": "code",
        "colab": {},
        "outputId": "275772ce-a916-46dd-93b2-495daf7d6bbb"
      },
      "source": [
        "A"
      ],
      "execution_count": 0,
      "outputs": [
        {
          "output_type": "execute_result",
          "data": {
            "text/plain": [
              "array([[12, 23, 34],\n",
              "       [21, 34, 54],\n",
              "       [45, 65, 67]])"
            ]
          },
          "metadata": {
            "tags": []
          },
          "execution_count": 60
        }
      ]
    },
    {
      "cell_type": "code",
      "metadata": {
        "id": "p4O-p4LsOans",
        "colab_type": "code",
        "colab": {}
      },
      "source": [
        "A = np.array([[12, 23, 34],\n",
        "       [21, 34, 54],\n",
        "       [45, 65, 67],\n",
        "             [56,67,78],\n",
        "             [78,89,90]])"
      ],
      "execution_count": 0,
      "outputs": []
    },
    {
      "cell_type": "code",
      "metadata": {
        "id": "lPVQayQIOanw",
        "colab_type": "code",
        "colab": {},
        "outputId": "4d1bacca-72f0-48f7-c8bf-cb644d106f7b"
      },
      "source": [
        "A"
      ],
      "execution_count": 0,
      "outputs": [
        {
          "output_type": "execute_result",
          "data": {
            "text/plain": [
              "array([[12, 23, 34],\n",
              "       [21, 34, 54],\n",
              "       [45, 65, 67],\n",
              "       [56, 67, 78],\n",
              "       [78, 89, 90]])"
            ]
          },
          "metadata": {
            "tags": []
          },
          "execution_count": 62
        }
      ]
    },
    {
      "cell_type": "code",
      "metadata": {
        "id": "mqmJY76zOan1",
        "colab_type": "code",
        "colab": {},
        "outputId": "e0044bbe-b56c-4396-85a4-a8ca79f7ec5f"
      },
      "source": [
        "A.flatten()"
      ],
      "execution_count": 0,
      "outputs": [
        {
          "output_type": "execute_result",
          "data": {
            "text/plain": [
              "array([12, 23, 34, 21, 34, 54, 45, 65, 67, 56, 67, 78, 78, 89, 90])"
            ]
          },
          "metadata": {
            "tags": []
          },
          "execution_count": 66
        }
      ]
    },
    {
      "cell_type": "code",
      "metadata": {
        "id": "aM_iCNXLOan4",
        "colab_type": "code",
        "colab": {},
        "outputId": "7a9f19a3-f6bd-4b42-c69a-2f1b87fe97c7"
      },
      "source": [
        "A.shape"
      ],
      "execution_count": 0,
      "outputs": [
        {
          "output_type": "execute_result",
          "data": {
            "text/plain": [
              "(5, 3)"
            ]
          },
          "metadata": {
            "tags": []
          },
          "execution_count": 65
        }
      ]
    },
    {
      "cell_type": "code",
      "metadata": {
        "id": "IFFJLgmROan9",
        "colab_type": "code",
        "colab": {}
      },
      "source": [
        "c = np.array([[12, 23, 34, 21, 34, 54, 45, 65, 67, 56, 67, 78, 78, 89, 90]])"
      ],
      "execution_count": 0,
      "outputs": []
    },
    {
      "cell_type": "code",
      "metadata": {
        "id": "acjDzPYnOaoB",
        "colab_type": "code",
        "colab": {},
        "outputId": "6c6be625-1961-4c1f-ceb9-0e33bca7b22c"
      },
      "source": [
        "c"
      ],
      "execution_count": 0,
      "outputs": [
        {
          "output_type": "execute_result",
          "data": {
            "text/plain": [
              "array([[12, 23, 34, 21, 34, 54, 45, 65, 67, 56, 67, 78, 78, 89, 90]])"
            ]
          },
          "metadata": {
            "tags": []
          },
          "execution_count": 71
        }
      ]
    },
    {
      "cell_type": "code",
      "metadata": {
        "id": "G5Z9sW05OaoG",
        "colab_type": "code",
        "colab": {},
        "outputId": "f35f14db-ef85-419c-9518-c59130c3647d"
      },
      "source": [
        "c.ndim"
      ],
      "execution_count": 0,
      "outputs": [
        {
          "output_type": "execute_result",
          "data": {
            "text/plain": [
              "2"
            ]
          },
          "metadata": {
            "tags": []
          },
          "execution_count": 72
        }
      ]
    },
    {
      "cell_type": "code",
      "metadata": {
        "id": "kFY8WkVWOaoM",
        "colab_type": "code",
        "colab": {},
        "outputId": "be3ce5ba-4ce1-4d40-b17e-06f9e337f0ee"
      },
      "source": [
        "c.shape"
      ],
      "execution_count": 0,
      "outputs": [
        {
          "output_type": "execute_result",
          "data": {
            "text/plain": [
              "(1, 15)"
            ]
          },
          "metadata": {
            "tags": []
          },
          "execution_count": 73
        }
      ]
    },
    {
      "cell_type": "code",
      "metadata": {
        "id": "4CQ1iKL0OaoQ",
        "colab_type": "code",
        "colab": {},
        "outputId": "cc411e57-a07f-4977-8152-237f5f7986a2"
      },
      "source": [
        "c.flatten()"
      ],
      "execution_count": 0,
      "outputs": [
        {
          "output_type": "execute_result",
          "data": {
            "text/plain": [
              "array([12, 23, 34, 21, 34, 54, 45, 65, 67, 56, 67, 78, 78, 89, 90])"
            ]
          },
          "metadata": {
            "tags": []
          },
          "execution_count": 74
        }
      ]
    },
    {
      "cell_type": "code",
      "metadata": {
        "id": "UlZjx3igOaoU",
        "colab_type": "code",
        "colab": {}
      },
      "source": [
        "a =A"
      ],
      "execution_count": 0,
      "outputs": []
    },
    {
      "cell_type": "code",
      "metadata": {
        "id": "EmwNGIGxOaoW",
        "colab_type": "code",
        "colab": {},
        "outputId": "c39ddc72-2b43-4fa9-b751-202fb55ef7f7"
      },
      "source": [
        "a"
      ],
      "execution_count": 0,
      "outputs": [
        {
          "output_type": "execute_result",
          "data": {
            "text/plain": [
              "array([[12, 23, 34],\n",
              "       [21, 34, 54],\n",
              "       [45, 65, 67],\n",
              "       [56, 67, 78],\n",
              "       [78, 89, 90]])"
            ]
          },
          "metadata": {
            "tags": []
          },
          "execution_count": 77
        }
      ]
    },
    {
      "cell_type": "code",
      "metadata": {
        "id": "Gw-LE_xtOaob",
        "colab_type": "code",
        "colab": {},
        "outputId": "327bde0a-4a3c-4788-ae83-694a0b15e789"
      },
      "source": [
        "a[0]"
      ],
      "execution_count": 0,
      "outputs": [
        {
          "output_type": "execute_result",
          "data": {
            "text/plain": [
              "array([12, 23, 34])"
            ]
          },
          "metadata": {
            "tags": []
          },
          "execution_count": 78
        }
      ]
    },
    {
      "cell_type": "code",
      "metadata": {
        "id": "bPrRWolaOaoe",
        "colab_type": "code",
        "colab": {},
        "outputId": "c661cd12-54ab-47c7-93df-38e08f4a127c"
      },
      "source": [
        "a[2]"
      ],
      "execution_count": 0,
      "outputs": [
        {
          "output_type": "execute_result",
          "data": {
            "text/plain": [
              "array([45, 65, 67])"
            ]
          },
          "metadata": {
            "tags": []
          },
          "execution_count": 79
        }
      ]
    },
    {
      "cell_type": "code",
      "metadata": {
        "id": "AB2fgpueOaol",
        "colab_type": "code",
        "colab": {},
        "outputId": "f4ac182d-cd88-459e-9dc9-3c11b27859ad"
      },
      "source": [
        "a[0,2]"
      ],
      "execution_count": 0,
      "outputs": [
        {
          "output_type": "execute_result",
          "data": {
            "text/plain": [
              "34"
            ]
          },
          "metadata": {
            "tags": []
          },
          "execution_count": 80
        }
      ]
    },
    {
      "cell_type": "code",
      "metadata": {
        "id": "5Kt9LoaXOaoo",
        "colab_type": "code",
        "colab": {},
        "outputId": "7411dbef-d5e7-400d-ff00-833803557040"
      },
      "source": [
        "a[2,1]"
      ],
      "execution_count": 0,
      "outputs": [
        {
          "output_type": "execute_result",
          "data": {
            "text/plain": [
              "65"
            ]
          },
          "metadata": {
            "tags": []
          },
          "execution_count": 81
        }
      ]
    },
    {
      "cell_type": "code",
      "metadata": {
        "id": "iLNY7EWqOaos",
        "colab_type": "code",
        "colab": {},
        "outputId": "311bb685-6c0d-4b17-a1d5-2b6a6c64a6e6"
      },
      "source": [
        "a[0:2,:]"
      ],
      "execution_count": 0,
      "outputs": [
        {
          "output_type": "execute_result",
          "data": {
            "text/plain": [
              "array([[12, 23, 34],\n",
              "       [21, 34, 54]])"
            ]
          },
          "metadata": {
            "tags": []
          },
          "execution_count": 82
        }
      ]
    },
    {
      "cell_type": "code",
      "metadata": {
        "id": "R4C8L22pOaow",
        "colab_type": "code",
        "colab": {},
        "outputId": "f4405744-2ffc-4421-8d6e-b6025f87ccd9"
      },
      "source": [
        "a[:2,0:]"
      ],
      "execution_count": 0,
      "outputs": [
        {
          "output_type": "execute_result",
          "data": {
            "text/plain": [
              "array([[12, 23, 34],\n",
              "       [21, 34, 54]])"
            ]
          },
          "metadata": {
            "tags": []
          },
          "execution_count": 83
        }
      ]
    },
    {
      "cell_type": "code",
      "metadata": {
        "id": "5tXfqELSOao1",
        "colab_type": "code",
        "colab": {},
        "outputId": "25630e7d-f083-4862-b08c-71ded4f800de"
      },
      "source": [
        "a[1][2]"
      ],
      "execution_count": 0,
      "outputs": [
        {
          "output_type": "execute_result",
          "data": {
            "text/plain": [
              "54"
            ]
          },
          "metadata": {
            "tags": []
          },
          "execution_count": 86
        }
      ]
    },
    {
      "cell_type": "code",
      "metadata": {
        "id": "M7IqHd2sOao3",
        "colab_type": "code",
        "colab": {},
        "outputId": "870cf5c1-2179-4a46-f7c2-214d8ae114dd"
      },
      "source": [
        "a"
      ],
      "execution_count": 0,
      "outputs": [
        {
          "output_type": "execute_result",
          "data": {
            "text/plain": [
              "array([[12, 23, 34],\n",
              "       [21, 34, 54],\n",
              "       [45, 65, 67],\n",
              "       [56, 67, 78],\n",
              "       [78, 89, 90]])"
            ]
          },
          "metadata": {
            "tags": []
          },
          "execution_count": 87
        }
      ]
    },
    {
      "cell_type": "code",
      "metadata": {
        "id": "qCMtyzOMOao5",
        "colab_type": "code",
        "colab": {},
        "outputId": "809ebb0b-49d3-4ae3-c1a3-c8b99b6644c0"
      },
      "source": [
        "np.sqrt(a)"
      ],
      "execution_count": 0,
      "outputs": [
        {
          "output_type": "execute_result",
          "data": {
            "text/plain": [
              "array([[ 3.46410162,  4.79583152,  5.83095189],\n",
              "       [ 4.58257569,  5.83095189,  7.34846923],\n",
              "       [ 6.70820393,  8.06225775,  8.18535277],\n",
              "       [ 7.48331477,  8.18535277,  8.83176087],\n",
              "       [ 8.83176087,  9.43398113,  9.48683298]])"
            ]
          },
          "metadata": {
            "tags": []
          },
          "execution_count": 88
        }
      ]
    },
    {
      "cell_type": "code",
      "metadata": {
        "id": "NCj3getkOao9",
        "colab_type": "code",
        "colab": {},
        "outputId": "fd1c5311-9eae-4555-b071-827359dc1b67"
      },
      "source": [
        "np.ceil(np.sqrt(a))"
      ],
      "execution_count": 0,
      "outputs": [
        {
          "output_type": "execute_result",
          "data": {
            "text/plain": [
              "array([[  4.,   5.,   6.],\n",
              "       [  5.,   6.,   8.],\n",
              "       [  7.,   9.,   9.],\n",
              "       [  8.,   9.,   9.],\n",
              "       [  9.,  10.,  10.]])"
            ]
          },
          "metadata": {
            "tags": []
          },
          "execution_count": 89
        }
      ]
    },
    {
      "cell_type": "code",
      "metadata": {
        "id": "fWxuw9B-Oao_",
        "colab_type": "code",
        "colab": {},
        "outputId": "4ee8ea92-695f-4693-c486-82a9a0d20c36"
      },
      "source": [
        "np.floor(np.sqrt(a))"
      ],
      "execution_count": 0,
      "outputs": [
        {
          "output_type": "execute_result",
          "data": {
            "text/plain": [
              "array([[ 3.,  4.,  5.],\n",
              "       [ 4.,  5.,  7.],\n",
              "       [ 6.,  8.,  8.],\n",
              "       [ 7.,  8.,  8.],\n",
              "       [ 8.,  9.,  9.]])"
            ]
          },
          "metadata": {
            "tags": []
          },
          "execution_count": 90
        }
      ]
    },
    {
      "cell_type": "code",
      "metadata": {
        "id": "Xu6IL8A7OapD",
        "colab_type": "code",
        "colab": {},
        "outputId": "44f19ea5-ee8f-4d72-f7ab-dce959feaca5"
      },
      "source": [
        "np.mean(a)"
      ],
      "execution_count": 0,
      "outputs": [
        {
          "output_type": "execute_result",
          "data": {
            "text/plain": [
              "54.200000000000003"
            ]
          },
          "metadata": {
            "tags": []
          },
          "execution_count": 91
        }
      ]
    },
    {
      "cell_type": "code",
      "metadata": {
        "id": "TBiIzemmOapI",
        "colab_type": "code",
        "colab": {},
        "outputId": "5ebe3f99-d810-4ea4-d075-b9c44c2a7e1c"
      },
      "source": [
        "np.std(a)"
      ],
      "execution_count": 0,
      "outputs": [
        {
          "output_type": "execute_result",
          "data": {
            "text/plain": [
              "24.263003386500468"
            ]
          },
          "metadata": {
            "tags": []
          },
          "execution_count": 92
        }
      ]
    },
    {
      "cell_type": "code",
      "metadata": {
        "id": "w7CT7AYpOapM",
        "colab_type": "code",
        "colab": {},
        "outputId": "56daa76b-1a1f-402f-f63f-a676e9e90289"
      },
      "source": [
        "a"
      ],
      "execution_count": 0,
      "outputs": [
        {
          "output_type": "execute_result",
          "data": {
            "text/plain": [
              "array([[12, 23, 34],\n",
              "       [21, 34, 54],\n",
              "       [45, 65, 67],\n",
              "       [56, 67, 78],\n",
              "       [78, 89, 90]])"
            ]
          },
          "metadata": {
            "tags": []
          },
          "execution_count": 93
        }
      ]
    },
    {
      "cell_type": "code",
      "metadata": {
        "id": "x4hMuKOIOapO",
        "colab_type": "code",
        "colab": {},
        "outputId": "4de67e62-e16f-40d0-ceee-0999adf7c4c6"
      },
      "source": [
        "a.argmax()"
      ],
      "execution_count": 0,
      "outputs": [
        {
          "output_type": "execute_result",
          "data": {
            "text/plain": [
              "14"
            ]
          },
          "metadata": {
            "tags": []
          },
          "execution_count": 94
        }
      ]
    },
    {
      "cell_type": "code",
      "metadata": {
        "id": "nYxEJwH5OapQ",
        "colab_type": "code",
        "colab": {},
        "outputId": "4c6bc4c9-7c15-4e08-a93e-ec3a7249ae99"
      },
      "source": [
        "a.shape"
      ],
      "execution_count": 0,
      "outputs": [
        {
          "output_type": "execute_result",
          "data": {
            "text/plain": [
              "(5, 3)"
            ]
          },
          "metadata": {
            "tags": []
          },
          "execution_count": 97
        }
      ]
    },
    {
      "cell_type": "code",
      "metadata": {
        "id": "AHdigrgsOapS",
        "colab_type": "code",
        "colab": {},
        "outputId": "431d5240-10bf-4f2e-995c-1e7439fca75d"
      },
      "source": [
        "a[4][2]"
      ],
      "execution_count": 0,
      "outputs": [
        {
          "output_type": "execute_result",
          "data": {
            "text/plain": [
              "90"
            ]
          },
          "metadata": {
            "tags": []
          },
          "execution_count": 99
        }
      ]
    },
    {
      "cell_type": "code",
      "metadata": {
        "id": "7rtUqbyVOapV",
        "colab_type": "code",
        "colab": {},
        "outputId": "9d842031-7fbc-4697-ae1b-0935593fb2f1"
      },
      "source": [
        "a.flatten()[a.argmax()]"
      ],
      "execution_count": 0,
      "outputs": [
        {
          "output_type": "execute_result",
          "data": {
            "text/plain": [
              "90"
            ]
          },
          "metadata": {
            "tags": []
          },
          "execution_count": 102
        }
      ]
    },
    {
      "cell_type": "code",
      "metadata": {
        "id": "EcUfxfsPOapX",
        "colab_type": "code",
        "colab": {},
        "outputId": "a678e5ff-face-4286-c1d5-654524780aff"
      },
      "source": [
        "a.flatten()[a.argmin()]"
      ],
      "execution_count": 0,
      "outputs": [
        {
          "output_type": "execute_result",
          "data": {
            "text/plain": [
              "12"
            ]
          },
          "metadata": {
            "tags": []
          },
          "execution_count": 104
        }
      ]
    },
    {
      "cell_type": "code",
      "metadata": {
        "id": "MXd6F9FqOapZ",
        "colab_type": "code",
        "colab": {},
        "outputId": "0d76d314-6d43-4c42-c1af-4f718ffbf81f"
      },
      "source": [
        "np.where(a > 50,99,999).all()"
      ],
      "execution_count": 0,
      "outputs": [
        {
          "output_type": "execute_result",
          "data": {
            "text/plain": [
              "True"
            ]
          },
          "metadata": {
            "tags": []
          },
          "execution_count": 114
        }
      ]
    },
    {
      "cell_type": "code",
      "metadata": {
        "id": "JYzB5BVPOape",
        "colab_type": "code",
        "colab": {},
        "outputId": "eb49a4a8-3cec-4c7a-cd15-1c66b796e2fe"
      },
      "source": [
        "a[a>50]"
      ],
      "execution_count": 0,
      "outputs": [
        {
          "output_type": "execute_result",
          "data": {
            "text/plain": [
              "array([54, 65, 67, 56, 67, 78, 78, 89, 90])"
            ]
          },
          "metadata": {
            "tags": []
          },
          "execution_count": 115
        }
      ]
    },
    {
      "cell_type": "code",
      "metadata": {
        "id": "bBKel7cXOapi",
        "colab_type": "code",
        "colab": {},
        "outputId": "e6cb2895-3b55-4ae8-adf9-a33045efc468"
      },
      "source": [
        "a"
      ],
      "execution_count": 0,
      "outputs": [
        {
          "output_type": "execute_result",
          "data": {
            "text/plain": [
              "array([[12, 23, 34],\n",
              "       [21, 34, 54],\n",
              "       [45, 65, 67],\n",
              "       [56, 67, 78],\n",
              "       [78, 89, 90]])"
            ]
          },
          "metadata": {
            "tags": []
          },
          "execution_count": 116
        }
      ]
    },
    {
      "cell_type": "code",
      "metadata": {
        "id": "LMUzXymIOapp",
        "colab_type": "code",
        "colab": {},
        "outputId": "6f90d2b6-0691-43b4-85fb-b1c26c81e6db"
      },
      "source": [
        "a.shape"
      ],
      "execution_count": 0,
      "outputs": [
        {
          "output_type": "execute_result",
          "data": {
            "text/plain": [
              "(5, 3)"
            ]
          },
          "metadata": {
            "tags": []
          },
          "execution_count": 117
        }
      ]
    },
    {
      "cell_type": "code",
      "metadata": {
        "id": "7Llbd6gEOapt",
        "colab_type": "code",
        "colab": {},
        "outputId": "473514b5-d7da-4898-af00-ef99a474e2cc"
      },
      "source": [
        "a.T"
      ],
      "execution_count": 0,
      "outputs": [
        {
          "output_type": "execute_result",
          "data": {
            "text/plain": [
              "array([[12, 21, 45, 56, 78],\n",
              "       [23, 34, 65, 67, 89],\n",
              "       [34, 54, 67, 78, 90]])"
            ]
          },
          "metadata": {
            "tags": []
          },
          "execution_count": 118
        }
      ]
    },
    {
      "cell_type": "code",
      "metadata": {
        "id": "bNzS6duPOapw",
        "colab_type": "code",
        "colab": {},
        "outputId": "b5f0a50a-1b1e-4312-d8eb-95430843d003"
      },
      "source": [
        "a.flatten().shape"
      ],
      "execution_count": 0,
      "outputs": [
        {
          "output_type": "execute_result",
          "data": {
            "text/plain": [
              "(15,)"
            ]
          },
          "metadata": {
            "tags": []
          },
          "execution_count": 127
        }
      ]
    },
    {
      "cell_type": "code",
      "metadata": {
        "id": "XiS_8YqOOapy",
        "colab_type": "code",
        "colab": {}
      },
      "source": [
        "add_rows = np.array(np.zeros(17))"
      ],
      "execution_count": 0,
      "outputs": []
    },
    {
      "cell_type": "code",
      "metadata": {
        "id": "44wmPS3LOap0",
        "colab_type": "code",
        "colab": {}
      },
      "source": [
        "f = add_rows.tolist()"
      ],
      "execution_count": 0,
      "outputs": []
    },
    {
      "cell_type": "code",
      "metadata": {
        "id": "51D1Kq5oOap3",
        "colab_type": "code",
        "colab": {},
        "outputId": "803b112c-e9a6-48ad-d5c8-d2d2ba1d9a6d"
      },
      "source": [
        "a.flatten()"
      ],
      "execution_count": 0,
      "outputs": [
        {
          "output_type": "execute_result",
          "data": {
            "text/plain": [
              "array([12, 23, 34, 21, 34, 54, 45, 65, 67, 56, 67, 78, 78, 89, 90])"
            ]
          },
          "metadata": {
            "tags": []
          },
          "execution_count": 141
        }
      ]
    },
    {
      "cell_type": "code",
      "metadata": {
        "id": "gGFmJ-7kOap7",
        "colab_type": "code",
        "colab": {}
      },
      "source": [
        "d = [12, 23, 34, 21, 34, 54, 45, 65, 67, 56, 67, 78, 78, 89, 90]"
      ],
      "execution_count": 0,
      "outputs": []
    },
    {
      "cell_type": "code",
      "metadata": {
        "id": "64lsvHhqOap9",
        "colab_type": "code",
        "colab": {}
      },
      "source": [
        "d.append(np.zeros(17).flatten())"
      ],
      "execution_count": 0,
      "outputs": []
    },
    {
      "cell_type": "code",
      "metadata": {
        "id": "GLNZB2V7Oap_",
        "colab_type": "code",
        "colab": {}
      },
      "source": [
        "d1 = d + list(np.zeros(17))"
      ],
      "execution_count": 0,
      "outputs": []
    },
    {
      "cell_type": "code",
      "metadata": {
        "id": "FttBZjjJOaqB",
        "colab_type": "code",
        "colab": {},
        "outputId": "6ff7d0d4-4cd6-43e7-ba19-01907fbb9cb0"
      },
      "source": [
        "np.array(d1).reshape(8,4)"
      ],
      "execution_count": 0,
      "outputs": [
        {
          "output_type": "execute_result",
          "data": {
            "text/plain": [
              "array([[ 12.,  23.,  34.,  21.],\n",
              "       [ 34.,  54.,  45.,  65.],\n",
              "       [ 67.,  56.,  67.,  78.],\n",
              "       [ 78.,  89.,  90.,   0.],\n",
              "       [  0.,   0.,   0.,   0.],\n",
              "       [  0.,   0.,   0.,   0.],\n",
              "       [  0.,   0.,   0.,   0.],\n",
              "       [  0.,   0.,   0.,   0.]])"
            ]
          },
          "metadata": {
            "tags": []
          },
          "execution_count": 192
        }
      ]
    },
    {
      "cell_type": "code",
      "metadata": {
        "id": "4qn6V91vOaqD",
        "colab_type": "code",
        "colab": {}
      },
      "source": [
        ""
      ],
      "execution_count": 0,
      "outputs": []
    }
  ]
}