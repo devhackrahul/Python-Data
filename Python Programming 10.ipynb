{
  "nbformat": 4,
  "nbformat_minor": 0,
  "metadata": {
    "kernelspec": {
      "display_name": "Python 3",
      "language": "python",
      "name": "python3"
    },
    "language_info": {
      "codemirror_mode": {
        "name": "ipython",
        "version": 3
      },
      "file_extension": ".py",
      "mimetype": "text/x-python",
      "name": "python",
      "nbconvert_exporter": "python",
      "pygments_lexer": "ipython3",
      "version": "3.6.4"
    },
    "colab": {
      "name": "Testing Hypothesis.ipynb",
      "provenance": []
    }
  },
  "cells": [
    {
      "cell_type": "code",
      "metadata": {
        "id": "oXPMhdp6O86f",
        "colab_type": "code",
        "colab": {}
      },
      "source": [
        "# EDA:\n",
        "\n",
        "# Univariate Analysis:\n",
        "\n",
        "    # Categorical: Proportions Test\n",
        "\n",
        "    # Numeric: Normality Test\n",
        "\n",
        "# Bi-variate Analysis:\n",
        "\n",
        "    # Cat-Cat: Chi square test\n",
        "\n",
        "    # Cat- Numeric: Mean Test\n",
        "        # two means: 2 groups, independent\n",
        "        # two means: 2 groups, dependent\n",
        "        # more than two means: ANOVA\n",
        "\n",
        "    # Numeric-Numeric: Correlations Test\n",
        "\n",
        "# Multivariate Analysis:\n",
        "\n",
        "    # Correlations test"
      ],
      "execution_count": 0,
      "outputs": []
    },
    {
      "cell_type": "code",
      "metadata": {
        "id": "YElunH-9O86l",
        "colab_type": "code",
        "colab": {}
      },
      "source": [
        "import pandas as pd\n",
        "import numpy as np"
      ],
      "execution_count": 0,
      "outputs": []
    },
    {
      "cell_type": "code",
      "metadata": {
        "id": "xnhuesz6O86r",
        "colab_type": "code",
        "colab": {}
      },
      "source": [
        "#https://www.kaggle.com/c/demand-forecasting-kernels-only/data\n",
        "# download train.csv\n",
        "df = pd.read_csv('/Users/pradmishra/Documents/train.csv')"
      ],
      "execution_count": 0,
      "outputs": []
    },
    {
      "cell_type": "code",
      "metadata": {
        "id": "xWs2ghGvO86w",
        "colab_type": "code",
        "colab": {},
        "outputId": "9ada3068-8c99-4cc3-af8c-8ce7918bc6f4"
      },
      "source": [
        "df.head()"
      ],
      "execution_count": 0,
      "outputs": [
        {
          "output_type": "execute_result",
          "data": {
            "text/html": [
              "<div>\n",
              "<style scoped>\n",
              "    .dataframe tbody tr th:only-of-type {\n",
              "        vertical-align: middle;\n",
              "    }\n",
              "\n",
              "    .dataframe tbody tr th {\n",
              "        vertical-align: top;\n",
              "    }\n",
              "\n",
              "    .dataframe thead th {\n",
              "        text-align: right;\n",
              "    }\n",
              "</style>\n",
              "<table border=\"1\" class=\"dataframe\">\n",
              "  <thead>\n",
              "    <tr style=\"text-align: right;\">\n",
              "      <th></th>\n",
              "      <th>date</th>\n",
              "      <th>store</th>\n",
              "      <th>item</th>\n",
              "      <th>sales</th>\n",
              "    </tr>\n",
              "  </thead>\n",
              "  <tbody>\n",
              "    <tr>\n",
              "      <th>0</th>\n",
              "      <td>2013-01-01</td>\n",
              "      <td>1</td>\n",
              "      <td>1</td>\n",
              "      <td>13</td>\n",
              "    </tr>\n",
              "    <tr>\n",
              "      <th>1</th>\n",
              "      <td>2013-01-02</td>\n",
              "      <td>1</td>\n",
              "      <td>1</td>\n",
              "      <td>11</td>\n",
              "    </tr>\n",
              "    <tr>\n",
              "      <th>2</th>\n",
              "      <td>2013-01-03</td>\n",
              "      <td>1</td>\n",
              "      <td>1</td>\n",
              "      <td>14</td>\n",
              "    </tr>\n",
              "    <tr>\n",
              "      <th>3</th>\n",
              "      <td>2013-01-04</td>\n",
              "      <td>1</td>\n",
              "      <td>1</td>\n",
              "      <td>13</td>\n",
              "    </tr>\n",
              "    <tr>\n",
              "      <th>4</th>\n",
              "      <td>2013-01-05</td>\n",
              "      <td>1</td>\n",
              "      <td>1</td>\n",
              "      <td>10</td>\n",
              "    </tr>\n",
              "  </tbody>\n",
              "</table>\n",
              "</div>"
            ],
            "text/plain": [
              "         date  store  item  sales\n",
              "0  2013-01-01      1     1     13\n",
              "1  2013-01-02      1     1     11\n",
              "2  2013-01-03      1     1     14\n",
              "3  2013-01-04      1     1     13\n",
              "4  2013-01-05      1     1     10"
            ]
          },
          "metadata": {
            "tags": []
          },
          "execution_count": 4
        }
      ]
    },
    {
      "cell_type": "code",
      "metadata": {
        "id": "IUbIAn8rO861",
        "colab_type": "code",
        "colab": {},
        "outputId": "cdfabafb-1244-4baf-b86c-7004787ba48a"
      },
      "source": [
        "set(df.store)"
      ],
      "execution_count": 0,
      "outputs": [
        {
          "output_type": "execute_result",
          "data": {
            "text/plain": [
              "{1, 2, 3, 4, 5, 6, 7, 8, 9, 10}"
            ]
          },
          "metadata": {
            "tags": []
          },
          "execution_count": 5
        }
      ]
    },
    {
      "cell_type": "code",
      "metadata": {
        "id": "4cWMRW3bO864",
        "colab_type": "code",
        "colab": {}
      },
      "source": [
        ""
      ],
      "execution_count": 0,
      "outputs": []
    },
    {
      "cell_type": "code",
      "metadata": {
        "id": "pZ2bIeN6O87B",
        "colab_type": "code",
        "colab": {},
        "outputId": "9a3145f8-8c6f-4c48-88ee-6680f8500f61"
      },
      "source": [
        "df.shape"
      ],
      "execution_count": 0,
      "outputs": [
        {
          "output_type": "execute_result",
          "data": {
            "text/plain": [
              "(913000, 4)"
            ]
          },
          "metadata": {
            "tags": []
          },
          "execution_count": 7
        }
      ]
    },
    {
      "cell_type": "code",
      "metadata": {
        "id": "Fk7mnsBCO87F",
        "colab_type": "code",
        "colab": {}
      },
      "source": [
        "# Which stores are selling the most, are there any differences between the best selling store and others?\n",
        "\n",
        "# Which are the lowest selling stores?"
      ],
      "execution_count": 0,
      "outputs": []
    },
    {
      "cell_type": "code",
      "metadata": {
        "id": "1LXPHYhMO87I",
        "colab_type": "code",
        "colab": {},
        "outputId": "b3e9ece9-f114-44df-a04a-945dbba4e096"
      },
      "source": [
        "df.groupby(['store'])['sales']"
      ],
      "execution_count": 0,
      "outputs": [
        {
          "output_type": "execute_result",
          "data": {
            "text/plain": [
              "<pandas.core.groupby.groupby.SeriesGroupBy object at 0x11c2a8828>"
            ]
          },
          "metadata": {
            "tags": []
          },
          "execution_count": 10
        }
      ]
    },
    {
      "cell_type": "code",
      "metadata": {
        "id": "XmejQtqjO87M",
        "colab_type": "code",
        "colab": {}
      },
      "source": [
        "# which stores face lowest/highest footfall?"
      ],
      "execution_count": 0,
      "outputs": []
    },
    {
      "cell_type": "code",
      "metadata": {
        "id": "QH3igSYVO87P",
        "colab_type": "code",
        "colab": {},
        "outputId": "79c9cdc3-deea-4662-de2f-6aafb00d3990"
      },
      "source": [
        "df.store.value_counts()"
      ],
      "execution_count": 0,
      "outputs": [
        {
          "output_type": "execute_result",
          "data": {
            "text/plain": [
              "10    91300\n",
              "9     91300\n",
              "8     91300\n",
              "7     91300\n",
              "6     91300\n",
              "5     91300\n",
              "4     91300\n",
              "3     91300\n",
              "2     91300\n",
              "1     91300\n",
              "Name: store, dtype: int64"
            ]
          },
          "metadata": {
            "tags": []
          },
          "execution_count": 13
        }
      ]
    },
    {
      "cell_type": "code",
      "metadata": {
        "id": "SWaiNb2cO87T",
        "colab_type": "code",
        "colab": {},
        "outputId": "31a061c3-7c19-4fa1-ef00-ad60d1ac793e"
      },
      "source": [
        "df.item.value_counts()"
      ],
      "execution_count": 0,
      "outputs": [
        {
          "output_type": "execute_result",
          "data": {
            "text/plain": [
              "50    18260\n",
              "13    18260\n",
              "23    18260\n",
              "22    18260\n",
              "21    18260\n",
              "20    18260\n",
              "19    18260\n",
              "18    18260\n",
              "17    18260\n",
              "16    18260\n",
              "15    18260\n",
              "14    18260\n",
              "12    18260\n",
              "49    18260\n",
              "11    18260\n",
              "10    18260\n",
              "9     18260\n",
              "8     18260\n",
              "7     18260\n",
              "6     18260\n",
              "5     18260\n",
              "4     18260\n",
              "3     18260\n",
              "2     18260\n",
              "24    18260\n",
              "25    18260\n",
              "26    18260\n",
              "27    18260\n",
              "48    18260\n",
              "47    18260\n",
              "46    18260\n",
              "45    18260\n",
              "44    18260\n",
              "43    18260\n",
              "42    18260\n",
              "41    18260\n",
              "40    18260\n",
              "39    18260\n",
              "38    18260\n",
              "37    18260\n",
              "36    18260\n",
              "35    18260\n",
              "34    18260\n",
              "33    18260\n",
              "32    18260\n",
              "31    18260\n",
              "30    18260\n",
              "29    18260\n",
              "28    18260\n",
              "1     18260\n",
              "Name: item, dtype: int64"
            ]
          },
          "metadata": {
            "tags": []
          },
          "execution_count": 14
        }
      ]
    },
    {
      "cell_type": "code",
      "metadata": {
        "id": "GQPDtngQO87X",
        "colab_type": "code",
        "colab": {}
      },
      "source": [
        "from scipy.stats import stats"
      ],
      "execution_count": 0,
      "outputs": []
    },
    {
      "cell_type": "code",
      "metadata": {
        "id": "QIDCQrMHO87a",
        "colab_type": "code",
        "colab": {}
      },
      "source": [
        "results = stats.f_oneway(df[df.store==1]['sales'],\n",
        "                        df[df.store==2]['sales'],\n",
        "                        df[df.store==3]['sales'])"
      ],
      "execution_count": 0,
      "outputs": []
    },
    {
      "cell_type": "code",
      "metadata": {
        "id": "tgeT3bIuO87c",
        "colab_type": "code",
        "colab": {},
        "outputId": "0d741b71-4d82-43c5-e036-43316cd30691"
      },
      "source": [
        "import seaborn as sns\n",
        "sns.distplot(np.sqrt(df.sales))"
      ],
      "execution_count": 0,
      "outputs": [
        {
          "output_type": "stream",
          "text": [
            "/Applications/anaconda3/lib/python3.6/site-packages/scipy/stats/stats.py:1706: FutureWarning: Using a non-tuple sequence for multidimensional indexing is deprecated; use `arr[tuple(seq)]` instead of `arr[seq]`. In the future this will be interpreted as an array index, `arr[np.array(seq)]`, which will result either in an error or a different result.\n",
            "  return np.add.reduce(sorted[indexer] * weights, axis=axis) / sumval\n"
          ],
          "name": "stderr"
        },
        {
          "output_type": "execute_result",
          "data": {
            "text/plain": [
              "<matplotlib.axes._subplots.AxesSubplot at 0x1a2a469518>"
            ]
          },
          "metadata": {
            "tags": []
          },
          "execution_count": 44
        },
        {
          "output_type": "display_data",
          "data": {
            "image/png": "[encoded data removed]",
            "text/plain": [
              "<matplotlib.figure.Figure at 0x120033d30>"
            ]
          },
          "metadata": {
            "tags": []
          }
        }
      ]
    },
    {
      "cell_type": "code",
      "metadata": {
        "id": "6pymnGHdO87g",
        "colab_type": "code",
        "colab": {}
      },
      "source": [
        "from statsmodels.stats.multicomp import pairwise_tukeyhsd"
      ],
      "execution_count": 0,
      "outputs": []
    },
    {
      "cell_type": "code",
      "metadata": {
        "id": "fIdsfdONO87l",
        "colab_type": "code",
        "colab": {}
      },
      "source": [
        "output = pairwise_tukeyhsd(df.sales,df.store)"
      ],
      "execution_count": 0,
      "outputs": []
    },
    {
      "cell_type": "code",
      "metadata": {
        "id": "THFhky26O87n",
        "colab_type": "code",
        "colab": {},
        "outputId": "75a686ce-06c9-4db7-9a81-42e2ec737f2f"
      },
      "source": [
        "output.meandiffs"
      ],
      "execution_count": 0,
      "outputs": [
        {
          "output_type": "execute_result",
          "data": {
            "text/plain": [
              "array([ 19.76478642,  12.26222344,   7.63456736,  -7.49821468,\n",
              "        -7.53486309, -10.90464403,  16.87366922,   7.78064622,\n",
              "        11.44090909,  -7.50256298, -12.13021906, -27.2630011 ,\n",
              "       -27.29964951, -30.66943045,  -2.8911172 , -11.9841402 ,\n",
              "        -8.32387733,  -4.62765608, -19.76043812, -19.79708653,\n",
              "       -23.16686747,   4.61144578,  -4.48157722,  -0.82131435,\n",
              "       -15.13278204, -15.16943045, -18.53921139,   9.23910186,\n",
              "         0.14607886,   3.80634173,  -0.03664841,  -3.40642935,\n",
              "        24.3718839 ,  15.2788609 ,  18.93912377,  -3.36978094,\n",
              "        24.40853231,  15.31550931,  18.97577218,  27.77831325,\n",
              "        18.68529025,  22.34555312,  -9.093023  ,  -5.43276013,\n",
              "         3.66026287])"
            ]
          },
          "metadata": {
            "tags": []
          },
          "execution_count": 22
        }
      ]
    },
    {
      "cell_type": "code",
      "metadata": {
        "id": "jtSfUYrAO87r",
        "colab_type": "code",
        "colab": {},
        "outputId": "68a4ea30-26dd-4580-c906-759eba5847a5"
      },
      "source": [
        "output.summary()"
      ],
      "execution_count": 0,
      "outputs": [
        {
          "output_type": "execute_result",
          "data": {
            "text/html": [
              "<table class=\"simpletable\">\n",
              "<caption>Multiple Comparison of Means - Tukey HSD,FWER=0.05</caption>\n",
              "<tr>\n",
              "  <th>group1</th> <th>group2</th> <th>meandiff</th>   <th>lower</th>    <th>upper</th>  <th>reject</th>\n",
              "</tr>\n",
              "<tr>\n",
              "     <td>1</td>      <td>2</td>    <td>19.7648</td>  <td>19.3665</td>  <td>20.1631</td>  <td>True</td> \n",
              "</tr>\n",
              "<tr>\n",
              "     <td>1</td>      <td>3</td>    <td>12.2622</td>  <td>11.8639</td>  <td>12.6605</td>  <td>True</td> \n",
              "</tr>\n",
              "<tr>\n",
              "     <td>1</td>      <td>4</td>    <td>7.6346</td>   <td>7.2363</td>   <td>8.0329</td>   <td>True</td> \n",
              "</tr>\n",
              "<tr>\n",
              "     <td>1</td>      <td>5</td>    <td>-7.4982</td>  <td>-7.8965</td>  <td>-7.0999</td>  <td>True</td> \n",
              "</tr>\n",
              "<tr>\n",
              "     <td>1</td>      <td>6</td>    <td>-7.5349</td>  <td>-7.9332</td>  <td>-7.1365</td>  <td>True</td> \n",
              "</tr>\n",
              "<tr>\n",
              "     <td>1</td>      <td>7</td>   <td>-10.9046</td>  <td>-11.303</td> <td>-10.5063</td>  <td>True</td> \n",
              "</tr>\n",
              "<tr>\n",
              "     <td>1</td>      <td>8</td>    <td>16.8737</td>  <td>16.4754</td>  <td>17.272</td>   <td>True</td> \n",
              "</tr>\n",
              "<tr>\n",
              "     <td>1</td>      <td>9</td>    <td>7.7806</td>   <td>7.3823</td>    <td>8.179</td>   <td>True</td> \n",
              "</tr>\n",
              "<tr>\n",
              "     <td>1</td>     <td>10</td>    <td>11.4409</td>  <td>11.0426</td>  <td>11.8392</td>  <td>True</td> \n",
              "</tr>\n",
              "<tr>\n",
              "     <td>2</td>      <td>3</td>    <td>-7.5026</td>  <td>-7.9009</td>  <td>-7.1042</td>  <td>True</td> \n",
              "</tr>\n",
              "<tr>\n",
              "     <td>2</td>      <td>4</td>   <td>-12.1302</td> <td>-12.5285</td> <td>-11.7319</td>  <td>True</td> \n",
              "</tr>\n",
              "<tr>\n",
              "     <td>2</td>      <td>5</td>    <td>-27.263</td> <td>-27.6613</td> <td>-26.8647</td>  <td>True</td> \n",
              "</tr>\n",
              "<tr>\n",
              "     <td>2</td>      <td>6</td>   <td>-27.2996</td>  <td>-27.698</td> <td>-26.9013</td>  <td>True</td> \n",
              "</tr>\n",
              "<tr>\n",
              "     <td>2</td>      <td>7</td>   <td>-30.6694</td> <td>-31.0677</td> <td>-30.2711</td>  <td>True</td> \n",
              "</tr>\n",
              "<tr>\n",
              "     <td>2</td>      <td>8</td>    <td>-2.8911</td>  <td>-3.2894</td>  <td>-2.4928</td>  <td>True</td> \n",
              "</tr>\n",
              "<tr>\n",
              "     <td>2</td>      <td>9</td>   <td>-11.9841</td> <td>-12.3825</td> <td>-11.5858</td>  <td>True</td> \n",
              "</tr>\n",
              "<tr>\n",
              "     <td>2</td>     <td>10</td>    <td>-8.3239</td>  <td>-8.7222</td>  <td>-7.9256</td>  <td>True</td> \n",
              "</tr>\n",
              "<tr>\n",
              "     <td>3</td>      <td>4</td>    <td>-4.6277</td>  <td>-5.026</td>   <td>-4.2293</td>  <td>True</td> \n",
              "</tr>\n",
              "<tr>\n",
              "     <td>3</td>      <td>5</td>   <td>-19.7604</td> <td>-20.1588</td> <td>-19.3621</td>  <td>True</td> \n",
              "</tr>\n",
              "<tr>\n",
              "     <td>3</td>      <td>6</td>   <td>-19.7971</td> <td>-20.1954</td> <td>-19.3988</td>  <td>True</td> \n",
              "</tr>\n",
              "<tr>\n",
              "     <td>3</td>      <td>7</td>   <td>-23.1669</td> <td>-23.5652</td> <td>-22.7686</td>  <td>True</td> \n",
              "</tr>\n",
              "<tr>\n",
              "     <td>3</td>      <td>8</td>    <td>4.6114</td>   <td>4.2131</td>   <td>5.0098</td>   <td>True</td> \n",
              "</tr>\n",
              "<tr>\n",
              "     <td>3</td>      <td>9</td>    <td>-4.4816</td>  <td>-4.8799</td>  <td>-4.0833</td>  <td>True</td> \n",
              "</tr>\n",
              "<tr>\n",
              "     <td>3</td>     <td>10</td>    <td>-0.8213</td>  <td>-1.2196</td>  <td>-0.423</td>   <td>True</td> \n",
              "</tr>\n",
              "<tr>\n",
              "     <td>4</td>      <td>5</td>   <td>-15.1328</td> <td>-15.5311</td> <td>-14.7345</td>  <td>True</td> \n",
              "</tr>\n",
              "<tr>\n",
              "     <td>4</td>      <td>6</td>   <td>-15.1694</td> <td>-15.5677</td> <td>-14.7711</td>  <td>True</td> \n",
              "</tr>\n",
              "<tr>\n",
              "     <td>4</td>      <td>7</td>   <td>-18.5392</td> <td>-18.9375</td> <td>-18.1409</td>  <td>True</td> \n",
              "</tr>\n",
              "<tr>\n",
              "     <td>4</td>      <td>8</td>    <td>9.2391</td>   <td>8.8408</td>   <td>9.6374</td>   <td>True</td> \n",
              "</tr>\n",
              "<tr>\n",
              "     <td>4</td>      <td>9</td>    <td>0.1461</td>   <td>-0.2522</td>  <td>0.5444</td>   <td>False</td>\n",
              "</tr>\n",
              "<tr>\n",
              "     <td>4</td>     <td>10</td>    <td>3.8063</td>    <td>3.408</td>   <td>4.2047</td>   <td>True</td> \n",
              "</tr>\n",
              "<tr>\n",
              "     <td>5</td>      <td>6</td>    <td>-0.0366</td>  <td>-0.435</td>   <td>0.3617</td>   <td>False</td>\n",
              "</tr>\n",
              "<tr>\n",
              "     <td>5</td>      <td>7</td>    <td>-3.4064</td>  <td>-3.8047</td>  <td>-3.0081</td>  <td>True</td> \n",
              "</tr>\n",
              "<tr>\n",
              "     <td>5</td>      <td>8</td>    <td>24.3719</td>  <td>23.9736</td>  <td>24.7702</td>  <td>True</td> \n",
              "</tr>\n",
              "<tr>\n",
              "     <td>5</td>      <td>9</td>    <td>15.2789</td>  <td>14.8805</td>  <td>15.6772</td>  <td>True</td> \n",
              "</tr>\n",
              "<tr>\n",
              "     <td>5</td>     <td>10</td>    <td>18.9391</td>  <td>18.5408</td>  <td>19.3374</td>  <td>True</td> \n",
              "</tr>\n",
              "<tr>\n",
              "     <td>6</td>      <td>7</td>    <td>-3.3698</td>  <td>-3.7681</td>  <td>-2.9715</td>  <td>True</td> \n",
              "</tr>\n",
              "<tr>\n",
              "     <td>6</td>      <td>8</td>    <td>24.4085</td>  <td>24.0102</td>  <td>24.8068</td>  <td>True</td> \n",
              "</tr>\n",
              "<tr>\n",
              "     <td>6</td>      <td>9</td>    <td>15.3155</td>  <td>14.9172</td>  <td>15.7138</td>  <td>True</td> \n",
              "</tr>\n",
              "<tr>\n",
              "     <td>6</td>     <td>10</td>    <td>18.9758</td>  <td>18.5775</td>  <td>19.3741</td>  <td>True</td> \n",
              "</tr>\n",
              "<tr>\n",
              "     <td>7</td>      <td>8</td>    <td>27.7783</td>   <td>27.38</td>   <td>28.1766</td>  <td>True</td> \n",
              "</tr>\n",
              "<tr>\n",
              "     <td>7</td>      <td>9</td>    <td>18.6853</td>  <td>18.287</td>   <td>19.0836</td>  <td>True</td> \n",
              "</tr>\n",
              "<tr>\n",
              "     <td>7</td>     <td>10</td>    <td>22.3456</td>  <td>21.9472</td>  <td>22.7439</td>  <td>True</td> \n",
              "</tr>\n",
              "<tr>\n",
              "     <td>8</td>      <td>9</td>    <td>-9.093</td>   <td>-9.4913</td>  <td>-8.6947</td>  <td>True</td> \n",
              "</tr>\n",
              "<tr>\n",
              "     <td>8</td>     <td>10</td>    <td>-5.4328</td>  <td>-5.8311</td>  <td>-5.0344</td>  <td>True</td> \n",
              "</tr>\n",
              "<tr>\n",
              "     <td>9</td>     <td>10</td>    <td>3.6603</td>   <td>3.2619</td>   <td>4.0586</td>   <td>True</td> \n",
              "</tr>\n",
              "</table>"
            ],
            "text/plain": [
              "<class 'statsmodels.iolib.table.SimpleTable'>"
            ]
          },
          "metadata": {
            "tags": []
          },
          "execution_count": 26
        }
      ]
    },
    {
      "cell_type": "code",
      "metadata": {
        "id": "cWBLCH0xO87u",
        "colab_type": "code",
        "colab": {}
      },
      "source": [
        "df1 = pd.read_csv('https://raw.githubusercontent.com/tidyverse/ggplot2/master/data-raw/diamonds.csv')"
      ],
      "execution_count": 0,
      "outputs": []
    },
    {
      "cell_type": "code",
      "metadata": {
        "id": "0D3hmQScO87w",
        "colab_type": "code",
        "colab": {},
        "outputId": "b9d4a4bc-26fb-4c4b-ed68-c08cab6ad46a"
      },
      "source": [
        "df1.head()"
      ],
      "execution_count": 0,
      "outputs": [
        {
          "output_type": "execute_result",
          "data": {
            "text/html": [
              "<div>\n",
              "<style scoped>\n",
              "    .dataframe tbody tr th:only-of-type {\n",
              "        vertical-align: middle;\n",
              "    }\n",
              "\n",
              "    .dataframe tbody tr th {\n",
              "        vertical-align: top;\n",
              "    }\n",
              "\n",
              "    .dataframe thead th {\n",
              "        text-align: right;\n",
              "    }\n",
              "</style>\n",
              "<table border=\"1\" class=\"dataframe\">\n",
              "  <thead>\n",
              "    <tr style=\"text-align: right;\">\n",
              "      <th></th>\n",
              "      <th>carat</th>\n",
              "      <th>cut</th>\n",
              "      <th>color</th>\n",
              "      <th>clarity</th>\n",
              "      <th>depth</th>\n",
              "      <th>table</th>\n",
              "      <th>price</th>\n",
              "      <th>x</th>\n",
              "      <th>y</th>\n",
              "      <th>z</th>\n",
              "    </tr>\n",
              "  </thead>\n",
              "  <tbody>\n",
              "    <tr>\n",
              "      <th>0</th>\n",
              "      <td>0.23</td>\n",
              "      <td>Ideal</td>\n",
              "      <td>E</td>\n",
              "      <td>SI2</td>\n",
              "      <td>61.5</td>\n",
              "      <td>55.0</td>\n",
              "      <td>326</td>\n",
              "      <td>3.95</td>\n",
              "      <td>3.98</td>\n",
              "      <td>2.43</td>\n",
              "    </tr>\n",
              "    <tr>\n",
              "      <th>1</th>\n",
              "      <td>0.21</td>\n",
              "      <td>Premium</td>\n",
              "      <td>E</td>\n",
              "      <td>SI1</td>\n",
              "      <td>59.8</td>\n",
              "      <td>61.0</td>\n",
              "      <td>326</td>\n",
              "      <td>3.89</td>\n",
              "      <td>3.84</td>\n",
              "      <td>2.31</td>\n",
              "    </tr>\n",
              "    <tr>\n",
              "      <th>2</th>\n",
              "      <td>0.23</td>\n",
              "      <td>Good</td>\n",
              "      <td>E</td>\n",
              "      <td>VS1</td>\n",
              "      <td>56.9</td>\n",
              "      <td>65.0</td>\n",
              "      <td>327</td>\n",
              "      <td>4.05</td>\n",
              "      <td>4.07</td>\n",
              "      <td>2.31</td>\n",
              "    </tr>\n",
              "    <tr>\n",
              "      <th>3</th>\n",
              "      <td>0.29</td>\n",
              "      <td>Premium</td>\n",
              "      <td>I</td>\n",
              "      <td>VS2</td>\n",
              "      <td>62.4</td>\n",
              "      <td>58.0</td>\n",
              "      <td>334</td>\n",
              "      <td>4.20</td>\n",
              "      <td>4.23</td>\n",
              "      <td>2.63</td>\n",
              "    </tr>\n",
              "    <tr>\n",
              "      <th>4</th>\n",
              "      <td>0.31</td>\n",
              "      <td>Good</td>\n",
              "      <td>J</td>\n",
              "      <td>SI2</td>\n",
              "      <td>63.3</td>\n",
              "      <td>58.0</td>\n",
              "      <td>335</td>\n",
              "      <td>4.34</td>\n",
              "      <td>4.35</td>\n",
              "      <td>2.75</td>\n",
              "    </tr>\n",
              "  </tbody>\n",
              "</table>\n",
              "</div>"
            ],
            "text/plain": [
              "   carat      cut color clarity  depth  table  price     x     y     z\n",
              "0   0.23    Ideal     E     SI2   61.5   55.0    326  3.95  3.98  2.43\n",
              "1   0.21  Premium     E     SI1   59.8   61.0    326  3.89  3.84  2.31\n",
              "2   0.23     Good     E     VS1   56.9   65.0    327  4.05  4.07  2.31\n",
              "3   0.29  Premium     I     VS2   62.4   58.0    334  4.20  4.23  2.63\n",
              "4   0.31     Good     J     SI2   63.3   58.0    335  4.34  4.35  2.75"
            ]
          },
          "metadata": {
            "tags": []
          },
          "execution_count": 46
        }
      ]
    },
    {
      "cell_type": "code",
      "metadata": {
        "id": "mwPKyDXuO870",
        "colab_type": "code",
        "colab": {},
        "outputId": "d160b338-ffe3-4030-9f69-7a7fca19e606"
      },
      "source": [
        "np.array(df1.color.value_counts())"
      ],
      "execution_count": 0,
      "outputs": [
        {
          "output_type": "execute_result",
          "data": {
            "text/plain": [
              "array([11292,  9797,  9542,  8304,  6775,  5422,  2808])"
            ]
          },
          "metadata": {
            "tags": []
          },
          "execution_count": 52
        }
      ]
    },
    {
      "cell_type": "code",
      "metadata": {
        "id": "165lBfSdO874",
        "colab_type": "code",
        "colab": {},
        "outputId": "b13599de-3c25-4421-f1b5-badd9fda2fdb"
      },
      "source": [
        "np.array(df1.shape[0])"
      ],
      "execution_count": 0,
      "outputs": [
        {
          "output_type": "execute_result",
          "data": {
            "text/plain": [
              "array(53940)"
            ]
          },
          "metadata": {
            "tags": []
          },
          "execution_count": 55
        }
      ]
    },
    {
      "cell_type": "code",
      "metadata": {
        "id": "pInQ2MEdO878",
        "colab_type": "code",
        "colab": {},
        "outputId": "a4a7975c-8b2e-4a3c-c2a4-fa956bc22f65"
      },
      "source": [
        "import numpy as np\n",
        "from statsmodels.stats.proportion import proportions_ztest\n",
        "counts = np.array([11292,  9797])\n",
        "nobs = np.array([53940,53940])\n",
        "stat, pval = proportions_ztest(counts, nobs)\n",
        "print('{0:0.3f}'.format(pval))"
      ],
      "execution_count": 0,
      "outputs": [
        {
          "output_type": "stream",
          "text": [
            "0.000\n"
          ],
          "name": "stdout"
        }
      ]
    },
    {
      "cell_type": "code",
      "metadata": {
        "id": "jK8Thg8DO87-",
        "colab_type": "code",
        "colab": {},
        "outputId": "94fcc492-72b0-49f7-e671-5d821de73fdb"
      },
      "source": [
        "from scipy import stats\n",
        "stats.shapiro(df.sales)"
      ],
      "execution_count": 0,
      "outputs": [
        {
          "output_type": "stream",
          "text": [
            "/Applications/anaconda3/lib/python3.6/site-packages/scipy/stats/morestats.py:1310: UserWarning: p-value may not be accurate for N > 5000.\n",
            "  warnings.warn(\"p-value may not be accurate for N > 5000.\")\n"
          ],
          "name": "stderr"
        },
        {
          "output_type": "execute_result",
          "data": {
            "text/plain": [
              "(0.9442825317382812, 0.0)"
            ]
          },
          "metadata": {
            "tags": []
          },
          "execution_count": 63
        }
      ]
    },
    {
      "cell_type": "code",
      "metadata": {
        "id": "rWFH7F40O88B",
        "colab_type": "code",
        "colab": {}
      },
      "source": [
        ""
      ],
      "execution_count": 0,
      "outputs": []
    }
  ]
}