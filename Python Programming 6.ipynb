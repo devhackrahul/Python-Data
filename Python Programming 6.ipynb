{
  "nbformat": 4,
  "nbformat_minor": 0,
  "metadata": {
    "kernelspec": {
      "display_name": "Python 3",
      "language": "python",
      "name": "python3"
    },
    "language_info": {
      "codemirror_mode": {
        "name": "ipython",
        "version": 3
      },
      "file_extension": ".py",
      "mimetype": "text/x-python",
      "name": "python",
      "nbconvert_exporter": "python",
      "pygments_lexer": "ipython3",
      "version": "3.6.4"
    },
    "colab": {
      "name": "Python Trainings Numpy 1.1.ipynb",
      "provenance": []
    }
  },
  "cells": [
    {
      "cell_type": "code",
      "metadata": {
        "id": "8UnrVxySOpr6",
        "colab_type": "code",
        "colab": {}
      },
      "source": [
        "import numpy as np"
      ],
      "execution_count": 0,
      "outputs": []
    },
    {
      "cell_type": "code",
      "metadata": {
        "id": "sv4z8TQzOpsA",
        "colab_type": "code",
        "colab": {},
        "outputId": "5775e0eb-df38-4eda-9db4-2fda8b91717d"
      },
      "source": [
        "np.sqrt(100)"
      ],
      "execution_count": 0,
      "outputs": [
        {
          "output_type": "execute_result",
          "data": {
            "text/plain": [
              "10.0"
            ]
          },
          "metadata": {
            "tags": []
          },
          "execution_count": 2
        }
      ]
    },
    {
      "cell_type": "code",
      "metadata": {
        "id": "08oCw3LgOpsE",
        "colab_type": "code",
        "colab": {}
      },
      "source": [
        "# functions in python:\n",
        "# built in function\n",
        "# custom function"
      ],
      "execution_count": 0,
      "outputs": []
    },
    {
      "cell_type": "code",
      "metadata": {
        "id": "4Tw7GDh8OpsI",
        "colab_type": "code",
        "colab": {}
      },
      "source": [
        "def sqrtt(x): #example of only args\n",
        "    return x**0.5"
      ],
      "execution_count": 0,
      "outputs": []
    },
    {
      "cell_type": "code",
      "metadata": {
        "id": "7tbeIwo5OpsL",
        "colab_type": "code",
        "colab": {},
        "outputId": "5c34fc0c-d6d4-4ad0-a2a5-247b0e159531"
      },
      "source": [
        "sqrtt(100)"
      ],
      "execution_count": 0,
      "outputs": [
        {
          "output_type": "execute_result",
          "data": {
            "text/plain": [
              "10.0"
            ]
          },
          "metadata": {
            "tags": []
          },
          "execution_count": 5
        }
      ]
    },
    {
      "cell_type": "code",
      "metadata": {
        "id": "9qcgE-9POpsP",
        "colab_type": "code",
        "colab": {}
      },
      "source": [
        "def happy(**kwargs):\n",
        "    if kwargs is not None:\n",
        "        for key, value in kwargs.iteritems():\n",
        "            print(key,value)"
      ],
      "execution_count": 0,
      "outputs": []
    },
    {
      "cell_type": "code",
      "metadata": {
        "id": "ed_gDvJrOpsU",
        "colab_type": "code",
        "colab": {}
      },
      "source": [
        "#def happy(**kwargs):\n",
        " #   print(kwargs)"
      ],
      "execution_count": 0,
      "outputs": []
    },
    {
      "cell_type": "code",
      "metadata": {
        "id": "Fool1aypOpsY",
        "colab_type": "code",
        "colab": {}
      },
      "source": [
        "d3 = {'name': 'john'\n",
        "       }"
      ],
      "execution_count": 0,
      "outputs": []
    },
    {
      "cell_type": "code",
      "metadata": {
        "id": "K9h61MYSOpsc",
        "colab_type": "code",
        "colab": {},
        "outputId": "1b5743f4-b3e1-47c1-aec8-37acac072113"
      },
      "source": [
        "d3.items()"
      ],
      "execution_count": 0,
      "outputs": [
        {
          "output_type": "execute_result",
          "data": {
            "text/plain": [
              "dict_items([('name', 'john')])"
            ]
          },
          "metadata": {
            "tags": []
          },
          "execution_count": 37
        }
      ]
    },
    {
      "cell_type": "code",
      "metadata": {
        "id": "Lao3L56XOpsg",
        "colab_type": "code",
        "colab": {},
        "outputId": "555bc8e6-0f02-4924-b0dc-b0bbcb4b33f7"
      },
      "source": [
        "happy(**d3)"
      ],
      "execution_count": 0,
      "outputs": [
        {
          "output_type": "error",
          "ename": "AttributeError",
          "evalue": "'dict' object has no attribute 'iteritems'",
          "traceback": [
            "\u001b[0;31m---------------------------------------------------------------------------\u001b[0m",
            "\u001b[0;31mAttributeError\u001b[0m                            Traceback (most recent call last)",
            "\u001b[0;32m<ipython-input-38-299c05feb594>\u001b[0m in \u001b[0;36m<module>\u001b[0;34m()\u001b[0m\n\u001b[0;32m----> 1\u001b[0;31m \u001b[0mhappy\u001b[0m\u001b[0;34m(\u001b[0m\u001b[0;34m**\u001b[0m\u001b[0md3\u001b[0m\u001b[0;34m)\u001b[0m\u001b[0;34m\u001b[0m\u001b[0m\n\u001b[0m",
            "\u001b[0;32m<ipython-input-34-a137f90ab148>\u001b[0m in \u001b[0;36mhappy\u001b[0;34m(**kwargs)\u001b[0m\n\u001b[1;32m      1\u001b[0m \u001b[0;32mdef\u001b[0m \u001b[0mhappy\u001b[0m\u001b[0;34m(\u001b[0m\u001b[0;34m**\u001b[0m\u001b[0mkwargs\u001b[0m\u001b[0;34m)\u001b[0m\u001b[0;34m:\u001b[0m\u001b[0;34m\u001b[0m\u001b[0m\n\u001b[1;32m      2\u001b[0m     \u001b[0;32mif\u001b[0m \u001b[0mkwargs\u001b[0m \u001b[0;32mis\u001b[0m \u001b[0;32mnot\u001b[0m \u001b[0;32mNone\u001b[0m\u001b[0;34m:\u001b[0m\u001b[0;34m\u001b[0m\u001b[0m\n\u001b[0;32m----> 3\u001b[0;31m         \u001b[0;32mfor\u001b[0m \u001b[0mkey\u001b[0m\u001b[0;34m,\u001b[0m \u001b[0mvalue\u001b[0m \u001b[0;32min\u001b[0m \u001b[0mkwargs\u001b[0m\u001b[0;34m.\u001b[0m\u001b[0miteritems\u001b[0m\u001b[0;34m(\u001b[0m\u001b[0;34m)\u001b[0m\u001b[0;34m:\u001b[0m\u001b[0;34m\u001b[0m\u001b[0m\n\u001b[0m\u001b[1;32m      4\u001b[0m             \u001b[0mprint\u001b[0m\u001b[0;34m(\u001b[0m\u001b[0mkey\u001b[0m\u001b[0;34m,\u001b[0m\u001b[0mvalue\u001b[0m\u001b[0;34m)\u001b[0m\u001b[0;34m\u001b[0m\u001b[0m\n",
            "\u001b[0;31mAttributeError\u001b[0m: 'dict' object has no attribute 'iteritems'"
          ]
        }
      ]
    },
    {
      "cell_type": "code",
      "metadata": {
        "id": "NdNrePViOpsj",
        "colab_type": "code",
        "colab": {}
      },
      "source": [
        "def arguments(arg1,arg2,arg3):\n",
        "    print(arg1)\n",
        "    print(arg2)\n",
        "    print(arg3)"
      ],
      "execution_count": 0,
      "outputs": []
    },
    {
      "cell_type": "code",
      "metadata": {
        "id": "K-iz6y_HOpsm",
        "colab_type": "code",
        "colab": {}
      },
      "source": [
        "args = ('my',33,'cents') #it does not require a dict object"
      ],
      "execution_count": 0,
      "outputs": []
    },
    {
      "cell_type": "code",
      "metadata": {
        "id": "Xwy8QdEQOpso",
        "colab_type": "code",
        "colab": {},
        "outputId": "2a0373e9-ab1d-4244-bb15-7f4f2d52dda6"
      },
      "source": [
        "arguments(*args)"
      ],
      "execution_count": 0,
      "outputs": [
        {
          "output_type": "stream",
          "text": [
            "my\n",
            "33\n",
            "cents\n"
          ],
          "name": "stdout"
        }
      ]
    },
    {
      "cell_type": "code",
      "metadata": {
        "id": "a-V3S3XyOpsr",
        "colab_type": "code",
        "colab": {}
      },
      "source": [
        "kwargs = {'arg1':'my','arg2':33,'arg3':'cents'} # a dict"
      ],
      "execution_count": 0,
      "outputs": []
    },
    {
      "cell_type": "code",
      "metadata": {
        "id": "Up5uRBMFOpsu",
        "colab_type": "code",
        "colab": {},
        "outputId": "2977dea0-a5ab-4316-c81b-c113ca33dfa1"
      },
      "source": [
        "arguments(**kwargs)"
      ],
      "execution_count": 0,
      "outputs": [
        {
          "output_type": "stream",
          "text": [
            "my\n",
            "33\n",
            "cents\n"
          ],
          "name": "stdout"
        }
      ]
    },
    {
      "cell_type": "code",
      "metadata": {
        "id": "FOOLqjtGOps0",
        "colab_type": "code",
        "colab": {}
      },
      "source": [
        "def square(a,b,c):\n",
        "    print(a**b**c)"
      ],
      "execution_count": 0,
      "outputs": []
    },
    {
      "cell_type": "code",
      "metadata": {
        "id": "PYOX0VgHOps3",
        "colab_type": "code",
        "colab": {}
      },
      "source": [
        "args = (2,3,4)"
      ],
      "execution_count": 0,
      "outputs": []
    },
    {
      "cell_type": "code",
      "metadata": {
        "id": "mwyxILTDOps6",
        "colab_type": "code",
        "colab": {},
        "outputId": "50016573-ec11-42f4-8a22-30b24048edf0"
      },
      "source": [
        "square(*args) #args"
      ],
      "execution_count": 0,
      "outputs": [
        {
          "output_type": "stream",
          "text": [
            "2417851639229258349412352\n"
          ],
          "name": "stdout"
        }
      ]
    },
    {
      "cell_type": "code",
      "metadata": {
        "id": "2rTnLy92Ops9",
        "colab_type": "code",
        "colab": {}
      },
      "source": [
        "dict1 = {'a':2,'b':3,'c':4}"
      ],
      "execution_count": 0,
      "outputs": []
    },
    {
      "cell_type": "code",
      "metadata": {
        "id": "AGcT9gtkOps_",
        "colab_type": "code",
        "colab": {},
        "outputId": "53104900-0020-423f-b037-0e07fae57c84"
      },
      "source": [
        "square(**dict1) #kwargs"
      ],
      "execution_count": 0,
      "outputs": [
        {
          "output_type": "stream",
          "text": [
            "2417851639229258349412352\n"
          ],
          "name": "stdout"
        }
      ]
    },
    {
      "cell_type": "code",
      "metadata": {
        "id": "urhyhbY2OptC",
        "colab_type": "code",
        "colab": {}
      },
      "source": [
        "# Adjusted R square\n",
        "\n",
        "# R -square"
      ],
      "execution_count": 0,
      "outputs": []
    },
    {
      "cell_type": "code",
      "metadata": {
        "id": "sDN7aQXBOptF",
        "colab_type": "code",
        "colab": {}
      },
      "source": [
        "# distributions\n",
        "\n",
        "# feature creation\n",
        "\n",
        "# testing of features"
      ],
      "execution_count": 0,
      "outputs": []
    },
    {
      "cell_type": "code",
      "metadata": {
        "id": "AwNJg97YOptI",
        "colab_type": "code",
        "colab": {}
      },
      "source": [
        "# stat models are not always optimized\n",
        "\n",
        "# ML models are always optimized"
      ],
      "execution_count": 0,
      "outputs": []
    },
    {
      "cell_type": "code",
      "metadata": {
        "id": "BAxx7dKzOptK",
        "colab_type": "code",
        "colab": {}
      },
      "source": [
        "import numpy as np"
      ],
      "execution_count": 0,
      "outputs": []
    },
    {
      "cell_type": "code",
      "metadata": {
        "id": "pJKd9c5WOptN",
        "colab_type": "code",
        "colab": {}
      },
      "source": [
        "d = [21,23,34,45,56,67,78,89]"
      ],
      "execution_count": 0,
      "outputs": []
    },
    {
      "cell_type": "code",
      "metadata": {
        "id": "z6b4eBSPOptQ",
        "colab_type": "code",
        "colab": {},
        "outputId": "43879d19-2820-424a-aae8-07db95fb1e45"
      },
      "source": [
        "type(d)"
      ],
      "execution_count": 0,
      "outputs": [
        {
          "output_type": "execute_result",
          "data": {
            "text/plain": [
              "list"
            ]
          },
          "metadata": {
            "tags": []
          },
          "execution_count": 49
        }
      ]
    },
    {
      "cell_type": "code",
      "metadata": {
        "id": "6fa1nurOOptT",
        "colab_type": "code",
        "colab": {},
        "outputId": "840c2309-14f6-43dd-c26b-5182c4188b44"
      },
      "source": [
        "np.array(d)"
      ],
      "execution_count": 0,
      "outputs": [
        {
          "output_type": "execute_result",
          "data": {
            "text/plain": [
              "array([21, 23, 34, 45, 56, 67, 78, 89])"
            ]
          },
          "metadata": {
            "tags": []
          },
          "execution_count": 50
        }
      ]
    },
    {
      "cell_type": "code",
      "metadata": {
        "id": "65LXTLc8OptW",
        "colab_type": "code",
        "colab": {}
      },
      "source": [
        "A = np.array([[3,-2,1],[2,3,-5],[-5,-7,3]])\n",
        "\n",
        "B = np.array([14,25,28])"
      ],
      "execution_count": 0,
      "outputs": []
    },
    {
      "cell_type": "code",
      "metadata": {
        "id": "QyVVjiLzOptc",
        "colab_type": "code",
        "colab": {},
        "outputId": "05a5bf9f-510f-4d35-cb47-3cc1ad671f9b"
      },
      "source": [
        "A"
      ],
      "execution_count": 0,
      "outputs": [
        {
          "output_type": "execute_result",
          "data": {
            "text/plain": [
              "array([[ 3, -2,  1],\n",
              "       [ 2,  3, -5],\n",
              "       [-5, -7,  3]])"
            ]
          },
          "metadata": {
            "tags": []
          },
          "execution_count": 52
        }
      ]
    },
    {
      "cell_type": "code",
      "metadata": {
        "id": "blJZI89COptf",
        "colab_type": "code",
        "colab": {},
        "outputId": "cdb9fbed-199a-4df2-a757-e7626e652d0d"
      },
      "source": [
        "B"
      ],
      "execution_count": 0,
      "outputs": [
        {
          "output_type": "execute_result",
          "data": {
            "text/plain": [
              "array([14, 25, 28])"
            ]
          },
          "metadata": {
            "tags": []
          },
          "execution_count": 53
        }
      ]
    },
    {
      "cell_type": "code",
      "metadata": {
        "id": "qoOfFGvsOptj",
        "colab_type": "code",
        "colab": {},
        "outputId": "b1f77141-dd0b-4c9d-8e2b-23cf2ff87aa1"
      },
      "source": [
        "np.linalg.solve(A,B)"
      ],
      "execution_count": 0,
      "outputs": [
        {
          "output_type": "execute_result",
          "data": {
            "text/plain": [
              "array([  1.67826087,  -9.49565217, -10.02608696])"
            ]
          },
          "metadata": {
            "tags": []
          },
          "execution_count": 31
        }
      ]
    },
    {
      "cell_type": "code",
      "metadata": {
        "id": "tUq9Qa-ROptn",
        "colab_type": "code",
        "colab": {}
      },
      "source": [
        "#solving linear equations"
      ],
      "execution_count": 0,
      "outputs": []
    },
    {
      "cell_type": "code",
      "metadata": {
        "id": "CquSWxpqOptp",
        "colab_type": "code",
        "colab": {}
      },
      "source": [
        "x0 = [1.3, 0.7, 0.8, 1.9, 1.2,0.3]"
      ],
      "execution_count": 0,
      "outputs": []
    },
    {
      "cell_type": "code",
      "metadata": {
        "id": "ac8Ov0K-Optx",
        "colab_type": "code",
        "colab": {}
      },
      "source": [
        "from scipy.optimize import minimize, rosen, rosen_der"
      ],
      "execution_count": 0,
      "outputs": []
    },
    {
      "cell_type": "code",
      "metadata": {
        "id": "Su-ckCGAOptz",
        "colab_type": "code",
        "colab": {},
        "outputId": "30e285f1-038e-4448-fb1b-d8163b478d25"
      },
      "source": [
        "minimize(rosen, x0, method='Nelder-Mead', tol=1e-6)"
      ],
      "execution_count": 0,
      "outputs": [
        {
          "output_type": "execute_result",
          "data": {
            "text/plain": [
              " final_simplex: (array([[ 1.00000001,  0.99999995,  0.99999995,  0.99999997,  0.99999994,\n",
              "         0.99999984],\n",
              "       [ 0.99999999,  0.99999993,  0.99999984,  0.99999977,  0.99999957,\n",
              "         0.9999991 ],\n",
              "       [ 1.00000006,  1.00000002,  1.00000004,  1.00000011,  1.00000018,\n",
              "         1.00000028],\n",
              "       [ 1.00000004,  0.99999998,  0.99999996,  1.00000002,  1.00000005,\n",
              "         1.00000007],\n",
              "       [ 1.00000003,  0.99999995,  0.99999989,  0.99999982,  0.99999961,\n",
              "         0.99999918],\n",
              "       [ 1.00000001,  0.99999994,  0.99999991,  0.99999991,  0.99999982,\n",
              "         0.99999958],\n",
              "       [ 1.00000006,  0.99999999,  1.00000005,  1.0000001 ,  1.00000022,\n",
              "         1.00000039]]), array([  1.23637228e-12,   1.80184988e-12,   1.91866432e-12,\n",
              "         1.95054933e-12,   2.12171837e-12,   2.20742592e-12,\n",
              "         2.32508253e-12]))\n",
              "           fun: 1.2363722847653017e-12\n",
              "       message: 'Optimization terminated successfully.'\n",
              "          nfev: 995\n",
              "           nit: 641\n",
              "        status: 0\n",
              "       success: True\n",
              "             x: array([ 1.00000001,  0.99999995,  0.99999995,  0.99999997,  0.99999994,\n",
              "        0.99999984])"
            ]
          },
          "metadata": {
            "tags": []
          },
          "execution_count": 57
        }
      ]
    },
    {
      "cell_type": "code",
      "metadata": {
        "id": "tnnAAaqxOpt3",
        "colab_type": "code",
        "colab": {},
        "outputId": "d2369b9c-3d58-448c-b17a-3ac540b5def7"
      },
      "source": [
        "scipy.linalg.det(A)"
      ],
      "execution_count": 0,
      "outputs": [
        {
          "output_type": "execute_result",
          "data": {
            "text/plain": [
              "-115.00000000000001"
            ]
          },
          "metadata": {
            "tags": []
          },
          "execution_count": 58
        }
      ]
    },
    {
      "cell_type": "code",
      "metadata": {
        "id": "cYDVDWbROpt6",
        "colab_type": "code",
        "colab": {},
        "outputId": "6a7913bb-4262-4254-ec85-a465e7ecad76"
      },
      "source": [
        "np.linalg.det(A)"
      ],
      "execution_count": 0,
      "outputs": [
        {
          "output_type": "execute_result",
          "data": {
            "text/plain": [
              "-115.00000000000001"
            ]
          },
          "metadata": {
            "tags": []
          },
          "execution_count": 32
        }
      ]
    },
    {
      "cell_type": "code",
      "metadata": {
        "id": "K33R11WhOpuB",
        "colab_type": "code",
        "colab": {}
      },
      "source": [
        "# sklearn: ML algo\n",
        "# the input dataset has to be in Numpy array format"
      ],
      "execution_count": 0,
      "outputs": []
    },
    {
      "cell_type": "code",
      "metadata": {
        "id": "SR3l6sH-OpuE",
        "colab_type": "code",
        "colab": {}
      },
      "source": [
        "d1 = np.array([[2, 5.4, 1], [3.1, 5, 4]])"
      ],
      "execution_count": 0,
      "outputs": []
    },
    {
      "cell_type": "code",
      "metadata": {
        "id": "BqAQcq6zOpuH",
        "colab_type": "code",
        "colab": {}
      },
      "source": [
        "d2 = np.array([[2, 5.4, '?'], [3.1, 5, 4]])"
      ],
      "execution_count": 0,
      "outputs": []
    },
    {
      "cell_type": "code",
      "metadata": {
        "id": "qheKvrLZOpuN",
        "colab_type": "code",
        "colab": {},
        "outputId": "b5b92f42-361a-4a53-99f6-e052fee4f99f"
      },
      "source": [
        "d1 + d2"
      ],
      "execution_count": 0,
      "outputs": [
        {
          "output_type": "error",
          "ename": "TypeError",
          "evalue": "ufunc 'add' did not contain a loop with signature matching types dtype('<U32') dtype('<U32') dtype('<U32')",
          "traceback": [
            "\u001b[0;31m---------------------------------------------------------------------------\u001b[0m",
            "\u001b[0;31mTypeError\u001b[0m                                 Traceback (most recent call last)",
            "\u001b[0;32m<ipython-input-61-5fdc4b12eb03>\u001b[0m in \u001b[0;36m<module>\u001b[0;34m()\u001b[0m\n\u001b[0;32m----> 1\u001b[0;31m \u001b[0md1\u001b[0m \u001b[0;34m+\u001b[0m \u001b[0md2\u001b[0m\u001b[0;34m\u001b[0m\u001b[0m\n\u001b[0m",
            "\u001b[0;31mTypeError\u001b[0m: ufunc 'add' did not contain a loop with signature matching types dtype('<U32') dtype('<U32') dtype('<U32')"
          ]
        }
      ]
    },
    {
      "cell_type": "code",
      "metadata": {
        "id": "PuaUKO2fOpuQ",
        "colab_type": "code",
        "colab": {},
        "outputId": "ac7da446-6366-4987-b806-2a139241fa92"
      },
      "source": [
        "d2"
      ],
      "execution_count": 0,
      "outputs": [
        {
          "output_type": "execute_result",
          "data": {
            "text/plain": [
              "array([['2', '5.4', '?'],\n",
              "       ['3.1', '5', '4']], \n",
              "      dtype='<U32')"
            ]
          },
          "metadata": {
            "tags": []
          },
          "execution_count": 62
        }
      ]
    },
    {
      "cell_type": "code",
      "metadata": {
        "id": "8T_B5jukOpuT",
        "colab_type": "code",
        "colab": {},
        "outputId": "4771b524-ffc2-4011-b649-8a1d36692c77"
      },
      "source": [
        "np.array([[2, 5.4, 1], [3.1, 5, 4]])"
      ],
      "execution_count": 0,
      "outputs": [
        {
          "output_type": "execute_result",
          "data": {
            "text/plain": [
              "array([[ 2. ,  5.4,  1. ],\n",
              "       [ 3.1,  5. ,  4. ]])"
            ]
          },
          "metadata": {
            "tags": []
          },
          "execution_count": 39
        }
      ]
    },
    {
      "cell_type": "code",
      "metadata": {
        "id": "CPayFMhvOpuW",
        "colab_type": "code",
        "colab": {},
        "outputId": "115127ba-3790-4786-e845-604b1c07dd98"
      },
      "source": [
        "np.array([[2, 5.4, '?'], [3.1, 5, 4]])"
      ],
      "execution_count": 0,
      "outputs": [
        {
          "output_type": "execute_result",
          "data": {
            "text/plain": [
              "array([['2', '5.4', '?'],\n",
              "       ['3.1', '5', '4']], \n",
              "      dtype='<U32')"
            ]
          },
          "metadata": {
            "tags": []
          },
          "execution_count": 40
        }
      ]
    },
    {
      "cell_type": "code",
      "metadata": {
        "id": "vvvuzE_hOpuZ",
        "colab_type": "code",
        "colab": {},
        "outputId": "10c9e234-cf0e-4972-8eea-35327c107dfc"
      },
      "source": [
        "np.array([[2, 5.4, True], [3.1, 5, 4]])"
      ],
      "execution_count": 0,
      "outputs": [
        {
          "output_type": "execute_result",
          "data": {
            "text/plain": [
              "array([[ 2. ,  5.4,  1. ],\n",
              "       [ 3.1,  5. ,  4. ]])"
            ]
          },
          "metadata": {
            "tags": []
          },
          "execution_count": 35
        }
      ]
    },
    {
      "cell_type": "code",
      "metadata": {
        "id": "nRXq4ys3Opuc",
        "colab_type": "code",
        "colab": {},
        "outputId": "c90fb54f-ad39-4633-aba5-396c9da72ba9"
      },
      "source": [
        "np.array([[2, 5.4, None], [3.1, 5, 4]])"
      ],
      "execution_count": 0,
      "outputs": [
        {
          "output_type": "execute_result",
          "data": {
            "text/plain": [
              "array([[2, 5.4, None],\n",
              "       [3.1, 5, 4]], dtype=object)"
            ]
          },
          "metadata": {
            "tags": []
          },
          "execution_count": 37
        }
      ]
    },
    {
      "cell_type": "code",
      "metadata": {
        "id": "yIiMKIIMOpug",
        "colab_type": "code",
        "colab": {}
      },
      "source": [
        "# string > float > integer"
      ],
      "execution_count": 0,
      "outputs": []
    },
    {
      "cell_type": "code",
      "metadata": {
        "id": "fS5vr73NOpui",
        "colab_type": "code",
        "colab": {}
      },
      "source": [
        "d1 = np.array([[2, 5.4, '?'], [3.1, 5, 4]])"
      ],
      "execution_count": 0,
      "outputs": []
    },
    {
      "cell_type": "code",
      "metadata": {
        "id": "sUA3t12TOpuj",
        "colab_type": "code",
        "colab": {},
        "outputId": "cd452426-2423-4468-d0f8-b04315feaf7a"
      },
      "source": [
        "d1.ndim"
      ],
      "execution_count": 0,
      "outputs": [
        {
          "output_type": "execute_result",
          "data": {
            "text/plain": [
              "2"
            ]
          },
          "metadata": {
            "tags": []
          },
          "execution_count": 47
        }
      ]
    },
    {
      "cell_type": "code",
      "metadata": {
        "id": "EUfktdxEOpul",
        "colab_type": "code",
        "colab": {},
        "outputId": "7871ba06-fd74-411b-e810-142add16f4ed"
      },
      "source": [
        "d1.size"
      ],
      "execution_count": 0,
      "outputs": [
        {
          "output_type": "execute_result",
          "data": {
            "text/plain": [
              "6"
            ]
          },
          "metadata": {
            "tags": []
          },
          "execution_count": 48
        }
      ]
    },
    {
      "cell_type": "code",
      "metadata": {
        "id": "S8hqg-Y_Opun",
        "colab_type": "code",
        "colab": {},
        "outputId": "027b0b62-bdd6-450c-c7c7-3289e0b7809d"
      },
      "source": [
        "d1.shape"
      ],
      "execution_count": 0,
      "outputs": [
        {
          "output_type": "execute_result",
          "data": {
            "text/plain": [
              "(2, 3)"
            ]
          },
          "metadata": {
            "tags": []
          },
          "execution_count": 49
        }
      ]
    },
    {
      "cell_type": "code",
      "metadata": {
        "id": "zfFExQn0Opur",
        "colab_type": "code",
        "colab": {},
        "outputId": "f0a62c4d-3cc2-4e1a-8a23-166ad5b6f0e6"
      },
      "source": [
        "d1.dtype"
      ],
      "execution_count": 0,
      "outputs": [
        {
          "output_type": "execute_result",
          "data": {
            "text/plain": [
              "dtype('<U32')"
            ]
          },
          "metadata": {
            "tags": []
          },
          "execution_count": 50
        }
      ]
    },
    {
      "cell_type": "code",
      "metadata": {
        "id": "CkraLHosOpuv",
        "colab_type": "code",
        "colab": {},
        "outputId": "16af4f2a-f346-4b27-cfa8-3d30bd6de63b"
      },
      "source": [
        "A"
      ],
      "execution_count": 0,
      "outputs": [
        {
          "output_type": "execute_result",
          "data": {
            "text/plain": [
              "array([[ 3, -2,  1],\n",
              "       [ 2,  3, -5],\n",
              "       [-5, -7,  3]])"
            ]
          },
          "metadata": {
            "tags": []
          },
          "execution_count": 63
        }
      ]
    },
    {
      "cell_type": "code",
      "metadata": {
        "id": "GS7w2TtuOpuy",
        "colab_type": "code",
        "colab": {}
      },
      "source": [
        "w,v = np.linalg.eig(A)"
      ],
      "execution_count": 0,
      "outputs": []
    },
    {
      "cell_type": "code",
      "metadata": {
        "id": "AxhVY7-_Opuz",
        "colab_type": "code",
        "colab": {},
        "outputId": "7b1ad167-908e-4011-b8ad-caa4610e32bf"
      },
      "source": [
        "w #eigen values"
      ],
      "execution_count": 0,
      "outputs": [
        {
          "output_type": "execute_result",
          "data": {
            "text/plain": [
              "array([ 6.02413385+1.19839754j,  6.02413385-1.19839754j, -3.04826770+0.j        ])"
            ]
          },
          "metadata": {
            "tags": []
          },
          "execution_count": 65
        }
      ]
    },
    {
      "cell_type": "code",
      "metadata": {
        "id": "ddaxjgL3Opu1",
        "colab_type": "code",
        "colab": {},
        "outputId": "f0728023-9881-4ebb-deb2-dac6019b7be1"
      },
      "source": [
        "v #eigen vectors"
      ],
      "execution_count": 0,
      "outputs": [
        {
          "output_type": "execute_result",
          "data": {
            "text/plain": [
              "array([[ 0.51763744-0.18115428j,  0.51763744+0.18115428j,  0.07602323+0.j        ],\n",
              "       [-0.60481749+0.j        , -0.60481749-0.j        ,  0.62025727+0.j        ],\n",
              "       [ 0.57286479+0.07250065j,  0.57286479-0.07250065j,  0.78070570+0.j        ]])"
            ]
          },
          "metadata": {
            "tags": []
          },
          "execution_count": 66
        }
      ]
    },
    {
      "cell_type": "code",
      "metadata": {
        "id": "cVtJazpoOpu3",
        "colab_type": "code",
        "colab": {}
      },
      "source": [
        "d1 = [6,7,8,9,12,23]"
      ],
      "execution_count": 0,
      "outputs": []
    },
    {
      "cell_type": "code",
      "metadata": {
        "id": "vAPDfuI_Opu5",
        "colab_type": "code",
        "colab": {},
        "outputId": "cbdaf62c-5771-454a-dcb1-10ac82317ae8"
      },
      "source": [
        "d1"
      ],
      "execution_count": 0,
      "outputs": [
        {
          "output_type": "execute_result",
          "data": {
            "text/plain": [
              "[6, 7, 8, 9, 12, 23]"
            ]
          },
          "metadata": {
            "tags": []
          },
          "execution_count": 58
        }
      ]
    },
    {
      "cell_type": "code",
      "metadata": {
        "id": "6ENOfVeZOpu7",
        "colab_type": "code",
        "colab": {},
        "outputId": "de704f5d-de8c-4863-aa74-6772ca515a6e"
      },
      "source": [
        "np.asarray(d1)"
      ],
      "execution_count": 0,
      "outputs": [
        {
          "output_type": "execute_result",
          "data": {
            "text/plain": [
              "array([ 6,  7,  8,  9, 12, 23])"
            ]
          },
          "metadata": {
            "tags": []
          },
          "execution_count": 59
        }
      ]
    },
    {
      "cell_type": "code",
      "metadata": {
        "id": "t_5RI09BOpu9",
        "colab_type": "code",
        "colab": {},
        "outputId": "47a444b1-e05c-4d90-d1ec-a770a52205b0"
      },
      "source": [
        "np.array(d1)"
      ],
      "execution_count": 0,
      "outputs": [
        {
          "output_type": "execute_result",
          "data": {
            "text/plain": [
              "array([ 6,  7,  8,  9, 12, 23])"
            ]
          },
          "metadata": {
            "tags": []
          },
          "execution_count": 60
        }
      ]
    },
    {
      "cell_type": "code",
      "metadata": {
        "id": "DyPTX6y7OpvB",
        "colab_type": "code",
        "colab": {}
      },
      "source": [
        "d2 = [list(range(1,10)),list(range(10,20))]"
      ],
      "execution_count": 0,
      "outputs": []
    },
    {
      "cell_type": "code",
      "metadata": {
        "id": "GLtyU1o8OpvD",
        "colab_type": "code",
        "colab": {},
        "outputId": "14ec88ff-606a-4fd1-80c2-5e2801eca2b0"
      },
      "source": [
        "d2"
      ],
      "execution_count": 0,
      "outputs": [
        {
          "output_type": "execute_result",
          "data": {
            "text/plain": [
              "[[1, 2, 3, 4, 5, 6, 7, 8, 9], [10, 11, 12, 13, 14, 15, 16, 17, 18, 19]]"
            ]
          },
          "metadata": {
            "tags": []
          },
          "execution_count": 64
        }
      ]
    },
    {
      "cell_type": "code",
      "metadata": {
        "id": "LAEmYMcNOpvJ",
        "colab_type": "code",
        "colab": {},
        "outputId": "74f3ace5-a9c7-41e7-e494-0da0e26d07b2"
      },
      "source": [
        "np.asarray(d2)"
      ],
      "execution_count": 0,
      "outputs": [
        {
          "output_type": "execute_result",
          "data": {
            "text/plain": [
              "array([[1, 2, 3, 4, 5, 6, 7, 8, 9],\n",
              "       [10, 11, 12, 13, 14, 15, 16, 17, 18, 19]], dtype=object)"
            ]
          },
          "metadata": {
            "tags": []
          },
          "execution_count": 65
        }
      ]
    },
    {
      "cell_type": "code",
      "metadata": {
        "id": "8KYutr-POpvN",
        "colab_type": "code",
        "colab": {},
        "outputId": "9d09b810-93b6-4d37-ba24-91ed44c673ce"
      },
      "source": [
        "np.array(d2)"
      ],
      "execution_count": 0,
      "outputs": [
        {
          "output_type": "execute_result",
          "data": {
            "text/plain": [
              "array([[1, 2, 3, 4, 5, 6, 7, 8, 9],\n",
              "       [10, 11, 12, 13, 14, 15, 16, 17, 18, 19]], dtype=object)"
            ]
          },
          "metadata": {
            "tags": []
          },
          "execution_count": 66
        }
      ]
    },
    {
      "cell_type": "code",
      "metadata": {
        "id": "uYBoyr3ROpvQ",
        "colab_type": "code",
        "colab": {}
      },
      "source": [
        "d3 = np.array(d2)"
      ],
      "execution_count": 0,
      "outputs": []
    },
    {
      "cell_type": "code",
      "metadata": {
        "id": "MHECREbhOpvS",
        "colab_type": "code",
        "colab": {},
        "outputId": "14a11454-d207-40f3-f9d1-6db2506a6145"
      },
      "source": [
        "d3"
      ],
      "execution_count": 0,
      "outputs": [
        {
          "output_type": "execute_result",
          "data": {
            "text/plain": [
              "array([[1, 2, 3, 4, 5, 6, 7, 8, 9],\n",
              "       [10, 11, 12, 13, 14, 15, 16, 17, 18, 19]], dtype=object)"
            ]
          },
          "metadata": {
            "tags": []
          },
          "execution_count": 69
        }
      ]
    },
    {
      "cell_type": "code",
      "metadata": {
        "id": "dVf_sB6rOpvU",
        "colab_type": "code",
        "colab": {},
        "outputId": "493c389a-49da-455c-fb9b-94de4956c71b"
      },
      "source": [
        "d3.tolist()"
      ],
      "execution_count": 0,
      "outputs": [
        {
          "output_type": "execute_result",
          "data": {
            "text/plain": [
              "[[1, 2, 3, 4, 5, 6, 7, 8, 9], [10, 11, 12, 13, 14, 15, 16, 17, 18, 19]]"
            ]
          },
          "metadata": {
            "tags": []
          },
          "execution_count": 70
        }
      ]
    },
    {
      "cell_type": "code",
      "metadata": {
        "id": "5yCa7KZBOpvW",
        "colab_type": "code",
        "colab": {},
        "outputId": "8665ccda-a01d-4386-af5a-f880f710cc9b"
      },
      "source": [
        "d2"
      ],
      "execution_count": 0,
      "outputs": [
        {
          "output_type": "execute_result",
          "data": {
            "text/plain": [
              "[[1, 2, 3, 4, 5, 6, 7, 8, 9], [10, 11, 12, 13, 14, 15, 16, 17, 18, 19]]"
            ]
          },
          "metadata": {
            "tags": []
          },
          "execution_count": 71
        }
      ]
    },
    {
      "cell_type": "code",
      "metadata": {
        "id": "4vY4HBSwOpvZ",
        "colab_type": "code",
        "colab": {},
        "outputId": "234af83e-c4ab-45ee-ee1d-27667494cbd5"
      },
      "source": [
        "d3"
      ],
      "execution_count": 0,
      "outputs": [
        {
          "output_type": "execute_result",
          "data": {
            "text/plain": [
              "array([[1, 2, 3, 4, 5, 6, 7, 8, 9],\n",
              "       [10, 11, 12, 13, 14, 15, 16, 17, 18, 19]], dtype=object)"
            ]
          },
          "metadata": {
            "tags": []
          },
          "execution_count": 72
        }
      ]
    },
    {
      "cell_type": "code",
      "metadata": {
        "id": "WnWoh-64Opvb",
        "colab_type": "code",
        "colab": {},
        "outputId": "79df914d-784d-492f-a571-a9f41ac3198d"
      },
      "source": [
        "d3.dtype"
      ],
      "execution_count": 0,
      "outputs": [
        {
          "output_type": "execute_result",
          "data": {
            "text/plain": [
              "dtype('O')"
            ]
          },
          "metadata": {
            "tags": []
          },
          "execution_count": 73
        }
      ]
    },
    {
      "cell_type": "code",
      "metadata": {
        "id": "S6qgk7HNOpvc",
        "colab_type": "code",
        "colab": {},
        "outputId": "e88140a7-cf97-42e4-e4ba-34dac601190c"
      },
      "source": [
        "d3.ndim"
      ],
      "execution_count": 0,
      "outputs": [
        {
          "output_type": "execute_result",
          "data": {
            "text/plain": [
              "1"
            ]
          },
          "metadata": {
            "tags": []
          },
          "execution_count": 74
        }
      ]
    },
    {
      "cell_type": "code",
      "metadata": {
        "id": "pPO_7qG2Opve",
        "colab_type": "code",
        "colab": {},
        "outputId": "96f78cae-2881-40b1-ff18-89f6f7579ce2"
      },
      "source": [
        "d3.shape"
      ],
      "execution_count": 0,
      "outputs": [
        {
          "output_type": "execute_result",
          "data": {
            "text/plain": [
              "(2,)"
            ]
          },
          "metadata": {
            "tags": []
          },
          "execution_count": 75
        }
      ]
    },
    {
      "cell_type": "code",
      "metadata": {
        "id": "f1VWplSKOpvg",
        "colab_type": "code",
        "colab": {},
        "outputId": "fcb0e12b-05d0-44c4-9c31-a1b8bc84a7c3"
      },
      "source": [
        "d3.size"
      ],
      "execution_count": 0,
      "outputs": [
        {
          "output_type": "execute_result",
          "data": {
            "text/plain": [
              "2"
            ]
          },
          "metadata": {
            "tags": []
          },
          "execution_count": 76
        }
      ]
    },
    {
      "cell_type": "code",
      "metadata": {
        "id": "JR1nQgeSOpvi",
        "colab_type": "code",
        "colab": {},
        "outputId": "92ef4ea2-5b91-481e-976c-70c26729ce97"
      },
      "source": [
        "len(d3)"
      ],
      "execution_count": 0,
      "outputs": [
        {
          "output_type": "execute_result",
          "data": {
            "text/plain": [
              "2"
            ]
          },
          "metadata": {
            "tags": []
          },
          "execution_count": 77
        }
      ]
    },
    {
      "cell_type": "code",
      "metadata": {
        "id": "h5mG6oIpOpvk",
        "colab_type": "code",
        "colab": {}
      },
      "source": [
        "#special arrays as helper functions"
      ],
      "execution_count": 0,
      "outputs": []
    },
    {
      "cell_type": "code",
      "metadata": {
        "id": "1Er2xPHtOpvn",
        "colab_type": "code",
        "colab": {},
        "outputId": "3fcffaea-f213-4f55-ffe8-158d33c6292d"
      },
      "source": [
        "np.zeros(10)"
      ],
      "execution_count": 0,
      "outputs": [
        {
          "output_type": "execute_result",
          "data": {
            "text/plain": [
              "array([ 0.,  0.,  0.,  0.,  0.,  0.,  0.,  0.,  0.,  0.])"
            ]
          },
          "metadata": {
            "tags": []
          },
          "execution_count": 67
        }
      ]
    },
    {
      "cell_type": "code",
      "metadata": {
        "id": "9gb_C8qyOpvq",
        "colab_type": "code",
        "colab": {},
        "outputId": "3a091064-a08a-4a1e-9124-024b8d768b83"
      },
      "source": [
        "np.zeros((10,10))"
      ],
      "execution_count": 0,
      "outputs": [
        {
          "output_type": "execute_result",
          "data": {
            "text/plain": [
              "array([[ 0.,  0.,  0.,  0.,  0.,  0.,  0.,  0.,  0.,  0.],\n",
              "       [ 0.,  0.,  0.,  0.,  0.,  0.,  0.,  0.,  0.,  0.],\n",
              "       [ 0.,  0.,  0.,  0.,  0.,  0.,  0.,  0.,  0.,  0.],\n",
              "       [ 0.,  0.,  0.,  0.,  0.,  0.,  0.,  0.,  0.,  0.],\n",
              "       [ 0.,  0.,  0.,  0.,  0.,  0.,  0.,  0.,  0.,  0.],\n",
              "       [ 0.,  0.,  0.,  0.,  0.,  0.,  0.,  0.,  0.,  0.],\n",
              "       [ 0.,  0.,  0.,  0.,  0.,  0.,  0.,  0.,  0.,  0.],\n",
              "       [ 0.,  0.,  0.,  0.,  0.,  0.,  0.,  0.,  0.,  0.],\n",
              "       [ 0.,  0.,  0.,  0.,  0.,  0.,  0.,  0.,  0.,  0.],\n",
              "       [ 0.,  0.,  0.,  0.,  0.,  0.,  0.,  0.,  0.,  0.]])"
            ]
          },
          "metadata": {
            "tags": []
          },
          "execution_count": 68
        }
      ]
    },
    {
      "cell_type": "code",
      "metadata": {
        "id": "SGnsnCBtOpvs",
        "colab_type": "code",
        "colab": {},
        "outputId": "1e205f30-2387-42bb-fe9d-8dadec3b9ead"
      },
      "source": [
        "np.ones((10,10))"
      ],
      "execution_count": 0,
      "outputs": [
        {
          "output_type": "execute_result",
          "data": {
            "text/plain": [
              "array([[ 1.,  1.,  1.,  1.,  1.,  1.,  1.,  1.,  1.,  1.],\n",
              "       [ 1.,  1.,  1.,  1.,  1.,  1.,  1.,  1.,  1.,  1.],\n",
              "       [ 1.,  1.,  1.,  1.,  1.,  1.,  1.,  1.,  1.,  1.],\n",
              "       [ 1.,  1.,  1.,  1.,  1.,  1.,  1.,  1.,  1.,  1.],\n",
              "       [ 1.,  1.,  1.,  1.,  1.,  1.,  1.,  1.,  1.,  1.],\n",
              "       [ 1.,  1.,  1.,  1.,  1.,  1.,  1.,  1.,  1.,  1.],\n",
              "       [ 1.,  1.,  1.,  1.,  1.,  1.,  1.,  1.,  1.,  1.],\n",
              "       [ 1.,  1.,  1.,  1.,  1.,  1.,  1.,  1.,  1.,  1.],\n",
              "       [ 1.,  1.,  1.,  1.,  1.,  1.,  1.,  1.,  1.,  1.],\n",
              "       [ 1.,  1.,  1.,  1.,  1.,  1.,  1.,  1.,  1.,  1.]])"
            ]
          },
          "metadata": {
            "tags": []
          },
          "execution_count": 69
        }
      ]
    },
    {
      "cell_type": "code",
      "metadata": {
        "id": "d4ZprUpXOpvu",
        "colab_type": "code",
        "colab": {},
        "outputId": "56fbd31b-2a2f-4cb0-95e6-e26e22f7abeb"
      },
      "source": [
        "np.linspace(10,100,100)"
      ],
      "execution_count": 0,
      "outputs": [
        {
          "output_type": "execute_result",
          "data": {
            "text/plain": [
              "array([  10.        ,   10.90909091,   11.81818182,   12.72727273,\n",
              "         13.63636364,   14.54545455,   15.45454545,   16.36363636,\n",
              "         17.27272727,   18.18181818,   19.09090909,   20.        ,\n",
              "         20.90909091,   21.81818182,   22.72727273,   23.63636364,\n",
              "         24.54545455,   25.45454545,   26.36363636,   27.27272727,\n",
              "         28.18181818,   29.09090909,   30.        ,   30.90909091,\n",
              "         31.81818182,   32.72727273,   33.63636364,   34.54545455,\n",
              "         35.45454545,   36.36363636,   37.27272727,   38.18181818,\n",
              "         39.09090909,   40.        ,   40.90909091,   41.81818182,\n",
              "         42.72727273,   43.63636364,   44.54545455,   45.45454545,\n",
              "         46.36363636,   47.27272727,   48.18181818,   49.09090909,\n",
              "         50.        ,   50.90909091,   51.81818182,   52.72727273,\n",
              "         53.63636364,   54.54545455,   55.45454545,   56.36363636,\n",
              "         57.27272727,   58.18181818,   59.09090909,   60.        ,\n",
              "         60.90909091,   61.81818182,   62.72727273,   63.63636364,\n",
              "         64.54545455,   65.45454545,   66.36363636,   67.27272727,\n",
              "         68.18181818,   69.09090909,   70.        ,   70.90909091,\n",
              "         71.81818182,   72.72727273,   73.63636364,   74.54545455,\n",
              "         75.45454545,   76.36363636,   77.27272727,   78.18181818,\n",
              "         79.09090909,   80.        ,   80.90909091,   81.81818182,\n",
              "         82.72727273,   83.63636364,   84.54545455,   85.45454545,\n",
              "         86.36363636,   87.27272727,   88.18181818,   89.09090909,\n",
              "         90.        ,   90.90909091,   91.81818182,   92.72727273,\n",
              "         93.63636364,   94.54545455,   95.45454545,   96.36363636,\n",
              "         97.27272727,   98.18181818,   99.09090909,  100.        ])"
            ]
          },
          "metadata": {
            "tags": []
          },
          "execution_count": 71
        }
      ]
    },
    {
      "cell_type": "code",
      "metadata": {
        "id": "6J56w4mGOpvw",
        "colab_type": "code",
        "colab": {},
        "outputId": "7d3febaa-9415-4415-c82a-77c9f6b01968"
      },
      "source": [
        "np.eye(10)"
      ],
      "execution_count": 0,
      "outputs": [
        {
          "output_type": "execute_result",
          "data": {
            "text/plain": [
              "array([[ 1.,  0.,  0.,  0.,  0.,  0.,  0.,  0.,  0.,  0.],\n",
              "       [ 0.,  1.,  0.,  0.,  0.,  0.,  0.,  0.,  0.,  0.],\n",
              "       [ 0.,  0.,  1.,  0.,  0.,  0.,  0.,  0.,  0.,  0.],\n",
              "       [ 0.,  0.,  0.,  1.,  0.,  0.,  0.,  0.,  0.,  0.],\n",
              "       [ 0.,  0.,  0.,  0.,  1.,  0.,  0.,  0.,  0.,  0.],\n",
              "       [ 0.,  0.,  0.,  0.,  0.,  1.,  0.,  0.,  0.,  0.],\n",
              "       [ 0.,  0.,  0.,  0.,  0.,  0.,  1.,  0.,  0.,  0.],\n",
              "       [ 0.,  0.,  0.,  0.,  0.,  0.,  0.,  1.,  0.,  0.],\n",
              "       [ 0.,  0.,  0.,  0.,  0.,  0.,  0.,  0.,  1.,  0.],\n",
              "       [ 0.,  0.,  0.,  0.,  0.,  0.,  0.,  0.,  0.,  1.]])"
            ]
          },
          "metadata": {
            "tags": []
          },
          "execution_count": 75
        }
      ]
    },
    {
      "cell_type": "code",
      "metadata": {
        "id": "EV00mKXKOpv0",
        "colab_type": "code",
        "colab": {},
        "outputId": "ee3591d7-cce1-44d8-b79b-771209c512d1"
      },
      "source": [
        "np.array([[2, 5.4, 1], [3.1, 5, 4]])"
      ],
      "execution_count": 0,
      "outputs": [
        {
          "output_type": "execute_result",
          "data": {
            "text/plain": [
              "array([[ 2. ,  5.4,  1. ],\n",
              "       [ 3.1,  5. ,  4. ]])"
            ]
          },
          "metadata": {
            "tags": []
          },
          "execution_count": 88
        }
      ]
    },
    {
      "cell_type": "code",
      "metadata": {
        "id": "eURhYgxHOpv2",
        "colab_type": "code",
        "colab": {},
        "outputId": "620db210-f6ee-433a-88a3-5de6a7f9a8a9"
      },
      "source": [
        "np.linspace(10,100,20)"
      ],
      "execution_count": 0,
      "outputs": [
        {
          "output_type": "execute_result",
          "data": {
            "text/plain": [
              "array([  10.        ,   14.73684211,   19.47368421,   24.21052632,\n",
              "         28.94736842,   33.68421053,   38.42105263,   43.15789474,\n",
              "         47.89473684,   52.63157895,   57.36842105,   62.10526316,\n",
              "         66.84210526,   71.57894737,   76.31578947,   81.05263158,\n",
              "         85.78947368,   90.52631579,   95.26315789,  100.        ])"
            ]
          },
          "metadata": {
            "tags": []
          },
          "execution_count": 89
        }
      ]
    },
    {
      "cell_type": "code",
      "metadata": {
        "id": "EGSaimOJOpv4",
        "colab_type": "code",
        "colab": {},
        "outputId": "7a6de66c-8e1b-428a-c825-279a7d156040"
      },
      "source": [
        "np.linspace(10,100,20)"
      ],
      "execution_count": 0,
      "outputs": [
        {
          "output_type": "execute_result",
          "data": {
            "text/plain": [
              "array([  10.        ,   14.73684211,   19.47368421,   24.21052632,\n",
              "         28.94736842,   33.68421053,   38.42105263,   43.15789474,\n",
              "         47.89473684,   52.63157895,   57.36842105,   62.10526316,\n",
              "         66.84210526,   71.57894737,   76.31578947,   81.05263158,\n",
              "         85.78947368,   90.52631579,   95.26315789,  100.        ])"
            ]
          },
          "metadata": {
            "tags": []
          },
          "execution_count": 90
        }
      ]
    },
    {
      "cell_type": "code",
      "metadata": {
        "id": "vXYsZsPnOpv5",
        "colab_type": "code",
        "colab": {},
        "outputId": "d79d7dec-5fee-493a-d927-98216e00a899"
      },
      "source": [
        "np.linspace(10,100,20)"
      ],
      "execution_count": 0,
      "outputs": [
        {
          "output_type": "execute_result",
          "data": {
            "text/plain": [
              "array([  10.        ,   14.73684211,   19.47368421,   24.21052632,\n",
              "         28.94736842,   33.68421053,   38.42105263,   43.15789474,\n",
              "         47.89473684,   52.63157895,   57.36842105,   62.10526316,\n",
              "         66.84210526,   71.57894737,   76.31578947,   81.05263158,\n",
              "         85.78947368,   90.52631579,   95.26315789,  100.        ])"
            ]
          },
          "metadata": {
            "tags": []
          },
          "execution_count": 91
        }
      ]
    },
    {
      "cell_type": "code",
      "metadata": {
        "id": "oJZG-52kOpv7",
        "colab_type": "code",
        "colab": {},
        "outputId": "4ff38117-977f-4ed0-9ad4-f10ee27a2405"
      },
      "source": [
        "(100-10)/20"
      ],
      "execution_count": 0,
      "outputs": [
        {
          "output_type": "execute_result",
          "data": {
            "text/plain": [
              "4.5"
            ]
          },
          "metadata": {
            "tags": []
          },
          "execution_count": 92
        }
      ]
    },
    {
      "cell_type": "code",
      "metadata": {
        "id": "u-CKAqmDOpwB",
        "colab_type": "code",
        "colab": {}
      },
      "source": [
        "#lambda function"
      ],
      "execution_count": 0,
      "outputs": []
    },
    {
      "cell_type": "code",
      "metadata": {
        "id": "PA3TW63POpwD",
        "colab_type": "code",
        "colab": {}
      },
      "source": [
        "def square(x):\n",
        "    print(x**2)"
      ],
      "execution_count": 0,
      "outputs": []
    },
    {
      "cell_type": "code",
      "metadata": {
        "id": "v9a9gM95OpwF",
        "colab_type": "code",
        "colab": {},
        "outputId": "c9c94081-22aa-427c-e02a-d6a4835d9960"
      },
      "source": [
        "square(100)"
      ],
      "execution_count": 0,
      "outputs": [
        {
          "output_type": "stream",
          "text": [
            "10000\n"
          ],
          "name": "stdout"
        }
      ]
    },
    {
      "cell_type": "code",
      "metadata": {
        "id": "Dtz5Q9D3OpwG",
        "colab_type": "code",
        "colab": {},
        "outputId": "faa96f1c-3e64-45ec-d515-97ebdee6171c"
      },
      "source": [
        "lambda x: x**2"
      ],
      "execution_count": 0,
      "outputs": [
        {
          "output_type": "execute_result",
          "data": {
            "text/plain": [
              "<function __main__.<lambda>>"
            ]
          },
          "metadata": {
            "tags": []
          },
          "execution_count": 78
        }
      ]
    },
    {
      "cell_type": "code",
      "metadata": {
        "id": "LUMJ5d9IOpwJ",
        "colab_type": "code",
        "colab": {},
        "outputId": "4e946cc2-5fab-4de6-a43b-b10b262ced89"
      },
      "source": [
        "square(10) #custom function"
      ],
      "execution_count": 0,
      "outputs": [
        {
          "output_type": "stream",
          "text": [
            "100\n"
          ],
          "name": "stdout"
        }
      ]
    },
    {
      "cell_type": "code",
      "metadata": {
        "id": "rf3OW3TNOpwK",
        "colab_type": "code",
        "colab": {},
        "outputId": "3c541eb1-d1c1-42b4-ac9c-3bba947184ab"
      },
      "source": [
        "np.square(10) #builtin function"
      ],
      "execution_count": 0,
      "outputs": [
        {
          "output_type": "execute_result",
          "data": {
            "text/plain": [
              "100"
            ]
          },
          "metadata": {
            "tags": []
          },
          "execution_count": 99
        }
      ]
    },
    {
      "cell_type": "code",
      "metadata": {
        "id": "XvvK-zDzOpwO",
        "colab_type": "code",
        "colab": {}
      },
      "source": [
        "# Anonymous function"
      ],
      "execution_count": 0,
      "outputs": []
    },
    {
      "cell_type": "code",
      "metadata": {
        "id": "Td6HrBv9OpwP",
        "colab_type": "code",
        "colab": {}
      },
      "source": [
        "model = lambda x: x**2 + x*3 - x"
      ],
      "execution_count": 0,
      "outputs": []
    },
    {
      "cell_type": "code",
      "metadata": {
        "id": "NWqo-uaxOpwV",
        "colab_type": "code",
        "colab": {},
        "outputId": "e0d4f01e-e73f-4dab-d1c3-b292b2314a8d"
      },
      "source": [
        "model(5)"
      ],
      "execution_count": 0,
      "outputs": [
        {
          "output_type": "execute_result",
          "data": {
            "text/plain": [
              "35"
            ]
          },
          "metadata": {
            "tags": []
          },
          "execution_count": 109
        }
      ]
    },
    {
      "cell_type": "code",
      "metadata": {
        "id": "b0zxIhzyOpwX",
        "colab_type": "code",
        "colab": {},
        "outputId": "b0e72c5a-b73e-46f1-b503-d51e9d18ec20"
      },
      "source": [
        "model(10)"
      ],
      "execution_count": 0,
      "outputs": [
        {
          "output_type": "execute_result",
          "data": {
            "text/plain": [
              "120"
            ]
          },
          "metadata": {
            "tags": []
          },
          "execution_count": 110
        }
      ]
    },
    {
      "cell_type": "code",
      "metadata": {
        "id": "29iZi3aFOpwb",
        "colab_type": "code",
        "colab": {},
        "outputId": "7af74ef5-adf7-4506-a3da-401ae8de187c"
      },
      "source": [
        "np.fromfunction(lambda i, j: i == j, (3, 3), dtype=int)"
      ],
      "execution_count": 0,
      "outputs": [
        {
          "output_type": "execute_result",
          "data": {
            "text/plain": [
              "array([[ True, False, False],\n",
              "       [False,  True, False],\n",
              "       [False, False,  True]], dtype=bool)"
            ]
          },
          "metadata": {
            "tags": []
          },
          "execution_count": 111
        }
      ]
    },
    {
      "cell_type": "code",
      "metadata": {
        "id": "6cb0_7kZOpwc",
        "colab_type": "code",
        "colab": {},
        "outputId": "01db656d-f347-48f2-8e6c-df4f56d2bc99"
      },
      "source": [
        "np.fromfunction(lambda i, j: i + j*10, (3, 3), dtype=int)"
      ],
      "execution_count": 0,
      "outputs": [
        {
          "output_type": "execute_result",
          "data": {
            "text/plain": [
              "array([[ 0, 10, 20],\n",
              "       [ 1, 11, 21],\n",
              "       [ 2, 12, 22]])"
            ]
          },
          "metadata": {
            "tags": []
          },
          "execution_count": 112
        }
      ]
    },
    {
      "cell_type": "code",
      "metadata": {
        "id": "-EYyMaNkOpwd",
        "colab_type": "code",
        "colab": {},
        "outputId": "3fd112bd-34d3-4c36-d6ee-85378c753c57"
      },
      "source": [
        "iterable = (x*(x-1) for x in range(8))\n",
        "np.fromiter(iterable, float)"
      ],
      "execution_count": 0,
      "outputs": [
        {
          "output_type": "execute_result",
          "data": {
            "text/plain": [
              "array([  0.,   0.,   2.,   6.,  12.,  20.,  30.,  42.])"
            ]
          },
          "metadata": {
            "tags": []
          },
          "execution_count": 113
        }
      ]
    },
    {
      "cell_type": "code",
      "metadata": {
        "id": "5lQeUzbrOpwf",
        "colab_type": "code",
        "colab": {}
      },
      "source": [
        "import os"
      ],
      "execution_count": 0,
      "outputs": []
    },
    {
      "cell_type": "code",
      "metadata": {
        "id": "6j6BKeCQOpwg",
        "colab_type": "code",
        "colab": {},
        "outputId": "bfe61425-8754-4835-bafc-dfa3b22cf308"
      },
      "source": [
        "os.getcwd()"
      ],
      "execution_count": 0,
      "outputs": [
        {
          "output_type": "execute_result",
          "data": {
            "text/plain": [
              "'/Users/pradmishra/Documents'"
            ]
          },
          "metadata": {
            "tags": []
          },
          "execution_count": 118
        }
      ]
    },
    {
      "cell_type": "code",
      "metadata": {
        "id": "tv7Qqc8gOpwh",
        "colab_type": "code",
        "colab": {},
        "outputId": "fc08aa06-a6d3-4b6c-c29f-4e8462bb77b1"
      },
      "source": [
        "np.fromfile('/Users/pradmishra/Documents/pg24407.txt')"
      ],
      "execution_count": 0,
      "outputs": [
        {
          "output_type": "execute_result",
          "data": {
            "text/plain": [
              "array([  9.49270681e+077,   4.27186921e+034,   2.04909202e+190, ...,\n",
              "         3.48319740e+228,   1.33452242e+179,   2.96551829e-260])"
            ]
          },
          "metadata": {
            "tags": []
          },
          "execution_count": 120
        }
      ]
    },
    {
      "cell_type": "code",
      "metadata": {
        "id": "HhLYIaeUOpwk",
        "colab_type": "code",
        "colab": {}
      },
      "source": [
        "from io import StringIO"
      ],
      "execution_count": 0,
      "outputs": []
    },
    {
      "cell_type": "code",
      "metadata": {
        "id": "DSudUDNWOpwm",
        "colab_type": "code",
        "colab": {}
      },
      "source": [
        "d = StringIO('# Convert each value according to its column and store')"
      ],
      "execution_count": 0,
      "outputs": []
    },
    {
      "cell_type": "code",
      "metadata": {
        "id": "aw8LjQ1xOpwo",
        "colab_type": "code",
        "colab": {},
        "outputId": "93c2039f-553a-4b5d-d496-30b872ecd37b"
      },
      "source": [
        "np.loadtxt(d)"
      ],
      "execution_count": 0,
      "outputs": [
        {
          "output_type": "stream",
          "text": [
            "/Applications/anaconda3/lib/python3.6/site-packages/ipykernel_launcher.py:1: UserWarning: loadtxt: Empty input file: \"<_io.StringIO object at 0x10a12b1f8>\"\n",
            "  \"\"\"Entry point for launching an IPython kernel.\n"
          ],
          "name": "stderr"
        },
        {
          "output_type": "execute_result",
          "data": {
            "text/plain": [
              "array([], dtype=float64)"
            ]
          },
          "metadata": {
            "tags": []
          },
          "execution_count": 126
        }
      ]
    },
    {
      "cell_type": "code",
      "metadata": {
        "id": "kdsR3SKeOpwq",
        "colab_type": "code",
        "colab": {},
        "outputId": "b98acf8e-3db3-4b04-e689-ffc90c29d7f7"
      },
      "source": [
        "x1=np.array([1,2,3,4])\n",
        "x2=np.array(['a','dd','xyz','12'])\n",
        "x3=np.array([1.1,2,3,4])\n",
        "r = np.core.records.fromarrays([x1,x2,x3],names='a,b,c')\n",
        "r"
      ],
      "execution_count": 0,
      "outputs": [
        {
          "output_type": "execute_result",
          "data": {
            "text/plain": [
              "rec.array([(1, 'a',  1.1), (2, 'dd',  2. ), (3, 'xyz',  3. ), (4, '12',  4. )], \n",
              "          dtype=[('a', '<i8'), ('b', '<U3'), ('c', '<f8')])"
            ]
          },
          "metadata": {
            "tags": []
          },
          "execution_count": 127
        }
      ]
    },
    {
      "cell_type": "code",
      "metadata": {
        "id": "JLmgXdJyOpwr",
        "colab_type": "code",
        "colab": {},
        "outputId": "ea56b24b-8067-4b07-e3d6-898b969c4537"
      },
      "source": [
        "np.linspace(10,40,20)"
      ],
      "execution_count": 0,
      "outputs": [
        {
          "output_type": "execute_result",
          "data": {
            "text/plain": [
              "array([ 10.        ,  11.57894737,  13.15789474,  14.73684211,\n",
              "        16.31578947,  17.89473684,  19.47368421,  21.05263158,\n",
              "        22.63157895,  24.21052632,  25.78947368,  27.36842105,\n",
              "        28.94736842,  30.52631579,  32.10526316,  33.68421053,\n",
              "        35.26315789,  36.84210526,  38.42105263,  40.        ])"
            ]
          },
          "metadata": {
            "tags": []
          },
          "execution_count": 128
        }
      ]
    },
    {
      "cell_type": "code",
      "metadata": {
        "id": "h0ApDa9WOpws",
        "colab_type": "code",
        "colab": {},
        "outputId": "aea4e09d-63e0-4c2d-8d82-c7a7f5165984"
      },
      "source": [
        "np.arange(10,40)"
      ],
      "execution_count": 0,
      "outputs": [
        {
          "output_type": "execute_result",
          "data": {
            "text/plain": [
              "array([10, 11, 12, 13, 14, 15, 16, 17, 18, 19, 20, 21, 22, 23, 24, 25, 26,\n",
              "       27, 28, 29, 30, 31, 32, 33, 34, 35, 36, 37, 38, 39])"
            ]
          },
          "metadata": {
            "tags": []
          },
          "execution_count": 129
        }
      ]
    },
    {
      "cell_type": "code",
      "metadata": {
        "id": "QlS2eqx1Opwu",
        "colab_type": "code",
        "colab": {},
        "outputId": "d4359060-e571-4c58-8fde-9827e9cabd83"
      },
      "source": [
        "np.arange(10,40,2)"
      ],
      "execution_count": 0,
      "outputs": [
        {
          "output_type": "execute_result",
          "data": {
            "text/plain": [
              "array([10, 12, 14, 16, 18, 20, 22, 24, 26, 28, 30, 32, 34, 36, 38])"
            ]
          },
          "metadata": {
            "tags": []
          },
          "execution_count": 130
        }
      ]
    },
    {
      "cell_type": "code",
      "metadata": {
        "id": "ZnBooSf1Opww",
        "colab_type": "code",
        "colab": {},
        "outputId": "afb46d0f-7e11-4bdc-a751-a0b64fdc9645"
      },
      "source": [
        "np.diagflat([[1,2], [3,4]])"
      ],
      "execution_count": 0,
      "outputs": [
        {
          "output_type": "execute_result",
          "data": {
            "text/plain": [
              "array([[1, 0, 0, 0],\n",
              "       [0, 2, 0, 0],\n",
              "       [0, 0, 3, 0],\n",
              "       [0, 0, 0, 4]])"
            ]
          },
          "metadata": {
            "tags": []
          },
          "execution_count": 131
        }
      ]
    },
    {
      "cell_type": "code",
      "metadata": {
        "id": "Tgyw6pBwOpwy",
        "colab_type": "code",
        "colab": {},
        "outputId": "8edf5df1-e8b5-417a-a325-bcfb4ac5b0ea"
      },
      "source": [
        "A"
      ],
      "execution_count": 0,
      "outputs": [
        {
          "output_type": "execute_result",
          "data": {
            "text/plain": [
              "array([[ 3, -2,  1],\n",
              "       [ 2,  3, -5],\n",
              "       [-5, -7,  3]])"
            ]
          },
          "metadata": {
            "tags": []
          },
          "execution_count": 132
        }
      ]
    },
    {
      "cell_type": "code",
      "metadata": {
        "id": "NDe2pkFMOpw0",
        "colab_type": "code",
        "colab": {}
      },
      "source": [
        "F = A.flatten()"
      ],
      "execution_count": 0,
      "outputs": []
    },
    {
      "cell_type": "code",
      "metadata": {
        "id": "87CxwQEaOpw1",
        "colab_type": "code",
        "colab": {},
        "outputId": "cf8d917d-745c-41de-d626-1fc9cf7e1914"
      },
      "source": [
        "F"
      ],
      "execution_count": 0,
      "outputs": [
        {
          "output_type": "execute_result",
          "data": {
            "text/plain": [
              "array([ 3, -2,  1,  2,  3, -5, -5, -7,  3])"
            ]
          },
          "metadata": {
            "tags": []
          },
          "execution_count": 135
        }
      ]
    },
    {
      "cell_type": "code",
      "metadata": {
        "id": "eJrvIV7pOpw3",
        "colab_type": "code",
        "colab": {},
        "outputId": "02660c13-f874-47cc-e1ee-c84189442afa"
      },
      "source": [
        "F.reshape(3,3)"
      ],
      "execution_count": 0,
      "outputs": [
        {
          "output_type": "execute_result",
          "data": {
            "text/plain": [
              "array([[ 3, -2,  1],\n",
              "       [ 2,  3, -5],\n",
              "       [-5, -7,  3]])"
            ]
          },
          "metadata": {
            "tags": []
          },
          "execution_count": 136
        }
      ]
    },
    {
      "cell_type": "code",
      "metadata": {
        "id": "AipSe2mpOpw4",
        "colab_type": "code",
        "colab": {},
        "outputId": "6700e45f-9f26-410d-f861-b6da2f1c26ee"
      },
      "source": [
        "np.arange(10,40).reshape(5,6)"
      ],
      "execution_count": 0,
      "outputs": [
        {
          "output_type": "execute_result",
          "data": {
            "text/plain": [
              "array([[10, 11, 12, 13, 14, 15],\n",
              "       [16, 17, 18, 19, 20, 21],\n",
              "       [22, 23, 24, 25, 26, 27],\n",
              "       [28, 29, 30, 31, 32, 33],\n",
              "       [34, 35, 36, 37, 38, 39]])"
            ]
          },
          "metadata": {
            "tags": []
          },
          "execution_count": 142
        }
      ]
    },
    {
      "cell_type": "code",
      "metadata": {
        "id": "215JHSHWOpw5",
        "colab_type": "code",
        "colab": {},
        "outputId": "3fe23a8f-4d19-4b3a-ccde-271b481fff79"
      },
      "source": [
        "len(np.arange(10,40))"
      ],
      "execution_count": 0,
      "outputs": [
        {
          "output_type": "execute_result",
          "data": {
            "text/plain": [
              "30"
            ]
          },
          "metadata": {
            "tags": []
          },
          "execution_count": 141
        }
      ]
    },
    {
      "cell_type": "code",
      "metadata": {
        "id": "4baAfYPrOpw7",
        "colab_type": "code",
        "colab": {},
        "outputId": "c29ae052-2f66-4901-f535-95f12db58999"
      },
      "source": [
        "np.arange(10,40).reshape(6,5)"
      ],
      "execution_count": 0,
      "outputs": [
        {
          "output_type": "execute_result",
          "data": {
            "text/plain": [
              "array([[10, 11, 12, 13, 14],\n",
              "       [15, 16, 17, 18, 19],\n",
              "       [20, 21, 22, 23, 24],\n",
              "       [25, 26, 27, 28, 29],\n",
              "       [30, 31, 32, 33, 34],\n",
              "       [35, 36, 37, 38, 39]])"
            ]
          },
          "metadata": {
            "tags": []
          },
          "execution_count": 143
        }
      ]
    },
    {
      "cell_type": "code",
      "metadata": {
        "id": "XXJmeO27Opw8",
        "colab_type": "code",
        "colab": {},
        "outputId": "56a856f2-6f1e-4769-9087-d070f66cb252"
      },
      "source": [
        "np.arange(10,40).reshape(10,3)"
      ],
      "execution_count": 0,
      "outputs": [
        {
          "output_type": "execute_result",
          "data": {
            "text/plain": [
              "array([[10, 11, 12],\n",
              "       [13, 14, 15],\n",
              "       [16, 17, 18],\n",
              "       [19, 20, 21],\n",
              "       [22, 23, 24],\n",
              "       [25, 26, 27],\n",
              "       [28, 29, 30],\n",
              "       [31, 32, 33],\n",
              "       [34, 35, 36],\n",
              "       [37, 38, 39]])"
            ]
          },
          "metadata": {
            "tags": []
          },
          "execution_count": 144
        }
      ]
    },
    {
      "cell_type": "code",
      "metadata": {
        "id": "HuFUOQ__Opw-",
        "colab_type": "code",
        "colab": {},
        "outputId": "3dc0873a-a09e-4d6a-81f7-0d308bb8e271"
      },
      "source": [
        "np.arange(10,40).reshape(2,15)"
      ],
      "execution_count": 0,
      "outputs": [
        {
          "output_type": "execute_result",
          "data": {
            "text/plain": [
              "array([[10, 11, 12, 13, 14, 15, 16, 17, 18, 19, 20, 21, 22, 23, 24],\n",
              "       [25, 26, 27, 28, 29, 30, 31, 32, 33, 34, 35, 36, 37, 38, 39]])"
            ]
          },
          "metadata": {
            "tags": []
          },
          "execution_count": 146
        }
      ]
    },
    {
      "cell_type": "code",
      "metadata": {
        "id": "bQpnivJPOpxA",
        "colab_type": "code",
        "colab": {},
        "outputId": "59623f2f-2902-42a7-befc-47b8dc55b06e"
      },
      "source": [
        "# max, min and location\n",
        "print(\"Max of a:\", A.min())\n",
        "print(\"Max of b:\", A.max())\n",
        "print(\"Max of c location:\", A.argmax())\n",
        "print(\"Max of c location:\", A.argmin())"
      ],
      "execution_count": 0,
      "outputs": [
        {
          "output_type": "stream",
          "text": [
            "Max of a: -7\n",
            "Max of b: 3\n",
            "Max of c location: 0\n",
            "Max of c location: 7\n"
          ],
          "name": "stdout"
        }
      ]
    },
    {
      "cell_type": "code",
      "metadata": {
        "id": "WAMdys-zOpxC",
        "colab_type": "code",
        "colab": {},
        "outputId": "a76ebccf-8ee8-4bb9-edd6-bd7933adfa4c"
      },
      "source": [
        "A/10"
      ],
      "execution_count": 0,
      "outputs": [
        {
          "output_type": "execute_result",
          "data": {
            "text/plain": [
              "array([[ 0.3, -0.2,  0.1],\n",
              "       [ 0.2,  0.3, -0.5],\n",
              "       [-0.5, -0.7,  0.3]])"
            ]
          },
          "metadata": {
            "tags": []
          },
          "execution_count": 150
        }
      ]
    },
    {
      "cell_type": "code",
      "metadata": {
        "id": "2bRe29w5OpxD",
        "colab_type": "code",
        "colab": {},
        "outputId": "69c29d13-824c-4fab-d906-c4801d98db58"
      },
      "source": [
        "A"
      ],
      "execution_count": 0,
      "outputs": [
        {
          "output_type": "execute_result",
          "data": {
            "text/plain": [
              "array([[ 3, -2,  1],\n",
              "       [ 2,  3, -5],\n",
              "       [-5, -7,  3]])"
            ]
          },
          "metadata": {
            "tags": []
          },
          "execution_count": 153
        }
      ]
    },
    {
      "cell_type": "code",
      "metadata": {
        "id": "dpMIHZ9ROpxH",
        "colab_type": "code",
        "colab": {},
        "outputId": "236030a2-e648-4f6e-bdc2-bd930bf4cf1c"
      },
      "source": [
        "A[0]"
      ],
      "execution_count": 0,
      "outputs": [
        {
          "output_type": "execute_result",
          "data": {
            "text/plain": [
              "array([ 3, -2,  1])"
            ]
          },
          "metadata": {
            "tags": []
          },
          "execution_count": 155
        }
      ]
    },
    {
      "cell_type": "code",
      "metadata": {
        "id": "1DimaFRpOpxI",
        "colab_type": "code",
        "colab": {},
        "outputId": "77efd3c9-1904-4f6f-bec3-b7eb7c422b48"
      },
      "source": [
        "A[0,2]"
      ],
      "execution_count": 0,
      "outputs": [
        {
          "output_type": "execute_result",
          "data": {
            "text/plain": [
              "1"
            ]
          },
          "metadata": {
            "tags": []
          },
          "execution_count": 156
        }
      ]
    },
    {
      "cell_type": "code",
      "metadata": {
        "id": "0NvsTQjTOpxK",
        "colab_type": "code",
        "colab": {},
        "outputId": "e3f3c3cb-d125-4dc4-b8b0-d56cf78cc340"
      },
      "source": [
        "A[0][2]"
      ],
      "execution_count": 0,
      "outputs": [
        {
          "output_type": "execute_result",
          "data": {
            "text/plain": [
              "1"
            ]
          },
          "metadata": {
            "tags": []
          },
          "execution_count": 158
        }
      ]
    },
    {
      "cell_type": "code",
      "metadata": {
        "id": "k7kcZqYFOpxL",
        "colab_type": "code",
        "colab": {},
        "outputId": "23de4dd7-6e90-4bff-d8f2-0f9ccbd614b6"
      },
      "source": [
        "A[:,0]"
      ],
      "execution_count": 0,
      "outputs": [
        {
          "output_type": "execute_result",
          "data": {
            "text/plain": [
              "array([ 3,  2, -5])"
            ]
          },
          "metadata": {
            "tags": []
          },
          "execution_count": 159
        }
      ]
    },
    {
      "cell_type": "code",
      "metadata": {
        "id": "557eCxNtOpxN",
        "colab_type": "code",
        "colab": {},
        "outputId": "72b0d4c4-ef60-4f91-92c4-38c82d0e1596"
      },
      "source": [
        "A[:,:]"
      ],
      "execution_count": 0,
      "outputs": [
        {
          "output_type": "execute_result",
          "data": {
            "text/plain": [
              "array([[ 3, -2,  1],\n",
              "       [ 2,  3, -5],\n",
              "       [-5, -7,  3]])"
            ]
          },
          "metadata": {
            "tags": []
          },
          "execution_count": 160
        }
      ]
    },
    {
      "cell_type": "code",
      "metadata": {
        "id": "pVyxHP9wOpxO",
        "colab_type": "code",
        "colab": {},
        "outputId": "422507a8-1cea-43b6-d806-8198560e4141"
      },
      "source": [
        "A[0:2,1:3]"
      ],
      "execution_count": 0,
      "outputs": [
        {
          "output_type": "execute_result",
          "data": {
            "text/plain": [
              "array([[-2,  1],\n",
              "       [ 3, -5]])"
            ]
          },
          "metadata": {
            "tags": []
          },
          "execution_count": 162
        }
      ]
    },
    {
      "cell_type": "code",
      "metadata": {
        "id": "0mrZ03vROpxQ",
        "colab_type": "code",
        "colab": {},
        "outputId": "0c6c3ab9-4b12-4c8a-a47d-9363b48dffd0"
      },
      "source": [
        "A[:,:-1]"
      ],
      "execution_count": 0,
      "outputs": [
        {
          "output_type": "execute_result",
          "data": {
            "text/plain": [
              "array([[ 3, -2],\n",
              "       [ 2,  3],\n",
              "       [-5, -7]])"
            ]
          },
          "metadata": {
            "tags": []
          },
          "execution_count": 163
        }
      ]
    },
    {
      "cell_type": "code",
      "metadata": {
        "id": "TiR3VFoEOpxT",
        "colab_type": "code",
        "colab": {}
      },
      "source": [
        ""
      ],
      "execution_count": 0,
      "outputs": []
    }
  ]
}