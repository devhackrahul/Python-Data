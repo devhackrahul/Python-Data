{
  "nbformat": 4,
  "nbformat_minor": 0,
  "metadata": {
    "kernelspec": {
      "display_name": "Python 3",
      "language": "python",
      "name": "python3"
    },
    "language_info": {
      "codemirror_mode": {
        "name": "ipython",
        "version": 3
      },
      "file_extension": ".py",
      "mimetype": "text/x-python",
      "name": "python",
      "nbconvert_exporter": "python",
      "pygments_lexer": "ipython3",
      "version": "3.6.4"
    },
    "colab": {
      "name": "Python Trainings 23rd August 2018.ipynb",
      "provenance": []
    }
  },
  "cells": [
    {
      "cell_type": "code",
      "metadata": {
        "id": "vigA4F8-Og78",
        "colab_type": "code",
        "colab": {}
      },
      "source": [
        "import numpy as np\n",
        "arr = np.arange(4)"
      ],
      "execution_count": 0,
      "outputs": []
    },
    {
      "cell_type": "code",
      "metadata": {
        "id": "i5tczjMBOg8D",
        "colab_type": "code",
        "colab": {}
      },
      "source": [
        "arr = np.ones((2,2),dtype= int)"
      ],
      "execution_count": 0,
      "outputs": []
    },
    {
      "cell_type": "code",
      "metadata": {
        "id": "xKwjw_zkOg8I",
        "colab_type": "code",
        "colab": {},
        "outputId": "a61daccf-6ffd-42cb-dc62-1c03b5127d1f"
      },
      "source": [
        "arr"
      ],
      "execution_count": 0,
      "outputs": [
        {
          "output_type": "execute_result",
          "data": {
            "text/plain": [
              "array([[1, 1],\n",
              "       [1, 1]])"
            ]
          },
          "metadata": {
            "tags": []
          },
          "execution_count": 13
        }
      ]
    },
    {
      "cell_type": "code",
      "metadata": {
        "id": "L87nkBYYOg8M",
        "colab_type": "code",
        "colab": {}
      },
      "source": [
        "import time"
      ],
      "execution_count": 0,
      "outputs": []
    },
    {
      "cell_type": "code",
      "metadata": {
        "id": "V7IT44ZnOg8Q",
        "colab_type": "code",
        "colab": {}
      },
      "source": [
        "from math import log10 as lg10"
      ],
      "execution_count": 0,
      "outputs": []
    },
    {
      "cell_type": "code",
      "metadata": {
        "id": "yktBWjzJOg8U",
        "colab_type": "code",
        "colab": {}
      },
      "source": [
        "import random"
      ],
      "execution_count": 0,
      "outputs": []
    },
    {
      "cell_type": "code",
      "metadata": {
        "id": "ZHvKhVZoOg8Z",
        "colab_type": "code",
        "colab": {}
      },
      "source": [
        "N = 1000000 # numbers to process\n",
        "speed = []"
      ],
      "execution_count": 0,
      "outputs": []
    },
    {
      "cell_type": "code",
      "metadata": {
        "id": "xfZ1DyOLOg8d",
        "colab_type": "code",
        "colab": {},
        "outputId": "57ebe036-8bd1-4863-cc7e-c6b32b8d9cd8"
      },
      "source": [
        "# 1 million random values\n",
        "l1 = list(100*(np.random.random(N))+1)\n",
        "print(len(l1))"
      ],
      "execution_count": 0,
      "outputs": [
        {
          "output_type": "stream",
          "text": [
            "1000000\n"
          ],
          "name": "stdout"
        }
      ]
    },
    {
      "cell_type": "code",
      "metadata": {
        "id": "MXGxrksmOg8g",
        "colab_type": "code",
        "colab": {},
        "outputId": "575f4b0d-8cbe-4a97-c473-584b2ffb0859"
      },
      "source": [
        "l1[:10]"
      ],
      "execution_count": 0,
      "outputs": [
        {
          "output_type": "execute_result",
          "data": {
            "text/plain": [
              "[10.600594431886389,\n",
              " 55.230277751989455,\n",
              " 86.594797137178446,\n",
              " 3.6101985483410473,\n",
              " 93.602076265601099,\n",
              " 20.845575473131085,\n",
              " 97.464683222143563,\n",
              " 77.283316162448656,\n",
              " 54.657432690630891,\n",
              " 45.114615653660039]"
            ]
          },
          "metadata": {
            "tags": []
          },
          "execution_count": 23
        }
      ]
    },
    {
      "cell_type": "code",
      "metadata": {
        "id": "Zu57BLrtOg8k",
        "colab_type": "code",
        "colab": {}
      },
      "source": [
        "a1 = np.array(l1)"
      ],
      "execution_count": 0,
      "outputs": []
    },
    {
      "cell_type": "code",
      "metadata": {
        "id": "SlRbdv7vOg8o",
        "colab_type": "code",
        "colab": {},
        "outputId": "8794cfb9-4f86-4ae5-b6eb-6ad0bd676d44"
      },
      "source": [
        "a1.shape"
      ],
      "execution_count": 0,
      "outputs": [
        {
          "output_type": "execute_result",
          "data": {
            "text/plain": [
              "(1000000,)"
            ]
          },
          "metadata": {
            "tags": []
          },
          "execution_count": 25
        }
      ]
    },
    {
      "cell_type": "code",
      "metadata": {
        "id": "ubJyZI4qOg8r",
        "colab_type": "code",
        "colab": {},
        "outputId": "863c6712-dd96-48dd-c7d4-a1414280f14f"
      },
      "source": [
        "type(a1)"
      ],
      "execution_count": 0,
      "outputs": [
        {
          "output_type": "execute_result",
          "data": {
            "text/plain": [
              "numpy.ndarray"
            ]
          },
          "metadata": {
            "tags": []
          },
          "execution_count": 26
        }
      ]
    },
    {
      "cell_type": "code",
      "metadata": {
        "id": "opPaiubcOg8u",
        "colab_type": "code",
        "colab": {}
      },
      "source": [
        "l2 = [] #a blank list just to append the results"
      ],
      "execution_count": 0,
      "outputs": []
    },
    {
      "cell_type": "code",
      "metadata": {
        "id": "JCYd7wKNOg8x",
        "colab_type": "code",
        "colab": {}
      },
      "source": [
        "# whether for loop and appending is fast enough using python?"
      ],
      "execution_count": 0,
      "outputs": []
    },
    {
      "cell_type": "code",
      "metadata": {
        "id": "pYvfDejwOg80",
        "colab_type": "code",
        "colab": {},
        "outputId": "dd25fde9-6a91-498d-8253-a6883fe9ef8c"
      },
      "source": [
        "t1 = time.time()\n",
        "\n",
        "for item in l1:\n",
        "    l2.append(lg10(item))\n",
        "\n",
        "t2 = time.time()\n",
        "\n",
        "print(t2-t1)\n",
        "\n",
        "speed.append(t2-t1) #in seconds"
      ],
      "execution_count": 0,
      "outputs": [
        {
          "output_type": "stream",
          "text": [
            "0.23146295547485352\n"
          ],
          "name": "stdout"
        }
      ]
    },
    {
      "cell_type": "code",
      "metadata": {
        "id": "vWA3ccFOOg85",
        "colab_type": "code",
        "colab": {},
        "outputId": "8a3d729e-cd20-46b5-cc15-c7b9995edf92"
      },
      "source": [
        "print(l2[:10])"
      ],
      "execution_count": 0,
      "outputs": [
        {
          "output_type": "stream",
          "text": [
            "[1.0253302191562634, 1.7421772272876468, 1.9374917991479126, 0.55753108724575, 1.9712854822925139, 1.3190138889732546, 1.9888472755930784, 1.888085749020188, 1.7376492286285505, 1.654317261821032]\n"
          ],
          "name": "stdout"
        }
      ]
    },
    {
      "cell_type": "code",
      "metadata": {
        "id": "p5dM1VM3Og89",
        "colab_type": "code",
        "colab": {}
      },
      "source": [
        "# replace the for loop with list comprehesion and try the same operation"
      ],
      "execution_count": 0,
      "outputs": []
    },
    {
      "cell_type": "code",
      "metadata": {
        "id": "PsqOoNiwOg9A",
        "colab_type": "code",
        "colab": {},
        "outputId": "a4862a29-3f30-4001-81ce-c54911e70372"
      },
      "source": [
        "t1 = time.time()\n",
        "\n",
        "l2 = [lg10(i) for i in range(1,1000001)]\n",
        "\n",
        "t2 = time.time()\n",
        "\n",
        "print(t2-t1)\n",
        "\n",
        "speed.append(t2-t1) #in seconds"
      ],
      "execution_count": 0,
      "outputs": [
        {
          "output_type": "stream",
          "text": [
            "0.19580388069152832\n"
          ],
          "name": "stdout"
        }
      ]
    },
    {
      "cell_type": "code",
      "metadata": {
        "id": "WlrpRkBGOg9D",
        "colab_type": "code",
        "colab": {},
        "outputId": "809851cf-9d81-4cfa-d19f-0ea33fb57d21"
      },
      "source": [
        "print(l2[:10])"
      ],
      "execution_count": 0,
      "outputs": [
        {
          "output_type": "stream",
          "text": [
            "[0.0, 0.3010299956639812, 0.47712125471966244, 0.6020599913279624, 0.6989700043360189, 0.7781512503836436, 0.8450980400142568, 0.9030899869919435, 0.9542425094393249, 1.0]\n"
          ],
          "name": "stdout"
        }
      ]
    },
    {
      "cell_type": "code",
      "metadata": {
        "id": "7qJ4eaYHOg9F",
        "colab_type": "code",
        "colab": {}
      },
      "source": [
        "# let's try this using map function, custom function\n",
        "def some(x):\n",
        "    return (lg10(x))"
      ],
      "execution_count": 0,
      "outputs": []
    },
    {
      "cell_type": "code",
      "metadata": {
        "id": "Z4lri284Og9J",
        "colab_type": "code",
        "colab": {},
        "outputId": "b11be816-6338-47ec-d5ed-80a75d1d6bd4"
      },
      "source": [
        "t1 = time.time()\n",
        "\n",
        "l2 = list(map(some,l1))\n",
        "\n",
        "t2 = time.time()\n",
        "\n",
        "print(t2-t1)\n",
        "\n",
        "speed.append(t2-t1) #in seconds"
      ],
      "execution_count": 0,
      "outputs": [
        {
          "output_type": "stream",
          "text": [
            "0.24905085563659668\n"
          ],
          "name": "stdout"
        }
      ]
    },
    {
      "cell_type": "code",
      "metadata": {
        "id": "s_3QQQ1mOg9N",
        "colab_type": "code",
        "colab": {},
        "outputId": "20f46e3a-a0fb-487a-affc-ffacf2be82b9"
      },
      "source": [
        "print(l2[:10])"
      ],
      "execution_count": 0,
      "outputs": [
        {
          "output_type": "stream",
          "text": [
            "[1.0253302191562634, 1.7421772272876468, 1.9374917991479126, 0.55753108724575, 1.9712854822925139, 1.3190138889732546, 1.9888472755930784, 1.888085749020188, 1.7376492286285505, 1.654317261821032]\n"
          ],
          "name": "stdout"
        }
      ]
    },
    {
      "cell_type": "code",
      "metadata": {
        "id": "dNW3GpT6Og9R",
        "colab_type": "code",
        "colab": {}
      },
      "source": [
        "# numpy library to do the same task"
      ],
      "execution_count": 0,
      "outputs": []
    },
    {
      "cell_type": "code",
      "metadata": {
        "id": "rz4de0fYOg9T",
        "colab_type": "code",
        "colab": {},
        "outputId": "bfd2b292-542a-4688-ed09-cbd13c0a3fd0"
      },
      "source": [
        "t1 = time.time()\n",
        "\n",
        "a2 = np.log10(a1)\n",
        "\n",
        "t2 = time.time()\n",
        "\n",
        "print(t2-t1)\n",
        "\n",
        "speed.append(t2-t1) #in seconds"
      ],
      "execution_count": 0,
      "outputs": [
        {
          "output_type": "stream",
          "text": [
            "0.018347740173339844\n"
          ],
          "name": "stdout"
        }
      ]
    },
    {
      "cell_type": "code",
      "metadata": {
        "id": "FimZriZEOg9V",
        "colab_type": "code",
        "colab": {},
        "outputId": "7b61dc31-4475-4183-e844-d9a8f0dc0204"
      },
      "source": [
        "t1 = time.time()\n",
        "\n",
        "a2 = np.sum(a1)\n",
        "\n",
        "t2 = time.time()\n",
        "\n",
        "print(t2-t1)\n",
        "\n",
        "speed.append(t2-t1) #in seconds"
      ],
      "execution_count": 0,
      "outputs": [
        {
          "output_type": "stream",
          "text": [
            "0.0019309520721435547\n"
          ],
          "name": "stdout"
        }
      ]
    },
    {
      "cell_type": "code",
      "metadata": {
        "id": "UXKyhzWZOg9Z",
        "colab_type": "code",
        "colab": {},
        "outputId": "cf99fbb9-94ec-47c9-d445-1d3d9dee4d81"
      },
      "source": [
        "t1 = time.time()\n",
        "\n",
        "a2 = np.mean(a1)\n",
        "\n",
        "t2 = time.time()\n",
        "\n",
        "print(t2-t1)\n",
        "\n",
        "speed.append(t2-t1) #in seconds"
      ],
      "execution_count": 0,
      "outputs": [
        {
          "output_type": "stream",
          "text": [
            "0.002086162567138672\n"
          ],
          "name": "stdout"
        }
      ]
    },
    {
      "cell_type": "code",
      "metadata": {
        "id": "LjjwQZWoOg9c",
        "colab_type": "code",
        "colab": {},
        "outputId": "ad9c33aa-7d1c-42ff-9604-cbb206536c8c"
      },
      "source": [
        "t1 = time.time()\n",
        "\n",
        "a2 = np.std(a1)\n",
        "\n",
        "t2 = time.time()\n",
        "\n",
        "print(t2-t1)\n",
        "\n",
        "speed.append(t2-t1) #in seconds"
      ],
      "execution_count": 0,
      "outputs": [
        {
          "output_type": "stream",
          "text": [
            "0.005714893341064453\n"
          ],
          "name": "stdout"
        }
      ]
    },
    {
      "cell_type": "code",
      "metadata": {
        "id": "e5Mh7nKfOg9f",
        "colab_type": "code",
        "colab": {}
      },
      "source": [
        "# list comprehesnion"
      ],
      "execution_count": 0,
      "outputs": []
    },
    {
      "cell_type": "code",
      "metadata": {
        "id": "6yOZ5HYCOg9i",
        "colab_type": "code",
        "colab": {},
        "outputId": "2c01bde6-1c4b-4071-e44e-6b733b55ae77"
      },
      "source": [
        "x = 'data science and machine learning implementatins'\n",
        "letters = []\n",
        "for letter in x:\n",
        "    letters.append(letter)\n",
        "print(letters)  "
      ],
      "execution_count": 0,
      "outputs": [
        {
          "output_type": "stream",
          "text": [
            "['d', 'a', 't', 'a', ' ', 's', 'c', 'i', 'e', 'n', 'c', 'e', ' ', 'a', 'n', 'd', ' ', 'm', 'a', 'c', 'h', 'i', 'n', 'e', ' ', 'l', 'e', 'a', 'r', 'n', 'i', 'n', 'g', ' ', 'i', 'm', 'p', 'l', 'e', 'm', 'e', 'n', 't', 'a', 't', 'i', 'n', 's']\n"
          ],
          "name": "stdout"
        }
      ]
    },
    {
      "cell_type": "code",
      "metadata": {
        "id": "hTzv1nOlOg9k",
        "colab_type": "code",
        "colab": {},
        "outputId": "03352a11-4bad-4d9e-bccf-106a1dd9874d"
      },
      "source": [
        "print([letter for letter in x])"
      ],
      "execution_count": 0,
      "outputs": [
        {
          "output_type": "stream",
          "text": [
            "['d', 'a', 't', 'a', ' ', 's', 'c', 'i', 'e', 'n', 'c', 'e', ' ', 'a', 'n', 'd', ' ', 'm', 'a', 'c', 'h', 'i', 'n', 'e', ' ', 'l', 'e', 'a', 'r', 'n', 'i', 'n', 'g', ' ', 'i', 'm', 'p', 'l', 'e', 'm', 'e', 'n', 't', 'a', 't', 'i', 'n', 's']\n"
          ],
          "name": "stdout"
        }
      ]
    },
    {
      "cell_type": "code",
      "metadata": {
        "id": "MznaIm6cOg9p",
        "colab_type": "code",
        "colab": {}
      },
      "source": [
        "mat = [[11,22],[33,44],[55,66],[77,88]]"
      ],
      "execution_count": 0,
      "outputs": []
    },
    {
      "cell_type": "code",
      "metadata": {
        "id": "n73ZAKpzOg9t",
        "colab_type": "code",
        "colab": {},
        "outputId": "4f9243b3-df4e-48a5-f9ea-440c96b0bf07"
      },
      "source": [
        "mat"
      ],
      "execution_count": 0,
      "outputs": [
        {
          "output_type": "execute_result",
          "data": {
            "text/plain": [
              "[[11, 22], [33, 44], [55, 66], [77, 88]]"
            ]
          },
          "metadata": {
            "tags": []
          },
          "execution_count": 66
        }
      ]
    },
    {
      "cell_type": "code",
      "metadata": {
        "id": "q1nQaqvzOg9w",
        "colab_type": "code",
        "colab": {},
        "outputId": "ea0f7d3a-fbf9-49ec-999c-d37c30365e1b"
      },
      "source": [
        "print([[row[i] for row in mat] for i in range(2)])"
      ],
      "execution_count": 0,
      "outputs": [
        {
          "output_type": "stream",
          "text": [
            "[[11, 33, 55, 77], [22, 44, 66, 88]]\n"
          ],
          "name": "stdout"
        }
      ]
    },
    {
      "cell_type": "code",
      "metadata": {
        "id": "ofsUbIPSOg90",
        "colab_type": "code",
        "colab": {},
        "outputId": "c452a250-4ddb-48fc-f88a-f1223b6dbcf8"
      },
      "source": [
        "result = []\n",
        "for i in range(2):\n",
        "    result_row = []\n",
        "    for row in mat:\n",
        "        result_row.append(row[i])\n",
        "        result.append(result_row)\n",
        "        result_row = []\n",
        "print(result)"
      ],
      "execution_count": 0,
      "outputs": [
        {
          "output_type": "stream",
          "text": [
            "[[11], [33], [55], [77], [22], [44], [66], [88]]\n"
          ],
          "name": "stdout"
        }
      ]
    },
    {
      "cell_type": "code",
      "metadata": {
        "id": "XEijy3h5Og92",
        "colab_type": "code",
        "colab": {}
      },
      "source": [
        "#https://clearcode.cc/blog/look-alike-modeling/"
      ],
      "execution_count": 0,
      "outputs": []
    }
  ]
}