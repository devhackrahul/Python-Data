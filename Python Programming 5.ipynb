{
  "nbformat": 4,
  "nbformat_minor": 0,
  "metadata": {
    "kernelspec": {
      "display_name": "Python 3",
      "language": "python",
      "name": "python3"
    },
    "language_info": {
      "codemirror_mode": {
        "name": "ipython",
        "version": 3
      },
      "file_extension": ".py",
      "mimetype": "text/x-python",
      "name": "python",
      "nbconvert_exporter": "python",
      "pygments_lexer": "ipython3",
      "version": "3.6.4"
    },
    "colab": {
      "name": "Python Trainings Numpy 1.ipynb",
      "provenance": []
    }
  },
  "cells": [
    {
      "cell_type": "code",
      "metadata": {
        "id": "35p8PBC4OkX0",
        "colab_type": "code",
        "colab": {}
      },
      "source": [
        "import numpy as np"
      ],
      "execution_count": 0,
      "outputs": []
    },
    {
      "cell_type": "code",
      "metadata": {
        "id": "0SbFFvjcOkX5",
        "colab_type": "code",
        "colab": {},
        "outputId": "ead6ed25-15c4-4890-f00d-dcd2f0366765"
      },
      "source": [
        "np.sqrt(100)"
      ],
      "execution_count": 0,
      "outputs": [
        {
          "output_type": "execute_result",
          "data": {
            "text/plain": [
              "10.0"
            ]
          },
          "metadata": {
            "tags": []
          },
          "execution_count": 2
        }
      ]
    },
    {
      "cell_type": "code",
      "metadata": {
        "id": "KsoBT3vWOkX-",
        "colab_type": "code",
        "colab": {}
      },
      "source": [
        "# functions in python:\n",
        "# built in function\n",
        "# custom function"
      ],
      "execution_count": 0,
      "outputs": []
    },
    {
      "cell_type": "code",
      "metadata": {
        "id": "nKXrtnC6OkYB",
        "colab_type": "code",
        "colab": {}
      },
      "source": [
        "def sqrtt(x): #example of only args\n",
        "    return x**0.5"
      ],
      "execution_count": 0,
      "outputs": []
    },
    {
      "cell_type": "code",
      "metadata": {
        "id": "mURcvWjXOkYF",
        "colab_type": "code",
        "colab": {},
        "outputId": "a7ee1f53-4fe8-4338-87a5-d6424989067c"
      },
      "source": [
        "sqrtt(100)"
      ],
      "execution_count": 0,
      "outputs": [
        {
          "output_type": "execute_result",
          "data": {
            "text/plain": [
              "10.0"
            ]
          },
          "metadata": {
            "tags": []
          },
          "execution_count": 5
        }
      ]
    },
    {
      "cell_type": "code",
      "metadata": {
        "id": "x38H6EndOkYJ",
        "colab_type": "code",
        "colab": {}
      },
      "source": [
        "def happy(**kwargs):\n",
        "    if kwargs is not None:\n",
        "        for key, value in kwargs.iteritems():\n",
        "            print(key,value)"
      ],
      "execution_count": 0,
      "outputs": []
    },
    {
      "cell_type": "code",
      "metadata": {
        "id": "DOfdAjlcOkYN",
        "colab_type": "code",
        "colab": {}
      },
      "source": [
        "#def happy(**kwargs):\n",
        " #   print(kwargs)"
      ],
      "execution_count": 0,
      "outputs": []
    },
    {
      "cell_type": "code",
      "metadata": {
        "id": "ECfGn_KVOkYQ",
        "colab_type": "code",
        "colab": {}
      },
      "source": [
        "d3 = {'name': 'john'\n",
        "       }"
      ],
      "execution_count": 0,
      "outputs": []
    },
    {
      "cell_type": "code",
      "metadata": {
        "id": "RGd5RKvvOkYV",
        "colab_type": "code",
        "colab": {},
        "outputId": "13d25e7d-95b3-44ba-ef41-9007bf250d98"
      },
      "source": [
        "d3.items()"
      ],
      "execution_count": 0,
      "outputs": [
        {
          "output_type": "execute_result",
          "data": {
            "text/plain": [
              "dict_items([('name', 'john')])"
            ]
          },
          "metadata": {
            "tags": []
          },
          "execution_count": 37
        }
      ]
    },
    {
      "cell_type": "code",
      "metadata": {
        "id": "2fDM8LZqOkYY",
        "colab_type": "code",
        "colab": {},
        "outputId": "f874a6ea-172f-4997-e383-a36576841fac"
      },
      "source": [
        "happy(**d3)"
      ],
      "execution_count": 0,
      "outputs": [
        {
          "output_type": "error",
          "ename": "AttributeError",
          "evalue": "'dict' object has no attribute 'iteritems'",
          "traceback": [
            "\u001b[0;31m---------------------------------------------------------------------------\u001b[0m",
            "\u001b[0;31mAttributeError\u001b[0m                            Traceback (most recent call last)",
            "\u001b[0;32m<ipython-input-38-299c05feb594>\u001b[0m in \u001b[0;36m<module>\u001b[0;34m()\u001b[0m\n\u001b[0;32m----> 1\u001b[0;31m \u001b[0mhappy\u001b[0m\u001b[0;34m(\u001b[0m\u001b[0;34m**\u001b[0m\u001b[0md3\u001b[0m\u001b[0;34m)\u001b[0m\u001b[0;34m\u001b[0m\u001b[0m\n\u001b[0m",
            "\u001b[0;32m<ipython-input-34-a137f90ab148>\u001b[0m in \u001b[0;36mhappy\u001b[0;34m(**kwargs)\u001b[0m\n\u001b[1;32m      1\u001b[0m \u001b[0;32mdef\u001b[0m \u001b[0mhappy\u001b[0m\u001b[0;34m(\u001b[0m\u001b[0;34m**\u001b[0m\u001b[0mkwargs\u001b[0m\u001b[0;34m)\u001b[0m\u001b[0;34m:\u001b[0m\u001b[0;34m\u001b[0m\u001b[0m\n\u001b[1;32m      2\u001b[0m     \u001b[0;32mif\u001b[0m \u001b[0mkwargs\u001b[0m \u001b[0;32mis\u001b[0m \u001b[0;32mnot\u001b[0m \u001b[0;32mNone\u001b[0m\u001b[0;34m:\u001b[0m\u001b[0;34m\u001b[0m\u001b[0m\n\u001b[0;32m----> 3\u001b[0;31m         \u001b[0;32mfor\u001b[0m \u001b[0mkey\u001b[0m\u001b[0;34m,\u001b[0m \u001b[0mvalue\u001b[0m \u001b[0;32min\u001b[0m \u001b[0mkwargs\u001b[0m\u001b[0;34m.\u001b[0m\u001b[0miteritems\u001b[0m\u001b[0;34m(\u001b[0m\u001b[0;34m)\u001b[0m\u001b[0;34m:\u001b[0m\u001b[0;34m\u001b[0m\u001b[0m\n\u001b[0m\u001b[1;32m      4\u001b[0m             \u001b[0mprint\u001b[0m\u001b[0;34m(\u001b[0m\u001b[0mkey\u001b[0m\u001b[0;34m,\u001b[0m\u001b[0mvalue\u001b[0m\u001b[0;34m)\u001b[0m\u001b[0;34m\u001b[0m\u001b[0m\n",
            "\u001b[0;31mAttributeError\u001b[0m: 'dict' object has no attribute 'iteritems'"
          ]
        }
      ]
    },
    {
      "cell_type": "code",
      "metadata": {
        "id": "l7QtCQ3FOkYc",
        "colab_type": "code",
        "colab": {}
      },
      "source": [
        "def arguments(arg1,arg2,arg3):\n",
        "    print(arg1)\n",
        "    print(arg2)\n",
        "    print(arg3)"
      ],
      "execution_count": 0,
      "outputs": []
    },
    {
      "cell_type": "code",
      "metadata": {
        "id": "IoWBxMG2OkYf",
        "colab_type": "code",
        "colab": {}
      },
      "source": [
        "args = ('my',33,'cents') #it does not require a dict object"
      ],
      "execution_count": 0,
      "outputs": []
    },
    {
      "cell_type": "code",
      "metadata": {
        "id": "liD663D7OkYi",
        "colab_type": "code",
        "colab": {},
        "outputId": "470c0939-7ac7-4bfa-ecb0-2821a0880e18"
      },
      "source": [
        "arguments(*args)"
      ],
      "execution_count": 0,
      "outputs": [
        {
          "output_type": "stream",
          "text": [
            "my\n",
            "33\n",
            "cents\n"
          ],
          "name": "stdout"
        }
      ]
    },
    {
      "cell_type": "code",
      "metadata": {
        "id": "XEfp_ssVOkYl",
        "colab_type": "code",
        "colab": {}
      },
      "source": [
        "kwargs = {'arg1':'my','arg2':33,'arg3':'cents'} # a dict"
      ],
      "execution_count": 0,
      "outputs": []
    },
    {
      "cell_type": "code",
      "metadata": {
        "id": "bAwRnH7OOkYn",
        "colab_type": "code",
        "colab": {},
        "outputId": "03fddfc4-4664-41f8-9852-0434eb08e256"
      },
      "source": [
        "arguments(**kwargs)"
      ],
      "execution_count": 0,
      "outputs": [
        {
          "output_type": "stream",
          "text": [
            "my\n",
            "33\n",
            "cents\n"
          ],
          "name": "stdout"
        }
      ]
    },
    {
      "cell_type": "code",
      "metadata": {
        "id": "DKdkg6BNOkYr",
        "colab_type": "code",
        "colab": {}
      },
      "source": [
        "def square(a,b,c):\n",
        "    print(a**b**c)"
      ],
      "execution_count": 0,
      "outputs": []
    },
    {
      "cell_type": "code",
      "metadata": {
        "id": "QgRVW2kbOkYv",
        "colab_type": "code",
        "colab": {}
      },
      "source": [
        "args = (2,3,4)"
      ],
      "execution_count": 0,
      "outputs": []
    },
    {
      "cell_type": "code",
      "metadata": {
        "id": "lYTvDkjLOkYx",
        "colab_type": "code",
        "colab": {},
        "outputId": "e5ecb3e6-5cc7-4cc5-bf2e-abc0a9ebf08b"
      },
      "source": [
        "square(*args) #args"
      ],
      "execution_count": 0,
      "outputs": [
        {
          "output_type": "stream",
          "text": [
            "2417851639229258349412352\n"
          ],
          "name": "stdout"
        }
      ]
    },
    {
      "cell_type": "code",
      "metadata": {
        "id": "5Cgntv5GOkY0",
        "colab_type": "code",
        "colab": {}
      },
      "source": [
        "dict1 = {'a':2,'b':3,'c':4}"
      ],
      "execution_count": 0,
      "outputs": []
    },
    {
      "cell_type": "code",
      "metadata": {
        "id": "xKaxwWsMOkY2",
        "colab_type": "code",
        "colab": {},
        "outputId": "76781083-3c1e-4282-c166-4bac6231a53c"
      },
      "source": [
        "square(**dict1) #kwargs"
      ],
      "execution_count": 0,
      "outputs": [
        {
          "output_type": "stream",
          "text": [
            "2417851639229258349412352\n"
          ],
          "name": "stdout"
        }
      ]
    },
    {
      "cell_type": "code",
      "metadata": {
        "id": "QG7noQxsOkY5",
        "colab_type": "code",
        "colab": {}
      },
      "source": [
        "# Adjusted R square\n",
        "\n",
        "# R -square"
      ],
      "execution_count": 0,
      "outputs": []
    },
    {
      "cell_type": "code",
      "metadata": {
        "id": "cuFOIgoIOkY8",
        "colab_type": "code",
        "colab": {}
      },
      "source": [
        "# distributions\n",
        "\n",
        "# feature creation\n",
        "\n",
        "# testing of features"
      ],
      "execution_count": 0,
      "outputs": []
    },
    {
      "cell_type": "code",
      "metadata": {
        "id": "lsMpj5i0OkY_",
        "colab_type": "code",
        "colab": {}
      },
      "source": [
        "# stat models are not always optimized\n",
        "\n",
        "# ML models are always optimized"
      ],
      "execution_count": 0,
      "outputs": []
    },
    {
      "cell_type": "code",
      "metadata": {
        "id": "2andalY7OkZC",
        "colab_type": "code",
        "colab": {}
      },
      "source": [
        "import numpy as np"
      ],
      "execution_count": 0,
      "outputs": []
    },
    {
      "cell_type": "code",
      "metadata": {
        "id": "nUNeAvZnOkZE",
        "colab_type": "code",
        "colab": {}
      },
      "source": [
        "d = [21,23,34,45,56,67,78,89]"
      ],
      "execution_count": 0,
      "outputs": []
    },
    {
      "cell_type": "code",
      "metadata": {
        "id": "r5GUJ4_rOkZL",
        "colab_type": "code",
        "colab": {},
        "outputId": "c98d644d-30d9-47fc-c91b-1610ddad3327"
      },
      "source": [
        "type(d)"
      ],
      "execution_count": 0,
      "outputs": [
        {
          "output_type": "execute_result",
          "data": {
            "text/plain": [
              "list"
            ]
          },
          "metadata": {
            "tags": []
          },
          "execution_count": 49
        }
      ]
    },
    {
      "cell_type": "code",
      "metadata": {
        "id": "zFagCF1GOkZP",
        "colab_type": "code",
        "colab": {},
        "outputId": "115fbc14-d007-4bcd-af69-fc6aeef4e077"
      },
      "source": [
        "np.array(d)"
      ],
      "execution_count": 0,
      "outputs": [
        {
          "output_type": "execute_result",
          "data": {
            "text/plain": [
              "array([21, 23, 34, 45, 56, 67, 78, 89])"
            ]
          },
          "metadata": {
            "tags": []
          },
          "execution_count": 50
        }
      ]
    },
    {
      "cell_type": "code",
      "metadata": {
        "id": "AAW5wKAqOkZR",
        "colab_type": "code",
        "colab": {}
      },
      "source": [
        "A = np.array([[3,-2,1],[2,3,-5],[-5,-7,3]])\n",
        "\n",
        "B = np.array([14,25,28])"
      ],
      "execution_count": 0,
      "outputs": []
    },
    {
      "cell_type": "code",
      "metadata": {
        "id": "WF2Yl1EcOkZU",
        "colab_type": "code",
        "colab": {},
        "outputId": "ac76ce70-50c3-442f-d78c-3ef8ec1ba90b"
      },
      "source": [
        "A"
      ],
      "execution_count": 0,
      "outputs": [
        {
          "output_type": "execute_result",
          "data": {
            "text/plain": [
              "array([[ 3, -2,  1],\n",
              "       [ 2,  3, -5],\n",
              "       [-5, -7,  3]])"
            ]
          },
          "metadata": {
            "tags": []
          },
          "execution_count": 52
        }
      ]
    },
    {
      "cell_type": "code",
      "metadata": {
        "id": "uoFxz_yBOkZW",
        "colab_type": "code",
        "colab": {},
        "outputId": "6d1b28d7-a15e-41d0-82f3-d2ee5656e93b"
      },
      "source": [
        "B"
      ],
      "execution_count": 0,
      "outputs": [
        {
          "output_type": "execute_result",
          "data": {
            "text/plain": [
              "array([14, 25, 28])"
            ]
          },
          "metadata": {
            "tags": []
          },
          "execution_count": 53
        }
      ]
    },
    {
      "cell_type": "code",
      "metadata": {
        "id": "jwqjKT82OkZa",
        "colab_type": "code",
        "colab": {},
        "outputId": "467400f1-a4b6-4bac-dbe3-4b7e898b6d75"
      },
      "source": [
        "np.linalg.solve(A,B)"
      ],
      "execution_count": 0,
      "outputs": [
        {
          "output_type": "execute_result",
          "data": {
            "text/plain": [
              "array([  1.67826087,  -9.49565217, -10.02608696])"
            ]
          },
          "metadata": {
            "tags": []
          },
          "execution_count": 31
        }
      ]
    },
    {
      "cell_type": "code",
      "metadata": {
        "id": "_Jr0CbEzOkZd",
        "colab_type": "code",
        "colab": {},
        "outputId": "84453468-d0ee-4f62-ec03-109c7fa0e264"
      },
      "source": [
        "np.linalg.det(A)"
      ],
      "execution_count": 0,
      "outputs": [
        {
          "output_type": "execute_result",
          "data": {
            "text/plain": [
              "-115.00000000000001"
            ]
          },
          "metadata": {
            "tags": []
          },
          "execution_count": 32
        }
      ]
    },
    {
      "cell_type": "code",
      "metadata": {
        "id": "fCxo1qVeOkZg",
        "colab_type": "code",
        "colab": {},
        "outputId": "8a6aede2-02b6-4a9a-83e3-510084b047c7"
      },
      "source": [
        "np.array([[2, 5.4, 1], [3.1, 5, 4]])"
      ],
      "execution_count": 0,
      "outputs": [
        {
          "output_type": "execute_result",
          "data": {
            "text/plain": [
              "array([[ 2. ,  5.4,  1. ],\n",
              "       [ 3.1,  5. ,  4. ]])"
            ]
          },
          "metadata": {
            "tags": []
          },
          "execution_count": 39
        }
      ]
    },
    {
      "cell_type": "code",
      "metadata": {
        "id": "H86zCxpgOkZk",
        "colab_type": "code",
        "colab": {},
        "outputId": "9ee5f846-66f3-411b-8feb-a469f46822f3"
      },
      "source": [
        "np.array([[2, 5.4, '?'], [3.1, 5, 4]])"
      ],
      "execution_count": 0,
      "outputs": [
        {
          "output_type": "execute_result",
          "data": {
            "text/plain": [
              "array([['2', '5.4', '?'],\n",
              "       ['3.1', '5', '4']], \n",
              "      dtype='<U32')"
            ]
          },
          "metadata": {
            "tags": []
          },
          "execution_count": 40
        }
      ]
    },
    {
      "cell_type": "code",
      "metadata": {
        "id": "6udFk0R-OkZm",
        "colab_type": "code",
        "colab": {},
        "outputId": "db877b1a-9de0-4b52-9a12-7278e1bb6314"
      },
      "source": [
        "np.array([[2, 5.4, True], [3.1, 5, 4]])"
      ],
      "execution_count": 0,
      "outputs": [
        {
          "output_type": "execute_result",
          "data": {
            "text/plain": [
              "array([[ 2. ,  5.4,  1. ],\n",
              "       [ 3.1,  5. ,  4. ]])"
            ]
          },
          "metadata": {
            "tags": []
          },
          "execution_count": 35
        }
      ]
    },
    {
      "cell_type": "code",
      "metadata": {
        "id": "wtp8MarlOkZq",
        "colab_type": "code",
        "colab": {},
        "outputId": "53f35818-7355-48c2-9c3e-2dfeb9b8ff53"
      },
      "source": [
        "np.array([[2, 5.4, None], [3.1, 5, 4]])"
      ],
      "execution_count": 0,
      "outputs": [
        {
          "output_type": "execute_result",
          "data": {
            "text/plain": [
              "array([[2, 5.4, None],\n",
              "       [3.1, 5, 4]], dtype=object)"
            ]
          },
          "metadata": {
            "tags": []
          },
          "execution_count": 37
        }
      ]
    },
    {
      "cell_type": "code",
      "metadata": {
        "id": "9_IFcsZROkZs",
        "colab_type": "code",
        "colab": {}
      },
      "source": [
        "# string > float > integer"
      ],
      "execution_count": 0,
      "outputs": []
    },
    {
      "cell_type": "code",
      "metadata": {
        "id": "v0l0x7b_OkZw",
        "colab_type": "code",
        "colab": {}
      },
      "source": [
        "d1 = np.array([[2, 5.4, '?'], [3.1, 5, 4]])"
      ],
      "execution_count": 0,
      "outputs": []
    },
    {
      "cell_type": "code",
      "metadata": {
        "id": "bMSJ1M2pOkZy",
        "colab_type": "code",
        "colab": {},
        "outputId": "6d085357-185b-4679-8f69-c82da8c1e01f"
      },
      "source": [
        "d1.ndim"
      ],
      "execution_count": 0,
      "outputs": [
        {
          "output_type": "execute_result",
          "data": {
            "text/plain": [
              "2"
            ]
          },
          "metadata": {
            "tags": []
          },
          "execution_count": 47
        }
      ]
    },
    {
      "cell_type": "code",
      "metadata": {
        "id": "4xsrQQVUOkZ1",
        "colab_type": "code",
        "colab": {},
        "outputId": "d7bbec48-df13-48fa-c6e5-4d07de404164"
      },
      "source": [
        "d1.size"
      ],
      "execution_count": 0,
      "outputs": [
        {
          "output_type": "execute_result",
          "data": {
            "text/plain": [
              "6"
            ]
          },
          "metadata": {
            "tags": []
          },
          "execution_count": 48
        }
      ]
    },
    {
      "cell_type": "code",
      "metadata": {
        "id": "l3zddAccOkZ5",
        "colab_type": "code",
        "colab": {},
        "outputId": "4953b5de-579b-451f-d4ff-f5ce869e561f"
      },
      "source": [
        "d1.shape"
      ],
      "execution_count": 0,
      "outputs": [
        {
          "output_type": "execute_result",
          "data": {
            "text/plain": [
              "(2, 3)"
            ]
          },
          "metadata": {
            "tags": []
          },
          "execution_count": 49
        }
      ]
    },
    {
      "cell_type": "code",
      "metadata": {
        "id": "tMeo3Il0OkZ8",
        "colab_type": "code",
        "colab": {},
        "outputId": "c30b1145-99b3-4eab-e951-41000e2cf940"
      },
      "source": [
        "d1.dtype"
      ],
      "execution_count": 0,
      "outputs": [
        {
          "output_type": "execute_result",
          "data": {
            "text/plain": [
              "dtype('<U32')"
            ]
          },
          "metadata": {
            "tags": []
          },
          "execution_count": 50
        }
      ]
    },
    {
      "cell_type": "code",
      "metadata": {
        "id": "Rj5KjDHKOkaB",
        "colab_type": "code",
        "colab": {},
        "outputId": "57a0c22b-9530-4383-dd81-277a3c87a3ca"
      },
      "source": [
        "A"
      ],
      "execution_count": 0,
      "outputs": [
        {
          "output_type": "execute_result",
          "data": {
            "text/plain": [
              "array([[ 3, -2,  1],\n",
              "       [ 2,  3, -5],\n",
              "       [-5, -7,  3]])"
            ]
          },
          "metadata": {
            "tags": []
          },
          "execution_count": 51
        }
      ]
    },
    {
      "cell_type": "code",
      "metadata": {
        "id": "9LKIjxX2OkaF",
        "colab_type": "code",
        "colab": {}
      },
      "source": [
        "w,v = np.linalg.eig(A)"
      ],
      "execution_count": 0,
      "outputs": []
    },
    {
      "cell_type": "code",
      "metadata": {
        "id": "zdbXteAEOkaH",
        "colab_type": "code",
        "colab": {},
        "outputId": "c4d7db24-b385-483c-a57a-4bda0e436813"
      },
      "source": [
        "w #eigen values"
      ],
      "execution_count": 0,
      "outputs": [
        {
          "output_type": "execute_result",
          "data": {
            "text/plain": [
              "array([ 6.02413385+1.19839754j,  6.02413385-1.19839754j, -3.04826770+0.j        ])"
            ]
          },
          "metadata": {
            "tags": []
          },
          "execution_count": 54
        }
      ]
    },
    {
      "cell_type": "code",
      "metadata": {
        "id": "F-luEGRmOkaL",
        "colab_type": "code",
        "colab": {},
        "outputId": "a3067054-652c-4abb-8172-d4bc7d44a2b1"
      },
      "source": [
        "v #eigen vectors"
      ],
      "execution_count": 0,
      "outputs": [
        {
          "output_type": "execute_result",
          "data": {
            "text/plain": [
              "array([[ 0.51763744-0.18115428j,  0.51763744+0.18115428j,  0.07602323+0.j        ],\n",
              "       [-0.60481749+0.j        , -0.60481749-0.j        ,  0.62025727+0.j        ],\n",
              "       [ 0.57286479+0.07250065j,  0.57286479-0.07250065j,  0.78070570+0.j        ]])"
            ]
          },
          "metadata": {
            "tags": []
          },
          "execution_count": 55
        }
      ]
    },
    {
      "cell_type": "code",
      "metadata": {
        "id": "5uQcnATEOkaP",
        "colab_type": "code",
        "colab": {}
      },
      "source": [
        "d1 = [6,7,8,9,12,23]"
      ],
      "execution_count": 0,
      "outputs": []
    },
    {
      "cell_type": "code",
      "metadata": {
        "id": "kVCcYropOkaR",
        "colab_type": "code",
        "colab": {},
        "outputId": "f54ede4e-92d3-42a4-bb7d-e6651488e248"
      },
      "source": [
        "d1"
      ],
      "execution_count": 0,
      "outputs": [
        {
          "output_type": "execute_result",
          "data": {
            "text/plain": [
              "[6, 7, 8, 9, 12, 23]"
            ]
          },
          "metadata": {
            "tags": []
          },
          "execution_count": 58
        }
      ]
    },
    {
      "cell_type": "code",
      "metadata": {
        "id": "BE-tUurSOkaT",
        "colab_type": "code",
        "colab": {},
        "outputId": "4426d763-6adf-4773-8a37-5079a65627c5"
      },
      "source": [
        "np.asarray(d1)"
      ],
      "execution_count": 0,
      "outputs": [
        {
          "output_type": "execute_result",
          "data": {
            "text/plain": [
              "array([ 6,  7,  8,  9, 12, 23])"
            ]
          },
          "metadata": {
            "tags": []
          },
          "execution_count": 59
        }
      ]
    },
    {
      "cell_type": "code",
      "metadata": {
        "id": "Y4VcxP11OkaW",
        "colab_type": "code",
        "colab": {},
        "outputId": "30dad313-09d8-46c6-8d5f-012a541588d1"
      },
      "source": [
        "np.array(d1)"
      ],
      "execution_count": 0,
      "outputs": [
        {
          "output_type": "execute_result",
          "data": {
            "text/plain": [
              "array([ 6,  7,  8,  9, 12, 23])"
            ]
          },
          "metadata": {
            "tags": []
          },
          "execution_count": 60
        }
      ]
    },
    {
      "cell_type": "code",
      "metadata": {
        "id": "-V6fkyTiOkaY",
        "colab_type": "code",
        "colab": {}
      },
      "source": [
        "d2 = [list(range(1,10)),list(range(10,20))]"
      ],
      "execution_count": 0,
      "outputs": []
    },
    {
      "cell_type": "code",
      "metadata": {
        "id": "WrwMkDi0Okac",
        "colab_type": "code",
        "colab": {},
        "outputId": "c38b7be5-3f21-4637-b9b8-654e9b63c039"
      },
      "source": [
        "d2"
      ],
      "execution_count": 0,
      "outputs": [
        {
          "output_type": "execute_result",
          "data": {
            "text/plain": [
              "[[1, 2, 3, 4, 5, 6, 7, 8, 9], [10, 11, 12, 13, 14, 15, 16, 17, 18, 19]]"
            ]
          },
          "metadata": {
            "tags": []
          },
          "execution_count": 64
        }
      ]
    },
    {
      "cell_type": "code",
      "metadata": {
        "id": "Y9u0-RMIOkaf",
        "colab_type": "code",
        "colab": {},
        "outputId": "6f4c86ce-3a3a-489d-a39a-e98ebdaf43b8"
      },
      "source": [
        "np.asarray(d2)"
      ],
      "execution_count": 0,
      "outputs": [
        {
          "output_type": "execute_result",
          "data": {
            "text/plain": [
              "array([[1, 2, 3, 4, 5, 6, 7, 8, 9],\n",
              "       [10, 11, 12, 13, 14, 15, 16, 17, 18, 19]], dtype=object)"
            ]
          },
          "metadata": {
            "tags": []
          },
          "execution_count": 65
        }
      ]
    },
    {
      "cell_type": "code",
      "metadata": {
        "id": "7jo7p__0Okah",
        "colab_type": "code",
        "colab": {},
        "outputId": "7fbbb399-388e-438b-a844-ccbbf732b85f"
      },
      "source": [
        "np.array(d2)"
      ],
      "execution_count": 0,
      "outputs": [
        {
          "output_type": "execute_result",
          "data": {
            "text/plain": [
              "array([[1, 2, 3, 4, 5, 6, 7, 8, 9],\n",
              "       [10, 11, 12, 13, 14, 15, 16, 17, 18, 19]], dtype=object)"
            ]
          },
          "metadata": {
            "tags": []
          },
          "execution_count": 66
        }
      ]
    },
    {
      "cell_type": "code",
      "metadata": {
        "id": "h886YPsXOkaj",
        "colab_type": "code",
        "colab": {}
      },
      "source": [
        "d3 = np.array(d2)"
      ],
      "execution_count": 0,
      "outputs": []
    },
    {
      "cell_type": "code",
      "metadata": {
        "id": "1ZL-ps7kOkal",
        "colab_type": "code",
        "colab": {},
        "outputId": "8f7e4d61-872f-4cfc-ecf4-c92a102fee19"
      },
      "source": [
        "d3"
      ],
      "execution_count": 0,
      "outputs": [
        {
          "output_type": "execute_result",
          "data": {
            "text/plain": [
              "array([[1, 2, 3, 4, 5, 6, 7, 8, 9],\n",
              "       [10, 11, 12, 13, 14, 15, 16, 17, 18, 19]], dtype=object)"
            ]
          },
          "metadata": {
            "tags": []
          },
          "execution_count": 69
        }
      ]
    },
    {
      "cell_type": "code",
      "metadata": {
        "id": "uKWRmeD3Okap",
        "colab_type": "code",
        "colab": {},
        "outputId": "49711851-fe09-4728-fdf8-efc677dddc52"
      },
      "source": [
        "d3.tolist()"
      ],
      "execution_count": 0,
      "outputs": [
        {
          "output_type": "execute_result",
          "data": {
            "text/plain": [
              "[[1, 2, 3, 4, 5, 6, 7, 8, 9], [10, 11, 12, 13, 14, 15, 16, 17, 18, 19]]"
            ]
          },
          "metadata": {
            "tags": []
          },
          "execution_count": 70
        }
      ]
    },
    {
      "cell_type": "code",
      "metadata": {
        "id": "RE8YaSncOkar",
        "colab_type": "code",
        "colab": {},
        "outputId": "98904e21-f4ad-4249-93d2-78a00bab3876"
      },
      "source": [
        "d2"
      ],
      "execution_count": 0,
      "outputs": [
        {
          "output_type": "execute_result",
          "data": {
            "text/plain": [
              "[[1, 2, 3, 4, 5, 6, 7, 8, 9], [10, 11, 12, 13, 14, 15, 16, 17, 18, 19]]"
            ]
          },
          "metadata": {
            "tags": []
          },
          "execution_count": 71
        }
      ]
    },
    {
      "cell_type": "code",
      "metadata": {
        "id": "94R4BsEROkat",
        "colab_type": "code",
        "colab": {},
        "outputId": "06d95cc7-b85e-4dcb-d944-1926119e4b7b"
      },
      "source": [
        "d3"
      ],
      "execution_count": 0,
      "outputs": [
        {
          "output_type": "execute_result",
          "data": {
            "text/plain": [
              "array([[1, 2, 3, 4, 5, 6, 7, 8, 9],\n",
              "       [10, 11, 12, 13, 14, 15, 16, 17, 18, 19]], dtype=object)"
            ]
          },
          "metadata": {
            "tags": []
          },
          "execution_count": 72
        }
      ]
    },
    {
      "cell_type": "code",
      "metadata": {
        "id": "q77_ADSEOkav",
        "colab_type": "code",
        "colab": {},
        "outputId": "9b22c3c3-dbcd-40c7-b5b7-810e594e1ab6"
      },
      "source": [
        "d3.dtype"
      ],
      "execution_count": 0,
      "outputs": [
        {
          "output_type": "execute_result",
          "data": {
            "text/plain": [
              "dtype('O')"
            ]
          },
          "metadata": {
            "tags": []
          },
          "execution_count": 73
        }
      ]
    },
    {
      "cell_type": "code",
      "metadata": {
        "id": "LntjZ4TaOkaz",
        "colab_type": "code",
        "colab": {},
        "outputId": "2572c8f8-eff2-4089-923b-ff957acd82dd"
      },
      "source": [
        "d3.ndim"
      ],
      "execution_count": 0,
      "outputs": [
        {
          "output_type": "execute_result",
          "data": {
            "text/plain": [
              "1"
            ]
          },
          "metadata": {
            "tags": []
          },
          "execution_count": 74
        }
      ]
    },
    {
      "cell_type": "code",
      "metadata": {
        "id": "c5yC536zOka1",
        "colab_type": "code",
        "colab": {},
        "outputId": "5add0a03-4510-4a71-b30c-b3da1a8d9de9"
      },
      "source": [
        "d3.shape"
      ],
      "execution_count": 0,
      "outputs": [
        {
          "output_type": "execute_result",
          "data": {
            "text/plain": [
              "(2,)"
            ]
          },
          "metadata": {
            "tags": []
          },
          "execution_count": 75
        }
      ]
    },
    {
      "cell_type": "code",
      "metadata": {
        "id": "MLbR4peLOka6",
        "colab_type": "code",
        "colab": {},
        "outputId": "a76c1a83-fb95-4d57-e813-9b770ded161a"
      },
      "source": [
        "d3.size"
      ],
      "execution_count": 0,
      "outputs": [
        {
          "output_type": "execute_result",
          "data": {
            "text/plain": [
              "2"
            ]
          },
          "metadata": {
            "tags": []
          },
          "execution_count": 76
        }
      ]
    },
    {
      "cell_type": "code",
      "metadata": {
        "id": "2EViSkWwOkbA",
        "colab_type": "code",
        "colab": {},
        "outputId": "e0ffb40a-8a1e-4cba-f7c2-25aded7ec925"
      },
      "source": [
        "len(d3)"
      ],
      "execution_count": 0,
      "outputs": [
        {
          "output_type": "execute_result",
          "data": {
            "text/plain": [
              "2"
            ]
          },
          "metadata": {
            "tags": []
          },
          "execution_count": 77
        }
      ]
    },
    {
      "cell_type": "code",
      "metadata": {
        "id": "Ce0VFKfROkbE",
        "colab_type": "code",
        "colab": {}
      },
      "source": [
        "#special arrays as helper functions"
      ],
      "execution_count": 0,
      "outputs": []
    },
    {
      "cell_type": "code",
      "metadata": {
        "id": "I7K7TVl4OkbH",
        "colab_type": "code",
        "colab": {},
        "outputId": "6aa4ee46-c8e4-4b32-ff35-d1ce9bcc6a37"
      },
      "source": [
        "np.zeros(10)"
      ],
      "execution_count": 0,
      "outputs": [
        {
          "output_type": "execute_result",
          "data": {
            "text/plain": [
              "array([ 0.,  0.,  0.,  0.,  0.,  0.,  0.,  0.,  0.,  0.])"
            ]
          },
          "metadata": {
            "tags": []
          },
          "execution_count": 79
        }
      ]
    },
    {
      "cell_type": "code",
      "metadata": {
        "id": "6BfL7RBDOkbJ",
        "colab_type": "code",
        "colab": {},
        "outputId": "3593784b-00ed-441f-f43c-fdfd0ac4ce22"
      },
      "source": [
        "np.zeros((10,10))"
      ],
      "execution_count": 0,
      "outputs": [
        {
          "output_type": "execute_result",
          "data": {
            "text/plain": [
              "array([[ 0.,  0.,  0.,  0.,  0.,  0.,  0.,  0.,  0.,  0.],\n",
              "       [ 0.,  0.,  0.,  0.,  0.,  0.,  0.,  0.,  0.,  0.],\n",
              "       [ 0.,  0.,  0.,  0.,  0.,  0.,  0.,  0.,  0.,  0.],\n",
              "       [ 0.,  0.,  0.,  0.,  0.,  0.,  0.,  0.,  0.,  0.],\n",
              "       [ 0.,  0.,  0.,  0.,  0.,  0.,  0.,  0.,  0.,  0.],\n",
              "       [ 0.,  0.,  0.,  0.,  0.,  0.,  0.,  0.,  0.,  0.],\n",
              "       [ 0.,  0.,  0.,  0.,  0.,  0.,  0.,  0.,  0.,  0.],\n",
              "       [ 0.,  0.,  0.,  0.,  0.,  0.,  0.,  0.,  0.,  0.],\n",
              "       [ 0.,  0.,  0.,  0.,  0.,  0.,  0.,  0.,  0.,  0.],\n",
              "       [ 0.,  0.,  0.,  0.,  0.,  0.,  0.,  0.,  0.,  0.]])"
            ]
          },
          "metadata": {
            "tags": []
          },
          "execution_count": 80
        }
      ]
    },
    {
      "cell_type": "code",
      "metadata": {
        "id": "0crSS84rOkbM",
        "colab_type": "code",
        "colab": {},
        "outputId": "6f719cea-d4f2-4523-cb73-c17a3735274d"
      },
      "source": [
        "np.ones((10,10))"
      ],
      "execution_count": 0,
      "outputs": [
        {
          "output_type": "execute_result",
          "data": {
            "text/plain": [
              "array([[ 1.,  1.,  1.,  1.,  1.,  1.,  1.,  1.,  1.,  1.],\n",
              "       [ 1.,  1.,  1.,  1.,  1.,  1.,  1.,  1.,  1.,  1.],\n",
              "       [ 1.,  1.,  1.,  1.,  1.,  1.,  1.,  1.,  1.,  1.],\n",
              "       [ 1.,  1.,  1.,  1.,  1.,  1.,  1.,  1.,  1.,  1.],\n",
              "       [ 1.,  1.,  1.,  1.,  1.,  1.,  1.,  1.,  1.,  1.],\n",
              "       [ 1.,  1.,  1.,  1.,  1.,  1.,  1.,  1.,  1.,  1.],\n",
              "       [ 1.,  1.,  1.,  1.,  1.,  1.,  1.,  1.,  1.,  1.],\n",
              "       [ 1.,  1.,  1.,  1.,  1.,  1.,  1.,  1.,  1.,  1.],\n",
              "       [ 1.,  1.,  1.,  1.,  1.,  1.,  1.,  1.,  1.,  1.],\n",
              "       [ 1.,  1.,  1.,  1.,  1.,  1.,  1.,  1.,  1.,  1.]])"
            ]
          },
          "metadata": {
            "tags": []
          },
          "execution_count": 81
        }
      ]
    },
    {
      "cell_type": "code",
      "metadata": {
        "id": "QC5aVRsyOkbP",
        "colab_type": "code",
        "colab": {},
        "outputId": "94c14c7a-6739-4c3a-e583-37e61973884e"
      },
      "source": [
        "np.linspace(0,100,50)"
      ],
      "execution_count": 0,
      "outputs": [
        {
          "output_type": "execute_result",
          "data": {
            "text/plain": [
              "array([   0.        ,    2.04081633,    4.08163265,    6.12244898,\n",
              "          8.16326531,   10.20408163,   12.24489796,   14.28571429,\n",
              "         16.32653061,   18.36734694,   20.40816327,   22.44897959,\n",
              "         24.48979592,   26.53061224,   28.57142857,   30.6122449 ,\n",
              "         32.65306122,   34.69387755,   36.73469388,   38.7755102 ,\n",
              "         40.81632653,   42.85714286,   44.89795918,   46.93877551,\n",
              "         48.97959184,   51.02040816,   53.06122449,   55.10204082,\n",
              "         57.14285714,   59.18367347,   61.2244898 ,   63.26530612,\n",
              "         65.30612245,   67.34693878,   69.3877551 ,   71.42857143,\n",
              "         73.46938776,   75.51020408,   77.55102041,   79.59183673,\n",
              "         81.63265306,   83.67346939,   85.71428571,   87.75510204,\n",
              "         89.79591837,   91.83673469,   93.87755102,   95.91836735,\n",
              "         97.95918367,  100.        ])"
            ]
          },
          "metadata": {
            "tags": []
          },
          "execution_count": 86
        }
      ]
    },
    {
      "cell_type": "code",
      "metadata": {
        "id": "jfwD22hwOkbX",
        "colab_type": "code",
        "colab": {},
        "outputId": "726668d5-8f80-441d-e2d1-12c0a6e04f17"
      },
      "source": [
        "np.eye(10)"
      ],
      "execution_count": 0,
      "outputs": [
        {
          "output_type": "execute_result",
          "data": {
            "text/plain": [
              "array([[ 1.,  0.,  0.,  0.,  0.,  0.,  0.,  0.,  0.,  0.],\n",
              "       [ 0.,  1.,  0.,  0.,  0.,  0.,  0.,  0.,  0.,  0.],\n",
              "       [ 0.,  0.,  1.,  0.,  0.,  0.,  0.,  0.,  0.,  0.],\n",
              "       [ 0.,  0.,  0.,  1.,  0.,  0.,  0.,  0.,  0.,  0.],\n",
              "       [ 0.,  0.,  0.,  0.,  1.,  0.,  0.,  0.,  0.,  0.],\n",
              "       [ 0.,  0.,  0.,  0.,  0.,  1.,  0.,  0.,  0.,  0.],\n",
              "       [ 0.,  0.,  0.,  0.,  0.,  0.,  1.,  0.,  0.,  0.],\n",
              "       [ 0.,  0.,  0.,  0.,  0.,  0.,  0.,  1.,  0.,  0.],\n",
              "       [ 0.,  0.,  0.,  0.,  0.,  0.,  0.,  0.,  1.,  0.],\n",
              "       [ 0.,  0.,  0.,  0.,  0.,  0.,  0.,  0.,  0.,  1.]])"
            ]
          },
          "metadata": {
            "tags": []
          },
          "execution_count": 87
        }
      ]
    },
    {
      "cell_type": "code",
      "metadata": {
        "id": "tO_CTTmsOkbZ",
        "colab_type": "code",
        "colab": {},
        "outputId": "1a7f2257-dc00-43da-c87c-e02855fdf019"
      },
      "source": [
        "np.array([[2, 5.4, 1], [3.1, 5, 4]])"
      ],
      "execution_count": 0,
      "outputs": [
        {
          "output_type": "execute_result",
          "data": {
            "text/plain": [
              "array([[ 2. ,  5.4,  1. ],\n",
              "       [ 3.1,  5. ,  4. ]])"
            ]
          },
          "metadata": {
            "tags": []
          },
          "execution_count": 88
        }
      ]
    },
    {
      "cell_type": "code",
      "metadata": {
        "id": "BlRXSQYBOkba",
        "colab_type": "code",
        "colab": {},
        "outputId": "da1a8d5c-1d73-4621-9a52-20f3903c4232"
      },
      "source": [
        "np.linspace(10,100,20)"
      ],
      "execution_count": 0,
      "outputs": [
        {
          "output_type": "execute_result",
          "data": {
            "text/plain": [
              "array([  10.        ,   14.73684211,   19.47368421,   24.21052632,\n",
              "         28.94736842,   33.68421053,   38.42105263,   43.15789474,\n",
              "         47.89473684,   52.63157895,   57.36842105,   62.10526316,\n",
              "         66.84210526,   71.57894737,   76.31578947,   81.05263158,\n",
              "         85.78947368,   90.52631579,   95.26315789,  100.        ])"
            ]
          },
          "metadata": {
            "tags": []
          },
          "execution_count": 89
        }
      ]
    },
    {
      "cell_type": "code",
      "metadata": {
        "id": "MYoAXhwwOkbc",
        "colab_type": "code",
        "colab": {},
        "outputId": "2db1a26d-fdd4-4185-c125-53323b9b36f9"
      },
      "source": [
        "np.linspace(10,100,20)"
      ],
      "execution_count": 0,
      "outputs": [
        {
          "output_type": "execute_result",
          "data": {
            "text/plain": [
              "array([  10.        ,   14.73684211,   19.47368421,   24.21052632,\n",
              "         28.94736842,   33.68421053,   38.42105263,   43.15789474,\n",
              "         47.89473684,   52.63157895,   57.36842105,   62.10526316,\n",
              "         66.84210526,   71.57894737,   76.31578947,   81.05263158,\n",
              "         85.78947368,   90.52631579,   95.26315789,  100.        ])"
            ]
          },
          "metadata": {
            "tags": []
          },
          "execution_count": 90
        }
      ]
    },
    {
      "cell_type": "code",
      "metadata": {
        "id": "PSZAbjbqOkbe",
        "colab_type": "code",
        "colab": {},
        "outputId": "f5cb9c1c-591b-4dd1-d5ed-0cf19a748bd4"
      },
      "source": [
        "np.linspace(10,100,20)"
      ],
      "execution_count": 0,
      "outputs": [
        {
          "output_type": "execute_result",
          "data": {
            "text/plain": [
              "array([  10.        ,   14.73684211,   19.47368421,   24.21052632,\n",
              "         28.94736842,   33.68421053,   38.42105263,   43.15789474,\n",
              "         47.89473684,   52.63157895,   57.36842105,   62.10526316,\n",
              "         66.84210526,   71.57894737,   76.31578947,   81.05263158,\n",
              "         85.78947368,   90.52631579,   95.26315789,  100.        ])"
            ]
          },
          "metadata": {
            "tags": []
          },
          "execution_count": 91
        }
      ]
    },
    {
      "cell_type": "code",
      "metadata": {
        "id": "hVnhZIQ5Okbg",
        "colab_type": "code",
        "colab": {},
        "outputId": "1c9dd5ea-57e8-4d84-e2e7-aab195759bbf"
      },
      "source": [
        "(100-10)/20"
      ],
      "execution_count": 0,
      "outputs": [
        {
          "output_type": "execute_result",
          "data": {
            "text/plain": [
              "4.5"
            ]
          },
          "metadata": {
            "tags": []
          },
          "execution_count": 92
        }
      ]
    },
    {
      "cell_type": "code",
      "metadata": {
        "id": "mhgldW_AOkbj",
        "colab_type": "code",
        "colab": {}
      },
      "source": [
        "#lambda function"
      ],
      "execution_count": 0,
      "outputs": []
    },
    {
      "cell_type": "code",
      "metadata": {
        "id": "jYOXGNFzOkbl",
        "colab_type": "code",
        "colab": {}
      },
      "source": [
        "def square(x):\n",
        "    print(x**2)"
      ],
      "execution_count": 0,
      "outputs": []
    },
    {
      "cell_type": "code",
      "metadata": {
        "id": "fiKiNesqOkbn",
        "colab_type": "code",
        "colab": {},
        "outputId": "81d3197b-5442-41cd-9549-500f8b9f9310"
      },
      "source": [
        "square(100)"
      ],
      "execution_count": 0,
      "outputs": [
        {
          "output_type": "stream",
          "text": [
            "10000\n"
          ],
          "name": "stdout"
        }
      ]
    },
    {
      "cell_type": "code",
      "metadata": {
        "id": "z2ioDgf3Okbo",
        "colab_type": "code",
        "colab": {},
        "outputId": "40b68080-e389-4edc-ea0f-376102af2be4"
      },
      "source": [
        "square(10) #custom function"
      ],
      "execution_count": 0,
      "outputs": [
        {
          "output_type": "stream",
          "text": [
            "100\n"
          ],
          "name": "stdout"
        }
      ]
    },
    {
      "cell_type": "code",
      "metadata": {
        "id": "sLwnzD-4Okbq",
        "colab_type": "code",
        "colab": {},
        "outputId": "99850025-7730-4cf3-cdfc-131c098f98b5"
      },
      "source": [
        "np.square(10) #builtin function"
      ],
      "execution_count": 0,
      "outputs": [
        {
          "output_type": "execute_result",
          "data": {
            "text/plain": [
              "100"
            ]
          },
          "metadata": {
            "tags": []
          },
          "execution_count": 99
        }
      ]
    },
    {
      "cell_type": "code",
      "metadata": {
        "id": "OdV36t24Okbt",
        "colab_type": "code",
        "colab": {}
      },
      "source": [
        "# Anonymous function"
      ],
      "execution_count": 0,
      "outputs": []
    },
    {
      "cell_type": "code",
      "metadata": {
        "id": "bXcMlWeOOkbw",
        "colab_type": "code",
        "colab": {}
      },
      "source": [
        "model = lambda x: x**2 + x*3 - x"
      ],
      "execution_count": 0,
      "outputs": []
    },
    {
      "cell_type": "code",
      "metadata": {
        "id": "KhRA067UOkby",
        "colab_type": "code",
        "colab": {},
        "outputId": "96446ab7-a011-4b08-94bf-d38a039b9a62"
      },
      "source": [
        "model(5)"
      ],
      "execution_count": 0,
      "outputs": [
        {
          "output_type": "execute_result",
          "data": {
            "text/plain": [
              "35"
            ]
          },
          "metadata": {
            "tags": []
          },
          "execution_count": 109
        }
      ]
    },
    {
      "cell_type": "code",
      "metadata": {
        "id": "6mbBZaaYOkbz",
        "colab_type": "code",
        "colab": {},
        "outputId": "d78f6ee1-9c26-4f3a-e908-090ab8e367db"
      },
      "source": [
        "model(10)"
      ],
      "execution_count": 0,
      "outputs": [
        {
          "output_type": "execute_result",
          "data": {
            "text/plain": [
              "120"
            ]
          },
          "metadata": {
            "tags": []
          },
          "execution_count": 110
        }
      ]
    },
    {
      "cell_type": "code",
      "metadata": {
        "id": "TXaC_yuPOkb1",
        "colab_type": "code",
        "colab": {},
        "outputId": "f96809ec-de17-45bf-9eeb-710b67a1cffc"
      },
      "source": [
        "np.fromfunction(lambda i, j: i == j, (3, 3), dtype=int)"
      ],
      "execution_count": 0,
      "outputs": [
        {
          "output_type": "execute_result",
          "data": {
            "text/plain": [
              "array([[ True, False, False],\n",
              "       [False,  True, False],\n",
              "       [False, False,  True]], dtype=bool)"
            ]
          },
          "metadata": {
            "tags": []
          },
          "execution_count": 111
        }
      ]
    },
    {
      "cell_type": "code",
      "metadata": {
        "id": "cbiE1rMFOkb3",
        "colab_type": "code",
        "colab": {},
        "outputId": "e6b2d37d-645c-4fdc-c752-78557feb5399"
      },
      "source": [
        "np.fromfunction(lambda i, j: i + j*10, (3, 3), dtype=int)"
      ],
      "execution_count": 0,
      "outputs": [
        {
          "output_type": "execute_result",
          "data": {
            "text/plain": [
              "array([[ 0, 10, 20],\n",
              "       [ 1, 11, 21],\n",
              "       [ 2, 12, 22]])"
            ]
          },
          "metadata": {
            "tags": []
          },
          "execution_count": 112
        }
      ]
    },
    {
      "cell_type": "code",
      "metadata": {
        "id": "vk6gIqAjOkb5",
        "colab_type": "code",
        "colab": {},
        "outputId": "e65d0638-dc8f-449b-80e1-38c2254f19a3"
      },
      "source": [
        "iterable = (x*(x-1) for x in range(8))\n",
        "np.fromiter(iterable, float)"
      ],
      "execution_count": 0,
      "outputs": [
        {
          "output_type": "execute_result",
          "data": {
            "text/plain": [
              "array([  0.,   0.,   2.,   6.,  12.,  20.,  30.,  42.])"
            ]
          },
          "metadata": {
            "tags": []
          },
          "execution_count": 113
        }
      ]
    },
    {
      "cell_type": "code",
      "metadata": {
        "id": "pn4E6LsROkb7",
        "colab_type": "code",
        "colab": {}
      },
      "source": [
        "import os"
      ],
      "execution_count": 0,
      "outputs": []
    },
    {
      "cell_type": "code",
      "metadata": {
        "id": "VgMe6mG5Okb9",
        "colab_type": "code",
        "colab": {},
        "outputId": "6698b4e2-d94c-4234-87ed-f291b13b5735"
      },
      "source": [
        "os.getcwd()"
      ],
      "execution_count": 0,
      "outputs": [
        {
          "output_type": "execute_result",
          "data": {
            "text/plain": [
              "'/Users/pradmishra/Documents'"
            ]
          },
          "metadata": {
            "tags": []
          },
          "execution_count": 118
        }
      ]
    },
    {
      "cell_type": "code",
      "metadata": {
        "id": "ADshUe2LOkcA",
        "colab_type": "code",
        "colab": {},
        "outputId": "2b5248f0-ecc1-4eb1-a15b-d50ddee2ff81"
      },
      "source": [
        "np.fromfile('/Users/pradmishra/Documents/pg24407.txt')"
      ],
      "execution_count": 0,
      "outputs": [
        {
          "output_type": "execute_result",
          "data": {
            "text/plain": [
              "array([  9.49270681e+077,   4.27186921e+034,   2.04909202e+190, ...,\n",
              "         3.48319740e+228,   1.33452242e+179,   2.96551829e-260])"
            ]
          },
          "metadata": {
            "tags": []
          },
          "execution_count": 120
        }
      ]
    },
    {
      "cell_type": "code",
      "metadata": {
        "id": "_lPZijxuOkcB",
        "colab_type": "code",
        "colab": {}
      },
      "source": [
        "from io import StringIO"
      ],
      "execution_count": 0,
      "outputs": []
    },
    {
      "cell_type": "code",
      "metadata": {
        "id": "fOoBYfAmOkcF",
        "colab_type": "code",
        "colab": {}
      },
      "source": [
        "d = StringIO('# Convert each value according to its column and store')"
      ],
      "execution_count": 0,
      "outputs": []
    },
    {
      "cell_type": "code",
      "metadata": {
        "id": "yMibz4_rOkcH",
        "colab_type": "code",
        "colab": {},
        "outputId": "139dbaf6-457c-4e86-bcfc-ac98151c48c2"
      },
      "source": [
        "np.loadtxt(d)"
      ],
      "execution_count": 0,
      "outputs": [
        {
          "output_type": "stream",
          "text": [
            "/Applications/anaconda3/lib/python3.6/site-packages/ipykernel_launcher.py:1: UserWarning: loadtxt: Empty input file: \"<_io.StringIO object at 0x10a12b1f8>\"\n",
            "  \"\"\"Entry point for launching an IPython kernel.\n"
          ],
          "name": "stderr"
        },
        {
          "output_type": "execute_result",
          "data": {
            "text/plain": [
              "array([], dtype=float64)"
            ]
          },
          "metadata": {
            "tags": []
          },
          "execution_count": 126
        }
      ]
    },
    {
      "cell_type": "code",
      "metadata": {
        "id": "8OabLAj-OkcO",
        "colab_type": "code",
        "colab": {},
        "outputId": "3fe9421a-2608-4605-c6da-426e5ea4895c"
      },
      "source": [
        "x1=np.array([1,2,3,4])\n",
        "x2=np.array(['a','dd','xyz','12'])\n",
        "x3=np.array([1.1,2,3,4])\n",
        "r = np.core.records.fromarrays([x1,x2,x3],names='a,b,c')\n",
        "r"
      ],
      "execution_count": 0,
      "outputs": [
        {
          "output_type": "execute_result",
          "data": {
            "text/plain": [
              "rec.array([(1, 'a',  1.1), (2, 'dd',  2. ), (3, 'xyz',  3. ), (4, '12',  4. )], \n",
              "          dtype=[('a', '<i8'), ('b', '<U3'), ('c', '<f8')])"
            ]
          },
          "metadata": {
            "tags": []
          },
          "execution_count": 127
        }
      ]
    },
    {
      "cell_type": "code",
      "metadata": {
        "id": "YH8dRUJ4OkcQ",
        "colab_type": "code",
        "colab": {},
        "outputId": "3feabf19-1cba-478b-ca99-16670db1cba9"
      },
      "source": [
        "np.linspace(10,40,20)"
      ],
      "execution_count": 0,
      "outputs": [
        {
          "output_type": "execute_result",
          "data": {
            "text/plain": [
              "array([ 10.        ,  11.57894737,  13.15789474,  14.73684211,\n",
              "        16.31578947,  17.89473684,  19.47368421,  21.05263158,\n",
              "        22.63157895,  24.21052632,  25.78947368,  27.36842105,\n",
              "        28.94736842,  30.52631579,  32.10526316,  33.68421053,\n",
              "        35.26315789,  36.84210526,  38.42105263,  40.        ])"
            ]
          },
          "metadata": {
            "tags": []
          },
          "execution_count": 128
        }
      ]
    },
    {
      "cell_type": "code",
      "metadata": {
        "id": "Mjb73ImwOkcR",
        "colab_type": "code",
        "colab": {},
        "outputId": "c0fab015-f422-424e-b061-9ece7c3d1129"
      },
      "source": [
        "np.arange(10,40)"
      ],
      "execution_count": 0,
      "outputs": [
        {
          "output_type": "execute_result",
          "data": {
            "text/plain": [
              "array([10, 11, 12, 13, 14, 15, 16, 17, 18, 19, 20, 21, 22, 23, 24, 25, 26,\n",
              "       27, 28, 29, 30, 31, 32, 33, 34, 35, 36, 37, 38, 39])"
            ]
          },
          "metadata": {
            "tags": []
          },
          "execution_count": 129
        }
      ]
    },
    {
      "cell_type": "code",
      "metadata": {
        "id": "esbjYQ-uOkcS",
        "colab_type": "code",
        "colab": {},
        "outputId": "f8244ad1-09ea-4c58-bfff-ead201b54e56"
      },
      "source": [
        "np.arange(10,40,2)"
      ],
      "execution_count": 0,
      "outputs": [
        {
          "output_type": "execute_result",
          "data": {
            "text/plain": [
              "array([10, 12, 14, 16, 18, 20, 22, 24, 26, 28, 30, 32, 34, 36, 38])"
            ]
          },
          "metadata": {
            "tags": []
          },
          "execution_count": 130
        }
      ]
    },
    {
      "cell_type": "code",
      "metadata": {
        "id": "hMzaml25OkcU",
        "colab_type": "code",
        "colab": {},
        "outputId": "cac5cd86-e833-4427-f120-66c155dda48c"
      },
      "source": [
        "np.diagflat([[1,2], [3,4]])"
      ],
      "execution_count": 0,
      "outputs": [
        {
          "output_type": "execute_result",
          "data": {
            "text/plain": [
              "array([[1, 0, 0, 0],\n",
              "       [0, 2, 0, 0],\n",
              "       [0, 0, 3, 0],\n",
              "       [0, 0, 0, 4]])"
            ]
          },
          "metadata": {
            "tags": []
          },
          "execution_count": 131
        }
      ]
    },
    {
      "cell_type": "code",
      "metadata": {
        "id": "UPAyiRPBOkcW",
        "colab_type": "code",
        "colab": {},
        "outputId": "5fd27e05-6084-4da7-d3cb-5cb3a8c23cac"
      },
      "source": [
        "A"
      ],
      "execution_count": 0,
      "outputs": [
        {
          "output_type": "execute_result",
          "data": {
            "text/plain": [
              "array([[ 3, -2,  1],\n",
              "       [ 2,  3, -5],\n",
              "       [-5, -7,  3]])"
            ]
          },
          "metadata": {
            "tags": []
          },
          "execution_count": 132
        }
      ]
    },
    {
      "cell_type": "code",
      "metadata": {
        "id": "MIyl97ycOkcX",
        "colab_type": "code",
        "colab": {}
      },
      "source": [
        "F = A.flatten()"
      ],
      "execution_count": 0,
      "outputs": []
    },
    {
      "cell_type": "code",
      "metadata": {
        "id": "cc6jeVtvOkcZ",
        "colab_type": "code",
        "colab": {},
        "outputId": "859bf8df-ce6c-4e94-beda-42e05e378973"
      },
      "source": [
        "F"
      ],
      "execution_count": 0,
      "outputs": [
        {
          "output_type": "execute_result",
          "data": {
            "text/plain": [
              "array([ 3, -2,  1,  2,  3, -5, -5, -7,  3])"
            ]
          },
          "metadata": {
            "tags": []
          },
          "execution_count": 135
        }
      ]
    },
    {
      "cell_type": "code",
      "metadata": {
        "id": "7IguQMgAOkca",
        "colab_type": "code",
        "colab": {},
        "outputId": "8ac6fe30-748c-4beb-9a36-ae3910e48de7"
      },
      "source": [
        "F.reshape(3,3)"
      ],
      "execution_count": 0,
      "outputs": [
        {
          "output_type": "execute_result",
          "data": {
            "text/plain": [
              "array([[ 3, -2,  1],\n",
              "       [ 2,  3, -5],\n",
              "       [-5, -7,  3]])"
            ]
          },
          "metadata": {
            "tags": []
          },
          "execution_count": 136
        }
      ]
    },
    {
      "cell_type": "code",
      "metadata": {
        "id": "Pd2srZFmOkcb",
        "colab_type": "code",
        "colab": {},
        "outputId": "6543c16d-c7e2-4c2f-fe01-5f8d2d2ff941"
      },
      "source": [
        "np.arange(10,40).reshape(5,6)"
      ],
      "execution_count": 0,
      "outputs": [
        {
          "output_type": "execute_result",
          "data": {
            "text/plain": [
              "array([[10, 11, 12, 13, 14, 15],\n",
              "       [16, 17, 18, 19, 20, 21],\n",
              "       [22, 23, 24, 25, 26, 27],\n",
              "       [28, 29, 30, 31, 32, 33],\n",
              "       [34, 35, 36, 37, 38, 39]])"
            ]
          },
          "metadata": {
            "tags": []
          },
          "execution_count": 142
        }
      ]
    },
    {
      "cell_type": "code",
      "metadata": {
        "id": "hzdnLkJdOkcc",
        "colab_type": "code",
        "colab": {},
        "outputId": "1ae1ca3f-27e2-4584-b114-de6a5bc6272a"
      },
      "source": [
        "len(np.arange(10,40))"
      ],
      "execution_count": 0,
      "outputs": [
        {
          "output_type": "execute_result",
          "data": {
            "text/plain": [
              "30"
            ]
          },
          "metadata": {
            "tags": []
          },
          "execution_count": 141
        }
      ]
    },
    {
      "cell_type": "code",
      "metadata": {
        "id": "KBRL4gmQOkcd",
        "colab_type": "code",
        "colab": {},
        "outputId": "f34ea4e2-b771-40e5-fef2-0bdf718668ff"
      },
      "source": [
        "np.arange(10,40).reshape(6,5)"
      ],
      "execution_count": 0,
      "outputs": [
        {
          "output_type": "execute_result",
          "data": {
            "text/plain": [
              "array([[10, 11, 12, 13, 14],\n",
              "       [15, 16, 17, 18, 19],\n",
              "       [20, 21, 22, 23, 24],\n",
              "       [25, 26, 27, 28, 29],\n",
              "       [30, 31, 32, 33, 34],\n",
              "       [35, 36, 37, 38, 39]])"
            ]
          },
          "metadata": {
            "tags": []
          },
          "execution_count": 143
        }
      ]
    },
    {
      "cell_type": "code",
      "metadata": {
        "id": "wZY-5YZWOkce",
        "colab_type": "code",
        "colab": {},
        "outputId": "1cf3e7a9-0280-4c84-824f-2e630e7c1f70"
      },
      "source": [
        "np.arange(10,40).reshape(10,3)"
      ],
      "execution_count": 0,
      "outputs": [
        {
          "output_type": "execute_result",
          "data": {
            "text/plain": [
              "array([[10, 11, 12],\n",
              "       [13, 14, 15],\n",
              "       [16, 17, 18],\n",
              "       [19, 20, 21],\n",
              "       [22, 23, 24],\n",
              "       [25, 26, 27],\n",
              "       [28, 29, 30],\n",
              "       [31, 32, 33],\n",
              "       [34, 35, 36],\n",
              "       [37, 38, 39]])"
            ]
          },
          "metadata": {
            "tags": []
          },
          "execution_count": 144
        }
      ]
    },
    {
      "cell_type": "code",
      "metadata": {
        "id": "cVjNxCRuOkch",
        "colab_type": "code",
        "colab": {},
        "outputId": "a68da623-63a6-470e-a487-d8d68e494996"
      },
      "source": [
        "np.arange(10,40).reshape(2,15)"
      ],
      "execution_count": 0,
      "outputs": [
        {
          "output_type": "execute_result",
          "data": {
            "text/plain": [
              "array([[10, 11, 12, 13, 14, 15, 16, 17, 18, 19, 20, 21, 22, 23, 24],\n",
              "       [25, 26, 27, 28, 29, 30, 31, 32, 33, 34, 35, 36, 37, 38, 39]])"
            ]
          },
          "metadata": {
            "tags": []
          },
          "execution_count": 146
        }
      ]
    },
    {
      "cell_type": "code",
      "metadata": {
        "id": "-G3yVGsZOkcj",
        "colab_type": "code",
        "colab": {},
        "outputId": "210e219c-cbdc-4116-fa55-0c6ca6543bc3"
      },
      "source": [
        "# max, min and location\n",
        "print(\"Max of a:\", A.min())\n",
        "print(\"Max of b:\", A.max())\n",
        "print(\"Max of c location:\", A.argmax())\n",
        "print(\"Max of c location:\", A.argmin())"
      ],
      "execution_count": 0,
      "outputs": [
        {
          "output_type": "stream",
          "text": [
            "Max of a: -7\n",
            "Max of b: 3\n",
            "Max of c location: 0\n",
            "Max of c location: 7\n"
          ],
          "name": "stdout"
        }
      ]
    },
    {
      "cell_type": "code",
      "metadata": {
        "id": "ysp80jsQOkco",
        "colab_type": "code",
        "colab": {},
        "outputId": "04c12d0d-c2d2-42d6-fb3b-118a35660deb"
      },
      "source": [
        "A/10"
      ],
      "execution_count": 0,
      "outputs": [
        {
          "output_type": "execute_result",
          "data": {
            "text/plain": [
              "array([[ 0.3, -0.2,  0.1],\n",
              "       [ 0.2,  0.3, -0.5],\n",
              "       [-0.5, -0.7,  0.3]])"
            ]
          },
          "metadata": {
            "tags": []
          },
          "execution_count": 150
        }
      ]
    },
    {
      "cell_type": "code",
      "metadata": {
        "id": "elr0BHxnOkcq",
        "colab_type": "code",
        "colab": {},
        "outputId": "60a6c3dc-0f60-4d26-dbd1-7988b5b03f5a"
      },
      "source": [
        "A"
      ],
      "execution_count": 0,
      "outputs": [
        {
          "output_type": "execute_result",
          "data": {
            "text/plain": [
              "array([[ 3, -2,  1],\n",
              "       [ 2,  3, -5],\n",
              "       [-5, -7,  3]])"
            ]
          },
          "metadata": {
            "tags": []
          },
          "execution_count": 153
        }
      ]
    },
    {
      "cell_type": "code",
      "metadata": {
        "id": "P33h7lLMOkcs",
        "colab_type": "code",
        "colab": {},
        "outputId": "6799e4df-0ec7-4858-ecaf-785ed2768557"
      },
      "source": [
        "A[0]"
      ],
      "execution_count": 0,
      "outputs": [
        {
          "output_type": "execute_result",
          "data": {
            "text/plain": [
              "array([ 3, -2,  1])"
            ]
          },
          "metadata": {
            "tags": []
          },
          "execution_count": 155
        }
      ]
    },
    {
      "cell_type": "code",
      "metadata": {
        "id": "6MERpdRdOkct",
        "colab_type": "code",
        "colab": {},
        "outputId": "be1bd4a1-789e-4f68-c4bd-7069e9b08824"
      },
      "source": [
        "A[0,2]"
      ],
      "execution_count": 0,
      "outputs": [
        {
          "output_type": "execute_result",
          "data": {
            "text/plain": [
              "1"
            ]
          },
          "metadata": {
            "tags": []
          },
          "execution_count": 156
        }
      ]
    },
    {
      "cell_type": "code",
      "metadata": {
        "id": "M0SxsAGdOkcu",
        "colab_type": "code",
        "colab": {},
        "outputId": "5c910e38-fe0a-4e73-ba74-06ab3c9ded4d"
      },
      "source": [
        "A[0][2]"
      ],
      "execution_count": 0,
      "outputs": [
        {
          "output_type": "execute_result",
          "data": {
            "text/plain": [
              "1"
            ]
          },
          "metadata": {
            "tags": []
          },
          "execution_count": 158
        }
      ]
    },
    {
      "cell_type": "code",
      "metadata": {
        "id": "TymkfsJbOkcv",
        "colab_type": "code",
        "colab": {},
        "outputId": "59281720-b693-49c7-fbdc-c40bd0e745c9"
      },
      "source": [
        "A[:,0]"
      ],
      "execution_count": 0,
      "outputs": [
        {
          "output_type": "execute_result",
          "data": {
            "text/plain": [
              "array([ 3,  2, -5])"
            ]
          },
          "metadata": {
            "tags": []
          },
          "execution_count": 159
        }
      ]
    },
    {
      "cell_type": "code",
      "metadata": {
        "id": "c8ZFQ4TfOkcy",
        "colab_type": "code",
        "colab": {},
        "outputId": "736ec684-e870-4f18-eca1-2ca40a876425"
      },
      "source": [
        "A[:,:]"
      ],
      "execution_count": 0,
      "outputs": [
        {
          "output_type": "execute_result",
          "data": {
            "text/plain": [
              "array([[ 3, -2,  1],\n",
              "       [ 2,  3, -5],\n",
              "       [-5, -7,  3]])"
            ]
          },
          "metadata": {
            "tags": []
          },
          "execution_count": 160
        }
      ]
    },
    {
      "cell_type": "code",
      "metadata": {
        "id": "wDoJGCHuOkc0",
        "colab_type": "code",
        "colab": {},
        "outputId": "1e032682-696d-461a-8d52-eca78132eee1"
      },
      "source": [
        "A[0:2,1:3]"
      ],
      "execution_count": 0,
      "outputs": [
        {
          "output_type": "execute_result",
          "data": {
            "text/plain": [
              "array([[-2,  1],\n",
              "       [ 3, -5]])"
            ]
          },
          "metadata": {
            "tags": []
          },
          "execution_count": 162
        }
      ]
    },
    {
      "cell_type": "code",
      "metadata": {
        "id": "9ISjCIeyOkc1",
        "colab_type": "code",
        "colab": {},
        "outputId": "7dcc1c54-fd1d-4c7d-add2-487a8aa070d4"
      },
      "source": [
        "A[:,:-1]"
      ],
      "execution_count": 0,
      "outputs": [
        {
          "output_type": "execute_result",
          "data": {
            "text/plain": [
              "array([[ 3, -2],\n",
              "       [ 2,  3],\n",
              "       [-5, -7]])"
            ]
          },
          "metadata": {
            "tags": []
          },
          "execution_count": 163
        }
      ]
    },
    {
      "cell_type": "code",
      "metadata": {
        "id": "KomXkAOIOkc3",
        "colab_type": "code",
        "colab": {}
      },
      "source": [
        ""
      ],
      "execution_count": 0,
      "outputs": []
    }
  ]
}