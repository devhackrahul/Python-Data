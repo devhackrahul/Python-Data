{
  "nbformat": 4,
  "nbformat_minor": 0,
  "metadata": {
    "kernelspec": {
      "display_name": "Python 3",
      "language": "python",
      "name": "python3"
    },
    "language_info": {
      "codemirror_mode": {
        "name": "ipython",
        "version": 3
      },
      "file_extension": ".py",
      "mimetype": "text/x-python",
      "name": "python",
      "nbconvert_exporter": "python",
      "pygments_lexer": "ipython3",
      "version": "3.6.4"
    },
    "colab": {
      "name": "Python Trainings 16th August 2018.ipynb",
      "provenance": []
    }
  },
  "cells": [
    {
      "cell_type": "code",
      "metadata": {
        "id": "PiuWK2NZOX1r",
        "colab_type": "code",
        "colab": {}
      },
      "source": [
        "#dictionary"
      ],
      "execution_count": 0,
      "outputs": []
    },
    {
      "cell_type": "code",
      "metadata": {
        "id": "bYN9ZO1dOX10",
        "colab_type": "code",
        "colab": {}
      },
      "source": [
        "dict1 = {}"
      ],
      "execution_count": 0,
      "outputs": []
    },
    {
      "cell_type": "code",
      "metadata": {
        "id": "da5f-pN_OX15",
        "colab_type": "code",
        "colab": {},
        "outputId": "e9d53ca5-e26f-4bb0-ea8a-c3314e30c2eb"
      },
      "source": [
        "print(type(dict1))"
      ],
      "execution_count": 0,
      "outputs": [
        {
          "output_type": "stream",
          "text": [
            "<class 'dict'>\n"
          ],
          "name": "stdout"
        }
      ]
    },
    {
      "cell_type": "code",
      "metadata": {
        "id": "VMyhI063OX19",
        "colab_type": "code",
        "colab": {}
      },
      "source": [
        "dict1 = {'customer_name':'Mr John','age': 34,'kids': 4}"
      ],
      "execution_count": 0,
      "outputs": []
    },
    {
      "cell_type": "code",
      "metadata": {
        "id": "JesjMOxaOX2C",
        "colab_type": "code",
        "colab": {},
        "outputId": "50282a57-df51-419c-ad3e-b75e5423b03a"
      },
      "source": [
        "dict1"
      ],
      "execution_count": 0,
      "outputs": [
        {
          "output_type": "execute_result",
          "data": {
            "text/plain": [
              "{'age': 34, 'customer_name': 'Mr John', 'kids': 4}"
            ]
          },
          "metadata": {
            "tags": []
          },
          "execution_count": 7
        }
      ]
    },
    {
      "cell_type": "code",
      "metadata": {
        "id": "Xq4-HC41OX2G",
        "colab_type": "code",
        "colab": {},
        "outputId": "017f5e4e-20bb-49fa-af47-6d208e55f77a"
      },
      "source": [
        "dict1.keys()"
      ],
      "execution_count": 0,
      "outputs": [
        {
          "output_type": "execute_result",
          "data": {
            "text/plain": [
              "dict_keys(['customer_name', 'age', 'kids'])"
            ]
          },
          "metadata": {
            "tags": []
          },
          "execution_count": 8
        }
      ]
    },
    {
      "cell_type": "code",
      "metadata": {
        "id": "qcZ3d6EqOX2L",
        "colab_type": "code",
        "colab": {},
        "outputId": "78e2def0-fe01-4c14-f8de-4eafa9a302de"
      },
      "source": [
        "dict1.values()"
      ],
      "execution_count": 0,
      "outputs": [
        {
          "output_type": "execute_result",
          "data": {
            "text/plain": [
              "dict_values(['Mr John', 34, 4])"
            ]
          },
          "metadata": {
            "tags": []
          },
          "execution_count": 9
        }
      ]
    },
    {
      "cell_type": "code",
      "metadata": {
        "id": "UvpeB_0gOX2P",
        "colab_type": "code",
        "colab": {},
        "outputId": "3279c324-a056-46d9-c6f3-49d07102ae03"
      },
      "source": [
        "dict1.items()"
      ],
      "execution_count": 0,
      "outputs": [
        {
          "output_type": "execute_result",
          "data": {
            "text/plain": [
              "dict_items([('customer_name', 'Mr John'), ('age', 34), ('kids', 4)])"
            ]
          },
          "metadata": {
            "tags": []
          },
          "execution_count": 10
        }
      ]
    },
    {
      "cell_type": "code",
      "metadata": {
        "id": "_sZx6L4COX2S",
        "colab_type": "code",
        "colab": {}
      },
      "source": [
        "dict1['age'] = 43"
      ],
      "execution_count": 0,
      "outputs": []
    },
    {
      "cell_type": "code",
      "metadata": {
        "id": "4DHFZB-AOX2V",
        "colab_type": "code",
        "colab": {},
        "outputId": "4ea44d4c-ab55-42ba-f22b-e837b117a0c1"
      },
      "source": [
        "dict1"
      ],
      "execution_count": 0,
      "outputs": [
        {
          "output_type": "execute_result",
          "data": {
            "text/plain": [
              "{'age': 43, 'customer_name': 'Mr John', 'kids': 4}"
            ]
          },
          "metadata": {
            "tags": []
          },
          "execution_count": 12
        }
      ]
    },
    {
      "cell_type": "code",
      "metadata": {
        "id": "8-Wc8IRaOX2Z",
        "colab_type": "code",
        "colab": {}
      },
      "source": [
        "dict1 = {'customer_name':'Mr John','age': 34,'kids': 4}"
      ],
      "execution_count": 0,
      "outputs": []
    },
    {
      "cell_type": "code",
      "metadata": {
        "id": "BN4oQHpPOX2c",
        "colab_type": "code",
        "colab": {},
        "outputId": "e6fc5bd3-d738-41c4-e856-df54eb924101"
      },
      "source": [
        "dict1"
      ],
      "execution_count": 0,
      "outputs": [
        {
          "output_type": "execute_result",
          "data": {
            "text/plain": [
              "{'age': 34, 'customer_name': 'Mr John', 'kids': 4}"
            ]
          },
          "metadata": {
            "tags": []
          },
          "execution_count": 14
        }
      ]
    },
    {
      "cell_type": "code",
      "metadata": {
        "id": "ZPUWTgb5OX2f",
        "colab_type": "code",
        "colab": {}
      },
      "source": [
        "dict1 = {'customer_name':'Mr John','age': 34,'kids': 4,'age': 43}"
      ],
      "execution_count": 0,
      "outputs": []
    },
    {
      "cell_type": "code",
      "metadata": {
        "id": "aC_JDAv3OX2i",
        "colab_type": "code",
        "colab": {},
        "outputId": "ff8141d0-1762-4249-a399-dd68af9e7384"
      },
      "source": [
        "dict1"
      ],
      "execution_count": 0,
      "outputs": [
        {
          "output_type": "execute_result",
          "data": {
            "text/plain": [
              "{'age': 43, 'customer_name': 'Mr John', 'kids': 4}"
            ]
          },
          "metadata": {
            "tags": []
          },
          "execution_count": 16
        }
      ]
    },
    {
      "cell_type": "markdown",
      "metadata": {
        "id": "AoZWr2g5OX2l",
        "colab_type": "text"
      },
      "source": [
        "# Control flow"
      ]
    },
    {
      "cell_type": "code",
      "metadata": {
        "id": "Su-DorIKOX2n",
        "colab_type": "code",
        "colab": {}
      },
      "source": [
        "# if statement"
      ],
      "execution_count": 0,
      "outputs": []
    },
    {
      "cell_type": "code",
      "metadata": {
        "id": "aRvZV64WOX2r",
        "colab_type": "code",
        "colab": {},
        "outputId": "8b345cd6-5982-487c-a7c4-c0793db13904"
      },
      "source": [
        "num = -0.8\n",
        "\n",
        "if num > 0:\n",
        "    print('+ve')\n",
        "else:\n",
        "    print('-ve')"
      ],
      "execution_count": 0,
      "outputs": [
        {
          "output_type": "stream",
          "text": [
            "-ve\n"
          ],
          "name": "stdout"
        }
      ]
    },
    {
      "cell_type": "code",
      "metadata": {
        "id": "oGDqHa6HOX2u",
        "colab_type": "code",
        "colab": {},
        "outputId": "52b914bb-3869-4c40-ec3d-a63db834e4c5"
      },
      "source": [
        "num = 0\n",
        "\n",
        "if num > 0:\n",
        "    print('+ve')\n",
        "elif num == 0:\n",
        "    print('neutral')\n",
        "else:\n",
        "    print('-ve')"
      ],
      "execution_count": 0,
      "outputs": [
        {
          "output_type": "stream",
          "text": [
            "neutral\n"
          ],
          "name": "stdout"
        }
      ]
    },
    {
      "cell_type": "code",
      "metadata": {
        "id": "1FLKBkefOX2y",
        "colab_type": "code",
        "colab": {}
      },
      "source": [
        "#nested ifelse condition"
      ],
      "execution_count": 0,
      "outputs": []
    },
    {
      "cell_type": "code",
      "metadata": {
        "id": "ZsjwXN8dOX21",
        "colab_type": "code",
        "colab": {},
        "outputId": "833bd310-5bca-4c44-a61f-a7ca0dc42949"
      },
      "source": [
        "num = 10\n",
        "\n",
        "if num >= 0:\n",
        "    if num ==0:\n",
        "        print('neutral')\n",
        "    else:\n",
        "        print('+ve')\n",
        "else:\n",
        "    print('-ve')"
      ],
      "execution_count": 0,
      "outputs": [
        {
          "output_type": "stream",
          "text": [
            "+ve\n"
          ],
          "name": "stdout"
        }
      ]
    },
    {
      "cell_type": "code",
      "metadata": {
        "id": "46CfmZ-FOX23",
        "colab_type": "code",
        "colab": {},
        "outputId": "7889d840-56ff-490d-8104-f2406dde3187"
      },
      "source": [
        "# input type casting\n",
        "a = int(input(\"enter a number between 1-10: \"))\n",
        "b = int(input(\"enter a number between 10-20: \"))\n",
        "print(a*b)"
      ],
      "execution_count": 0,
      "outputs": [
        {
          "output_type": "stream",
          "text": [
            "enter a number between 1-10: 12\n",
            "enter a number between 10-20: 12\n",
            "144\n"
          ],
          "name": "stdout"
        }
      ]
    },
    {
      "cell_type": "code",
      "metadata": {
        "id": "n-9EFauJOX26",
        "colab_type": "code",
        "colab": {}
      },
      "source": [
        "# dictionary sorting"
      ],
      "execution_count": 0,
      "outputs": []
    },
    {
      "cell_type": "code",
      "metadata": {
        "id": "cyAy-xLDOX2-",
        "colab_type": "code",
        "colab": {},
        "outputId": "57bfa947-7884-485f-b230-ecd260e82b00"
      },
      "source": [
        "dict1"
      ],
      "execution_count": 0,
      "outputs": [
        {
          "output_type": "execute_result",
          "data": {
            "text/plain": [
              "{'age': 43, 'customer_name': 'Mr John', 'kids': 4}"
            ]
          },
          "metadata": {
            "tags": []
          },
          "execution_count": 37
        }
      ]
    },
    {
      "cell_type": "code",
      "metadata": {
        "id": "03LUsPZYOX3B",
        "colab_type": "code",
        "colab": {}
      },
      "source": [
        "import operator"
      ],
      "execution_count": 0,
      "outputs": []
    },
    {
      "cell_type": "code",
      "metadata": {
        "id": "L-HqLvxQOX3K",
        "colab_type": "code",
        "colab": {},
        "outputId": "2f5840e8-03e6-418f-dbbf-68133ee29670"
      },
      "source": [
        "sorted_d = sorted(dict1.items(),key=operator.itemgetter(0)) #sorting the dict based on keys\n",
        "print(sorted_d)"
      ],
      "execution_count": 0,
      "outputs": [
        {
          "output_type": "stream",
          "text": [
            "[('age', 43), ('customer_name', 'Mr John'), ('kids', 4)]\n"
          ],
          "name": "stdout"
        }
      ]
    },
    {
      "cell_type": "code",
      "metadata": {
        "id": "c1IzL3hHOX3M",
        "colab_type": "code",
        "colab": {}
      },
      "source": [
        "dict2 = {'age': 43, 'customer_account': 12, 'kids': 4}"
      ],
      "execution_count": 0,
      "outputs": []
    },
    {
      "cell_type": "code",
      "metadata": {
        "id": "Zn6DIvaPOX3P",
        "colab_type": "code",
        "colab": {},
        "outputId": "62c29f57-89af-4903-da46-5317b0ac2bfa"
      },
      "source": [
        "sorted_d = sorted(dict2.items(),key=operator.itemgetter(1)) #sorting the dict based on values\n",
        "print(sorted_d)"
      ],
      "execution_count": 0,
      "outputs": [
        {
          "output_type": "stream",
          "text": [
            "[('kids', 4), ('customer_account', 12), ('age', 43)]\n"
          ],
          "name": "stdout"
        }
      ]
    },
    {
      "cell_type": "code",
      "metadata": {
        "id": "0OborWryOX3S",
        "colab_type": "code",
        "colab": {}
      },
      "source": [
        "dict3 = {'customer_account': 12, 'kids': 4,'age': 43 }"
      ],
      "execution_count": 0,
      "outputs": []
    },
    {
      "cell_type": "code",
      "metadata": {
        "id": "oWsm0QGBOX3V",
        "colab_type": "code",
        "colab": {},
        "outputId": "fe601c55-cc0b-4047-aa78-895665d99fc2"
      },
      "source": [
        "dict3"
      ],
      "execution_count": 0,
      "outputs": [
        {
          "output_type": "execute_result",
          "data": {
            "text/plain": [
              "{'age': 43, 'customer_account': 12, 'kids': 4}"
            ]
          },
          "metadata": {
            "tags": []
          },
          "execution_count": 47
        }
      ]
    },
    {
      "cell_type": "code",
      "metadata": {
        "id": "-7cNnEdjOX3Y",
        "colab_type": "code",
        "colab": {}
      },
      "source": [
        "#membership operator"
      ],
      "execution_count": 0,
      "outputs": []
    },
    {
      "cell_type": "code",
      "metadata": {
        "id": "Vfh6vZOPOX3b",
        "colab_type": "code",
        "colab": {}
      },
      "source": [
        "list1 = [12,43,56,78,12,90]"
      ],
      "execution_count": 0,
      "outputs": []
    },
    {
      "cell_type": "code",
      "metadata": {
        "id": "OI1HQmP9OX3e",
        "colab_type": "code",
        "colab": {},
        "outputId": "40a23f82-f053-403c-de04-f46ad23a9349"
      },
      "source": [
        "print(12 in list1)"
      ],
      "execution_count": 0,
      "outputs": [
        {
          "output_type": "stream",
          "text": [
            "True\n"
          ],
          "name": "stdout"
        }
      ]
    },
    {
      "cell_type": "code",
      "metadata": {
        "id": "iVwSHKn5OX3i",
        "colab_type": "code",
        "colab": {},
        "outputId": "2f889d10-2fdb-48cb-b1a8-a530f37912ca"
      },
      "source": [
        "print('age' in dict3)"
      ],
      "execution_count": 0,
      "outputs": [
        {
          "output_type": "stream",
          "text": [
            "True\n"
          ],
          "name": "stdout"
        }
      ]
    },
    {
      "cell_type": "code",
      "metadata": {
        "id": "U4wV7G_qOX3m",
        "colab_type": "code",
        "colab": {}
      },
      "source": [
        "d = 'Python Trainings'"
      ],
      "execution_count": 0,
      "outputs": []
    },
    {
      "cell_type": "code",
      "metadata": {
        "id": "h_q1_La5OX3p",
        "colab_type": "code",
        "colab": {},
        "outputId": "0ba7ba17-99df-45ab-cd25-c2d7e1dc312e"
      },
      "source": [
        "print('Tr' in d)"
      ],
      "execution_count": 0,
      "outputs": [
        {
          "output_type": "stream",
          "text": [
            "True\n"
          ],
          "name": "stdout"
        }
      ]
    },
    {
      "cell_type": "code",
      "metadata": {
        "id": "gt4IraU2OX3s",
        "colab_type": "code",
        "colab": {}
      },
      "source": [
        "set1 = set(list1)"
      ],
      "execution_count": 0,
      "outputs": []
    },
    {
      "cell_type": "code",
      "metadata": {
        "id": "Vp1hwvF_OX3u",
        "colab_type": "code",
        "colab": {},
        "outputId": "a05e7989-c226-4aea-f547-6bedc0127ab5"
      },
      "source": [
        "set1"
      ],
      "execution_count": 0,
      "outputs": [
        {
          "output_type": "execute_result",
          "data": {
            "text/plain": [
              "{12, 43, 56, 78, 90}"
            ]
          },
          "metadata": {
            "tags": []
          },
          "execution_count": 58
        }
      ]
    },
    {
      "cell_type": "code",
      "metadata": {
        "id": "GcFY-9RhOX3x",
        "colab_type": "code",
        "colab": {},
        "outputId": "ef2d534a-b9f5-41ce-f984-f0e27cf1e5ec"
      },
      "source": [
        "print(12 in set1)"
      ],
      "execution_count": 0,
      "outputs": [
        {
          "output_type": "stream",
          "text": [
            "True\n"
          ],
          "name": "stdout"
        }
      ]
    },
    {
      "cell_type": "code",
      "metadata": {
        "id": "EuOs0_v9OX30",
        "colab_type": "code",
        "colab": {}
      },
      "source": [
        "# While Loop: first checks the condition then executes the action"
      ],
      "execution_count": 0,
      "outputs": []
    },
    {
      "cell_type": "code",
      "metadata": {
        "id": "jopgfEXAOX33",
        "colab_type": "code",
        "colab": {},
        "outputId": "dbbecc9b-24e2-45de-cbb3-888907ecc550"
      },
      "source": [
        "count = 0\n",
        "\n",
        "while(count < 10):\n",
        "    print(count)\n",
        "    count = count + 1"
      ],
      "execution_count": 0,
      "outputs": [
        {
          "output_type": "stream",
          "text": [
            "0\n",
            "1\n",
            "2\n",
            "3\n",
            "4\n",
            "5\n",
            "6\n",
            "7\n",
            "8\n",
            "9\n"
          ],
          "name": "stdout"
        }
      ]
    },
    {
      "cell_type": "code",
      "metadata": {
        "id": "yvyZFLxrOX37",
        "colab_type": "code",
        "colab": {}
      },
      "source": [
        "#while loop in tuple"
      ],
      "execution_count": 0,
      "outputs": []
    },
    {
      "cell_type": "code",
      "metadata": {
        "id": "gGEsd0UbOX3-",
        "colab_type": "code",
        "colab": {},
        "outputId": "9748adb1-c4a2-4ac6-dc25-4f291536d83c"
      },
      "source": [
        "tup1 = (1,2,3,4,5)\n",
        "\n",
        "prod = 1\n",
        "index = 0\n",
        "\n",
        "while index < len(tup1):\n",
        "    prod *= tup1[index] # cumulative/compound multiplication\n",
        "    index += 1 #cumulative/compound addition\n",
        "print(prod)"
      ],
      "execution_count": 0,
      "outputs": [
        {
          "output_type": "stream",
          "text": [
            "120\n"
          ],
          "name": "stdout"
        }
      ]
    },
    {
      "cell_type": "code",
      "metadata": {
        "id": "94-kQZuNOX4C",
        "colab_type": "code",
        "colab": {}
      },
      "source": [
        "# while and else condition"
      ],
      "execution_count": 0,
      "outputs": []
    },
    {
      "cell_type": "code",
      "metadata": {
        "id": "Em0dxqfWOX4H",
        "colab_type": "code",
        "colab": {},
        "outputId": "934bdc95-b031-4376-dcf3-445340bbb400"
      },
      "source": [
        "tup1 = (1,2,3,4,5)\n",
        "\n",
        "prod = 1\n",
        "index = 0\n",
        "\n",
        "while index < len(tup1):\n",
        "    prod *= tup1[index] # cumulative/compound multiplication\n",
        "    index += 1 #cumulative/compound addition\n",
        "else:\n",
        "    index += 2 #cumulative/compound addition\n",
        "    print('nothing to print')\n",
        "print(prod)"
      ],
      "execution_count": 0,
      "outputs": [
        {
          "output_type": "stream",
          "text": [
            "nothing to print\n",
            "120\n"
          ],
          "name": "stdout"
        }
      ]
    },
    {
      "cell_type": "code",
      "metadata": {
        "id": "LDF4f2V4OX4J",
        "colab_type": "code",
        "colab": {}
      },
      "source": [
        "# for loop"
      ],
      "execution_count": 0,
      "outputs": []
    },
    {
      "cell_type": "code",
      "metadata": {
        "id": "2S6OMoQxOX4N",
        "colab_type": "code",
        "colab": {},
        "outputId": "01d0c399-1d0c-4794-dcee-1b032aa78304"
      },
      "source": [
        "tup1 = (1,2,3,4,5)\n",
        "\n",
        "prod = 1\n",
        "\n",
        "for item in tup1:\n",
        "    prod *= item\n",
        "    print(prod)"
      ],
      "execution_count": 0,
      "outputs": [
        {
          "output_type": "stream",
          "text": [
            "1\n",
            "2\n",
            "6\n",
            "24\n",
            "120\n"
          ],
          "name": "stdout"
        }
      ]
    },
    {
      "cell_type": "code",
      "metadata": {
        "id": "HPrHkwu9OX4Q",
        "colab_type": "code",
        "colab": {},
        "outputId": "28053866-3b94-4069-f808-2670ffa211a2"
      },
      "source": [
        "for count in range(10):\n",
        "    print(count)"
      ],
      "execution_count": 0,
      "outputs": [
        {
          "output_type": "stream",
          "text": [
            "0\n",
            "1\n",
            "2\n",
            "3\n",
            "4\n",
            "5\n",
            "6\n",
            "7\n",
            "8\n",
            "9\n"
          ],
          "name": "stdout"
        }
      ]
    },
    {
      "cell_type": "code",
      "metadata": {
        "id": "3y-mG801OX4U",
        "colab_type": "code",
        "colab": {},
        "outputId": "a3773d0d-5ad8-46b9-f6da-40d3ea053a3e"
      },
      "source": [
        "list1"
      ],
      "execution_count": 0,
      "outputs": [
        {
          "output_type": "execute_result",
          "data": {
            "text/plain": [
              "[12, 43, 56, 78, 12, 90]"
            ]
          },
          "metadata": {
            "tags": []
          },
          "execution_count": 78
        }
      ]
    },
    {
      "cell_type": "code",
      "metadata": {
        "id": "4Yn1DkD0OX4W",
        "colab_type": "code",
        "colab": {},
        "outputId": "69d9eacb-57d5-4d55-d0cb-de7ed4d0c39d"
      },
      "source": [
        "for i in range(len(list1)):\n",
        "    print(list1[i])"
      ],
      "execution_count": 0,
      "outputs": [
        {
          "output_type": "stream",
          "text": [
            "12\n",
            "43\n",
            "56\n",
            "78\n",
            "12\n",
            "90\n"
          ],
          "name": "stdout"
        }
      ]
    },
    {
      "cell_type": "code",
      "metadata": {
        "id": "jmviGnoEOX4Z",
        "colab_type": "code",
        "colab": {},
        "outputId": "02ff8369-b932-473d-c2c0-f31c5aa72ea2"
      },
      "source": [
        "dict1"
      ],
      "execution_count": 0,
      "outputs": [
        {
          "output_type": "execute_result",
          "data": {
            "text/plain": [
              "{'age': 43, 'customer_name': 'Mr John', 'kids': 4}"
            ]
          },
          "metadata": {
            "tags": []
          },
          "execution_count": 80
        }
      ]
    },
    {
      "cell_type": "code",
      "metadata": {
        "id": "LOhRXZ2lOX4b",
        "colab_type": "code",
        "colab": {},
        "outputId": "376fcb9d-2459-485f-9942-a9d68a7a2142"
      },
      "source": [
        "dict2"
      ],
      "execution_count": 0,
      "outputs": [
        {
          "output_type": "execute_result",
          "data": {
            "text/plain": [
              "{'age': 43, 'customer_account': 12, 'kids': 4}"
            ]
          },
          "metadata": {
            "tags": []
          },
          "execution_count": 81
        }
      ]
    },
    {
      "cell_type": "code",
      "metadata": {
        "id": "TDz7H2ChOX4e",
        "colab_type": "code",
        "colab": {},
        "outputId": "d557ca04-7046-49a7-f727-973cfd0be4ec"
      },
      "source": [
        "dict3"
      ],
      "execution_count": 0,
      "outputs": [
        {
          "output_type": "execute_result",
          "data": {
            "text/plain": [
              "{'age': 43, 'customer_account': 12, 'kids': 4}"
            ]
          },
          "metadata": {
            "tags": []
          },
          "execution_count": 82
        }
      ]
    },
    {
      "cell_type": "code",
      "metadata": {
        "id": "zTx_dQy2OX4o",
        "colab_type": "code",
        "colab": {},
        "outputId": "2c1ff0fe-3933-4a0d-b967-2e9b3fc70508"
      },
      "source": [
        "for key in dict3:\n",
        "    print(key, dict3[key])"
      ],
      "execution_count": 0,
      "outputs": [
        {
          "output_type": "stream",
          "text": [
            "customer_account 12\n",
            "kids 4\n",
            "age 43\n"
          ],
          "name": "stdout"
        }
      ]
    },
    {
      "cell_type": "code",
      "metadata": {
        "id": "U6bEhDZMOX4q",
        "colab_type": "code",
        "colab": {},
        "outputId": "e05fad8f-e11b-4266-8779-bf34bd3fbeb3"
      },
      "source": [
        "gears = 3\n",
        "\n",
        "while gears <= 5:\n",
        "    cyl = 4\n",
        "    while cyl <= 8:\n",
        "        print('gears: {}, cyl: {}' .format(gears,cyl))\n",
        "        cyl += 1\n",
        "    gears +=1"
      ],
      "execution_count": 0,
      "outputs": [
        {
          "output_type": "stream",
          "text": [
            "gears: 3, cyl: 4\n",
            "gears: 3, cyl: 5\n",
            "gears: 3, cyl: 6\n",
            "gears: 3, cyl: 7\n",
            "gears: 3, cyl: 8\n",
            "gears: 4, cyl: 4\n",
            "gears: 4, cyl: 5\n",
            "gears: 4, cyl: 6\n",
            "gears: 4, cyl: 7\n",
            "gears: 4, cyl: 8\n",
            "gears: 5, cyl: 4\n",
            "gears: 5, cyl: 5\n",
            "gears: 5, cyl: 6\n",
            "gears: 5, cyl: 7\n",
            "gears: 5, cyl: 8\n"
          ],
          "name": "stdout"
        }
      ]
    },
    {
      "cell_type": "code",
      "metadata": {
        "id": "0aliV4Z8OX4u",
        "colab_type": "code",
        "colab": {}
      },
      "source": [
        ""
      ],
      "execution_count": 0,
      "outputs": []
    }
  ]
}