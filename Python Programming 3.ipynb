{
  "nbformat": 4,
  "nbformat_minor": 0,
  "metadata": {
    "kernelspec": {
      "display_name": "Python 3",
      "language": "python",
      "name": "python3"
    },
    "language_info": {
      "codemirror_mode": {
        "name": "ipython",
        "version": 3
      },
      "file_extension": ".py",
      "mimetype": "text/x-python",
      "name": "python",
      "nbconvert_exporter": "python",
      "pygments_lexer": "ipython3",
      "version": "3.6.4"
    },
    "colab": {
      "name": "Python Trainings 22nd August 2018.ipynb",
      "provenance": []
    }
  },
  "cells": [
    {
      "cell_type": "code",
      "metadata": {
        "id": "qKHSSY6gOd8X",
        "colab_type": "code",
        "colab": {}
      },
      "source": [
        "import numpy as np"
      ],
      "execution_count": 0,
      "outputs": []
    },
    {
      "cell_type": "code",
      "metadata": {
        "id": "VU1DDzOqOd8e",
        "colab_type": "code",
        "colab": {}
      },
      "source": [
        "mat = [[12,23,34,45,56,67,78,],[21,32,43,54,65,76,87],[32,45,65,76,78,87,89]]"
      ],
      "execution_count": 0,
      "outputs": []
    },
    {
      "cell_type": "code",
      "metadata": {
        "id": "-JtlXtU1Od8k",
        "colab_type": "code",
        "colab": {},
        "outputId": "083ce848-4d66-4df6-86d6-512646d0fcb0"
      },
      "source": [
        "mat"
      ],
      "execution_count": 0,
      "outputs": [
        {
          "output_type": "execute_result",
          "data": {
            "text/plain": [
              "[[12, 23, 34, 45, 56, 67, 78],\n",
              " [21, 32, 43, 54, 65, 76, 87],\n",
              " [32, 45, 65, 76, 78, 87, 89]]"
            ]
          },
          "metadata": {
            "tags": []
          },
          "execution_count": 3
        }
      ]
    },
    {
      "cell_type": "code",
      "metadata": {
        "id": "r35vcWu1Od8o",
        "colab_type": "code",
        "colab": {}
      },
      "source": [
        "arr2 = np.array(mat)"
      ],
      "execution_count": 0,
      "outputs": []
    },
    {
      "cell_type": "code",
      "metadata": {
        "id": "3N_Q50RsOd8s",
        "colab_type": "code",
        "colab": {}
      },
      "source": [
        "tup1 = [(12,23,34,45,56,67,78),(21,32,43,54,65,76,87),(32,45,65,76,78,87,89)]"
      ],
      "execution_count": 0,
      "outputs": []
    },
    {
      "cell_type": "code",
      "metadata": {
        "id": "dgE2HrRBOd8w",
        "colab_type": "code",
        "colab": {},
        "outputId": "530f6afc-2adb-45d0-b2c4-10174d184c55"
      },
      "source": [
        "tup1"
      ],
      "execution_count": 0,
      "outputs": [
        {
          "output_type": "execute_result",
          "data": {
            "text/plain": [
              "[(12, 23, 34, 45, 56, 67, 78),\n",
              " (21, 32, 43, 54, 65, 76, 87),\n",
              " (32, 45, 65, 76, 78, 87, 89)]"
            ]
          },
          "metadata": {
            "tags": []
          },
          "execution_count": 6
        }
      ]
    },
    {
      "cell_type": "code",
      "metadata": {
        "id": "s4k0TdKHOd80",
        "colab_type": "code",
        "colab": {},
        "outputId": "24b7ecf2-29eb-4cf8-c1f0-01de38cbbdc6"
      },
      "source": [
        "type(tup1)"
      ],
      "execution_count": 0,
      "outputs": [
        {
          "output_type": "execute_result",
          "data": {
            "text/plain": [
              "list"
            ]
          },
          "metadata": {
            "tags": []
          },
          "execution_count": 11
        }
      ]
    },
    {
      "cell_type": "code",
      "metadata": {
        "id": "_BbQkuouOd84",
        "colab_type": "code",
        "colab": {}
      },
      "source": [
        "arr1 = np.array(tup1)"
      ],
      "execution_count": 0,
      "outputs": []
    },
    {
      "cell_type": "code",
      "metadata": {
        "id": "5R03Kz26Od87",
        "colab_type": "code",
        "colab": {},
        "outputId": "61acfbac-b94d-42c6-88c6-ea2960293e77"
      },
      "source": [
        "arr1+arr2"
      ],
      "execution_count": 0,
      "outputs": [
        {
          "output_type": "execute_result",
          "data": {
            "text/plain": [
              "array([[ 24,  46,  68,  90, 112, 134, 156],\n",
              "       [ 42,  64,  86, 108, 130, 152, 174],\n",
              "       [ 64,  90, 130, 152, 156, 174, 178]])"
            ]
          },
          "metadata": {
            "tags": []
          },
          "execution_count": 15
        }
      ]
    },
    {
      "cell_type": "code",
      "metadata": {
        "id": "foagz6pUOd8-",
        "colab_type": "code",
        "colab": {},
        "outputId": "25de254b-71af-41b6-97e3-469062e544f5"
      },
      "source": [
        "arr1*arr2"
      ],
      "execution_count": 0,
      "outputs": [
        {
          "output_type": "execute_result",
          "data": {
            "text/plain": [
              "array([[ 144,  529, 1156, 2025, 3136, 4489, 6084],\n",
              "       [ 441, 1024, 1849, 2916, 4225, 5776, 7569],\n",
              "       [1024, 2025, 4225, 5776, 6084, 7569, 7921]])"
            ]
          },
          "metadata": {
            "tags": []
          },
          "execution_count": 16
        }
      ]
    },
    {
      "cell_type": "code",
      "metadata": {
        "id": "B5gztKCROd9C",
        "colab_type": "code",
        "colab": {},
        "outputId": "842beb22-53a4-48f2-cddd-8d25bec934fd"
      },
      "source": [
        "arr1/arr2"
      ],
      "execution_count": 0,
      "outputs": [
        {
          "output_type": "execute_result",
          "data": {
            "text/plain": [
              "array([[ 1.,  1.,  1.,  1.,  1.,  1.,  1.],\n",
              "       [ 1.,  1.,  1.,  1.,  1.,  1.,  1.],\n",
              "       [ 1.,  1.,  1.,  1.,  1.,  1.,  1.]])"
            ]
          },
          "metadata": {
            "tags": []
          },
          "execution_count": 17
        }
      ]
    },
    {
      "cell_type": "code",
      "metadata": {
        "id": "fpVcXc27Od9E",
        "colab_type": "code",
        "colab": {},
        "outputId": "59d8b7a9-77de-4575-9511-2cfc8ff0bd75"
      },
      "source": [
        "arr1-arr2"
      ],
      "execution_count": 0,
      "outputs": [
        {
          "output_type": "execute_result",
          "data": {
            "text/plain": [
              "array([[0, 0, 0, 0, 0, 0, 0],\n",
              "       [0, 0, 0, 0, 0, 0, 0],\n",
              "       [0, 0, 0, 0, 0, 0, 0]])"
            ]
          },
          "metadata": {
            "tags": []
          },
          "execution_count": 18
        }
      ]
    },
    {
      "cell_type": "code",
      "metadata": {
        "id": "t5hDfXFbOd9H",
        "colab_type": "code",
        "colab": {},
        "outputId": "dc87a41a-1e02-40e9-fce0-c0bdea2babe4"
      },
      "source": [
        "arr1*1000"
      ],
      "execution_count": 0,
      "outputs": [
        {
          "output_type": "execute_result",
          "data": {
            "text/plain": [
              "array([[12000, 23000, 34000, 45000, 56000, 67000, 78000],\n",
              "       [21000, 32000, 43000, 54000, 65000, 76000, 87000],\n",
              "       [32000, 45000, 65000, 76000, 78000, 87000, 89000]])"
            ]
          },
          "metadata": {
            "tags": []
          },
          "execution_count": 19
        }
      ]
    },
    {
      "cell_type": "code",
      "metadata": {
        "id": "9yO10U78Od9L",
        "colab_type": "code",
        "colab": {},
        "outputId": "85eefeaf-442d-4f7d-b414-26433aeb4b8c"
      },
      "source": [
        "arr1**2"
      ],
      "execution_count": 0,
      "outputs": [
        {
          "output_type": "execute_result",
          "data": {
            "text/plain": [
              "array([[ 144,  529, 1156, 2025, 3136, 4489, 6084],\n",
              "       [ 441, 1024, 1849, 2916, 4225, 5776, 7569],\n",
              "       [1024, 2025, 4225, 5776, 6084, 7569, 7921]])"
            ]
          },
          "metadata": {
            "tags": []
          },
          "execution_count": 20
        }
      ]
    },
    {
      "cell_type": "code",
      "metadata": {
        "id": "IgWEN8m8Od9O",
        "colab_type": "code",
        "colab": {},
        "outputId": "a20c10f7-6a77-4b4f-b70b-457f57e8a1d0"
      },
      "source": [
        "arr1**3"
      ],
      "execution_count": 0,
      "outputs": [
        {
          "output_type": "execute_result",
          "data": {
            "text/plain": [
              "array([[  1728,  12167,  39304,  91125, 175616, 300763, 474552],\n",
              "       [  9261,  32768,  79507, 157464, 274625, 438976, 658503],\n",
              "       [ 32768,  91125, 274625, 438976, 474552, 658503, 704969]])"
            ]
          },
          "metadata": {
            "tags": []
          },
          "execution_count": 21
        }
      ]
    },
    {
      "cell_type": "code",
      "metadata": {
        "id": "oS3ytBWsOd9S",
        "colab_type": "code",
        "colab": {},
        "outputId": "2ba9115c-1059-4eaa-c664-e6c732687fff"
      },
      "source": [
        "pow(arr1,0.5)"
      ],
      "execution_count": 0,
      "outputs": [
        {
          "output_type": "execute_result",
          "data": {
            "text/plain": [
              "array([[ 3.46410162,  4.79583152,  5.83095189,  6.70820393,  7.48331477,\n",
              "         8.18535277,  8.83176087],\n",
              "       [ 4.58257569,  5.65685425,  6.55743852,  7.34846923,  8.06225775,\n",
              "         8.71779789,  9.32737905],\n",
              "       [ 5.65685425,  6.70820393,  8.06225775,  8.71779789,  8.83176087,\n",
              "         9.32737905,  9.43398113]])"
            ]
          },
          "metadata": {
            "tags": []
          },
          "execution_count": 22
        }
      ]
    },
    {
      "cell_type": "code",
      "metadata": {
        "id": "wbLez2zAOd9V",
        "colab_type": "code",
        "colab": {},
        "outputId": "e79f7089-e17b-4a99-8131-7393190cb160"
      },
      "source": [
        "np.sqrt(arr1)"
      ],
      "execution_count": 0,
      "outputs": [
        {
          "output_type": "execute_result",
          "data": {
            "text/plain": [
              "array([[ 3.46410162,  4.79583152,  5.83095189,  6.70820393,  7.48331477,\n",
              "         8.18535277,  8.83176087],\n",
              "       [ 4.58257569,  5.65685425,  6.55743852,  7.34846923,  8.06225775,\n",
              "         8.71779789,  9.32737905],\n",
              "       [ 5.65685425,  6.70820393,  8.06225775,  8.71779789,  8.83176087,\n",
              "         9.32737905,  9.43398113]])"
            ]
          },
          "metadata": {
            "tags": []
          },
          "execution_count": 23
        }
      ]
    },
    {
      "cell_type": "code",
      "metadata": {
        "id": "HPDxSzrUOd9Y",
        "colab_type": "code",
        "colab": {},
        "outputId": "f22ffeef-2366-45e3-9a19-4aed6b9c37ea"
      },
      "source": [
        "np.sum(arr1)"
      ],
      "execution_count": 0,
      "outputs": [
        {
          "output_type": "execute_result",
          "data": {
            "text/plain": [
              "1165"
            ]
          },
          "metadata": {
            "tags": []
          },
          "execution_count": 24
        }
      ]
    },
    {
      "cell_type": "code",
      "metadata": {
        "id": "WV4Cn-ajOd9b",
        "colab_type": "code",
        "colab": {},
        "outputId": "2ee07649-833f-4041-9d32-6eb7f7f56ef5"
      },
      "source": [
        "np.mean(arr1)"
      ],
      "execution_count": 0,
      "outputs": [
        {
          "output_type": "execute_result",
          "data": {
            "text/plain": [
              "55.476190476190474"
            ]
          },
          "metadata": {
            "tags": []
          },
          "execution_count": 25
        }
      ]
    },
    {
      "cell_type": "code",
      "metadata": {
        "id": "6QMF9Z1ROd9e",
        "colab_type": "code",
        "colab": {},
        "outputId": "6e39983c-dd9c-4638-8315-f7d389b0bf2d"
      },
      "source": [
        "np.std(arr1)"
      ],
      "execution_count": 0,
      "outputs": [
        {
          "output_type": "execute_result",
          "data": {
            "text/plain": [
              "23.255555501385139"
            ]
          },
          "metadata": {
            "tags": []
          },
          "execution_count": 26
        }
      ]
    },
    {
      "cell_type": "code",
      "metadata": {
        "id": "Zo3Y_UL8Od9h",
        "colab_type": "code",
        "colab": {},
        "outputId": "353ef108-ff8d-46d7-d89f-48df1f972201"
      },
      "source": [
        "np.prod(arr1,axis=0)"
      ],
      "execution_count": 0,
      "outputs": [
        {
          "output_type": "execute_result",
          "data": {
            "text/plain": [
              "array([  8064,  33120,  95030, 184680, 283920, 443004, 603954])"
            ]
          },
          "metadata": {
            "tags": []
          },
          "execution_count": 28
        }
      ]
    },
    {
      "cell_type": "code",
      "metadata": {
        "id": "DAty9HsWOd9l",
        "colab_type": "code",
        "colab": {},
        "outputId": "4bb5a3b8-f1a4-4654-da9b-8409b009eab7"
      },
      "source": [
        "np.prod(arr1,axis=1)"
      ],
      "execution_count": 0,
      "outputs": [
        {
          "output_type": "execute_result",
          "data": {
            "text/plain": [
              "array([ 123582775680,  670621835520, 4296287174400])"
            ]
          },
          "metadata": {
            "tags": []
          },
          "execution_count": 29
        }
      ]
    },
    {
      "cell_type": "code",
      "metadata": {
        "id": "aIPLqBQMOd9o",
        "colab_type": "code",
        "colab": {},
        "outputId": "e9dc3af0-5a3f-4e95-d934-7d498fd1baf1"
      },
      "source": [
        "np.var(arr1)"
      ],
      "execution_count": 0,
      "outputs": [
        {
          "output_type": "execute_result",
          "data": {
            "text/plain": [
              "540.82086167800458"
            ]
          },
          "metadata": {
            "tags": []
          },
          "execution_count": 30
        }
      ]
    },
    {
      "cell_type": "code",
      "metadata": {
        "id": "VcK9236tOd9q",
        "colab_type": "code",
        "colab": {},
        "outputId": "5ddec5b7-1a13-4483-c008-020cee02ff59"
      },
      "source": [
        "np.median(arr1)"
      ],
      "execution_count": 0,
      "outputs": [
        {
          "output_type": "execute_result",
          "data": {
            "text/plain": [
              "56.0"
            ]
          },
          "metadata": {
            "tags": []
          },
          "execution_count": 31
        }
      ]
    },
    {
      "cell_type": "code",
      "metadata": {
        "id": "E5uhfLt_Od9t",
        "colab_type": "code",
        "colab": {},
        "outputId": "874ecbb4-a1bf-4928-b4fb-cd182c6aeecf"
      },
      "source": [
        "np.percentile(arr1,5)"
      ],
      "execution_count": 0,
      "outputs": [
        {
          "output_type": "execute_result",
          "data": {
            "text/plain": [
              "21.0"
            ]
          },
          "metadata": {
            "tags": []
          },
          "execution_count": 36
        }
      ]
    },
    {
      "cell_type": "code",
      "metadata": {
        "id": "FFI6mH1yOd9w",
        "colab_type": "code",
        "colab": {},
        "outputId": "8a0e5a9e-3a2a-4391-93ca-f33f07155a15"
      },
      "source": [
        "np.dot(arr1,arr2.T)"
      ],
      "execution_count": 0,
      "outputs": [
        {
          "output_type": "execute_result",
          "data": {
            "text/plain": [
              "array([[17563, 20398, 24188],\n",
              "       [20398, 23800, 28436],\n",
              "       [24188, 28436, 34624]])"
            ]
          },
          "metadata": {
            "tags": []
          },
          "execution_count": 38
        }
      ]
    },
    {
      "cell_type": "code",
      "metadata": {
        "id": "cdq2N80YOd9z",
        "colab_type": "code",
        "colab": {},
        "outputId": "e8cb6153-bcc3-453b-87f0-e43ed5fd8590"
      },
      "source": [
        "arr1"
      ],
      "execution_count": 0,
      "outputs": [
        {
          "output_type": "execute_result",
          "data": {
            "text/plain": [
              "array([[12, 23, 34, 45, 56, 67, 78],\n",
              "       [21, 32, 43, 54, 65, 76, 87],\n",
              "       [32, 45, 65, 76, 78, 87, 89]])"
            ]
          },
          "metadata": {
            "tags": []
          },
          "execution_count": 39
        }
      ]
    },
    {
      "cell_type": "code",
      "metadata": {
        "id": "MTcNbDsaOd92",
        "colab_type": "code",
        "colab": {},
        "outputId": "a3379841-1d1b-4e02-fb36-4c6150a96079"
      },
      "source": [
        "arr2.T"
      ],
      "execution_count": 0,
      "outputs": [
        {
          "output_type": "execute_result",
          "data": {
            "text/plain": [
              "array([[12, 21, 32],\n",
              "       [23, 32, 45],\n",
              "       [34, 43, 65],\n",
              "       [45, 54, 76],\n",
              "       [56, 65, 78],\n",
              "       [67, 76, 87],\n",
              "       [78, 87, 89]])"
            ]
          },
          "metadata": {
            "tags": []
          },
          "execution_count": 41
        }
      ]
    },
    {
      "cell_type": "code",
      "metadata": {
        "id": "S2T-YbuVOd94",
        "colab_type": "code",
        "colab": {},
        "outputId": "2dff1087-b48f-4f82-a98e-b806ee5b16fa"
      },
      "source": [
        "arr1.shape"
      ],
      "execution_count": 0,
      "outputs": [
        {
          "output_type": "execute_result",
          "data": {
            "text/plain": [
              "(3, 7)"
            ]
          },
          "metadata": {
            "tags": []
          },
          "execution_count": 42
        }
      ]
    },
    {
      "cell_type": "code",
      "metadata": {
        "id": "XxKGYqVSOd97",
        "colab_type": "code",
        "colab": {},
        "outputId": "40bf5fa8-bf67-4548-c6e1-d72eadf821b1"
      },
      "source": [
        "arr2.T.shape"
      ],
      "execution_count": 0,
      "outputs": [
        {
          "output_type": "execute_result",
          "data": {
            "text/plain": [
              "(7, 3)"
            ]
          },
          "metadata": {
            "tags": []
          },
          "execution_count": 44
        }
      ]
    },
    {
      "cell_type": "code",
      "metadata": {
        "id": "qs93EzlUOd9_",
        "colab_type": "code",
        "colab": {},
        "outputId": "2c0a3179-9862-4d9a-d3fe-8f4a6704887e"
      },
      "source": [
        "np.inner(arr1,arr2)"
      ],
      "execution_count": 0,
      "outputs": [
        {
          "output_type": "execute_result",
          "data": {
            "text/plain": [
              "array([[17563, 20398, 24188],\n",
              "       [20398, 23800, 28436],\n",
              "       [24188, 28436, 34624]])"
            ]
          },
          "metadata": {
            "tags": []
          },
          "execution_count": 45
        }
      ]
    },
    {
      "cell_type": "code",
      "metadata": {
        "id": "MjapYc_7Od-C",
        "colab_type": "code",
        "colab": {},
        "outputId": "483bec84-0b84-476e-fab0-c00a35690cc7"
      },
      "source": [
        "np.outer(arr1,arr2)"
      ],
      "execution_count": 0,
      "outputs": [
        {
          "output_type": "execute_result",
          "data": {
            "text/plain": [
              "array([[ 144,  276,  408,  540,  672,  804,  936,  252,  384,  516,  648,\n",
              "         780,  912, 1044,  384,  540,  780,  912,  936, 1044, 1068],\n",
              "       [ 276,  529,  782, 1035, 1288, 1541, 1794,  483,  736,  989, 1242,\n",
              "        1495, 1748, 2001,  736, 1035, 1495, 1748, 1794, 2001, 2047],\n",
              "       [ 408,  782, 1156, 1530, 1904, 2278, 2652,  714, 1088, 1462, 1836,\n",
              "        2210, 2584, 2958, 1088, 1530, 2210, 2584, 2652, 2958, 3026],\n",
              "       [ 540, 1035, 1530, 2025, 2520, 3015, 3510,  945, 1440, 1935, 2430,\n",
              "        2925, 3420, 3915, 1440, 2025, 2925, 3420, 3510, 3915, 4005],\n",
              "       [ 672, 1288, 1904, 2520, 3136, 3752, 4368, 1176, 1792, 2408, 3024,\n",
              "        3640, 4256, 4872, 1792, 2520, 3640, 4256, 4368, 4872, 4984],\n",
              "       [ 804, 1541, 2278, 3015, 3752, 4489, 5226, 1407, 2144, 2881, 3618,\n",
              "        4355, 5092, 5829, 2144, 3015, 4355, 5092, 5226, 5829, 5963],\n",
              "       [ 936, 1794, 2652, 3510, 4368, 5226, 6084, 1638, 2496, 3354, 4212,\n",
              "        5070, 5928, 6786, 2496, 3510, 5070, 5928, 6084, 6786, 6942],\n",
              "       [ 252,  483,  714,  945, 1176, 1407, 1638,  441,  672,  903, 1134,\n",
              "        1365, 1596, 1827,  672,  945, 1365, 1596, 1638, 1827, 1869],\n",
              "       [ 384,  736, 1088, 1440, 1792, 2144, 2496,  672, 1024, 1376, 1728,\n",
              "        2080, 2432, 2784, 1024, 1440, 2080, 2432, 2496, 2784, 2848],\n",
              "       [ 516,  989, 1462, 1935, 2408, 2881, 3354,  903, 1376, 1849, 2322,\n",
              "        2795, 3268, 3741, 1376, 1935, 2795, 3268, 3354, 3741, 3827],\n",
              "       [ 648, 1242, 1836, 2430, 3024, 3618, 4212, 1134, 1728, 2322, 2916,\n",
              "        3510, 4104, 4698, 1728, 2430, 3510, 4104, 4212, 4698, 4806],\n",
              "       [ 780, 1495, 2210, 2925, 3640, 4355, 5070, 1365, 2080, 2795, 3510,\n",
              "        4225, 4940, 5655, 2080, 2925, 4225, 4940, 5070, 5655, 5785],\n",
              "       [ 912, 1748, 2584, 3420, 4256, 5092, 5928, 1596, 2432, 3268, 4104,\n",
              "        4940, 5776, 6612, 2432, 3420, 4940, 5776, 5928, 6612, 6764],\n",
              "       [1044, 2001, 2958, 3915, 4872, 5829, 6786, 1827, 2784, 3741, 4698,\n",
              "        5655, 6612, 7569, 2784, 3915, 5655, 6612, 6786, 7569, 7743],\n",
              "       [ 384,  736, 1088, 1440, 1792, 2144, 2496,  672, 1024, 1376, 1728,\n",
              "        2080, 2432, 2784, 1024, 1440, 2080, 2432, 2496, 2784, 2848],\n",
              "       [ 540, 1035, 1530, 2025, 2520, 3015, 3510,  945, 1440, 1935, 2430,\n",
              "        2925, 3420, 3915, 1440, 2025, 2925, 3420, 3510, 3915, 4005],\n",
              "       [ 780, 1495, 2210, 2925, 3640, 4355, 5070, 1365, 2080, 2795, 3510,\n",
              "        4225, 4940, 5655, 2080, 2925, 4225, 4940, 5070, 5655, 5785],\n",
              "       [ 912, 1748, 2584, 3420, 4256, 5092, 5928, 1596, 2432, 3268, 4104,\n",
              "        4940, 5776, 6612, 2432, 3420, 4940, 5776, 5928, 6612, 6764],\n",
              "       [ 936, 1794, 2652, 3510, 4368, 5226, 6084, 1638, 2496, 3354, 4212,\n",
              "        5070, 5928, 6786, 2496, 3510, 5070, 5928, 6084, 6786, 6942],\n",
              "       [1044, 2001, 2958, 3915, 4872, 5829, 6786, 1827, 2784, 3741, 4698,\n",
              "        5655, 6612, 7569, 2784, 3915, 5655, 6612, 6786, 7569, 7743],\n",
              "       [1068, 2047, 3026, 4005, 4984, 5963, 6942, 1869, 2848, 3827, 4806,\n",
              "        5785, 6764, 7743, 2848, 4005, 5785, 6764, 6942, 7743, 7921]])"
            ]
          },
          "metadata": {
            "tags": []
          },
          "execution_count": 46
        }
      ]
    },
    {
      "cell_type": "code",
      "metadata": {
        "id": "KisZY-UvOd-F",
        "colab_type": "code",
        "colab": {},
        "outputId": "0a68b5a0-7628-43b0-fb4c-26ba48d677fb"
      },
      "source": [
        "arr1.T"
      ],
      "execution_count": 0,
      "outputs": [
        {
          "output_type": "execute_result",
          "data": {
            "text/plain": [
              "array([[12, 21, 32],\n",
              "       [23, 32, 45],\n",
              "       [34, 43, 65],\n",
              "       [45, 54, 76],\n",
              "       [56, 65, 78],\n",
              "       [67, 76, 87],\n",
              "       [78, 87, 89]])"
            ]
          },
          "metadata": {
            "tags": []
          },
          "execution_count": 47
        }
      ]
    },
    {
      "cell_type": "code",
      "metadata": {
        "id": "eiKfllIaOd-J",
        "colab_type": "code",
        "colab": {},
        "outputId": "414518e9-8bfe-407d-8847-cdfcecffaf8d"
      },
      "source": [
        "np.transpose(arr1)"
      ],
      "execution_count": 0,
      "outputs": [
        {
          "output_type": "execute_result",
          "data": {
            "text/plain": [
              "array([[12, 21, 32],\n",
              "       [23, 32, 45],\n",
              "       [34, 43, 65],\n",
              "       [45, 54, 76],\n",
              "       [56, 65, 78],\n",
              "       [67, 76, 87],\n",
              "       [78, 87, 89]])"
            ]
          },
          "metadata": {
            "tags": []
          },
          "execution_count": 48
        }
      ]
    },
    {
      "cell_type": "code",
      "metadata": {
        "id": "S9P_f-MxOd-L",
        "colab_type": "code",
        "colab": {},
        "outputId": "e5052838-e4d0-477b-deca-3fec4c9d4d4f"
      },
      "source": [
        "arr1.ndim"
      ],
      "execution_count": 0,
      "outputs": [
        {
          "output_type": "execute_result",
          "data": {
            "text/plain": [
              "2"
            ]
          },
          "metadata": {
            "tags": []
          },
          "execution_count": 49
        }
      ]
    },
    {
      "cell_type": "code",
      "metadata": {
        "id": "Gq-rwjZdOd-P",
        "colab_type": "code",
        "colab": {},
        "outputId": "28dbd05a-78a4-4d82-8267-94f2ba9c8d33"
      },
      "source": [
        "np.sum(np.diag(arr1))"
      ],
      "execution_count": 0,
      "outputs": [
        {
          "output_type": "execute_result",
          "data": {
            "text/plain": [
              "109"
            ]
          },
          "metadata": {
            "tags": []
          },
          "execution_count": 51
        }
      ]
    },
    {
      "cell_type": "code",
      "metadata": {
        "id": "0O3n5-33Od-S",
        "colab_type": "code",
        "colab": {},
        "outputId": "543dba2e-6190-42fb-ab18-fa278c3fe7d4"
      },
      "source": [
        "np.trace(arr1)"
      ],
      "execution_count": 0,
      "outputs": [
        {
          "output_type": "execute_result",
          "data": {
            "text/plain": [
              "109"
            ]
          },
          "metadata": {
            "tags": []
          },
          "execution_count": 52
        }
      ]
    },
    {
      "cell_type": "code",
      "metadata": {
        "id": "DFcGrmeyOd-a",
        "colab_type": "code",
        "colab": {}
      },
      "source": [
        ""
      ],
      "execution_count": 0,
      "outputs": []
    }
  ]
}